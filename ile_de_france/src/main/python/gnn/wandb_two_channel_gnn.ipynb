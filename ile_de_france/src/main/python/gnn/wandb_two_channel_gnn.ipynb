{
 "cells": [
  {
   "cell_type": "code",
   "execution_count": 1,
   "metadata": {},
   "outputs": [],
   "source": [
    "import wandb\n",
    "import math\n",
    "import random\n",
    "import torch, torchvision\n",
    "import torch.nn as nn\n",
    "import torchvision.transforms as T\n",
    "import pickle\n",
    "import pandas as pd\n",
    "import geopandas as gpd\n",
    "\n",
    "import gnn_io"
   ]
  },
  {
   "cell_type": "code",
   "execution_count": 2,
   "metadata": {},
   "outputs": [
    {
     "name": "stderr",
     "output_type": "stream",
     "text": [
      "Failed to detect the name of this notebook, you can set it manually with the WANDB_NOTEBOOK_NAME environment variable to enable code saving.\n",
      "\u001b[34m\u001b[1mwandb\u001b[0m: Currently logged in as: \u001b[33menatterer\u001b[0m (\u001b[33mtum-traffic-engineering\u001b[0m). Use \u001b[1m`wandb login --relogin`\u001b[0m to force relogin\n"
     ]
    },
    {
     "data": {
      "text/plain": [
       "True"
      ]
     },
     "execution_count": 2,
     "metadata": {},
     "output_type": "execute_result"
    }
   ],
   "source": [
    "wandb.login()"
   ]
  },
  {
   "cell_type": "code",
   "execution_count": 3,
   "metadata": {},
   "outputs": [
    {
     "name": "stdout",
     "output_type": "stream",
     "text": [
      "Policy: policy introduced in Arrondissement(s) 5, 6\n",
      "Policy: policy introduced in Arrondissement(s) 1, 2, 3\n",
      "Policy: policy introduced in Arrondissement(s) 3, 4\n",
      "Policy: policy introduced in Arrondissement(s) 16, 17, 18\n",
      "Policy: policy introduced in Arrondissement(s) 13, 14, 15\n",
      "Policy: policy introduced in Arrondissement(s) 8, 9, 10, 11\n",
      "Policy: policy introduced in Arrondissement(s) 12, 13\n",
      "Policy: policy introduced in Arrondissement(s) 2, 3, 4, 5, 6, 7\n",
      "Policy: policy introduced in Arrondissement(s) 9, 10, 11\n",
      "Policy: policy introduced in Arrondissement(s) 15, 16, 17, 18, 19\n",
      "Policy: policy introduced in Arrondissement(s) 7, 8, 9, 10, 11, 12\n",
      "Policy: policy introduced in Arrondissement(s) 13, 14\n",
      "Policy: policy introduced in Arrondissement(s) 2, 3, 4, 5, 6\n",
      "Policy: policy introduced in Arrondissement(s) 5\n",
      "Policy: policy introduced in Arrondissement(s) 2\n",
      "Policy: policy introduced in Arrondissement(s) 11, 12, 13, 14\n",
      "Policy: policy introduced in Arrondissement(s) 12, 13, 14, 15\n",
      "Policy: policy introduced in Arrondissement(s) 14, 15, 16, 17, 18\n",
      "Policy: policy introduced in Arrondissement(s) 3, 4, 5, 6, 7\n",
      "Policy: policy introduced in Arrondissement(s) 17, 18, 19\n",
      "Policy: policy introduced in Arrondissement(s) 14, 15, 16, 17\n",
      "Policy: policy introduced in Arrondissement(s) 4, 5, 6, 7, 8\n",
      "Policy: policy introduced in Arrondissement(s) 3\n",
      "Policy: policy introduced in Arrondissement(s) 4\n",
      "Policy: policy introduced in Arrondissement(s) 8, 9\n",
      "Policy: policy introduced in Arrondissement(s) 9, 10, 11, 12\n",
      "Policy: policy introduced in Arrondissement(s) 1, 2, 3, 4, 5\n",
      "Policy: policy introduced in Arrondissement(s) 10, 11, 12, 13, 14, 15\n",
      "Policy: policy introduced in Arrondissement(s) 4, 5, 6, 7\n",
      "Policy: policy introduced in Arrondissement(s) 10, 11, 12, 13\n",
      "Policy: policy introduced in Arrondissement(s) 8, 9, 10\n",
      "Policy: policy introduced in Arrondissement(s) 5, 6, 7, 8, 9, 10\n",
      "Policy: policy introduced in Arrondissement(s) 4, 5\n",
      "Policy: policy introduced in Arrondissement(s) 15, 16, 17, 18\n",
      "Policy: policy introduced in Arrondissement(s) 6, 7, 8, 9\n",
      "Policy: policy introduced in Arrondissement(s) 7, 8, 9, 10\n",
      "Policy: policy introduced in Arrondissement(s) 17, 18, 19, 20\n",
      "Policy: policy introduced in Arrondissement(s) 10, 11\n",
      "Policy: policy introduced in Arrondissement(s) 1, 2, 3, 4\n",
      "Policy: policy introduced in Arrondissement(s) 3, 4, 5, 6, 7, 8\n",
      "Policy: policy introduced in Arrondissement(s) 13, 14, 15, 16, 17, 18\n",
      "Policy: policy introduced in Arrondissement(s) 2, 3, 4, 5\n",
      "Policy: policy introduced in Arrondissement(s) 6, 7\n",
      "Policy: policy introduced in Arrondissement(s) 11, 12, 13, 14, 15\n",
      "Policy: policy introduced in Arrondissement(s) 14, 15, 16, 17, 18, 19\n",
      "Policy: policy introduced in Arrondissement(s) 6, 7, 8\n",
      "Policy: policy introduced in Arrondissement(s) 13\n",
      "Policy: policy introduced in Arrondissement(s) 3, 4, 5, 6\n",
      "Policy: policy introduced in Arrondissement(s) 14\n",
      "Policy: policy introduced in Arrondissement(s) 15, 16\n",
      "Policy: policy introduced in Arrondissement(s) 10, 11, 12\n",
      "Policy: policy introduced in Arrondissement(s) 9, 10, 11, 12, 13\n",
      "Policy: policy introduced in Arrondissement(s) 15, 16, 17\n",
      "Policy: policy introduced in Arrondissement(s) 15\n",
      "Policy: policy introduced in Arrondissement(s) 12\n",
      "Policy: policy introduced in Arrondissement(s) 5, 6, 7, 8, 9\n",
      "Policy: policy introduced in Arrondissement(s) 7, 8\n",
      "Policy: policy introduced in Arrondissement(s) 4, 5, 6, 7, 8, 9\n",
      "Policy: policy introduced in Arrondissement(s) 16, 17\n",
      "Policy: policy introduced in Arrondissement(s) 3, 4, 5\n",
      "Policy: policy introduced in Arrondissement(s) 1, 2\n",
      "Policy: policy introduced in Arrondissement(s) 7, 8, 9\n",
      "Policy: policy introduced in Arrondissement(s) 12, 13, 14\n",
      "Policy: policy introduced in Arrondissement(s) 5, 6, 7\n",
      "Policy: policy introduced in Arrondissement(s) 6\n",
      "Policy: policy introduced in Arrondissement(s) 18, 19, 20\n",
      "Policy: policy introduced in Arrondissement(s) 8\n",
      "Policy: policy introduced in Arrondissement(s) 6, 7, 8, 9, 10\n",
      "Policy: policy introduced in Arrondissement(s) 17, 18\n",
      "Policy: policy introduced in Arrondissement(s) 13, 14, 15, 16, 17\n",
      "Policy: policy introduced in Arrondissement(s) 9\n",
      "Policy: policy introduced in Arrondissement(s) 8, 9, 10, 11, 12\n",
      "Policy: policy introduced in Arrondissement(s) 7\n",
      "Policy: policy introduced in Arrondissement(s) 15, 16, 17, 18, 19, 20\n",
      "Policy: policy introduced in Arrondissement(s) 6, 7, 8, 9, 10, 11\n",
      "Policy: policy introduced in Arrondissement(s) 14, 15\n",
      "Policy: policy introduced in Arrondissement(s) 16, 17, 18, 19\n",
      "Policy: policy introduced in Arrondissement(s) 2, 3\n",
      "Policy: policy introduced in Arrondissement(s) 1, 2, 3, 4, 5, 6\n",
      "Policy: policy introduced in Arrondissement(s) 11, 12, 13, 14, 15, 16\n",
      "Policy: policy introduced in Arrondissement(s) 7, 8, 9, 10, 11\n",
      "Policy: policy introduced in Arrondissement(s) 9, 10\n",
      "Policy: policy introduced in Arrondissement(s) 12, 13, 14, 15, 16\n",
      "Policy: policy introduced in Arrondissement(s) 11, 12, 13\n",
      "Policy: policy introduced in Arrondissement(s) 14, 15, 16\n",
      "Policy: policy introduced in Arrondissement(s) 10, 11, 12, 13, 14\n",
      "Policy: policy introduced in Arrondissement(s) 5, 6, 7, 8\n",
      "Policy: policy introduced in Arrondissement(s) 2, 3, 4\n",
      "Policy: policy introduced in Arrondissement(s) 18, 19\n",
      "Policy: policy introduced in Arrondissement(s) 17\n",
      "Policy: policy introduced in Arrondissement(s) 10\n",
      "Policy: policy introduced in Arrondissement(s) 11, 12\n",
      "Policy: policy introduced in Arrondissement(s) 19\n",
      "Policy: policy introduced in Arrondissement(s) 8, 9, 10, 11, 12, 13\n",
      "Policy: policy introduced in Arrondissement(s) 20\n",
      "Policy: policy introduced in Arrondissement(s) 4, 5, 6\n",
      "Policy: policy introduced in Arrondissement(s) 18\n",
      "Policy: policy introduced in Arrondissement(s) 11\n",
      "Policy: policy introduced in Arrondissement(s) 16, 17, 18, 19, 20\n",
      "Policy: policy introduced in Arrondissement(s) 16\n",
      "Policy: policy introduced in Arrondissement(s) 13, 14, 15, 16\n",
      "Policy: policy introduced in Arrondissement(s) 19, 20\n",
      "Policy: policy introduced in Arrondissement(s) 9, 10, 11, 12, 13, 14\n",
      "Policy: policy introduced in Arrondissement(s) 12, 13, 14, 15, 16, 17\n",
      "Policy: base_network_no_policies\n"
     ]
    }
   ],
   "source": [
    "# Load the dictionary\n",
    "with open('../results/result_dic.pkl', 'rb') as f:\n",
    "    results_dict = pickle.load(f)\n",
    "\n",
    "datasets = []\n",
    "for key, df in results_dict.items():\n",
    "    print(f\"Policy: {key}\")\n",
    "    \n",
    "    if isinstance(df, pd.DataFrame):\n",
    "        gdf = gpd.GeoDataFrame(df, geometry='geometry')\n",
    "        gdf.crs = \"EPSG:2154\"  # Assuming the original CRS is EPSG:2154\n",
    "        gdf.to_crs(\"EPSG:4326\", inplace=True)\n",
    "        edge_index, car_volume_tensor, policy_tensor, nodes = gnn_io.create_edge_index_and_tensors(gdf)\n",
    "        datasets.append((policy_tensor, car_volume_tensor))\n",
    "    else:\n",
    "        print(f\"The value for key '{key}' is not a GeoDataFrame.\")"
   ]
  },
  {
   "cell_type": "code",
   "execution_count": 4,
   "metadata": {},
   "outputs": [],
   "source": [
    "from two_channel_edge_gnn import TwoChannelEdgeGNN\n",
    "\n",
    "policy_input_dim = 3  # Dimensionality of policy features: capacity, freespeed flow, modes\n",
    "traffic_input_dim = 1  # Dimensionality of traffic flow features\n",
    "hidden_dim = 32  # Dimensionality of hidden representations\n",
    "num_nodes = max(max(edge_index[0]), max(edge_index[1])) + 1  # Number of nodes in the graph\n",
    "\n",
    "device = \"cuda:0\" if torch.cuda.is_available() else \"cpu\"\n",
    "\n",
    "def get_dataloader(is_train, batch_size, slice=5):\n",
    "    \"Get a training dataloader\"\n",
    "    # full_dataset = torchvision.datasets.MNIST(root=\".\", train=is_train, transform=T.ToTensor(), download=True)\n",
    "    # sub_dataset = torch.utils.data.Subset(full_dataset, indices=range(0, len(full_dataset), slice))\n",
    "    loader = torch.utils.data.DataLoader(dataset=datasets, \n",
    "                                         batch_size=batch_size, \n",
    "                                         shuffle=True if is_train else False, \n",
    "                                         pin_memory=True, num_workers=2)\n",
    "    return loader\n",
    "\n",
    "def get_model(policy_input_d, traffic_input_d, hidden_d):\n",
    "    model = TwoChannelEdgeGNN(policy_input_d, traffic_input_d, hidden_d)\n",
    "    return model\n",
    "\n",
    "def validate_model(model, valid_dl, loss_func, log_images=False, batch_idx=0):\n",
    "    \"Compute performance of the model on the validation dataset and log a wandb.Table\"\n",
    "    model.eval()\n",
    "    val_loss = 0.\n",
    "    with torch.inference_mode():\n",
    "        correct = 0\n",
    "        for i, (policy_features, flow_targets) in enumerate(valid_dl):\n",
    "            data, labels = policy_features.float(), flow_targets.float().unsqueeze(1)\n",
    "            num_edges = edge_index.shape[1]\n",
    "            adjacency_matrix = gnn_io.create_edge_adjacency_matrix(edge_index, num_edges)\n",
    "\n",
    "            # Forward pass ➡\n",
    "            outputs = model(data, labels, adjacency_matrix)\n",
    "            val_loss += loss_func(outputs, labels)*labels.size(0)\n",
    "\n",
    "            # Compute accuracy and accumulate\n",
    "            _, predicted = torch.max(outputs.data, 1)\n",
    "            correct += (predicted == labels).sum().item()\n",
    "\n",
    "            # Log one batch of images to the dashboard, always same batch_idx.\n",
    "            if i==batch_idx and log_images:\n",
    "                log_image_table(data, predicted, labels, outputs.softmax(dim=1))\n",
    "    return val_loss / len(valid_dl.dataset), correct / len(valid_dl.dataset)\n",
    "\n",
    "def log_image_table(images, predicted, labels, probs):\n",
    "    \"Log a wandb.Table with (img, pred, target, scores)\"\n",
    "    # 🐝 Create a wandb Table to log images, labels and predictions to\n",
    "    table = wandb.Table(columns=[\"image\", \"pred\", \"target\"]+[f\"score_{i}\" for i in range(10)])\n",
    "    for img, pred, targ, prob in zip(images.to(\"cpu\"), predicted.to(\"cpu\"), labels.to(\"cpu\"), probs.to(\"cpu\")):\n",
    "        table.add_data(wandb.Image(img[0].numpy()*255), pred, targ, *prob.numpy())\n",
    "    wandb.log({\"predictions_table\":table}, commit=False)"
   ]
  },
  {
   "cell_type": "code",
   "execution_count": 5,
   "metadata": {},
   "outputs": [
    {
     "data": {
      "text/html": [
       "Tracking run with wandb version 0.17.0"
      ],
      "text/plain": [
       "<IPython.core.display.HTML object>"
      ]
     },
     "metadata": {},
     "output_type": "display_data"
    },
    {
     "data": {
      "text/html": [
       "Run data is saved locally in <code>/Users/elenanatterer/Development/MATSim/eqasim-java/ile_de_france/src/main/python/gnn/wandb/run-20240602_162633-bcq15unj</code>"
      ],
      "text/plain": [
       "<IPython.core.display.HTML object>"
      ]
     },
     "metadata": {},
     "output_type": "display_data"
    },
    {
     "data": {
      "text/html": [
       "Syncing run <strong><a href='https://wandb.ai/tum-traffic-engineering/my_project/runs/bcq15unj' target=\"_blank\">winter-wave-22</a></strong> to <a href='https://wandb.ai/tum-traffic-engineering/my_project' target=\"_blank\">Weights & Biases</a> (<a href='https://wandb.me/run' target=\"_blank\">docs</a>)<br/>"
      ],
      "text/plain": [
       "<IPython.core.display.HTML object>"
      ]
     },
     "metadata": {},
     "output_type": "display_data"
    },
    {
     "data": {
      "text/html": [
       " View project at <a href='https://wandb.ai/tum-traffic-engineering/my_project' target=\"_blank\">https://wandb.ai/tum-traffic-engineering/my_project</a>"
      ],
      "text/plain": [
       "<IPython.core.display.HTML object>"
      ]
     },
     "metadata": {},
     "output_type": "display_data"
    },
    {
     "data": {
      "text/html": [
       " View run at <a href='https://wandb.ai/tum-traffic-engineering/my_project/runs/bcq15unj' target=\"_blank\">https://wandb.ai/tum-traffic-engineering/my_project/runs/bcq15unj</a>"
      ],
      "text/plain": [
       "<IPython.core.display.HTML object>"
      ]
     },
     "metadata": {},
     "output_type": "display_data"
    },
    {
     "name": "stdout",
     "output_type": "stream",
     "text": [
      "torch.Size([20, 31216, 3])\n",
      "torch.Size([20, 31216, 1])\n",
      "policy_hidden shape: torch.Size([20, 31216, 32])\n",
      "traffic_hidden shape: torch.Size([20, 31216, 32])\n"
     ]
    },
    {
     "name": "stderr",
     "output_type": "stream",
     "text": [
      "/Users/elenanatterer/Development/MATSim/eqasim-java/ile_de_france/src/main/python/gnn/gnn_io.py:181: UserWarning: torch.sparse.SparseTensor(indices, values, shape, *, device=) is deprecated.  Please use torch.sparse_coo_tensor(indices, values, shape, dtype=, device=). (Triggered internally at /Users/runner/work/_temp/anaconda/conda-bld/pytorch_1704987091277/work/torch/csrc/utils/tensor_new.cpp:620.)\n",
      "  adj_matrix = torch.sparse.FloatTensor(indices, values, torch.Size([num_edges, num_edges]))\n"
     ]
    },
    {
     "name": "stdout",
     "output_type": "stream",
     "text": [
      "torch.Size([20, 31216, 3])\n",
      "torch.Size([20, 31216, 1])\n",
      "policy_hidden shape: torch.Size([20, 31216, 32])\n",
      "traffic_hidden shape: torch.Size([20, 31216, 32])\n",
      "torch.Size([20, 31216, 3])\n",
      "torch.Size([20, 31216, 1])\n",
      "policy_hidden shape: torch.Size([20, 31216, 32])\n",
      "traffic_hidden shape: torch.Size([20, 31216, 32])\n",
      "torch.Size([20, 31216, 3])\n",
      "torch.Size([20, 31216, 1])\n",
      "policy_hidden shape: torch.Size([20, 31216, 32])\n",
      "traffic_hidden shape: torch.Size([20, 31216, 32])\n",
      "torch.Size([20, 31216, 3])\n",
      "torch.Size([20, 31216, 1])\n",
      "policy_hidden shape: torch.Size([20, 31216, 32])\n",
      "traffic_hidden shape: torch.Size([20, 31216, 32])\n",
      "torch.Size([5, 31216, 3])\n",
      "torch.Size([5, 31216, 1])\n",
      "policy_hidden shape: torch.Size([5, 31216, 32])\n",
      "traffic_hidden shape: torch.Size([5, 31216, 32])\n"
     ]
    },
    {
     "ename": "RuntimeError",
     "evalue": "mat1 and mat2 shapes cannot be multiplied (40x31216 and 1x32)",
     "output_type": "error",
     "traceback": [
      "\u001b[0;31m---------------------------------------------------------------------------\u001b[0m",
      "\u001b[0;31mRuntimeError\u001b[0m                              Traceback (most recent call last)",
      "Cell \u001b[0;32mIn[5], line 73\u001b[0m\n\u001b[1;32m     69\u001b[0m         wandb\u001b[39m.\u001b[39mlog(metrics)\n\u001b[1;32m     71\u001b[0m     step_ct \u001b[39m+\u001b[39m\u001b[39m=\u001b[39m \u001b[39m1\u001b[39m\n\u001b[0;32m---> 73\u001b[0m val_loss, accuracy \u001b[39m=\u001b[39m validate_model(model, valid_dl, loss_func, log_images\u001b[39m=\u001b[39;49m(epoch\u001b[39m==\u001b[39;49m(config\u001b[39m.\u001b[39;49mepochs\u001b[39m-\u001b[39;49m\u001b[39m1\u001b[39;49m)))\n\u001b[1;32m     75\u001b[0m \u001b[39m# 🐝 Log train and validation metrics to wandb\u001b[39;00m\n\u001b[1;32m     76\u001b[0m val_metrics \u001b[39m=\u001b[39m {\u001b[39m\"\u001b[39m\u001b[39mval/val_loss\u001b[39m\u001b[39m\"\u001b[39m: val_loss, \n\u001b[1;32m     77\u001b[0m                \u001b[39m\"\u001b[39m\u001b[39mval/val_accuracy\u001b[39m\u001b[39m\"\u001b[39m: accuracy}\n",
      "Cell \u001b[0;32mIn[4], line 36\u001b[0m, in \u001b[0;36mvalidate_model\u001b[0;34m(model, valid_dl, loss_func, log_images, batch_idx)\u001b[0m\n\u001b[1;32m     33\u001b[0m adjacency_matrix \u001b[39m=\u001b[39m gnn_io\u001b[39m.\u001b[39mcreate_edge_adjacency_matrix(edge_index, num_edges)\n\u001b[1;32m     35\u001b[0m \u001b[39m# Forward pass ➡\u001b[39;00m\n\u001b[0;32m---> 36\u001b[0m outputs \u001b[39m=\u001b[39m model(data, labels, adjacency_matrix)\n\u001b[1;32m     37\u001b[0m val_loss \u001b[39m+\u001b[39m\u001b[39m=\u001b[39m loss_func(outputs, labels)\u001b[39m*\u001b[39mlabels\u001b[39m.\u001b[39msize(\u001b[39m0\u001b[39m)\n\u001b[1;32m     39\u001b[0m \u001b[39m# Compute accuracy and accumulate\u001b[39;00m\n",
      "File \u001b[0;32m~/anaconda3/envs/Paris_Analysis/lib/python3.10/site-packages/torch/nn/modules/module.py:1511\u001b[0m, in \u001b[0;36mModule._wrapped_call_impl\u001b[0;34m(self, *args, **kwargs)\u001b[0m\n\u001b[1;32m   1509\u001b[0m     \u001b[39mreturn\u001b[39;00m \u001b[39mself\u001b[39m\u001b[39m.\u001b[39m_compiled_call_impl(\u001b[39m*\u001b[39margs, \u001b[39m*\u001b[39m\u001b[39m*\u001b[39mkwargs)  \u001b[39m# type: ignore[misc]\u001b[39;00m\n\u001b[1;32m   1510\u001b[0m \u001b[39melse\u001b[39;00m:\n\u001b[0;32m-> 1511\u001b[0m     \u001b[39mreturn\u001b[39;00m \u001b[39mself\u001b[39;49m\u001b[39m.\u001b[39;49m_call_impl(\u001b[39m*\u001b[39;49margs, \u001b[39m*\u001b[39;49m\u001b[39m*\u001b[39;49mkwargs)\n",
      "File \u001b[0;32m~/anaconda3/envs/Paris_Analysis/lib/python3.10/site-packages/torch/nn/modules/module.py:1520\u001b[0m, in \u001b[0;36mModule._call_impl\u001b[0;34m(self, *args, **kwargs)\u001b[0m\n\u001b[1;32m   1515\u001b[0m \u001b[39m# If we don't have any hooks, we want to skip the rest of the logic in\u001b[39;00m\n\u001b[1;32m   1516\u001b[0m \u001b[39m# this function, and just call forward.\u001b[39;00m\n\u001b[1;32m   1517\u001b[0m \u001b[39mif\u001b[39;00m \u001b[39mnot\u001b[39;00m (\u001b[39mself\u001b[39m\u001b[39m.\u001b[39m_backward_hooks \u001b[39mor\u001b[39;00m \u001b[39mself\u001b[39m\u001b[39m.\u001b[39m_backward_pre_hooks \u001b[39mor\u001b[39;00m \u001b[39mself\u001b[39m\u001b[39m.\u001b[39m_forward_hooks \u001b[39mor\u001b[39;00m \u001b[39mself\u001b[39m\u001b[39m.\u001b[39m_forward_pre_hooks\n\u001b[1;32m   1518\u001b[0m         \u001b[39mor\u001b[39;00m _global_backward_pre_hooks \u001b[39mor\u001b[39;00m _global_backward_hooks\n\u001b[1;32m   1519\u001b[0m         \u001b[39mor\u001b[39;00m _global_forward_hooks \u001b[39mor\u001b[39;00m _global_forward_pre_hooks):\n\u001b[0;32m-> 1520\u001b[0m     \u001b[39mreturn\u001b[39;00m forward_call(\u001b[39m*\u001b[39;49margs, \u001b[39m*\u001b[39;49m\u001b[39m*\u001b[39;49mkwargs)\n\u001b[1;32m   1522\u001b[0m \u001b[39mtry\u001b[39;00m:\n\u001b[1;32m   1523\u001b[0m     result \u001b[39m=\u001b[39m \u001b[39mNone\u001b[39;00m\n",
      "File \u001b[0;32m~/Development/MATSim/eqasim-java/ile_de_france/src/main/python/gnn/two_channel_edge_gnn.py:31\u001b[0m, in \u001b[0;36mTwoChannelEdgeGNN.forward\u001b[0;34m(self, policy_features, traffic_features, edge_index)\u001b[0m\n\u001b[1;32m     26\u001b[0m \u001b[39mdef\u001b[39;00m \u001b[39mforward\u001b[39m(\u001b[39mself\u001b[39m, policy_features, traffic_features, edge_index):\n\u001b[1;32m     27\u001b[0m     \u001b[39m# traffic_features = traffic_features.view(-1, 1)\u001b[39;00m\n\u001b[1;32m     28\u001b[0m \n\u001b[1;32m     29\u001b[0m     \u001b[39m# Apply GNN layers to edge features\u001b[39;00m\n\u001b[1;32m     30\u001b[0m     policy_hidden \u001b[39m=\u001b[39m \u001b[39mself\u001b[39m\u001b[39m.\u001b[39mpolicy_gnn(policy_features)\n\u001b[0;32m---> 31\u001b[0m     traffic_hidden \u001b[39m=\u001b[39m \u001b[39mself\u001b[39;49m\u001b[39m.\u001b[39;49mtraffic_gnn(traffic_features)\n\u001b[1;32m     33\u001b[0m     \u001b[39m# Debug statements to print the shapes\u001b[39;00m\n\u001b[1;32m     34\u001b[0m     \u001b[39mprint\u001b[39m(\u001b[39m\"\u001b[39m\u001b[39mpolicy_hidden shape:\u001b[39m\u001b[39m\"\u001b[39m, policy_hidden\u001b[39m.\u001b[39mshape)\n",
      "File \u001b[0;32m~/anaconda3/envs/Paris_Analysis/lib/python3.10/site-packages/torch/nn/modules/module.py:1511\u001b[0m, in \u001b[0;36mModule._wrapped_call_impl\u001b[0;34m(self, *args, **kwargs)\u001b[0m\n\u001b[1;32m   1509\u001b[0m     \u001b[39mreturn\u001b[39;00m \u001b[39mself\u001b[39m\u001b[39m.\u001b[39m_compiled_call_impl(\u001b[39m*\u001b[39margs, \u001b[39m*\u001b[39m\u001b[39m*\u001b[39mkwargs)  \u001b[39m# type: ignore[misc]\u001b[39;00m\n\u001b[1;32m   1510\u001b[0m \u001b[39melse\u001b[39;00m:\n\u001b[0;32m-> 1511\u001b[0m     \u001b[39mreturn\u001b[39;00m \u001b[39mself\u001b[39;49m\u001b[39m.\u001b[39;49m_call_impl(\u001b[39m*\u001b[39;49margs, \u001b[39m*\u001b[39;49m\u001b[39m*\u001b[39;49mkwargs)\n",
      "File \u001b[0;32m~/anaconda3/envs/Paris_Analysis/lib/python3.10/site-packages/torch/nn/modules/module.py:1520\u001b[0m, in \u001b[0;36mModule._call_impl\u001b[0;34m(self, *args, **kwargs)\u001b[0m\n\u001b[1;32m   1515\u001b[0m \u001b[39m# If we don't have any hooks, we want to skip the rest of the logic in\u001b[39;00m\n\u001b[1;32m   1516\u001b[0m \u001b[39m# this function, and just call forward.\u001b[39;00m\n\u001b[1;32m   1517\u001b[0m \u001b[39mif\u001b[39;00m \u001b[39mnot\u001b[39;00m (\u001b[39mself\u001b[39m\u001b[39m.\u001b[39m_backward_hooks \u001b[39mor\u001b[39;00m \u001b[39mself\u001b[39m\u001b[39m.\u001b[39m_backward_pre_hooks \u001b[39mor\u001b[39;00m \u001b[39mself\u001b[39m\u001b[39m.\u001b[39m_forward_hooks \u001b[39mor\u001b[39;00m \u001b[39mself\u001b[39m\u001b[39m.\u001b[39m_forward_pre_hooks\n\u001b[1;32m   1518\u001b[0m         \u001b[39mor\u001b[39;00m _global_backward_pre_hooks \u001b[39mor\u001b[39;00m _global_backward_hooks\n\u001b[1;32m   1519\u001b[0m         \u001b[39mor\u001b[39;00m _global_forward_hooks \u001b[39mor\u001b[39;00m _global_forward_pre_hooks):\n\u001b[0;32m-> 1520\u001b[0m     \u001b[39mreturn\u001b[39;00m forward_call(\u001b[39m*\u001b[39;49margs, \u001b[39m*\u001b[39;49m\u001b[39m*\u001b[39;49mkwargs)\n\u001b[1;32m   1522\u001b[0m \u001b[39mtry\u001b[39;00m:\n\u001b[1;32m   1523\u001b[0m     result \u001b[39m=\u001b[39m \u001b[39mNone\u001b[39;00m\n",
      "File \u001b[0;32m~/anaconda3/envs/Paris_Analysis/lib/python3.10/site-packages/torch/nn/modules/linear.py:116\u001b[0m, in \u001b[0;36mLinear.forward\u001b[0;34m(self, input)\u001b[0m\n\u001b[1;32m    115\u001b[0m \u001b[39mdef\u001b[39;00m \u001b[39mforward\u001b[39m(\u001b[39mself\u001b[39m, \u001b[39minput\u001b[39m: Tensor) \u001b[39m-\u001b[39m\u001b[39m>\u001b[39m Tensor:\n\u001b[0;32m--> 116\u001b[0m     \u001b[39mreturn\u001b[39;00m F\u001b[39m.\u001b[39;49mlinear(\u001b[39minput\u001b[39;49m, \u001b[39mself\u001b[39;49m\u001b[39m.\u001b[39;49mweight, \u001b[39mself\u001b[39;49m\u001b[39m.\u001b[39;49mbias)\n",
      "\u001b[0;31mRuntimeError\u001b[0m: mat1 and mat2 shapes cannot be multiplied (40x31216 and 1x32)"
     ]
    }
   ],
   "source": [
    "policy_input_dim = 3  # Dimensionality of policy features: capacity, freespeed flow, modes\n",
    "traffic_input_dim = 1  # Dimensionality of traffic flow features\n",
    "hidden_dim = 32  # Dimensionality of hidden representations\n",
    "num_nodes = max(max(edge_index[0]), max(edge_index[1])) + 1  # Number of nodes in the graph\n",
    "\n",
    "\n",
    "def normalize(tensor):\n",
    "    mean = tensor.mean(dim=0, keepdim=True)\n",
    "    std = tensor.std(dim=0, keepdim=True) + 1e-6  # Add a small epsilon to avoid division by zero\n",
    "    return (tensor - mean) / std\n",
    "\n",
    "# Launch 5 experiments, trying different dropout rates\n",
    "for _ in range(5):\n",
    "    # 🐝 initialise a wandb run\n",
    "    wandb.init(\n",
    "        project=\"my_project\",\n",
    "        config={\n",
    "            \"epochs\": 10,\n",
    "            \"batch_size\": 20,\n",
    "            \"lr\": 1e-3,\n",
    "            \"dropout\": random.uniform(0.01, 0.80),\n",
    "            })\n",
    "    \n",
    "    # Copy your config \n",
    "    config = wandb.config\n",
    "\n",
    "    # Get the data\n",
    "    train_dl = get_dataloader(is_train=True, batch_size=config.batch_size)\n",
    "    valid_dl = get_dataloader(is_train=False, batch_size=2*config.batch_size)\n",
    "    n_steps_per_epoch = math.ceil(len(train_dl.dataset) / config.batch_size)\n",
    "    \n",
    "    # A simple GNN model\n",
    "    # model = get_model(policy_input_dim, traffic_input_dim, hidden_dim)\n",
    "    model = TwoChannelEdgeGNN(policy_input_dim, traffic_input_dim, hidden_dim)\n",
    "\n",
    "    # Make the loss and optimizer\n",
    "    loss_func = nn.CrossEntropyLoss()\n",
    "    optimizer = torch.optim.Adam(model.parameters(), lr=config.lr)\n",
    "\n",
    "   # Training\n",
    "    example_ct = 0\n",
    "    step_ct = 0\n",
    "    for epoch in range(config.epochs):\n",
    "        model.train()\n",
    "        for step, (policy_features, flow_targets) in enumerate(train_dl):\n",
    "            data, labels = normalize(policy_features.float()), normalize(flow_targets.float().unsqueeze(2))\n",
    "            print(data.shape)\n",
    "            print(labels.shape)\n",
    "            \n",
    "            num_edges = edge_index.shape[1]\n",
    "            \n",
    "            adjacency_matrix = gnn_io.create_edge_adjacency_matrix(edge_index, num_edges)\n",
    "            \n",
    "            outputs = model(data, labels, adjacency_matrix)\n",
    "\n",
    "            train_loss = loss_func(outputs, labels)\n",
    "            \n",
    "            optimizer.zero_grad()\n",
    "            train_loss.backward()\n",
    "            optimizer.step()\n",
    "            \n",
    "            example_ct += len(data)\n",
    "            metrics = {\"train/train_loss\": train_loss, \n",
    "                       \"train/epoch\": (step + 1 + (n_steps_per_epoch * epoch)) / n_steps_per_epoch, \n",
    "                       \"train/example_ct\": example_ct}\n",
    "            \n",
    "            if step + 1 < n_steps_per_epoch:\n",
    "                # 🐝 Log train metrics to wandb \n",
    "                wandb.log(metrics)\n",
    "                \n",
    "            step_ct += 1\n",
    "\n",
    "        val_loss, accuracy = validate_model(model, valid_dl, loss_func, log_images=(epoch==(config.epochs-1)))\n",
    "\n",
    "        # 🐝 Log train and validation metrics to wandb\n",
    "        val_metrics = {\"val/val_loss\": val_loss, \n",
    "                       \"val/val_accuracy\": accuracy}\n",
    "        wandb.log({**metrics, **val_metrics})\n",
    "        \n",
    "        print(f\"Train Loss: {train_loss:.3f}, Valid Loss: {val_loss:3f}, Accuracy: {accuracy:.2f}\")\n",
    "\n",
    "    # If you had a test set, this is how you could log it as a Summary metric\n",
    "    wandb.summary['test_accuracy'] = 0.8\n",
    "\n",
    "    # 🐝 Close your wandb run \n",
    "    wandb.finish()"
   ]
  },
  {
   "cell_type": "code",
   "execution_count": null,
   "metadata": {},
   "outputs": [],
   "source": []
  }
 ],
 "metadata": {
  "kernelspec": {
   "display_name": "Paris_Analysis",
   "language": "python",
   "name": "python3"
  },
  "language_info": {
   "codemirror_mode": {
    "name": "ipython",
    "version": 3
   },
   "file_extension": ".py",
   "mimetype": "text/x-python",
   "name": "python",
   "nbconvert_exporter": "python",
   "pygments_lexer": "ipython3",
   "version": "3.10.11"
  },
  "orig_nbformat": 4
 },
 "nbformat": 4,
 "nbformat_minor": 2
}
