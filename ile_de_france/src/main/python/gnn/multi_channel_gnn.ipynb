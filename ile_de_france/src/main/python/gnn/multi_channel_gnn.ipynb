{
 "cells": [
  {
   "cell_type": "code",
   "execution_count": 33,
   "metadata": {},
   "outputs": [],
   "source": [
    "import random\n",
    "\n",
    "import pandas as pd\n",
    "import geopandas as gpd\n",
    "import matplotlib.pyplot as plt\n",
    "import networkx as nx\n",
    "import numpy as np\n",
    "from matplotlib.cm import ScalarMappable\n",
    "from matplotlib.colors import Normalize\n",
    "from sklearn.model_selection import train_test_split\n",
    "import torch\n",
    "import torch.nn as nn\n",
    "import torch.nn.functional as F\n",
    "import torch.optim as optim\n",
    "import torch.sparse as sparse\n",
    "from torch_geometric.nn import GCNConv\n",
    "\n",
    "import torch\n",
    "import geopandas as gpd\n",
    "from shapely.geometry import LineString\n",
    "\n",
    "import pickle\n",
    "\n",
    "\n",
    "from two_channel_gnn import TwoChannelGNN\n",
    "# from enhanced_two_channel_gnn import EnhancedTwoChannelGNN"
   ]
  },
  {
   "attachments": {},
   "cell_type": "markdown",
   "metadata": {},
   "source": [
    "# Abstract\n",
    "\n",
    "1. Set up a toy example: \n",
    "    a. Define the graph \n",
    "    b. Visualize the graph with the base case (without policy interventions)\n",
    "2. Define the model (move this later to an own class)\n",
    "3. Create train und test data (toy example)\n",
    "4. Test the model (toy example)"
   ]
  },
  {
   "attachments": {},
   "cell_type": "markdown",
   "metadata": {},
   "source": [
    "## 1. Set up a toy example\n",
    "\n",
    "### 1a. Define the graph"
   ]
  },
  {
   "cell_type": "code",
   "execution_count": 34,
   "metadata": {},
   "outputs": [],
   "source": [
    "# Load the dictionary\n",
    "with open('../results/results_dict.pkl', 'rb') as f:\n",
    "    results_dict = pickle.load(f)"
   ]
  },
  {
   "cell_type": "code",
   "execution_count": 35,
   "metadata": {},
   "outputs": [],
   "source": [
    "def create_edge_index_and_tensors(gdf):\n",
    "    # Ensure the GeoDataFrame is projected in a geographic CRS\n",
    "    gdf = gdf.to_crs(epsg=4326)\n",
    "    \n",
    "    # Extract unique nodes (start and end points of LineStrings)\n",
    "    nodes = {}\n",
    "    edges = []\n",
    "    activity_counts = []\n",
    "    capacities = []\n",
    "    freespeeds = []\n",
    "    node_counter = 0\n",
    "\n",
    "    for idx, row in gdf.iterrows():\n",
    "        line = row['geometry']\n",
    "        activity_count = row['activity_count']  # Extract activity count\n",
    "        capacity = row['capacity']  # Extract capacity\n",
    "        freespeed = row['freespeed']  # Extract freespeed speed\n",
    "        if isinstance(line, LineString):\n",
    "            start_point = line.coords[0]\n",
    "            end_point = line.coords[-1]\n",
    "            \n",
    "            if start_point not in nodes:\n",
    "                nodes[start_point] = node_counter\n",
    "                node_counter += 1\n",
    "            if end_point not in nodes:\n",
    "                nodes[end_point] = node_counter\n",
    "                node_counter += 1\n",
    "            \n",
    "            start_index = nodes[start_point]\n",
    "            end_index = nodes[end_point]\n",
    "            \n",
    "            edges.append((start_index, end_index))\n",
    "            activity_counts.append(activity_count)  # Store activity count for this edge\n",
    "            capacities.append(capacity)  # Store capacity for this edge\n",
    "            freespeeds.append(freespeed)  # Store freespeed speed for this edge\n",
    "    \n",
    "    # Create edge_index tensor\n",
    "    edge_index = torch.tensor(edges, dtype=torch.long).t().contiguous()\n",
    "    \n",
    "    # Create activity_tensor\n",
    "    activity_tensor = torch.tensor(activity_counts, dtype=torch.float)\n",
    "    \n",
    "    # Create policy_tensor\n",
    "    policy_tensor = torch.tensor(list(zip(capacities, freespeeds)), dtype=torch.float)\n",
    "\n",
    "    return edge_index, activity_tensor, policy_tensor, nodes"
   ]
  },
  {
   "cell_type": "code",
   "execution_count": 36,
   "metadata": {},
   "outputs": [
    {
     "name": "stdout",
     "output_type": "stream",
     "text": [
      "Policy: policy_1\n",
      "Policy: policy_10\n",
      "Policy: policy_10_11\n",
      "Policy: policy_10_11_12\n",
      "Policy: policy_11\n",
      "Policy: policy_11_12\n",
      "Policy: policy_11_12_13\n",
      "Policy: policy_12\n",
      "Policy: policy_12_13\n",
      "Policy: policy_12_13_14\n",
      "Policy: policy_13\n",
      "Policy: policy_13_14\n",
      "Policy: policy_13_14_15\n",
      "Policy: policy_14\n",
      "Policy: policy_14_15\n",
      "Policy: policy_14_15_16\n",
      "Policy: policy_15\n",
      "Policy: policy_15_16\n",
      "Policy: policy_15_16_17\n",
      "Policy: policy_16\n",
      "Policy: policy_16_17\n",
      "Policy: policy_16_17_18\n",
      "Policy: policy_17\n",
      "Policy: policy_17_18\n",
      "Policy: policy_17_18_19\n",
      "Policy: policy_18\n",
      "Policy: policy_18_19\n",
      "Policy: policy_18_19_20\n",
      "Policy: policy_19_20\n",
      "Policy: policy_1_2\n",
      "Policy: policy_1_2_3\n",
      "Policy: policy_2\n",
      "Policy: policy_20\n",
      "Policy: policy_2_3\n",
      "Policy: policy_2_3_4\n",
      "Policy: policy_3\n",
      "Policy: policy_3_4\n",
      "Policy: policy_3_4_5\n",
      "Policy: policy_4\n",
      "Policy: policy_4_5\n",
      "Policy: policy_4_5_6\n",
      "Policy: policy_5\n",
      "Policy: policy_5_6\n",
      "Policy: policy_5_6_7\n",
      "Policy: policy_6\n",
      "Policy: policy_6_7\n",
      "Policy: policy_6_7_8\n",
      "Policy: policy_7\n",
      "Policy: policy_7_8\n",
      "Policy: policy_7_8_9\n",
      "Policy: policy_8\n",
      "Policy: policy_8_9\n",
      "Policy: policy_8_9_10\n",
      "Policy: policy_9\n",
      "Policy: policy_9_10\n",
      "Policy: policy_9_10_11\n"
     ]
    }
   ],
   "source": [
    "# Iterate through each element in results_dict\n",
    "\n",
    "datasets = []\n",
    "for key, df in results_dict.items():\n",
    "    # Print the key\n",
    "    print(f\"Policy: {key}\")\n",
    "    \n",
    "    # Check if the gdf is indeed a GeoDataFrame\n",
    "    if isinstance(df, pd.DataFrame):\n",
    "        gdf = gpd.GeoDataFrame(df, geometry='geometry')\n",
    "        gdf.crs = \"EPSG:2154\"  # Assuming the original CRS is EPSG:2154\n",
    "        gdf.to_crs(\"EPSG:4326\", inplace=True)\n",
    "        \n",
    "        edge_index, activity_tensor, policy_tensor, nodes = create_edge_index_and_tensors(gdf)\n",
    "        datasets.append((policy_tensor, activity_tensor))\n",
    "        # print(\"Edge Index:\\n\", edge_index)\n",
    "        # print(\"Activity Tensor:\\n\", activity_tensor)\n",
    "        # print(\"Nodes:\\n\", nodes)\n",
    "        \n",
    "    else:\n",
    "        print(f\"The value for key '{key}' is not a GeoDataFrame.\")"
   ]
  },
  {
   "attachments": {},
   "cell_type": "markdown",
   "metadata": {},
   "source": [
    "We need the following information:\n",
    "a. For the the policy channel, we need: capacity, speed limit\n",
    "b. For the flow channel, we need only activity_count. "
   ]
  },
  {
   "cell_type": "code",
   "execution_count": 42,
   "metadata": {},
   "outputs": [],
   "source": [
    "# Toy example\n",
    "num_nodes = len(nodes)\n",
    "num_edges = len(edge_index[0])\n",
    "num_node_features = 1 # other features than geographic coordinates could include presence of amenities (traffic signals, ped. crossings) oder population density or land use in the vicinity of the intersection. \n",
    "num_edge_features = 3 # model: price for using the street, allowed speed, and bike paths yes/no\n",
    "hidden_channels = 16 # Increasing the number of hidden channels can potentially allow the model to learn more complex features but also increases the computational cost and risk of overfitting. Experiment with different values\n",
    "\n",
    "\n",
    "# # Create the multi-channel GNN model\n",
    "# model = MultiChannelGNN(num_node_features, num_edge_features, hidden_channels)\n",
    "\n",
    "# # Forward pass\n",
    "# output = model(x, edge_index, policy_features, flow_features)\n",
    "# print(\"Output shape:\", output.shape)"
   ]
  },
  {
   "attachments": {},
   "cell_type": "markdown",
   "metadata": {},
   "source": [
    "## 2.c. Create train und test data"
   ]
  },
  {
   "attachments": {},
   "cell_type": "markdown",
   "metadata": {},
   "source": [
    "### 2. Split the data in train and test set"
   ]
  },
  {
   "cell_type": "code",
   "execution_count": 43,
   "metadata": {},
   "outputs": [
    {
     "name": "stdout",
     "output_type": "stream",
     "text": [
      "Number of training sets: 44\n",
      "Number of test sets: 12\n"
     ]
    }
   ],
   "source": [
    "# Define the ratio for splitting (e.g., 80% training, 20% test)\n",
    "train_ratio = 0.8\n",
    "test_ratio = 1 - train_ratio\n",
    "\n",
    "# Split the dataset into training and test sets\n",
    "train_data_sets, test_data_sets = train_test_split(datasets, test_size=test_ratio, random_state=42)\n",
    "\n",
    "# Print the sizes of the training and test sets\n",
    "print(f\"Number of training sets: {len(train_data_sets)}\")\n",
    "print(f\"Number of test sets: {len(test_data_sets)}\")"
   ]
  },
  {
   "cell_type": "code",
   "execution_count": 44,
   "metadata": {},
   "outputs": [],
   "source": [
    "# Given edge index tensor\n",
    "\n",
    "# Determine the number of edges\n",
    "num_edges = edge_index.size(1)\n",
    "\n",
    "# Initialize an empty adjacency matrix\n",
    "adjacency_matrix = torch.zeros((num_edges, num_edges), dtype=torch.float32)\n",
    "\n",
    "# Fill adjacency matrix based on edge index\n",
    "for i in range(edge_index.size(1)):\n",
    "    src, dst = edge_index[:, i]\n",
    "    adjacency_matrix[src, dst] = 1\n",
    "    adjacency_matrix[dst, src] = 1  # For undirected graph, set both directions\n",
    "\n",
    "# Extract indices and values of non-zero entries\n",
    "indices = torch.nonzero(adjacency_matrix, as_tuple=False).t()\n",
    "values = adjacency_matrix[indices[0], indices[1]]\n",
    "\n",
    "# Convert indices and values to a sparse tensor\n",
    "adjacency_matrix_sparse = sparse.FloatTensor(indices, values, torch.Size([num_edges, num_edges]))\n",
    "# The adjacency matrix should always correspond to what has features! I.e. for us, these are the edges, not the nodes. "
   ]
  },
  {
   "cell_type": "code",
   "execution_count": 45,
   "metadata": {},
   "outputs": [],
   "source": [
    "# visualize the data\n",
    "def visualize_data(policy_features, flow_features, title):\n",
    "    edges = edge_index.T.tolist()\n",
    "\n",
    "    # Create a networkx graph from the edge list\n",
    "    G = nx.Graph(edges)\n",
    "\n",
    "    # Create a colormap for flow features\n",
    "    flow_cmap = plt.cm.Reds     # colormap for flow features\n",
    "\n",
    "    # Extract flow features from tensor\n",
    "    flow_values = flow_features[:, 0].tolist()      # flow graph has only one feature atm\n",
    "\n",
    "    # Normalize features for colormap mapping\n",
    "    flow_min = 0\n",
    "    flow_max = 100\n",
    "    norm = Normalize(vmin=flow_min, vmax=flow_max)\n",
    "\n",
    "    # Draw the graph with separate lines for flow features on each edge and annotations for policy features\n",
    "    plt.figure(figsize=(8, 6))\n",
    "    pos = nx.spring_layout(G, seed=42)  # Layout for better visualization\n",
    "\n",
    "    # Set to store processed edges\n",
    "    processed_edges = set()\n",
    "\n",
    "    # Draw edges for flow features and annotate with policy features\n",
    "    for i, (u, v) in enumerate(edges):\n",
    "        # Check if the edge has already been processed\n",
    "        if (u, v) not in processed_edges and (v, u) not in processed_edges:\n",
    "            flow_color = flow_cmap((flow_values[i] - flow_min) / (flow_max - flow_min))\n",
    "            nx.draw_networkx_edges(G, pos, edgelist=[(u, v)], edge_color=flow_color, width=2, alpha=0.7)\n",
    "\n",
    "            # Annotate with policy feature values\n",
    "            policy_values_str = \", \".join([f\"{int(val)}\" for val in policy_features[i]])\n",
    "            plt.text((pos[u][0] + pos[v][0]) / 2, (pos[u][1] + pos[v][1]) / 2, f\"({policy_values_str})\", fontsize=8, color=\"black\", ha=\"center\", va=\"center\")\n",
    "\n",
    "            # Add the edge to the set of processed edges\n",
    "            processed_edges.add((u, v))\n",
    "\n",
    "    # Draw nodes\n",
    "    nx.draw_networkx_nodes(G, pos, node_size=500, node_color=\"skyblue\", alpha=0.8)\n",
    "\n",
    "    # Draw labels\n",
    "    nx.draw_networkx_labels(G, pos, font_size=10, font_color=\"black\")\n",
    "\n",
    "    # Add colorbar for flow features\n",
    "    flow_sm = plt.cm.ScalarMappable(norm=norm, cmap=flow_cmap)\n",
    "    flow_sm.set_array([])\n",
    "    plt.colorbar(flow_sm, label=\"Flow\")\n",
    "    plt.title(title)\n",
    "    if \"Train\" in title:\n",
    "        plt.savefig(f\"visualisation/train_data/{title}.png\", dpi = 500)\n",
    "    else:\n",
    "        plt.savefig(f\"visualisation/test_data/{title}.png\", dpi = 500)\n",
    "    \n",
    "# # Visualize training and test data\n",
    "# for i, dataset in enumerate(train_data_sets):\n",
    "#     visualize_data(dataset[0], dataset[1], f\"Train Dataset {i+1}\")\n",
    "\n",
    "# for i, dataset in enumerate(test_data_sets):\n",
    "#     visualize_data(dataset[0], dataset[1], f\"Test Dataset {i+1}\")"
   ]
  },
  {
   "attachments": {},
   "cell_type": "markdown",
   "metadata": {},
   "source": [
    "## 3. Train the model"
   ]
  },
  {
   "cell_type": "code",
   "execution_count": 46,
   "metadata": {},
   "outputs": [
    {
     "ename": "RuntimeError",
     "evalue": "mat1 and mat2 shapes cannot be multiplied (31216x2 and 3x32)",
     "output_type": "error",
     "traceback": [
      "\u001b[0;31m---------------------------------------------------------------------------\u001b[0m",
      "\u001b[0;31mRuntimeError\u001b[0m                              Traceback (most recent call last)",
      "Cell \u001b[0;32mIn[46], line 32\u001b[0m\n\u001b[1;32m     29\u001b[0m flow_targets \u001b[39m=\u001b[39m flow_targets\u001b[39m.\u001b[39mfloat()  \u001b[39m# Convert to float tensor if necessary\u001b[39;00m\n\u001b[1;32m     31\u001b[0m \u001b[39m# Forward pass\u001b[39;00m\n\u001b[0;32m---> 32\u001b[0m predicted_flow \u001b[39m=\u001b[39m model(policy_features, flow_targets, adjacency_matrix)\n\u001b[1;32m     34\u001b[0m \u001b[39m# Compute loss\u001b[39;00m\n\u001b[1;32m     35\u001b[0m loss \u001b[39m=\u001b[39m criterion(predicted_flow, flow_targets)\n",
      "File \u001b[0;32m~/anaconda3/envs/Paris_Analysis/lib/python3.10/site-packages/torch/nn/modules/module.py:1511\u001b[0m, in \u001b[0;36mModule._wrapped_call_impl\u001b[0;34m(self, *args, **kwargs)\u001b[0m\n\u001b[1;32m   1509\u001b[0m     \u001b[39mreturn\u001b[39;00m \u001b[39mself\u001b[39m\u001b[39m.\u001b[39m_compiled_call_impl(\u001b[39m*\u001b[39margs, \u001b[39m*\u001b[39m\u001b[39m*\u001b[39mkwargs)  \u001b[39m# type: ignore[misc]\u001b[39;00m\n\u001b[1;32m   1510\u001b[0m \u001b[39melse\u001b[39;00m:\n\u001b[0;32m-> 1511\u001b[0m     \u001b[39mreturn\u001b[39;00m \u001b[39mself\u001b[39;49m\u001b[39m.\u001b[39;49m_call_impl(\u001b[39m*\u001b[39;49margs, \u001b[39m*\u001b[39;49m\u001b[39m*\u001b[39;49mkwargs)\n",
      "File \u001b[0;32m~/anaconda3/envs/Paris_Analysis/lib/python3.10/site-packages/torch/nn/modules/module.py:1520\u001b[0m, in \u001b[0;36mModule._call_impl\u001b[0;34m(self, *args, **kwargs)\u001b[0m\n\u001b[1;32m   1515\u001b[0m \u001b[39m# If we don't have any hooks, we want to skip the rest of the logic in\u001b[39;00m\n\u001b[1;32m   1516\u001b[0m \u001b[39m# this function, and just call forward.\u001b[39;00m\n\u001b[1;32m   1517\u001b[0m \u001b[39mif\u001b[39;00m \u001b[39mnot\u001b[39;00m (\u001b[39mself\u001b[39m\u001b[39m.\u001b[39m_backward_hooks \u001b[39mor\u001b[39;00m \u001b[39mself\u001b[39m\u001b[39m.\u001b[39m_backward_pre_hooks \u001b[39mor\u001b[39;00m \u001b[39mself\u001b[39m\u001b[39m.\u001b[39m_forward_hooks \u001b[39mor\u001b[39;00m \u001b[39mself\u001b[39m\u001b[39m.\u001b[39m_forward_pre_hooks\n\u001b[1;32m   1518\u001b[0m         \u001b[39mor\u001b[39;00m _global_backward_pre_hooks \u001b[39mor\u001b[39;00m _global_backward_hooks\n\u001b[1;32m   1519\u001b[0m         \u001b[39mor\u001b[39;00m _global_forward_hooks \u001b[39mor\u001b[39;00m _global_forward_pre_hooks):\n\u001b[0;32m-> 1520\u001b[0m     \u001b[39mreturn\u001b[39;00m forward_call(\u001b[39m*\u001b[39;49margs, \u001b[39m*\u001b[39;49m\u001b[39m*\u001b[39;49mkwargs)\n\u001b[1;32m   1522\u001b[0m \u001b[39mtry\u001b[39;00m:\n\u001b[1;32m   1523\u001b[0m     result \u001b[39m=\u001b[39m \u001b[39mNone\u001b[39;00m\n",
      "File \u001b[0;32m~/Development/MATSim/eqasim-java/ile_de_france/src/main/python/gnn/two_channel_gnn.py:28\u001b[0m, in \u001b[0;36mTwoChannelGNN.forward\u001b[0;34m(self, policy_features, traffic_features, adjacency_matrix)\u001b[0m\n\u001b[1;32m     23\u001b[0m \u001b[39mdef\u001b[39;00m \u001b[39mforward\u001b[39m(\u001b[39mself\u001b[39m, policy_features, traffic_features, adjacency_matrix):\n\u001b[1;32m     24\u001b[0m     \u001b[39m# Assuming policy_features and traffic_features are of shape (num_edges, input_dim)\u001b[39;00m\n\u001b[1;32m     25\u001b[0m     \u001b[39m# You may need to reshape or adjust the dimensions of these tensors if necessary\u001b[39;00m\n\u001b[1;32m     26\u001b[0m     \n\u001b[1;32m     27\u001b[0m     \u001b[39m# Message Passing in Policy Channel\u001b[39;00m\n\u001b[0;32m---> 28\u001b[0m     policy_messages \u001b[39m=\u001b[39m \u001b[39mself\u001b[39;49m\u001b[39m.\u001b[39;49mpolicy_message_passing(policy_features)\n\u001b[1;32m     29\u001b[0m     policy_aggregated \u001b[39m=\u001b[39m torch\u001b[39m.\u001b[39mmatmul(adjacency_matrix, policy_messages)  \u001b[39m# Aggregating messages from neighbors\u001b[39;00m\n\u001b[1;32m     30\u001b[0m     \u001b[39m# Ensure that the output dimension of self.policy_message_passing matches the expected dimension for matrix multiplication\u001b[39;00m\n\u001b[1;32m     31\u001b[0m     \n\u001b[1;32m     32\u001b[0m     \u001b[39m# Message Passing in Traffic Flow Channel\u001b[39;00m\n",
      "File \u001b[0;32m~/anaconda3/envs/Paris_Analysis/lib/python3.10/site-packages/torch/nn/modules/module.py:1511\u001b[0m, in \u001b[0;36mModule._wrapped_call_impl\u001b[0;34m(self, *args, **kwargs)\u001b[0m\n\u001b[1;32m   1509\u001b[0m     \u001b[39mreturn\u001b[39;00m \u001b[39mself\u001b[39m\u001b[39m.\u001b[39m_compiled_call_impl(\u001b[39m*\u001b[39margs, \u001b[39m*\u001b[39m\u001b[39m*\u001b[39mkwargs)  \u001b[39m# type: ignore[misc]\u001b[39;00m\n\u001b[1;32m   1510\u001b[0m \u001b[39melse\u001b[39;00m:\n\u001b[0;32m-> 1511\u001b[0m     \u001b[39mreturn\u001b[39;00m \u001b[39mself\u001b[39;49m\u001b[39m.\u001b[39;49m_call_impl(\u001b[39m*\u001b[39;49margs, \u001b[39m*\u001b[39;49m\u001b[39m*\u001b[39;49mkwargs)\n",
      "File \u001b[0;32m~/anaconda3/envs/Paris_Analysis/lib/python3.10/site-packages/torch/nn/modules/module.py:1520\u001b[0m, in \u001b[0;36mModule._call_impl\u001b[0;34m(self, *args, **kwargs)\u001b[0m\n\u001b[1;32m   1515\u001b[0m \u001b[39m# If we don't have any hooks, we want to skip the rest of the logic in\u001b[39;00m\n\u001b[1;32m   1516\u001b[0m \u001b[39m# this function, and just call forward.\u001b[39;00m\n\u001b[1;32m   1517\u001b[0m \u001b[39mif\u001b[39;00m \u001b[39mnot\u001b[39;00m (\u001b[39mself\u001b[39m\u001b[39m.\u001b[39m_backward_hooks \u001b[39mor\u001b[39;00m \u001b[39mself\u001b[39m\u001b[39m.\u001b[39m_backward_pre_hooks \u001b[39mor\u001b[39;00m \u001b[39mself\u001b[39m\u001b[39m.\u001b[39m_forward_hooks \u001b[39mor\u001b[39;00m \u001b[39mself\u001b[39m\u001b[39m.\u001b[39m_forward_pre_hooks\n\u001b[1;32m   1518\u001b[0m         \u001b[39mor\u001b[39;00m _global_backward_pre_hooks \u001b[39mor\u001b[39;00m _global_backward_hooks\n\u001b[1;32m   1519\u001b[0m         \u001b[39mor\u001b[39;00m _global_forward_hooks \u001b[39mor\u001b[39;00m _global_forward_pre_hooks):\n\u001b[0;32m-> 1520\u001b[0m     \u001b[39mreturn\u001b[39;00m forward_call(\u001b[39m*\u001b[39;49margs, \u001b[39m*\u001b[39;49m\u001b[39m*\u001b[39;49mkwargs)\n\u001b[1;32m   1522\u001b[0m \u001b[39mtry\u001b[39;00m:\n\u001b[1;32m   1523\u001b[0m     result \u001b[39m=\u001b[39m \u001b[39mNone\u001b[39;00m\n",
      "File \u001b[0;32m~/anaconda3/envs/Paris_Analysis/lib/python3.10/site-packages/torch/nn/modules/linear.py:116\u001b[0m, in \u001b[0;36mLinear.forward\u001b[0;34m(self, input)\u001b[0m\n\u001b[1;32m    115\u001b[0m \u001b[39mdef\u001b[39;00m \u001b[39mforward\u001b[39m(\u001b[39mself\u001b[39m, \u001b[39minput\u001b[39m: Tensor) \u001b[39m-\u001b[39m\u001b[39m>\u001b[39m Tensor:\n\u001b[0;32m--> 116\u001b[0m     \u001b[39mreturn\u001b[39;00m F\u001b[39m.\u001b[39;49mlinear(\u001b[39minput\u001b[39;49m, \u001b[39mself\u001b[39;49m\u001b[39m.\u001b[39;49mweight, \u001b[39mself\u001b[39;49m\u001b[39m.\u001b[39;49mbias)\n",
      "\u001b[0;31mRuntimeError\u001b[0m: mat1 and mat2 shapes cannot be multiplied (31216x2 and 3x32)"
     ]
    }
   ],
   "source": [
    "# Example usage\n",
    "policy_input_dim = 3  # Dimensionality of policy features\n",
    "traffic_input_dim = 1  # Dimensionality of traffic flow features\n",
    "hidden_dim = 32  # Dimensionality of hidden representations\n",
    "num_nodes = 10  # Number of nodes in the graph\n",
    "\n",
    "# Create an instance of the TwoChannelGNN\n",
    "model = TwoChannelGNN(policy_input_dim, traffic_input_dim, hidden_dim)\n",
    "\n",
    "num_epochs = 100\n",
    "\n",
    "# Define loss function\n",
    "criterion = nn.MSELoss()\n",
    "\n",
    "# Define optimizer\n",
    "optimizer = optim.Adam(model.parameters(), lr=0.01)\n",
    "\n",
    "train_losses = []\n",
    "\n",
    "# Training loop\n",
    "for epoch in range(num_epochs):\n",
    "    model.train()\n",
    "    running_loss = 0.0\n",
    "    for policy_features, flow_targets in train_data_sets:\n",
    "        optimizer.zero_grad()\n",
    "        \n",
    "         # Assuming train_data_sets is a DataLoader or similar iterable\n",
    "        policy_features = policy_features.float()  # Convert to float tensor if necessary\n",
    "        flow_targets = flow_targets.float()  # Convert to float tensor if necessary\n",
    "        \n",
    "        # Forward pass\n",
    "        predicted_flow = model(policy_features, flow_targets, adjacency_matrix)\n",
    "        \n",
    "        # Compute loss\n",
    "        loss = criterion(predicted_flow, flow_targets)\n",
    "        \n",
    "        loss.backward()\n",
    "        optimizer.step()\n",
    "        running_loss += loss.item()\n",
    "        \n",
    "    # Calculate average loss for the epoch\n",
    "    avg_loss = running_loss / len(train_data_sets)\n",
    "    train_losses.append(avg_loss)  # Store the loss value\n",
    "    # print(f\"Epoch {epoch+1}, Loss: {running_loss / len(train_data_sets)}\")"
   ]
  },
  {
   "cell_type": "code",
   "execution_count": null,
   "metadata": {},
   "outputs": [
    {
     "data": {
      "image/png": "[encoded data removed]",
      "text/plain": [
       "<Figure size 640x480 with 1 Axes>"
      ]
     },
     "metadata": {},
     "output_type": "display_data"
    }
   ],
   "source": [
    "# # Plot the training loss\n",
    "plt.plot(range(1, num_epochs+1), train_losses, label='Training Loss')\n",
    "plt.xlabel('Epoch')\n",
    "plt.ylabel('Loss')\n",
    "plt.title('Training Loss Over Epochs')\n",
    "plt.legend()\n",
    "plt.savefig(\"visualisation/train_loss.png\", dpi = 500)\n",
    "plt.show()"
   ]
  },
  {
   "attachments": {},
   "cell_type": "markdown",
   "metadata": {},
   "source": [
    "## 4. Test the model"
   ]
  },
  {
   "cell_type": "code",
   "execution_count": null,
   "metadata": {},
   "outputs": [
    {
     "name": "stdout",
     "output_type": "stream",
     "text": [
      "270.7248229980469\n",
      "425.9009704589844\n",
      "390.43560791015625\n",
      "571.8687744140625\n",
      "397.6443176269531\n",
      "339.21173095703125\n",
      "497.46942138671875\n",
      "477.1165466308594\n",
      "500.5747985839844\n",
      "584.1795654296875\n",
      "Average Test Loss: 445.5126556396484\n"
     ]
    }
   ],
   "source": [
    "# Initialize variables for evaluation\n",
    "total_loss = 0.0\n",
    "total_samples = 0\n",
    "\n",
    "# Put model in evaluation mode\n",
    "model.eval()\n",
    "\n",
    "# Disable gradient calculation to save memory and computation\n",
    "with torch.no_grad():\n",
    "    for policy_features, flow_targets in test_data_sets:\n",
    "        # Assuming test_data_sets is a DataLoader or similar iterable\n",
    "        policy_features = policy_features.float()  # Convert to float tensor if necessary\n",
    "        flow_targets = flow_targets.float()  # Convert to float tensor if necessary\n",
    "        \n",
    "        # Forward pass\n",
    "        predicted_flow = model(policy_features, flow_targets, adjacency_matrix)\n",
    "        \n",
    "        # Compute loss\n",
    "        loss = criterion(predicted_flow, flow_targets)\n",
    "        print(loss.item())\n",
    "        # Accumulate total loss and total samples\n",
    "        total_loss += loss.item() * policy_features.size(0)\n",
    "        total_samples += policy_features.size(0)\n",
    "\n",
    "# Calculate average loss over all samples\n",
    "average_loss = total_loss / total_samples\n",
    "# squared differences between your model’s predictions and the actual target values.\n",
    "# unit: squared flow values.\n",
    "\n",
    "print(f\"Average Test Loss: {average_loss}\")"
   ]
  },
  {
   "cell_type": "code",
   "execution_count": null,
   "metadata": {},
   "outputs": [],
   "source": []
  }
 ],
 "metadata": {
  "kernelspec": {
   "display_name": "Paris_Analysis",
   "language": "python",
   "name": "python3"
  },
  "language_info": {
   "codemirror_mode": {
    "name": "ipython",
    "version": 3
   },
   "file_extension": ".py",
   "mimetype": "text/x-python",
   "name": "python",
   "nbconvert_exporter": "python",
   "pygments_lexer": "ipython3",
   "version": "3.10.11"
  },
  "orig_nbformat": 4
 },
 "nbformat": 4,
 "nbformat_minor": 2
}
