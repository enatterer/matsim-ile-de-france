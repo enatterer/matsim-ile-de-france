{
 "cells": [
  {
   "cell_type": "code",
   "execution_count": 1,
   "metadata": {},
   "outputs": [],
   "source": [
    "import random\n",
    "\n",
    "import pandas as pd\n",
    "import geopandas as gpd\n",
    "import matplotlib.pyplot as plt\n",
    "import networkx as nx\n",
    "import numpy as np\n",
    "from matplotlib.cm import ScalarMappable\n",
    "from matplotlib.colors import Normalize\n",
    "from sklearn.model_selection import train_test_split\n",
    "import torch\n",
    "import torch.nn as nn\n",
    "import torch.nn.functional as F\n",
    "import torch.optim as optim\n",
    "import torch.sparse as sparse\n",
    "from torch_geometric.nn import GCNConv\n",
    "\n",
    "import torch\n",
    "import geopandas as gpd\n",
    "from shapely.geometry import LineString\n",
    "\n",
    "import pickle\n",
    "\n",
    "from two_channel_gnn import TwoChannelGNN\n",
    "from two_channel_edge_gnn import TwoChannelEdgeGNN"
   ]
  },
  {
   "cell_type": "code",
   "execution_count": 2,
   "metadata": {},
   "outputs": [
    {
     "name": "stdout",
     "output_type": "stream",
     "text": [
      "0.17.0\n"
     ]
    }
   ],
   "source": [
    "import wandb\n",
    "print(wandb.__version__)"
   ]
  },
  {
   "cell_type": "code",
   "execution_count": 3,
   "metadata": {},
   "outputs": [
    {
     "data": {
      "text/plain": [
       "<function wandb.sdk.wandb_login.login(anonymous: Optional[Literal['must', 'allow', 'never']] = None, key: Optional[str] = None, relogin: Optional[bool] = None, host: Optional[str] = None, force: Optional[bool] = None, timeout: Optional[int] = None, verify: bool = False) -> bool>"
      ]
     },
     "execution_count": 3,
     "metadata": {},
     "output_type": "execute_result"
    }
   ],
   "source": [
    "wandb.login"
   ]
  },
  {
   "cell_type": "code",
   "execution_count": null,
   "metadata": {},
   "outputs": [],
   "source": []
  },
  {
   "attachments": {},
   "cell_type": "markdown",
   "metadata": {},
   "source": [
    "# Abstract\n",
    "\n",
    "1. Set up a toy example: \n",
    "    a. Define the graph \n",
    "    b. Visualize the graph with the base case (without policy interventions)\n",
    "2. Define the model (move this later to an own class)\n",
    "3. Create train und test data (toy example)\n",
    "4. Test the model (toy example)"
   ]
  },
  {
   "cell_type": "code",
   "execution_count": 4,
   "metadata": {},
   "outputs": [],
   "source": [
    "def check_and_replace_inf(policy_data):\n",
    "    has_inf = False\n",
    "    inf_sources = {\"capacity\": 0, \"freespeed\": 0, \"mode\": 0}\n",
    "    \n",
    "    for i, row in enumerate(policy_data):\n",
    "        capacity, freespeed, modes = row[0], row[1], row[2]\n",
    "        \n",
    "        # Check freespeed for inf values\n",
    "        if freespeed == float('inf') or freespeed == float('-inf'):\n",
    "            # print(f\"Inf value found in freespeed at row {i}: {freespeed}\")\n",
    "            has_inf = True\n",
    "            inf_sources[\"freespeed\"] += 1\n",
    "            row[1] = 1e6 if freespeed == float('inf') else -1e6\n",
    "    return policy_data, has_inf, inf_sources\n",
    "\n",
    "\n",
    "# Define a dictionary to map each mode to an integer\n",
    "mode_mapping = {\n",
    "    'bus': 0,\n",
    "    'car': 1,\n",
    "    'car_passenger': 2,\n",
    "    'pt': 3,\n",
    "    'bus,car,car_passenger': 4,\n",
    "    'bus,car,car_passenger,pt': 5,\n",
    "    'car,car_passenger': 6,\n",
    "    'pt,rail,train': 7,\n",
    "    'bus,pt': 8,\n",
    "    'rail': 9,\n",
    "    'pt,subway': 10,\n",
    "    'artificial,bus': 11,\n",
    "    'artificial,rail': 12,\n",
    "    'artificial,stopFacilityLink,subway': 13,\n",
    "    'artificial,subway': 14,\n",
    "    'artificial,stopFacilityLink,tram': 15,\n",
    "    'artificial,tram': 16,\n",
    "    'artificial,bus,stopFacilityLink': 17,\n",
    "    'artificial,funicular,stopFacilityLink': 18,\n",
    "    'artificial,funicular': 19\n",
    "}\n",
    "\n",
    "# Function to encode modes into integer format\n",
    "def encode_modes(modes):\n",
    "    return mode_mapping.get(modes, -1)  # Use -1 for any unknown modes\n",
    "\n",
    "def create_edge_index_and_tensors(gdf):\n",
    "    # Ensure the GeoDataFrame is projected in a geographic CRS\n",
    "    gdf = gdf.to_crs(epsg=4326)\n",
    "    \n",
    "    # Extract unique nodes (start and end points of LineStrings)\n",
    "    nodes = {}\n",
    "    edges = []\n",
    "    car_volume_counts = []\n",
    "    capacities = []\n",
    "    freespeeds = []\n",
    "    modes_list = []\n",
    "    node_counter = 0\n",
    "\n",
    "    for idx, row in gdf.iterrows():\n",
    "        line = row['geometry']\n",
    "        car_volume = row['vol_car']  # Extract car volume\n",
    "        capacity = row['capacity']  # Extract capacity\n",
    "        freespeed = row['freespeed']  # Extract freespeed speed\n",
    "        modes = encode_modes(row['modes']) # Extract modes\n",
    "        if isinstance(line, LineString):\n",
    "            start_point = line.coords[0]\n",
    "            end_point = line.coords[-1]\n",
    "            \n",
    "            if start_point not in nodes:\n",
    "                nodes[start_point] = node_counter\n",
    "                node_counter += 1\n",
    "            if end_point not in nodes:\n",
    "                nodes[end_point] = node_counter\n",
    "                node_counter += 1\n",
    "            \n",
    "            start_index = nodes[start_point]\n",
    "            end_index = nodes[end_point]\n",
    "            \n",
    "            edges.append((start_index, end_index))\n",
    "            car_volume_counts.append(car_volume)  # Store activity count for this edge\n",
    "            capacities.append(capacity)  # Store capacity for this edge\n",
    "            freespeeds.append(freespeed)  # Store freespeed speed for this edge\n",
    "            modes_list.append(modes)  # Store modes for this edge\n",
    "    \n",
    "    # Create edge_index tensor\n",
    "    edge_index = torch.tensor(edges, dtype=torch.long).t().contiguous()\n",
    "    \n",
    "    # Create car volume tensor\n",
    "    car_volume_tensor = torch.tensor(car_volume_counts, dtype=torch.float)\n",
    "    \n",
    "    # Create policy_tensor\n",
    "    policy_data = [[cap, fs, mode] for cap, fs, mode in zip(capacities, freespeeds, modes_list)]\n",
    "    policy_data, has_inf, inf_sources = check_and_replace_inf(policy_data)\n",
    "    # if has_inf:\n",
    "    #     print(\"Inf values were found and replaced in policy_data.\")\n",
    "    #     print(\"Inf value sources:\", inf_sources)\n",
    "    \n",
    "    policy_tensor = torch.tensor(policy_data, dtype=torch.float)\n",
    "    return edge_index, car_volume_tensor, policy_tensor, nodes\n",
    "\n",
    "def visualize_data(policy_features, flow_features, title):\n",
    "    edges = edge_index.T.tolist()\n",
    "\n",
    "    # Create a networkx graph from the edge list\n",
    "    G = nx.Graph(edges)\n",
    "\n",
    "    # Create a colormap for flow features\n",
    "    flow_cmap = plt.cm.Reds     # colormap for flow features\n",
    "\n",
    "    # Extract flow features from tensor\n",
    "    flow_values = flow_features.tolist()      # flow graph has only one feature atm\n",
    "\n",
    "    # Normalize features for colormap mapping\n",
    "    flow_min = 0\n",
    "    flow_max = 100\n",
    "    norm = Normalize(vmin=flow_min, vmax=flow_max)\n",
    "\n",
    "    # Draw the graph with separate lines for flow features on each edge and annotations for policy features\n",
    "    plt.figure(figsize=(8, 6))\n",
    "    pos = nx.spring_layout(G, seed=42)  # Layout for better visualization\n",
    "\n",
    "    # Set to store processed edges\n",
    "    processed_edges = set()\n",
    "\n",
    "    # Draw edges for flow features and annotate with policy features\n",
    "    for i, (u, v) in enumerate(edges):\n",
    "        # Check if the edge has already been processed\n",
    "        if (u, v) not in processed_edges and (v, u) not in processed_edges:\n",
    "            flow_color = flow_cmap((flow_values[i] - flow_min) / (flow_max - flow_min))\n",
    "            nx.draw_networkx_edges(G, pos, edgelist=[(u, v)], edge_color=flow_color, width=2, alpha=0.7)\n",
    "\n",
    "            # Annotate with policy feature values\n",
    "            policy_values_str = \", \".join([f\"{int(val)}\" for val in policy_features[i]])\n",
    "            plt.text((pos[u][0] + pos[v][0]) / 2, (pos[u][1] + pos[v][1]) / 2, f\"({policy_values_str})\", fontsize=8, color=\"black\", ha=\"center\", va=\"center\")\n",
    "\n",
    "            # Add the edge to the set of processed edges\n",
    "            processed_edges.add((u, v))\n",
    "\n",
    "    # Draw nodes\n",
    "    nx.draw_networkx_nodes(G, pos, node_size=500, node_color=\"skyblue\", alpha=0.8)\n",
    "\n",
    "    # Draw labels\n",
    "    nx.draw_networkx_labels(G, pos, font_size=10, font_color=\"black\")\n",
    "\n",
    "    # Add colorbar for flow features\n",
    "    flow_sm = plt.cm.ScalarMappable(norm=norm, cmap=flow_cmap)\n",
    "    flow_sm.set_array([])\n",
    "    plt.colorbar(flow_sm, label=\"Flow\")\n",
    "    plt.title(title)\n",
    "    # if \"Train\" in title:\n",
    "    #     plt.savefig(f\"visualisation/train_data/{title}.png\", dpi = 500)\n",
    "    # else:\n",
    "    #     plt.savefig(f\"visualisation/test_data/{title}.png\", dpi = 500)"
   ]
  },
  {
   "cell_type": "code",
   "execution_count": 5,
   "metadata": {},
   "outputs": [],
   "source": [
    "# Load the dictionary\n",
    "with open('../results/result_dic.pkl', 'rb') as f:\n",
    "    results_dict = pickle.load(f)"
   ]
  },
  {
   "cell_type": "code",
   "execution_count": 6,
   "metadata": {},
   "outputs": [
    {
     "name": "stdout",
     "output_type": "stream",
     "text": [
      "Policy: policy introduced in Arrondissement(s) 5, 6\n",
      "Policy: policy introduced in Arrondissement(s) 1, 2, 3\n",
      "Policy: policy introduced in Arrondissement(s) 3, 4\n",
      "Policy: policy introduced in Arrondissement(s) 16, 17, 18\n",
      "Policy: policy introduced in Arrondissement(s) 13, 14, 15\n",
      "Policy: policy introduced in Arrondissement(s) 8, 9, 10, 11\n",
      "Policy: policy introduced in Arrondissement(s) 12, 13\n",
      "Policy: policy introduced in Arrondissement(s) 2, 3, 4, 5, 6, 7\n",
      "Policy: policy introduced in Arrondissement(s) 9, 10, 11\n",
      "Policy: policy introduced in Arrondissement(s) 15, 16, 17, 18, 19\n",
      "Policy: policy introduced in Arrondissement(s) 7, 8, 9, 10, 11, 12\n",
      "Policy: policy introduced in Arrondissement(s) 13, 14\n",
      "Policy: policy introduced in Arrondissement(s) 2, 3, 4, 5, 6\n",
      "Policy: policy introduced in Arrondissement(s) 5\n",
      "Policy: policy introduced in Arrondissement(s) 2\n",
      "Policy: policy introduced in Arrondissement(s) 11, 12, 13, 14\n",
      "Policy: policy introduced in Arrondissement(s) 12, 13, 14, 15\n",
      "Policy: policy introduced in Arrondissement(s) 14, 15, 16, 17, 18\n",
      "Policy: policy introduced in Arrondissement(s) 3, 4, 5, 6, 7\n",
      "Policy: policy introduced in Arrondissement(s) 17, 18, 19\n",
      "Policy: policy introduced in Arrondissement(s) 14, 15, 16, 17\n",
      "Policy: policy introduced in Arrondissement(s) 4, 5, 6, 7, 8\n",
      "Policy: policy introduced in Arrondissement(s) 3\n",
      "Policy: policy introduced in Arrondissement(s) 4\n",
      "Policy: policy introduced in Arrondissement(s) 8, 9\n",
      "Policy: policy introduced in Arrondissement(s) 9, 10, 11, 12\n",
      "Policy: policy introduced in Arrondissement(s) 1, 2, 3, 4, 5\n",
      "Policy: policy introduced in Arrondissement(s) 10, 11, 12, 13, 14, 15\n",
      "Policy: policy introduced in Arrondissement(s) 4, 5, 6, 7\n",
      "Policy: policy introduced in Arrondissement(s) 10, 11, 12, 13\n",
      "Policy: policy introduced in Arrondissement(s) 8, 9, 10\n",
      "Policy: policy introduced in Arrondissement(s) 5, 6, 7, 8, 9, 10\n",
      "Policy: policy introduced in Arrondissement(s) 4, 5\n",
      "Policy: policy introduced in Arrondissement(s) 15, 16, 17, 18\n",
      "Policy: policy introduced in Arrondissement(s) 6, 7, 8, 9\n",
      "Policy: policy introduced in Arrondissement(s) 7, 8, 9, 10\n",
      "Policy: policy introduced in Arrondissement(s) 17, 18, 19, 20\n",
      "Policy: policy introduced in Arrondissement(s) 10, 11\n",
      "Policy: policy introduced in Arrondissement(s) 1, 2, 3, 4\n",
      "Policy: policy introduced in Arrondissement(s) 3, 4, 5, 6, 7, 8\n",
      "Policy: policy introduced in Arrondissement(s) 13, 14, 15, 16, 17, 18\n",
      "Policy: policy introduced in Arrondissement(s) 2, 3, 4, 5\n",
      "Policy: policy introduced in Arrondissement(s) 6, 7\n",
      "Policy: policy introduced in Arrondissement(s) 11, 12, 13, 14, 15\n",
      "Policy: policy introduced in Arrondissement(s) 14, 15, 16, 17, 18, 19\n",
      "Policy: policy introduced in Arrondissement(s) 6, 7, 8\n",
      "Policy: policy introduced in Arrondissement(s) 13\n",
      "Policy: policy introduced in Arrondissement(s) 3, 4, 5, 6\n",
      "Policy: policy introduced in Arrondissement(s) 14\n",
      "Policy: policy introduced in Arrondissement(s) 15, 16\n",
      "Policy: policy introduced in Arrondissement(s) 10, 11, 12\n",
      "Policy: policy introduced in Arrondissement(s) 9, 10, 11, 12, 13\n",
      "Policy: policy introduced in Arrondissement(s) 15, 16, 17\n",
      "Policy: policy introduced in Arrondissement(s) 15\n",
      "Policy: policy introduced in Arrondissement(s) 12\n",
      "Policy: policy introduced in Arrondissement(s) 5, 6, 7, 8, 9\n",
      "Policy: policy introduced in Arrondissement(s) 7, 8\n",
      "Policy: policy introduced in Arrondissement(s) 4, 5, 6, 7, 8, 9\n",
      "Policy: policy introduced in Arrondissement(s) 16, 17\n",
      "Policy: policy introduced in Arrondissement(s) 3, 4, 5\n",
      "Policy: policy introduced in Arrondissement(s) 1, 2\n",
      "Policy: policy introduced in Arrondissement(s) 7, 8, 9\n",
      "Policy: policy introduced in Arrondissement(s) 12, 13, 14\n",
      "Policy: policy introduced in Arrondissement(s) 5, 6, 7\n",
      "Policy: policy introduced in Arrondissement(s) 6\n",
      "Policy: policy introduced in Arrondissement(s) 18, 19, 20\n",
      "Policy: policy introduced in Arrondissement(s) 8\n",
      "Policy: policy introduced in Arrondissement(s) 6, 7, 8, 9, 10\n",
      "Policy: policy introduced in Arrondissement(s) 17, 18\n",
      "Policy: policy introduced in Arrondissement(s) 13, 14, 15, 16, 17\n",
      "Policy: policy introduced in Arrondissement(s) 9\n",
      "Policy: policy introduced in Arrondissement(s) 8, 9, 10, 11, 12\n",
      "Policy: policy introduced in Arrondissement(s) 7\n",
      "Policy: policy introduced in Arrondissement(s) 15, 16, 17, 18, 19, 20\n",
      "Policy: policy introduced in Arrondissement(s) 6, 7, 8, 9, 10, 11\n",
      "Policy: policy introduced in Arrondissement(s) 14, 15\n",
      "Policy: policy introduced in Arrondissement(s) 16, 17, 18, 19\n",
      "Policy: policy introduced in Arrondissement(s) 2, 3\n",
      "Policy: policy introduced in Arrondissement(s) 1, 2, 3, 4, 5, 6\n",
      "Policy: policy introduced in Arrondissement(s) 11, 12, 13, 14, 15, 16\n",
      "Policy: policy introduced in Arrondissement(s) 7, 8, 9, 10, 11\n",
      "Policy: policy introduced in Arrondissement(s) 9, 10\n",
      "Policy: policy introduced in Arrondissement(s) 12, 13, 14, 15, 16\n",
      "Policy: policy introduced in Arrondissement(s) 11, 12, 13\n",
      "Policy: policy introduced in Arrondissement(s) 14, 15, 16\n",
      "Policy: policy introduced in Arrondissement(s) 10, 11, 12, 13, 14\n",
      "Policy: policy introduced in Arrondissement(s) 5, 6, 7, 8\n",
      "Policy: policy introduced in Arrondissement(s) 2, 3, 4\n",
      "Policy: policy introduced in Arrondissement(s) 18, 19\n",
      "Policy: policy introduced in Arrondissement(s) 17\n",
      "Policy: policy introduced in Arrondissement(s) 10\n",
      "Policy: policy introduced in Arrondissement(s) 11, 12\n",
      "Policy: policy introduced in Arrondissement(s) 19\n",
      "Policy: policy introduced in Arrondissement(s) 8, 9, 10, 11, 12, 13\n",
      "Policy: policy introduced in Arrondissement(s) 20\n",
      "Policy: policy introduced in Arrondissement(s) 4, 5, 6\n",
      "Policy: policy introduced in Arrondissement(s) 18\n",
      "Policy: policy introduced in Arrondissement(s) 11\n",
      "Policy: policy introduced in Arrondissement(s) 16, 17, 18, 19, 20\n",
      "Policy: policy introduced in Arrondissement(s) 16\n",
      "Policy: policy introduced in Arrondissement(s) 13, 14, 15, 16\n",
      "Policy: policy introduced in Arrondissement(s) 19, 20\n",
      "Policy: policy introduced in Arrondissement(s) 9, 10, 11, 12, 13, 14\n",
      "Policy: policy introduced in Arrondissement(s) 12, 13, 14, 15, 16, 17\n",
      "Policy: base_network_no_policies\n"
     ]
    }
   ],
   "source": [
    "datasets = []\n",
    "for key, df in results_dict.items():\n",
    "    print(f\"Policy: {key}\")\n",
    "    \n",
    "    if isinstance(df, pd.DataFrame):\n",
    "        gdf = gpd.GeoDataFrame(df, geometry='geometry')\n",
    "        gdf.crs = \"EPSG:2154\"  # Assuming the original CRS is EPSG:2154\n",
    "        gdf.to_crs(\"EPSG:4326\", inplace=True)\n",
    "        edge_index, car_volume_tensor, policy_tensor, nodes = create_edge_index_and_tensors(gdf)\n",
    "        datasets.append((policy_tensor, car_volume_tensor))\n",
    "    else:\n",
    "        print(f\"The value for key '{key}' is not a GeoDataFrame.\")"
   ]
  },
  {
   "attachments": {},
   "cell_type": "markdown",
   "metadata": {},
   "source": [
    "We need the following information:\n",
    "a. For the the policy channel, we need per edge: capacity, speed limit, modes\n",
    "b. For the flow channel, we need only car_volume. "
   ]
  },
  {
   "attachments": {},
   "cell_type": "markdown",
   "metadata": {},
   "source": [
    "## 2.c. Create train und test data"
   ]
  },
  {
   "attachments": {},
   "cell_type": "markdown",
   "metadata": {},
   "source": [
    "### 2. Split the data in train and test set"
   ]
  },
  {
   "cell_type": "code",
   "execution_count": 7,
   "metadata": {},
   "outputs": [
    {
     "name": "stdout",
     "output_type": "stream",
     "text": [
      "Number of training sets: 84\n",
      "Number of test sets: 21\n"
     ]
    }
   ],
   "source": [
    "# Define the ratio for splitting (e.g., 80% training, 20% test)\n",
    "train_ratio = 0.8\n",
    "test_ratio = 1 - train_ratio\n",
    "\n",
    "# Split the dataset into training and test sets\n",
    "train_data_sets, test_data_sets = train_test_split(datasets, test_size=test_ratio, random_state=42)\n",
    "\n",
    "# Print the sizes of the training and test sets\n",
    "print(f\"Number of training sets: {len(train_data_sets)}\")\n",
    "print(f\"Number of test sets: {len(test_data_sets)}\")"
   ]
  },
  {
   "cell_type": "code",
   "execution_count": 8,
   "metadata": {},
   "outputs": [],
   "source": [
    "# visualize the data\n",
    "\n",
    "# # Visualize training and test data\n",
    "# for i, dataset in enumerate(train_data_sets):\n",
    "#     visualize_data(dataset[0], dataset[1], f\"Train Dataset {i+1}\")\n",
    "\n",
    "# for i, dataset in enumerate(test_data_sets):\n",
    "#     visualize_data(dataset[0], dataset[1], f\"Test Dataset {i+1}\")"
   ]
  },
  {
   "attachments": {},
   "cell_type": "markdown",
   "metadata": {},
   "source": [
    "## 3. Train the model"
   ]
  },
  {
   "cell_type": "code",
   "execution_count": 11,
   "metadata": {},
   "outputs": [
    {
     "name": "stderr",
     "output_type": "stream",
     "text": [
      "Failed to detect the name of this notebook, you can set it manually with the WANDB_NOTEBOOK_NAME environment variable to enable code saving.\n",
      "\u001b[34m\u001b[1mwandb\u001b[0m: Logging into wandb.ai. (Learn how to deploy a W&B server locally: https://wandb.me/wandb-server)\n",
      "\u001b[34m\u001b[1mwandb\u001b[0m: You can find your API key in your browser here: https://wandb.ai/authorize\n",
      "\u001b[34m\u001b[1mwandb\u001b[0m: Paste an API key from your profile and hit enter, or press ctrl+c to quit:\u001b[34m\u001b[1mwandb\u001b[0m: \u001b[32m\u001b[41mERROR\u001b[0m API key must be 40 characters long, yours was 15\n",
      "\u001b[34m\u001b[1mwandb\u001b[0m: Logging into wandb.ai. (Learn how to deploy a W&B server locally: https://wandb.me/wandb-server)\n",
      "\u001b[34m\u001b[1mwandb\u001b[0m: You can find your API key in your browser here: https://wandb.ai/authorize\n",
      "\u001b[34m\u001b[1mwandb\u001b[0m: Paste an API key from your profile and hit enter, or press ctrl+c to quit:\u001b[34m\u001b[1mwandb\u001b[0m: Appending key for api.wandb.ai to your netrc file: /Users/elenanatterer/.netrc\n"
     ]
    },
    {
     "data": {
      "text/html": [
       "Tracking run with wandb version 0.17.0"
      ],
      "text/plain": [
       "<IPython.core.display.HTML object>"
      ]
     },
     "metadata": {},
     "output_type": "display_data"
    },
    {
     "data": {
      "text/html": [
       "Run data is saved locally in <code>/Users/elenanatterer/Development/MATSim/eqasim-java/ile_de_france/src/main/python/gnn/wandb/run-20240602_132823-sh1l1a33</code>"
      ],
      "text/plain": [
       "<IPython.core.display.HTML object>"
      ]
     },
     "metadata": {},
     "output_type": "display_data"
    },
    {
     "data": {
      "text/html": [
       "Syncing run <strong><a href='https://wandb.ai/tum-traffic-engineering/two-channel-gnn/runs/sh1l1a33' target=\"_blank\">earthy-firefly-1</a></strong> to <a href='https://wandb.ai/tum-traffic-engineering/two-channel-gnn' target=\"_blank\">Weights & Biases</a> (<a href='https://wandb.me/run' target=\"_blank\">docs</a>)<br/>"
      ],
      "text/plain": [
       "<IPython.core.display.HTML object>"
      ]
     },
     "metadata": {},
     "output_type": "display_data"
    },
    {
     "data": {
      "text/html": [
       " View project at <a href='https://wandb.ai/tum-traffic-engineering/two-channel-gnn' target=\"_blank\">https://wandb.ai/tum-traffic-engineering/two-channel-gnn</a>"
      ],
      "text/plain": [
       "<IPython.core.display.HTML object>"
      ]
     },
     "metadata": {},
     "output_type": "display_data"
    },
    {
     "data": {
      "text/html": [
       " View run at <a href='https://wandb.ai/tum-traffic-engineering/two-channel-gnn/runs/sh1l1a33' target=\"_blank\">https://wandb.ai/tum-traffic-engineering/two-channel-gnn/runs/sh1l1a33</a>"
      ],
      "text/plain": [
       "<IPython.core.display.HTML object>"
      ]
     },
     "metadata": {},
     "output_type": "display_data"
    },
    {
     "data": {
      "application/vnd.jupyter.widget-view+json": {
       "model_id": "a626c4a9bb9c48d7920d574692f53a6e",
       "version_major": 2,
       "version_minor": 0
      },
      "text/plain": [
       "VBox(children=(Label(value='0.050 MB of 0.050 MB uploaded\\r'), FloatProgress(value=1.0, max=1.0)))"
      ]
     },
     "metadata": {},
     "output_type": "display_data"
    },
    {
     "data": {
      "text/html": [
       "<style>\n",
       "    table.wandb td:nth-child(1) { padding: 0 10px; text-align: left ; width: auto;} td:nth-child(2) {text-align: left ; width: 100%}\n",
       "    .wandb-row { display: flex; flex-direction: row; flex-wrap: wrap; justify-content: flex-start; width: 100% }\n",
       "    .wandb-col { display: flex; flex-direction: column; flex-basis: 100%; flex: 1; padding: 10px; }\n",
       "    </style>\n",
       "<div class=\"wandb-row\"><div class=\"wandb-col\"><h3>Run history:</h3><br/><table class=\"wandb\"><tr><td>acc</td><td>▁▄▇▇▇▇██</td></tr><tr><td>loss</td><td>▇█▄▄▃▁▁▁</td></tr></table><br/></div><div class=\"wandb-col\"><h3>Run summary:</h3><br/><table class=\"wandb\"><tr><td>acc</td><td>0.85883</td></tr><tr><td>loss</td><td>0.14252</td></tr></table><br/></div></div>"
      ],
      "text/plain": [
       "<IPython.core.display.HTML object>"
      ]
     },
     "metadata": {},
     "output_type": "display_data"
    },
    {
     "data": {
      "text/html": [
       " View run <strong style=\"color:#cdcd00\">earthy-firefly-1</strong> at: <a href='https://wandb.ai/tum-traffic-engineering/two-channel-gnn/runs/sh1l1a33' target=\"_blank\">https://wandb.ai/tum-traffic-engineering/two-channel-gnn/runs/sh1l1a33</a><br/> View project at: <a href='https://wandb.ai/tum-traffic-engineering/two-channel-gnn' target=\"_blank\">https://wandb.ai/tum-traffic-engineering/two-channel-gnn</a><br/>Synced 5 W&B file(s), 0 media file(s), 0 artifact file(s) and 0 other file(s)"
      ],
      "text/plain": [
       "<IPython.core.display.HTML object>"
      ]
     },
     "metadata": {},
     "output_type": "display_data"
    },
    {
     "data": {
      "text/html": [
       "Find logs at: <code>./wandb/run-20240602_132823-sh1l1a33/logs</code>"
      ],
      "text/plain": [
       "<IPython.core.display.HTML object>"
      ]
     },
     "metadata": {},
     "output_type": "display_data"
    }
   ],
   "source": [
    "import wandb\n",
    "import random\n",
    "\n",
    "# start a new wandb run to track this script\n",
    "wandb.init(\n",
    "    # set the wandb project where this run will be logged\n",
    "    project=\"two-channel-gnn\",\n",
    "\n",
    "    # track hyperparameters and run metadata\n",
    "    config={\n",
    "    \"learning_rate\": 0.02,\n",
    "    \"architecture\": \"CNN\",\n",
    "    \"dataset\": datasets,\n",
    "    \"epochs\": 10,\n",
    "    }\n",
    ")\n",
    "\n",
    "# simulate training\n",
    "epochs = 10\n",
    "offset = random.random() / 5\n",
    "for epoch in range(2, epochs):\n",
    "    acc = 1 - 2 ** -epoch - random.random() / epoch - offset\n",
    "    loss = 2 ** -epoch + random.random() / epoch + offset\n",
    "\n",
    "    # log metrics to wandb\n",
    "    wandb.log({\"acc\": acc, \"loss\": loss})\n",
    "\n",
    "# [optional] finish the wandb run, necessary in notebooks\n",
    "wandb.finish()"
   ]
  },
  {
   "cell_type": "code",
   "execution_count": 9,
   "metadata": {},
   "outputs": [],
   "source": [
    "def create_edge_adjacency_matrix(edge_index, num_edges):\n",
    "    indices = torch.cat([edge_index, edge_index.flip(0)], dim=1)  # Make it undirected\n",
    "    values = torch.ones(indices.shape[1])\n",
    "    adj_matrix = torch.sparse.FloatTensor(indices, values, torch.Size([num_edges, num_edges]))\n",
    "    return adj_matrix\n",
    "\n",
    "def check_for_nans(tensor, name):\n",
    "    if torch.isnan(tensor).any():\n",
    "        print(f\"NaNs found in {name}\")\n",
    "    else:\n",
    "        print(f\"No NaNs in {name}\")\n",
    "        \n",
    "def print_statistics(tensor, name):\n",
    "    print(f\"{name} statistics:\")\n",
    "    print(f\"  Min: {tensor.min().item()}\")\n",
    "    print(f\"  Max: {tensor.max().item()}\")\n",
    "    print(f\"  Mean: {tensor.mean().item()}\")\n",
    "    print(f\"  Std: {tensor.std().item()}\")\n",
    "    print()\n",
    "\n",
    "def normalize(tensor):\n",
    "    mean = tensor.mean(dim=0, keepdim=True)\n",
    "    std = tensor.std(dim=0, keepdim=True) + 1e-6  # Add a small epsilon to avoid division by zero\n",
    "    return (tensor - mean) / std"
   ]
  },
  {
   "cell_type": "code",
   "execution_count": 10,
   "metadata": {},
   "outputs": [
    {
     "name": "stdout",
     "output_type": "stream",
     "text": [
      "0\n"
     ]
    },
    {
     "name": "stderr",
     "output_type": "stream",
     "text": [
      "/var/folders/m_/fjnjc1sn0ggc7z_2y7n27xfh0000gn/T/ipykernel_23941/3647949204.py:4: UserWarning: torch.sparse.SparseTensor(indices, values, shape, *, device=) is deprecated.  Please use torch.sparse_coo_tensor(indices, values, shape, dtype=, device=). (Triggered internally at /Users/runner/work/_temp/anaconda/conda-bld/pytorch_1704987091277/work/torch/csrc/utils/tensor_new.cpp:620.)\n",
      "  adj_matrix = torch.sparse.FloatTensor(indices, values, torch.Size([num_edges, num_edges]))\n"
     ]
    },
    {
     "name": "stdout",
     "output_type": "stream",
     "text": [
      "Epoch 1, Loss: 0.9863477845986685\n",
      "1\n",
      "Epoch 2, Loss: 0.9652741026310694\n",
      "2\n",
      "Epoch 3, Loss: 0.965285428932735\n",
      "3\n",
      "Epoch 4, Loss: 0.9652836237634931\n",
      "4\n",
      "Epoch 5, Loss: 0.9652764392750603\n",
      "5\n",
      "Epoch 6, Loss: 0.9652726444460097\n",
      "6\n",
      "Epoch 7, Loss: 0.9652707739954903\n",
      "7\n",
      "Epoch 8, Loss: 0.9652689723741441\n",
      "8\n",
      "Epoch 9, Loss: 0.9652674481982276\n",
      "9\n",
      "Epoch 10, Loss: 0.9652666832719531\n",
      "10\n",
      "Epoch 11, Loss: 0.9652667953854516\n",
      "11\n",
      "Epoch 12, Loss: 0.9652675539255142\n",
      "12\n",
      "Epoch 13, Loss: 0.9652686800275531\n",
      "13\n",
      "Epoch 14, Loss: 0.9652698558001291\n",
      "14\n",
      "Epoch 15, Loss: 0.9652708953335172\n",
      "15\n",
      "Epoch 16, Loss: 0.9652717425709679\n",
      "16\n",
      "Epoch 17, Loss: 0.965272408865747\n",
      "17\n",
      "Epoch 18, Loss: 0.965272938921338\n",
      "18\n",
      "Epoch 19, Loss: 0.9652734611715589\n",
      "19\n",
      "Epoch 20, Loss: 0.965274011804944\n",
      "20\n",
      "Epoch 21, Loss: 0.9652746113992873\n",
      "21\n",
      "Epoch 22, Loss: 0.9652752578258514\n",
      "22\n",
      "Epoch 23, Loss: 0.9652759695336932\n",
      "23\n",
      "Epoch 24, Loss: 0.9652766869181678\n",
      "24\n",
      "Epoch 25, Loss: 0.9652774255900156\n",
      "25\n",
      "Epoch 26, Loss: 0.9652781507798603\n",
      "26\n"
     ]
    },
    {
     "ename": "KeyboardInterrupt",
     "evalue": "",
     "output_type": "error",
     "traceback": [
      "\u001b[0;31m---------------------------------------------------------------------------\u001b[0m",
      "\u001b[0;31mKeyboardInterrupt\u001b[0m                         Traceback (most recent call last)",
      "Cell \u001b[0;32mIn[10], line 40\u001b[0m\n\u001b[1;32m     37\u001b[0m adjacency_matrix \u001b[39m=\u001b[39m create_edge_adjacency_matrix(edge_index, num_edges)\n\u001b[1;32m     39\u001b[0m \u001b[39m# Ensure traffic_features is the same size as flow_targets for input to model\u001b[39;00m\n\u001b[0;32m---> 40\u001b[0m traffic_features \u001b[39m=\u001b[39m flow_targets\u001b[39m.\u001b[39;49munsqueeze(\u001b[39m1\u001b[39;49m)  \u001b[39m# Adjust as necessary\u001b[39;00m\n\u001b[1;32m     42\u001b[0m \u001b[39m# Forward pass\u001b[39;00m\n\u001b[1;32m     43\u001b[0m predicted_flow \u001b[39m=\u001b[39m model(policy_features, traffic_features, adjacency_matrix)\n",
      "\u001b[0;31mKeyboardInterrupt\u001b[0m: "
     ]
    }
   ],
   "source": [
    "policy_input_dim = 3  # Dimensionality of policy features: capacity, freespeed flow, modes\n",
    "traffic_input_dim = 1  # Dimensionality of traffic flow features\n",
    "hidden_dim = 32  # Dimensionality of hidden representations\n",
    "num_nodes = max(max(edge_index[0]), max(edge_index[1])) + 1  # Number of nodes in the graph\n",
    "\n",
    "# Create an instance of the TwoChannelGNN\n",
    "model = TwoChannelEdgeGNN(policy_input_dim, traffic_input_dim, hidden_dim)\n",
    "\n",
    "num_epochs = 100\n",
    "\n",
    "# Define loss function\n",
    "criterion = nn.MSELoss()\n",
    "\n",
    "# Define optimizer\n",
    "optimizer = optim.Adam(model.parameters(),  lr=0.001)  \n",
    "\n",
    "train_losses = []\n",
    "\n",
    "# Training loop\n",
    "for epoch in range(num_epochs):\n",
    "    print(epoch)\n",
    "    model.train()\n",
    "    running_loss = 0.0\n",
    "    for policy_features, flow_targets in train_data_sets:\n",
    "        optimizer.zero_grad()\n",
    "                \n",
    "        # Normalize input features\n",
    "        policy_features = normalize(policy_features.float())\n",
    "        flow_targets = normalize(flow_targets.float())\n",
    "        \n",
    "        #  # Assuming train_data_sets is a DataLoader or similar iterable\n",
    "        # policy_features = policy_features.float()  # Convert to float tensor if necessary\n",
    "        # flow_targets = flow_targets.float()  # Convert to float tensor if necessary\n",
    "        \n",
    "        # Create adjacency matrix for edges\n",
    "        num_edges = edge_index.shape[1]\n",
    "        adjacency_matrix = create_edge_adjacency_matrix(edge_index, num_edges)\n",
    "        \n",
    "        # Ensure traffic_features is the same size as flow_targets for input to model\n",
    "        traffic_features = flow_targets.unsqueeze(1)  # Adjust as necessary\n",
    "        \n",
    "        # Forward pass\n",
    "        predicted_flow = model(policy_features, traffic_features, adjacency_matrix)\n",
    "        \n",
    "        # Compute loss\n",
    "        loss = criterion(predicted_flow, traffic_features)\n",
    "        loss.backward()\n",
    "        \n",
    "        # Clip gradients\n",
    "        torch.nn.utils.clip_grad_norm_(model.parameters(), max_norm=1.0)\n",
    "        optimizer.step()\n",
    "        running_loss += loss.item()\n",
    "        \n",
    "    # Calculate average loss for the epoch\n",
    "    avg_loss = running_loss / len(train_data_sets)\n",
    "    train_losses.append(avg_loss)  # Store the loss value\n",
    "    print(f\"Epoch {epoch+1}, Loss: {avg_loss}\")"
   ]
  },
  {
   "cell_type": "code",
   "execution_count": null,
   "metadata": {},
   "outputs": [
    {
     "data": {
      "image/png": "[encoded data removed]",
      "text/plain": [
       "<Figure size 640x480 with 1 Axes>"
      ]
     },
     "metadata": {},
     "output_type": "display_data"
    }
   ],
   "source": [
    "# Plot the training loss\n",
    "plt.plot(range(1, num_epochs+1), train_losses, label='Training Loss')\n",
    "plt.xlabel('Epoch')\n",
    "plt.ylabel('Loss')\n",
    "plt.title('Training Loss Over Epochs')\n",
    "plt.legend()\n",
    "plt.savefig(\"visualisation/train_loss.png\", dpi = 500)\n",
    "plt.show()"
   ]
  },
  {
   "attachments": {},
   "cell_type": "markdown",
   "metadata": {},
   "source": [
    "## 4. Test the model"
   ]
  },
  {
   "cell_type": "code",
   "execution_count": null,
   "metadata": {},
   "outputs": [
    {
     "name": "stdout",
     "output_type": "stream",
     "text": [
      "Average Test Loss: 2890.6429734002977\n"
     ]
    }
   ],
   "source": [
    "# Initialize variables for evaluation\n",
    "total_loss = 0.0\n",
    "total_samples = 0\n",
    "\n",
    "# Put model in evaluation mode\n",
    "model.eval()\n",
    "\n",
    "# Disable gradient calculation to save memory and computation\n",
    "with torch.no_grad():\n",
    "    for policy_features, flow_targets in test_data_sets:\n",
    "        # Assuming test_data_sets is a DataLoader or similar iterable\n",
    "        policy_features = policy_features.float()  # Convert to float tensor if necessary\n",
    "        flow_targets = flow_targets.float()  # Convert to float tensor if necessary\n",
    "        traffic_features = flow_targets.unsqueeze(1)  # Adjust as necessary\n",
    "\n",
    "        # Forward pass\n",
    "        predicted_flow = model(policy_features, traffic_features, adjacency_matrix)\n",
    "        \n",
    "        # Compute loss\n",
    "        loss = criterion(predicted_flow, traffic_features)\n",
    "        \n",
    "        # Accumulate total loss and total samples\n",
    "        total_loss += loss.item() * policy_features.size(0)\n",
    "        total_samples += policy_features.size(0)\n",
    "\n",
    "# Calculate average loss over all samples\n",
    "average_loss = total_loss / total_samples\n",
    "# squared differences between your model’s predictions and the actual target values.\n",
    "# unit: squared flow values.\n",
    "\n",
    "print(f\"Average Test Loss: {average_loss}\")"
   ]
  }
 ],
 "metadata": {
  "kernelspec": {
   "display_name": "Paris_Analysis",
   "language": "python",
   "name": "python3"
  },
  "language_info": {
   "codemirror_mode": {
    "name": "ipython",
    "version": 3
   },
   "file_extension": ".py",
   "mimetype": "text/x-python",
   "name": "python",
   "nbconvert_exporter": "python",
   "pygments_lexer": "ipython3",
   "version": "3.10.11"
  },
  "orig_nbformat": 4
 },
 "nbformat": 4,
 "nbformat_minor": 2
}
