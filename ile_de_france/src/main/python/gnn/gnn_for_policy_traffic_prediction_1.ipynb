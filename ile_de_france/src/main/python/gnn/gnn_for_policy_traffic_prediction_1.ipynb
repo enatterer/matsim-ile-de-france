{
 "cells": [
  {
   "cell_type": "code",
   "execution_count": 1,
   "metadata": {},
   "outputs": [],
   "source": [
    "import math\n",
    "import random\n",
    "import pickle\n",
    "\n",
    "import numpy as np\n",
    "import pandas as pd\n",
    "import geopandas as gpd\n",
    "import tqdm\n",
    "import wandb\n",
    "\n",
    "import torch\n",
    "import torch.nn as nn\n",
    "import torch.nn.functional as F\n",
    "import torchvision\n",
    "import torchvision.transforms as T\n",
    "from torch.utils.data import DataLoader, Dataset, Subset\n",
    "\n",
    "import torch_geometric\n",
    "from torch_geometric.data import Data, Batch\n",
    "from torch_geometric.transforms import LineGraph\n",
    "\n",
    "from shapely.geometry import LineString"
   ]
  },
  {
   "attachments": {},
   "cell_type": "markdown",
   "metadata": {},
   "source": [
    "# Abstract\n",
    "\n",
    "Here we generate the data, and in the notebook gnn_for_policy_traffic_prediction_2 we do the model."
   ]
  },
  {
   "attachments": {},
   "cell_type": "markdown",
   "metadata": {},
   "source": [
    "## 1. Load data and create the dataset"
   ]
  },
  {
   "cell_type": "code",
   "execution_count": 2,
   "metadata": {},
   "outputs": [],
   "source": [
    "with open('../results/results_pop_1pm_first_1400.pkl', 'rb') as f:\n",
    "    results_dict = pickle.load(f)"
   ]
  },
  {
   "cell_type": "code",
   "execution_count": 3,
   "metadata": {},
   "outputs": [],
   "source": [
    "# Define a dictionary to map each mode to an integer\n",
    "mode_mapping = {\n",
    "    'bus': 0,\n",
    "    'car': 1,\n",
    "    'car_passenger': 2,\n",
    "    'pt': 3,\n",
    "    'bus,car,car_passenger': 4,\n",
    "    'bus,car,car_passenger,pt': 5,\n",
    "    'car,car_passenger': 6,\n",
    "    'pt,rail,train': 7,\n",
    "    'bus,pt': 8,\n",
    "    'rail': 9,\n",
    "    'pt,subway': 10,\n",
    "    'artificial,bus': 11,\n",
    "    'artificial,rail': 12,\n",
    "    'artificial,stopFacilityLink,subway': 13,\n",
    "    'artificial,subway': 14,\n",
    "    'artificial,stopFacilityLink,tram': 15,\n",
    "    'artificial,tram': 16,\n",
    "    'artificial,bus,stopFacilityLink': 17,\n",
    "    'artificial,funicular,stopFacilityLink': 18,\n",
    "    'artificial,funicular': 19\n",
    "}\n",
    "\n",
    "# Function to encode modes into integer format\n",
    "def encode_modes(modes):\n",
    "    return mode_mapping.get(modes, -1)  # Use -1 for any unknown modes"
   ]
  },
  {
   "cell_type": "code",
   "execution_count": 4,
   "metadata": {},
   "outputs": [],
   "source": [
    "# Create data objects\n",
    "datalist = []\n",
    "counter = 0\n",
    "linegraph_transformation = LineGraph()\n",
    "\n",
    "for key, df in results_dict.items():\n",
    "    counter += 1\n",
    "    if isinstance(df, pd.DataFrame):\n",
    "        gdf = gpd.GeoDataFrame(df, geometry='geometry')\n",
    "        gdf.crs = \"EPSG:2154\"  # Assuming the original CRS is EPSG:2154\n",
    "        gdf.to_crs(\"EPSG:4326\", inplace=True)\n",
    "        \n",
    "        # Create dictionaries for nodes and edges\n",
    "        nodes = pd.concat([gdf['from_node'], gdf['to_node']]).unique()\n",
    "        node_to_idx = {node: idx for idx, node in enumerate(nodes)}\n",
    "        \n",
    "        gdf['from_idx'] = gdf['from_node'].map(node_to_idx)\n",
    "        gdf['to_idx'] = gdf['to_node'].map(node_to_idx)\n",
    "        \n",
    "        edges = gdf[['from_idx', 'to_idx']].values\n",
    "        edge_car_volumes = gdf['vol_car'].values\n",
    "        capacities = gdf['capacity'].values\n",
    "        freespeeds = gdf['freespeed'].values  \n",
    "        lengths = gdf['length'].values  \n",
    "        modes = gdf['modes'].values\n",
    "        modes_encoded = np.vectorize(encode_modes)(modes)\n",
    "        \n",
    "        edge_positions = np.array([((geom.coords[0][0] + geom.coords[-1][0]) / 2, \n",
    "                                    (geom.coords[0][1] + geom.coords[-1][1]) / 2) \n",
    "                                   for geom in gdf.geometry])\n",
    "\n",
    "        # Convert lists to tensors\n",
    "        edge_index = torch.tensor(edges, dtype=torch.long).t().contiguous()\n",
    "        edge_positions_tensor = torch.tensor(edge_positions, dtype=torch.float)\n",
    "        x = torch.zeros((len(nodes), 1), dtype=torch.float)\n",
    "        \n",
    "        # Create Data object\n",
    "        target_values = torch.tensor(edge_car_volumes, dtype=torch.float).unsqueeze(1)\n",
    "        data = Data(edge_index=edge_index, x=x, pos=edge_positions_tensor)\n",
    "        \n",
    "        # Transform to line graph\n",
    "        linegraph_data = linegraph_transformation(data)\n",
    "        \n",
    "        # Prepare the x for line graph: index and capacity\n",
    "        linegraph_x = torch.tensor(np.column_stack((capacities, freespeeds, lengths, modes_encoded)), dtype=torch.float)\n",
    "\n",
    "        linegraph_data.x = linegraph_x\n",
    "        \n",
    "        # Target tensor for car volumes\n",
    "        linegraph_data.y = target_values\n",
    "        \n",
    "        if linegraph_data.validate(raise_on_error=True):\n",
    "            datalist.append(linegraph_data)\n",
    "        else:\n",
    "            print(\"Invalid line graph data\")\n",
    "            \n",
    "# Convert dataset to a list of dictionaries\n",
    "data_dict_list = [{'x': lg_data.x, 'edge_index': lg_data.edge_index, 'pos': lg_data.pos, 'y': lg_data.y} for lg_data in datalist]"
   ]
  },
  {
   "cell_type": "code",
   "execution_count": null,
   "metadata": {},
   "outputs": [],
   "source": [
    "# Save the list of dictionaries\n",
    "torch.save(data_dict_list, 'dataset_1pm_0-1382_with_more_infos.pt')"
   ]
  }
 ],
 "metadata": {
  "kernelspec": {
   "display_name": "Paris_Analysis",
   "language": "python",
   "name": "python3"
  },
  "language_info": {
   "codemirror_mode": {
    "name": "ipython",
    "version": 3
   },
   "file_extension": ".py",
   "mimetype": "text/x-python",
   "name": "python",
   "nbconvert_exporter": "python",
   "pygments_lexer": "ipython3",
   "version": "3.10.11"
  },
  "orig_nbformat": 4
 },
 "nbformat": 4,
 "nbformat_minor": 2
}
