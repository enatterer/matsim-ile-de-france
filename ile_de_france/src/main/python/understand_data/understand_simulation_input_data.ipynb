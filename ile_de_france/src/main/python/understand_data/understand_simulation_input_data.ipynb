{
 "cells": [
  {
   "cell_type": "code",
   "execution_count": 1,
   "metadata": {},
   "outputs": [],
   "source": [
    "import os\n",
    "import glob\n",
    "import math\n",
    "import pickle\n",
    "\n",
    "import numpy as np\n",
    "import pandas as pd\n",
    "import geopandas as gpd\n",
    "import torch\n",
    "\n",
    "import os\n",
    "import pandas as pd\n",
    "import geopandas as gpd\n",
    "import xml.etree.ElementTree as ET\n",
    "import gzip\n",
    "import json\n",
    "import fiona\n",
    "from collections import defaultdict\n",
    "\n",
    "from torch_geometric.transforms import LineGraph\n",
    "\n",
    "from torch_geometric.data import Data, Batch\n",
    "\n",
    "highway_mapping = {\n",
    "    'trunk': 0, 'trunk_link': 0, 'motorway_link': 0,\n",
    "    'primary': 1, 'primary_link': 1,\n",
    "    'secondary': 2, 'secondary_link': 2,\n",
    "    'tertiary': 3, 'tertiary_link': 3,\n",
    "    'residential': 4, 'living_street': 5,\n",
    "    'pedestrian': 6, 'service': 7,\n",
    "    'construction': 8, 'unclassified': 9,\n",
    "    'np.nan': -1\n",
    "}\n",
    "\n",
    "base_dir = '../../../../data/pop_1pm_simulations/idf_1pm/' "
   ]
  },
  {
   "cell_type": "code",
   "execution_count": 2,
   "metadata": {},
   "outputs": [
    {
     "name": "stdout",
     "output_type": "stream",
     "text": [
      "Loaded CSV file: idf_1pm_persons.csv into variable: persons_df\n",
      "Loaded CSV file: idf_1pm_households.csv into variable: households_df\n",
      "Loaded CSV file: idf_1pm_trips.csv into variable: trips_df\n",
      "Loaded CSV file: idf_1pm_activities.csv into variable: activities_df\n",
      "Loaded CSV file: idf_1pm_vehicle_types.csv into variable: vehicle_types_df\n",
      "Loaded CSV file: idf_1pm_vehicles.csv into variable: vehicles_df\n"
     ]
    }
   ],
   "source": [
    "# List all the files in the base_dir\n",
    "files = os.listdir(base_dir)\n",
    "\n",
    "for file in files:\n",
    "    file_path = os.path.join(base_dir, file)\n",
    "    base_name, ext = os.path.splitext(file)\n",
    "    if base_name.startswith(\"idf_1pm_\"):\n",
    "        base_name = base_name.replace(\"idf_1pm_\", \"\")\n",
    "    var_name = base_name  # Start with the cleaned base name\n",
    "    \n",
    "    if file.endswith('.csv'):\n",
    "        try:\n",
    "            var_name = f\"{var_name}_df\"  # Add \"_c\" for CSV files\n",
    "            globals()[var_name] = pd.read_csv(file_path, sep=\";\")\n",
    "            print(f\"Loaded CSV file: {file} into variable: {var_name}\")\n",
    "        except Exception as e:\n",
    "            print(f\"Error loading CSV file {file}: {e}\")"
   ]
  },
  {
   "attachments": {},
   "cell_type": "markdown",
   "metadata": {},
   "source": [
    "# Relevant dataframes are:\n",
    "\n",
    "activities_g\n",
    "commutes_g\n",
    "households_c\n",
    "trips_g\n",
    "vehicles_c"
   ]
  },
  {
   "cell_type": "code",
   "execution_count": 3,
   "metadata": {},
   "outputs": [],
   "source": [
    "population_df = pd.read_csv(\"intermediate_results/population.csv\", sep=\";\")\n",
    "transit_schedule_relations_df = pd.read_csv(\"intermediate_results/transit_schedule_relations.csv\", sep=\";\")\n",
    "transit_schedule_stop_facilities_df = pd.read_csv(\"intermediate_results/transit_schedule_stop_facilities.csv\", sep=\";\")"
   ]
  }
 ],
 "metadata": {
  "kernelspec": {
   "display_name": "Paris_Analysis",
   "language": "python",
   "name": "python3"
  },
  "language_info": {
   "codemirror_mode": {
    "name": "ipython",
    "version": 3
   },
   "file_extension": ".py",
   "mimetype": "text/x-python",
   "name": "python",
   "nbconvert_exporter": "python",
   "pygments_lexer": "ipython3",
   "version": "3.10.11"
  },
  "orig_nbformat": 4
 },
 "nbformat": 4,
 "nbformat_minor": 2
}
