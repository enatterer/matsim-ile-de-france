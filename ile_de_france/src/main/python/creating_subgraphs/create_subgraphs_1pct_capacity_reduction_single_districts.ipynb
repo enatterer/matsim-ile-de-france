{
 "cells": [
  {
   "cell_type": "code",
   "execution_count": 1,
   "metadata": {},
   "outputs": [],
   "source": [
    "import os\n",
    "import glob\n",
    "import gzip\n",
    "import pickle\n",
    "\n",
    "import numpy as np\n",
    "import pandas as pd\n",
    "import geopandas as gpd\n",
    "\n",
    "import matplotlib.pyplot as plt\n",
    "import matplotlib.colors as mcolors\n",
    "import matplotlib.cm as cm\n",
    "from matplotlib.colors import LogNorm\n",
    "\n",
    "import shapely.wkt as wkt\n",
    "from shapely.geometry import Point, LineString, box\n",
    "from shapely.ops import nearest_points\n",
    "import lxml.etree as ET\n",
    "import network_io as nio\n",
    "from itertools import combinations\n",
    "import random\n",
    "import random\n",
    "import numpy as np\n",
    "import matplotlib.pyplot as plt\n",
    "import re\n",
    "import os\n",
    "import gc\n",
    "import random\n",
    "import pandas as pd\n",
    "import gzip\n",
    "import xml.etree.ElementTree as ET"
   ]
  },
  {
   "attachments": {},
   "cell_type": "markdown",
   "metadata": {},
   "source": [
    "## 1. Check which combinations we have already computed"
   ]
  },
  {
   "cell_type": "code",
   "execution_count": 2,
   "metadata": {},
   "outputs": [],
   "source": [
    "# path where data is\n",
    "path = 'pop_1pct_cap_reduction'\n",
    "\n",
    "result_df_name = 'dataset_1pct_cap_reduction_single_districts'\n",
    "\n",
    "result_path = '../../../../data/datasets_simulation_outputs/' + result_df_name + '.pt'\n",
    "string_is_for_1pm = \"pop_1pct\"\n",
    "\n",
    "base_dir = '../../../../data/' + string_is_for_1pm + '_simulations/' + path\n",
    "subdirs_pattern = os.path.join(base_dir, 'output_networks_*')\n",
    "subdirs = list(set(glob.glob(subdirs_pattern)))\n",
    "subdirs.sort()"
   ]
  },
  {
   "attachments": {},
   "cell_type": "markdown",
   "metadata": {},
   "source": [
    "## Create subsets "
   ]
  },
  {
   "cell_type": "code",
   "execution_count": 3,
   "metadata": {},
   "outputs": [],
   "source": [
    "# List of 20 districts (represented as integers 1 to 20)\n",
    "districts = list(range(1, 21))\n",
    "\n",
    "district_list = [{district} for district in districts]"
   ]
  },
  {
   "cell_type": "code",
   "execution_count": 4,
   "metadata": {},
   "outputs": [
    {
     "data": {
      "text/plain": [
       "20"
      ]
     },
     "execution_count": 4,
     "metadata": {},
     "output_type": "execute_result"
    }
   ],
   "source": [
    "len(district_list)"
   ]
  },
  {
   "cell_type": "code",
   "execution_count": 5,
   "metadata": {},
   "outputs": [],
   "source": [
    "# Save the random_subset list to a file using pickle\n",
    "with open(result_path, 'wb') as file:\n",
    "    pickle.dump(district_list, file)"
   ]
  },
  {
   "cell_type": "code",
   "execution_count": 6,
   "metadata": {},
   "outputs": [
    {
     "name": "stderr",
     "output_type": "stream",
     "text": [
      "/Users/elenanatterer/anaconda3/envs/Paris_Analysis/lib/python3.10/site-packages/IPython/core/interactiveshell.py:3448: FutureWarning: The `op` parameter is deprecated and will be removed in a future release. Please use the `predicate` parameter instead.\n",
      "  if await self.run_code(code, result, async_=asy):\n",
      "/Users/elenanatterer/anaconda3/envs/Paris_Analysis/lib/python3.10/site-packages/pandas/core/reshape/merge.py:1203: RuntimeWarning: invalid value encountered in cast\n",
      "  if not (lk == lk.astype(rk.dtype))[~np.isnan(lk)].all():\n"
     ]
    }
   ],
   "source": [
    "file_path = '../../../../data/pop_1pct_simulations/pop_1pct_cap_reduction/paris_1pct_network.xml.gz'\n",
    "districts = gpd.read_file(\"../../../../data/visualisation/districts_paris.geojson\")\n",
    "\n",
    "base_output_links_no_policies = '../../../../data/pop_1pct_simulations/pop_1pct_basecase/output_seed_1/'\n",
    "base_network_no_policies = nio.read_network_data(base_output_links_no_policies)\n",
    "base_network_no_policies.rename(columns={'link': 'id'}, inplace=True)\n",
    "\n",
    "# Parse nodes and edges\n",
    "nodes_dict = nio.parse_nodes(file_path)\n",
    "df_edges = nio.parse_edges(file_path, nodes_dict)\n",
    "gdf_edges = gpd.GeoDataFrame(df_edges, geometry='geometry', crs='EPSG:2154')\n",
    "gdf_edges_4326 = gdf_edges.to_crs(epsg=4326)\n",
    "\n",
    "# Spatial join to find districts overlapping with each edge\n",
    "gdf_edges_with_districts = gpd.sjoin(gdf_edges_4326, districts, how='left', op='intersects')\n",
    "\n",
    "# Group by edge and aggregate the district names\n",
    "gdf_edges_with_districts = gdf_edges_with_districts.groupby('id').agg({\n",
    "    'from': 'first',\n",
    "    'to': 'first',\n",
    "    'length': 'first',\n",
    "    'freespeed': 'first',\n",
    "    'capacity': 'first',\n",
    "    'permlanes': 'first',\n",
    "    'oneway': 'first',\n",
    "    'modes': 'first',\n",
    "    'geometry': 'first',\n",
    "    'c_ar': lambda x: list(x.dropna())\n",
    "}).reset_index()\n",
    "\n",
    "# Rename the aggregated column to 'district'\n",
    "gdf_edges_with_districts.rename(columns={'c_ar': 'district'}, inplace=True)\n",
    "\n",
    "# Convert freespeed and capacity to numeric values\n",
    "gdf_edges_with_districts['freespeed'] = pd.to_numeric(gdf_edges_with_districts['freespeed'], errors='coerce')\n",
    "gdf_edges_with_districts['capacity'] = pd.to_numeric(gdf_edges_with_districts['capacity'], errors='coerce')\n",
    "\n",
    "gdf_edges_with_highway = gdf_edges_with_districts.merge(base_network_no_policies[['id', 'osm:way:highway']], on='id', how='left')\n",
    "gdf_edges_with_highway.head()\n",
    "\n",
    "higher_order_roads = ['tertiary', 'secondary', 'primary', 'secondary_link', 'primary_link', 'tertiary_link']\n",
    "filtered_gdf = gdf_edges_with_highway[gdf_edges_with_highway['osm:way:highway'].isin(higher_order_roads)]\n",
    "filtered_gdf = gpd.GeoDataFrame(filtered_gdf, geometry='geometry', crs='EPSG:4326')\n",
    "gdf_edges_with_highway = gpd.GeoDataFrame(gdf_edges_with_highway, geometry='geometry', crs='EPSG:4326')"
   ]
  },
  {
   "cell_type": "code",
   "execution_count": 11,
   "metadata": {},
   "outputs": [
    {
     "data": {
      "text/plain": [
       "[{1},\n",
       " {2},\n",
       " {3},\n",
       " {4},\n",
       " {5},\n",
       " {6},\n",
       " {7},\n",
       " {8},\n",
       " {9},\n",
       " {10},\n",
       " {11},\n",
       " {12},\n",
       " {13},\n",
       " {14},\n",
       " {15},\n",
       " {16},\n",
       " {17},\n",
       " {18},\n",
       " {19},\n",
       " {20}]"
      ]
     },
     "execution_count": 11,
     "metadata": {},
     "output_type": "execute_result"
    }
   ],
   "source": [
    "district_list"
   ]
  },
  {
   "cell_type": "code",
   "execution_count": 7,
   "metadata": {},
   "outputs": [
    {
     "name": "stdout",
     "output_type": "stream",
     "text": [
      "1\n",
      "2\n",
      "3\n",
      "4\n",
      "5\n",
      "6\n",
      "7\n",
      "8\n",
      "9\n",
      "10\n",
      "11\n",
      "12\n",
      "13\n",
      "14\n",
      "15\n",
      "16\n",
      "17\n",
      "18\n",
      "19\n",
      "20\n",
      "['../../../../data/pop_1pct_simulations/pop_1pct_cap_reduction/networks/networks_1000/network_d_9.xml.gz', '../../../../data/pop_1pct_simulations/pop_1pct_cap_reduction/networks/networks_1000/network_d_5.xml.gz', '../../../../data/pop_1pct_simulations/pop_1pct_cap_reduction/networks/networks_1000/network_d_13.xml.gz', '../../../../data/pop_1pct_simulations/pop_1pct_cap_reduction/networks/networks_1000/network_d_7.xml.gz', '../../../../data/pop_1pct_simulations/pop_1pct_cap_reduction/networks/networks_1000/network_d_11.xml.gz', '../../../../data/pop_1pct_simulations/pop_1pct_cap_reduction/networks/networks_1000/network_d_15.xml.gz', '../../../../data/pop_1pct_simulations/pop_1pct_cap_reduction/networks/networks_1000/network_d_19.xml.gz', '../../../../data/pop_1pct_simulations/pop_1pct_cap_reduction/networks/networks_1000/network_d_3.xml.gz', '../../../../data/pop_1pct_simulations/pop_1pct_cap_reduction/networks/networks_1000/network_d_17.xml.gz', '../../../../data/pop_1pct_simulations/pop_1pct_cap_reduction/networks/networks_1000/network_d_1.xml.gz', '../../../../data/pop_1pct_simulations/pop_1pct_cap_reduction/networks/networks_1000/network_d_12.xml.gz', '../../../../data/pop_1pct_simulations/pop_1pct_cap_reduction/networks/networks_1000/network_d_8.xml.gz', '../../../../data/pop_1pct_simulations/pop_1pct_cap_reduction/networks/networks_1000/network_d_4.xml.gz', '../../../../data/pop_1pct_simulations/pop_1pct_cap_reduction/networks/networks_1000/network_d_10.xml.gz', '../../../../data/pop_1pct_simulations/pop_1pct_cap_reduction/networks/networks_1000/network_d_6.xml.gz', '../../../../data/pop_1pct_simulations/pop_1pct_cap_reduction/networks/networks_1000/network_d_2.xml.gz', '../../../../data/pop_1pct_simulations/pop_1pct_cap_reduction/networks/networks_1000/network_d_14.xml.gz', '../../../../data/pop_1pct_simulations/pop_1pct_cap_reduction/networks/networks_1000/network_d_18.xml.gz', '../../../../data/pop_1pct_simulations/pop_1pct_cap_reduction/networks/networks_1000/network_d_20.xml.gz', '../../../../data/pop_1pct_simulations/pop_1pct_cap_reduction/networks/networks_1000/network_d_16.xml.gz']\n"
     ]
    }
   ],
   "source": [
    "# Directory to save the files\n",
    "output_base_dir = '../../../../data/pop_1pct_simulations/' + path +  '/networks/'\n",
    "\n",
    "# Number of files per directory\n",
    "files_per_dir = 1000\n",
    "\n",
    "# Function to write XML to a compressed .gz file\n",
    "def write_xml_to_gz(xml_tree, file_path):\n",
    "    with gzip.open(file_path, 'wb') as f:\n",
    "        xml_tree.write(f, encoding='utf-8', xml_declaration=True)\n",
    "\n",
    "# Ensure the base output directory exists\n",
    "os.makedirs(output_base_dir, exist_ok=True)\n",
    "\n",
    "# Create and save the networks\n",
    "for i, combination in enumerate(district_list):\n",
    "    if isinstance(combination, int):\n",
    "        combination = (combination,)\n",
    "    df_copy = gdf_edges_with_highway.copy()\n",
    "    df_copy['policy_introduced'] = df_copy['district'].apply(\n",
    "        lambda districts: any(d in districts for d in combination)\n",
    "    ) & df_copy.apply(\n",
    "        lambda row: 'car' in row['modes'] and row['osm:way:highway'] in higher_order_roads, axis=1\n",
    "    )\n",
    "    \n",
    "    # Modify freespeed and capacity based on the policy_introduced condition\n",
    "    df_copy.loc[df_copy['policy_introduced'], 'capacity'] = df_copy.loc[df_copy['policy_introduced'], 'capacity'] / 2\n",
    "\n",
    "    # Determine the subdirectory based on the file index\n",
    "    dir_index = (i // files_per_dir) + 1\n",
    "    subdir_name = f\"networks_{dir_index * files_per_dir}\"\n",
    "    output_dir = os.path.join(output_base_dir, subdir_name)\n",
    "    \n",
    "    # Create the subdirectory if it doesn't exist\n",
    "    os.makedirs(output_dir, exist_ok=True)\n",
    "    \n",
    "    first_element = next(iter(combination))\n",
    "    print(first_element)\n",
    "    # Determine the filename based on the combination\n",
    "    if len(combination) == 1:\n",
    "        filename = f\"network_d_{first_element}.xml.gz\"\n",
    "    \n",
    "    # Convert the DataFrame to XML\n",
    "    xml_tree = nio.dataframe_to_xml(df_copy, nodes_dict)\n",
    "    \n",
    "    # Write the XML to a compressed .gz file\n",
    "    file_path = os.path.join(output_dir, filename)\n",
    "    nio.write_xml_to_gz(xml_tree, file_path)\n",
    "\n",
    "    # Clear the dataframe from memory\n",
    "    del df_copy\n",
    "    gc.collect()\n",
    "\n",
    "# Example: Display the file paths of the saved files\n",
    "output_files = [os.path.join(root, f) for root, _, files in os.walk(output_base_dir) for f in files]\n",
    "print(output_files)"
   ]
  },
  {
   "cell_type": "code",
   "execution_count": null,
   "metadata": {},
   "outputs": [],
   "source": []
  }
 ],
 "metadata": {
  "kernelspec": {
   "display_name": "Paris_Analysis",
   "language": "python",
   "name": "python3"
  },
  "language_info": {
   "codemirror_mode": {
    "name": "ipython",
    "version": 3
   },
   "file_extension": ".py",
   "mimetype": "text/x-python",
   "name": "python",
   "nbconvert_exporter": "python",
   "pygments_lexer": "ipython3",
   "version": "3.10.11"
  },
  "orig_nbformat": 4
 },
 "nbformat": 4,
 "nbformat_minor": 2
}
