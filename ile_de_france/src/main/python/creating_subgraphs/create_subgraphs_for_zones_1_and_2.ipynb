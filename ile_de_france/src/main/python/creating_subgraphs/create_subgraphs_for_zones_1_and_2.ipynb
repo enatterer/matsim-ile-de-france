{
 "cells": [
  {
   "cell_type": "code",
   "execution_count": 8,
   "metadata": {},
   "outputs": [],
   "source": [
    "import os\n",
    "import glob\n",
    "import gzip\n",
    "import pickle\n",
    "\n",
    "import numpy as np\n",
    "import pandas as pd\n",
    "import geopandas as gpd\n",
    "\n",
    "import matplotlib.pyplot as plt\n",
    "import matplotlib.colors as mcolors\n",
    "import matplotlib.cm as cm\n",
    "from matplotlib.colors import LogNorm\n",
    "\n",
    "import shapely.wkt as wkt\n",
    "from shapely.geometry import Point, LineString, box\n",
    "from shapely.ops import nearest_points\n",
    "import lxml.etree as ET\n",
    "import network_io as nio\n",
    "from itertools import combinations\n",
    "import random\n",
    "\n",
    "districts = gpd.read_file(\"../../../../data/visualisation/districts_paris.geojson\")"
   ]
  },
  {
   "cell_type": "code",
   "execution_count": 9,
   "metadata": {},
   "outputs": [
    {
     "name": "stderr",
     "output_type": "stream",
     "text": [
      "/Users/elenanatterer/anaconda3/envs/Paris_Analysis/lib/python3.10/site-packages/IPython/core/interactiveshell.py:3448: FutureWarning: The `op` parameter is deprecated and will be removed in a future release. Please use the `predicate` parameter instead.\n",
      "  if await self.run_code(code, result, async_=asy):\n",
      "/Users/elenanatterer/anaconda3/envs/Paris_Analysis/lib/python3.10/site-packages/pandas/core/reshape/merge.py:1203: RuntimeWarning: invalid value encountered in cast\n",
      "  if not (lk == lk.astype(rk.dtype))[~np.isnan(lk)].all():\n"
     ]
    }
   ],
   "source": [
    "is_for_1pm = False\n",
    "\n",
    "if is_for_1pm:\n",
    "    file_path = '../../../../data/pop_1pm/paris_1pm_network.xml.gz'\n",
    "    base_output_links_no_policies = '../../../../data/pop_1pm/output_1pm/'\n",
    "    output_dir = '../../../../data/pop_1pm_policies_in_relevant_zones/'\n",
    "\n",
    "else:\n",
    "    file_path = '../../../../data/pop_1pct/paris_1pct_network.xml.gz'\n",
    "    base_output_links_no_policies = '../../../../data/pop_1pct/output_1pct/'\n",
    "    output_dir = '../../../../data/pop_1pct_policies_in_relevant_zones/'\n",
    "\n",
    "base_network_no_policies = nio.read_network_data(base_output_links_no_policies)\n",
    "base_network_no_policies.rename(columns={'link': 'id'}, inplace=True)\n",
    "\n",
    "# Parse nodes and edges\n",
    "nodes_dict = nio.parse_nodes(file_path)\n",
    "df_edges = nio.parse_edges(file_path, nodes_dict)\n",
    "gdf_edges = gpd.GeoDataFrame(df_edges, geometry='geometry', crs='EPSG:2154')\n",
    "gdf_edges_4326 = gdf_edges.to_crs(epsg=4326)\n",
    "\n",
    "# Spatial join to find districts overlapping with each edge\n",
    "gdf_edges_with_districts = gpd.sjoin(gdf_edges_4326, districts, how='left', op='intersects')\n",
    "\n",
    "# Group by edge and aggregate the district names\n",
    "gdf_edges_with_districts = gdf_edges_with_districts.groupby('id').agg({\n",
    "    'from': 'first',\n",
    "    'to': 'first',\n",
    "    'length': 'first',\n",
    "    'freespeed': 'first',\n",
    "    'capacity': 'first',\n",
    "    'permlanes': 'first',\n",
    "    'oneway': 'first',\n",
    "    'modes': 'first',\n",
    "    'geometry': 'first',\n",
    "    'c_ar': lambda x: list(x.dropna())\n",
    "}).reset_index()\n",
    "\n",
    "# Rename the aggregated column to 'district'\n",
    "gdf_edges_with_districts.rename(columns={'c_ar': 'district'}, inplace=True)\n",
    "\n",
    "# Convert freespeed and capacity to numeric values\n",
    "gdf_edges_with_districts['freespeed'] = pd.to_numeric(gdf_edges_with_districts['freespeed'], errors='coerce')\n",
    "gdf_edges_with_districts['capacity'] = pd.to_numeric(gdf_edges_with_districts['capacity'], errors='coerce')\n",
    "\n",
    "gdf_edges_with_highway = gdf_edges_with_districts.merge(base_network_no_policies[['id', 'osm:way:highway']], on='id', how='left')"
   ]
  },
  {
   "cell_type": "code",
   "execution_count": 10,
   "metadata": {},
   "outputs": [],
   "source": [
    "higher_order_roads = ['tertiary', 'secondary', 'primary', 'secondary_link', 'primary_link', 'tertiary_link']\n",
    "filtered_gdf = gdf_edges_with_highway[gdf_edges_with_highway['osm:way:highway'].isin(higher_order_roads)]\n",
    "filtered_gdf = gpd.GeoDataFrame(filtered_gdf, geometry='geometry', crs='EPSG:4326')\n",
    "gdf_edges_with_highway = gpd.GeoDataFrame(gdf_edges_with_highway, geometry='geometry', crs='EPSG:4326')"
   ]
  },
  {
   "cell_type": "code",
   "execution_count": 11,
   "metadata": {},
   "outputs": [],
   "source": [
    "# # Create a larger plot with thinner lines\n",
    "# fig, ax = plt.subplots(figsize=(15, 15))\n",
    "# gdf_edges_with_highway.plot(ax=ax, linewidth=0.5, color='grey', label = \"Network\")\n",
    "# filtered_gdf.plot(ax=ax, linewidth=0.5, color = \"blue\", label = \"Higher order roads\")\n",
    "\n",
    "# # Customize the plot (optional)\n",
    "# plt.title('Streets on which to apply the policies')\n",
    "# plt.xlabel('Longitude')\n",
    "# plt.ylabel('Latitude')\n",
    "# plt.legend()\n",
    "# plt.show()"
   ]
  },
  {
   "attachments": {},
   "cell_type": "markdown",
   "metadata": {},
   "source": [
    "## Amend here the number of subsets that we want to create. "
   ]
  },
  {
   "cell_type": "code",
   "execution_count": 12,
   "metadata": {},
   "outputs": [],
   "source": [
    "relevant_subsets = set()\n",
    "\n",
    "for i in range(1, 21):\n",
    "    relevant_subsets.add((i))\n",
    "    \n",
    "relevant_subsets.add((1,2,3,4))\n",
    "relevant_subsets.add((5,6,7))"
   ]
  },
  {
   "cell_type": "code",
   "execution_count": 13,
   "metadata": {},
   "outputs": [],
   "source": [
    "dataframes = {}\n",
    "for combination in relevant_subsets:\n",
    "    # print(combination)\n",
    "    if isinstance(combination, int):\n",
    "        combination = (combination,)\n",
    "    \n",
    "    df_copy = gdf_edges_with_highway.copy()\n",
    "    df_copy['policy_introduced'] = df_copy['district'].apply(\n",
    "        lambda districts: any(d in districts for d in combination)\n",
    "    ) & df_copy.apply(\n",
    "        lambda row: 'car' in row['modes'] and row['osm:way:highway'] in higher_order_roads, axis=1\n",
    "    )\n",
    "    # Modify freespeed and capacity based on the policy_introduced condition\n",
    "    df_copy.loc[df_copy['policy_introduced'], 'capacity'] = df_copy.loc[df_copy['policy_introduced'], 'capacity'] / 2\n",
    "    dataframes[combination]  = df_copy\n",
    "    # print(df_copy['policy_introduced'].value_counts())"
   ]
  },
  {
   "cell_type": "code",
   "execution_count": 15,
   "metadata": {},
   "outputs": [],
   "source": [
    "# Directory to save the files\n",
    "os.makedirs(output_dir, exist_ok=True)\n",
    "\n",
    "# Create and save the networks\n",
    "for key, df in dataframes.items():\n",
    "    # Determine the filename based on the combination\n",
    "    combination = key\n",
    "    if len(combination) == 1:\n",
    "        filename = f\"network_d_{combination[0]}.xml.gz\"\n",
    "    else:\n",
    "        filename = f\"network_d_{'_'.join(map(str, combination))}.xml.gz\"\n",
    "    \n",
    "    # Convert the DataFrame back to XML\n",
    "    xml_tree = nio.dataframe_to_xml(df, nodes_dict)\n",
    "    \n",
    "    # Write the XML to a compressed .gz file\n",
    "    file_path = os.path.join(output_dir, filename)\n",
    "    nio.write_xml_to_gz(xml_tree, file_path)\n",
    "\n",
    "# Example: Display the file paths of the saved files\n",
    "output_files = [os.path.join(output_dir, f) for f in os.listdir(output_dir)]"
   ]
  }
 ],
 "metadata": {
  "kernelspec": {
   "display_name": "Paris_Analysis",
   "language": "python",
   "name": "python3"
  },
  "language_info": {
   "codemirror_mode": {
    "name": "ipython",
    "version": 3
   },
   "file_extension": ".py",
   "mimetype": "text/x-python",
   "name": "python",
   "nbconvert_exporter": "python",
   "pygments_lexer": "ipython3",
   "version": "3.10.11"
  },
  "orig_nbformat": 4
 },
 "nbformat": 4,
 "nbformat_minor": 2
}
