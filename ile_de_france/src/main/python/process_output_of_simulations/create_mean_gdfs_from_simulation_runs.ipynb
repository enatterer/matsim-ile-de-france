{
 "cells": [
  {
   "attachments": {},
   "cell_type": "markdown",
   "metadata": {},
   "source": [
    "## Process output of simulations"
   ]
  },
  {
   "cell_type": "code",
   "execution_count": 1,
   "metadata": {},
   "outputs": [],
   "source": [
    "import os\n",
    "import glob\n",
    "import gzip\n",
    "import math\n",
    "import random\n",
    "import pickle\n",
    "\n",
    "import numpy as np\n",
    "import pandas as pd\n",
    "import geopandas as gpd\n",
    "import matplotlib.pyplot as plt\n",
    "import matplotlib.colors as mcolors\n",
    "import matplotlib.cm as cm\n",
    "from matplotlib.colors import LogNorm\n",
    "import shapely.wkt as wkt\n",
    "from shapely.geometry import Point, LineString, box\n",
    "from shapely.ops import nearest_points\n",
    "import lxml.etree as ET\n",
    "import tqdm\n",
    "import wandb\n",
    "import torch\n",
    "import torch.nn as nn\n",
    "import torch.nn.functional as F\n",
    "import torchvision\n",
    "import torchvision.transforms as T\n",
    "from torch.utils.data import DataLoader, Dataset, Subset\n",
    "import torch_geometric\n",
    "from torch_geometric.data import Data, Batch\n",
    "from torch_geometric.transforms import LineGraph\n",
    "import processing_io as pio\n",
    "import re \n",
    "\n",
    "districts = gpd.read_file(\"../../../../data/visualisation/districts_paris.geojson\")\n",
    "\n",
    "# Parameters to adapt\n",
    "districts_of_policy_implementation = [5, 6, 7]\n",
    "is_for_1pm = True\n",
    "plot_in_percentage = True\n",
    "\n",
    "string_is_for_1pm = \"pop_1pm\" if is_for_1pm else \"pop_1pct\"\n",
    "string_district_of_interest = \"_\".join([str(d) for d in districts_of_policy_implementation])\n",
    "\n",
    "path = \"../../../../data/\" +  string_is_for_1pm + \"_simulations/\"\n",
    "basecase_subdir = pio.get_subdirs(path + string_is_for_1pm + \"_basecase/\")\n",
    "comparison_subdir = pio.get_subdirs(path + string_is_for_1pm + \"_policy_in_zone_2\")\n",
    "\n",
    "result_path_basecase_mean = \"results/\" + string_is_for_1pm + \"_basecase_average_output_links.geojson\"\n",
    "result_path_comparison_mean = \"results/gdf_\" + string_is_for_1pm + \"_policy_in_\" + string_district_of_interest + \".geojson\"\n",
    "result_path_difference = \"results/gdf_\" + string_is_for_1pm + \"_difference.geojson\"\n",
    "\n",
    "compute_comparison_with_basecase = False"
   ]
  },
  {
   "cell_type": "code",
   "execution_count": 2,
   "metadata": {},
   "outputs": [],
   "source": [
    "random_seed_2_df_basecase_output_links = pio.create_dic_seed_2_output_links(subdir=basecase_subdir)\n",
    "random_seed_2_df_basecase_eqasim_trips = pio.create_dic_seed_2_eqasim_trips(subdir=basecase_subdir)\n",
    "basecase_output_links_gdfs = list(random_seed_2_df_basecase_output_links.values())\n",
    "gdf_basecase_mean = pio.compute_average_or_median_geodataframe(geodataframes=basecase_output_links_gdfs, column_name=\"vol_car\", is_mean=True)\n",
    "gdf_basecase_mean = gdf_basecase_mean.rename(columns={\"osm:way:highway\": \"highway\"})\n",
    "gdf_basecase_mean.to_file(result_path_basecase_mean, driver='GeoJSON')"
   ]
  },
  {
   "cell_type": "code",
   "execution_count": 3,
   "metadata": {},
   "outputs": [],
   "source": [
    "# Calculate average travel time and routed distance per mode across all seeds\n",
    "def calculate_avg_mode_stats(single_mode_stats_list:list):\n",
    "    mode_stats_list = []\n",
    "\n",
    "    for df in single_mode_stats_list:\n",
    "        mode_stats = df.groupby('mode').agg({\n",
    "        'travel_time': 'sum',\n",
    "        'routed_distance': 'sum'\n",
    "    }).reset_index()\n",
    "        mode_stats_list.append(mode_stats)\n",
    "\n",
    "    # Concatenate all mode_stats dataframes\n",
    "    all_mode_stats = pd.concat(mode_stats_list, ignore_index=True)\n",
    "\n",
    "    # Calculate the average across all seeds\n",
    "    average_mode_stats = all_mode_stats.groupby('mode').agg({\n",
    "    'travel_time': 'mean',\n",
    "    'routed_distance': 'mean'\n",
    "    }).reset_index()\n",
    "    average_mode_stats.columns = ['mode', 'avg_total_travel_time', 'avg_total_routed_distance']\n",
    "    df_average_mode_stats = pd.DataFrame(average_mode_stats)\n",
    "    return df_average_mode_stats\n",
    "\n",
    "df_average_mode_stats = calculate_avg_mode_stats(random_seed_2_df_basecase_eqasim_trips.values())\n",
    "df_average_mode_stats.to_csv(\"results/pop_1pm_basecase_average_mode_stats.csv\", index=False)"
   ]
  },
  {
   "cell_type": "code",
   "execution_count": 4,
   "metadata": {},
   "outputs": [],
   "source": [
    "if compute_comparison_with_basecase:\n",
    "    random_seed_2_df_comparison = pio.create_dic_seed_2_output_links(subdir = comparison_subdir)\n",
    "    geodataframes_comparison = list(random_seed_2_df_comparison.values())\n",
    "    gdf_comparison_mean = pio.compute_average_or_median_geodataframe(geodataframes=geodataframes_comparison, column_name=\"vol_car\", is_mean=True)\n",
    "    gdf_comparison_mean_extended = pio.extend_geodataframe(gdf_base = gdf_basecase_mean, gdf_to_extend=gdf_comparison_mean, column_to_extend='highway', new_column_name='highway')\n",
    "    gdf_basecase_without_unnecessary_columns = pio.remove_columns(gdf_with_correct_columns=gdf_comparison_mean_extended, gdf_to_be_adapted=gdf_basecase_mean)\n",
    "    gdf_basecase_difference = pio.compute_difference_geodataframe(gdf_to_substract_from=gdf_comparison_mean_extended, gdf_to_substract=gdf_basecase_without_unnecessary_columns, column_name= 'vol_car')\n",
    "    gdf_comparison_mean_extended.to_file(result_path_comparison_mean, driver='GeoJSON')\n",
    "    gdf_basecase_difference.to_file(result_path_difference, driver='GeoJSON')"
   ]
  }
 ],
 "metadata": {
  "kernelspec": {
   "display_name": "Paris_Analysis",
   "language": "python",
   "name": "python3"
  },
  "language_info": {
   "codemirror_mode": {
    "name": "ipython",
    "version": 3
   },
   "file_extension": ".py",
   "mimetype": "text/x-python",
   "name": "python",
   "nbconvert_exporter": "python",
   "pygments_lexer": "ipython3",
   "version": "3.10.11"
  },
  "orig_nbformat": 4
 },
 "nbformat": 4,
 "nbformat_minor": 2
}
