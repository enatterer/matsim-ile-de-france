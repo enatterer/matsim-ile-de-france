{
 "cells": [
  {
   "cell_type": "code",
   "execution_count": 1,
   "metadata": {},
   "outputs": [],
   "source": [
    "\n",
    "import os\n",
    "import glob\n",
    "import math\n",
    "import pickle\n",
    "\n",
    "import numpy as np\n",
    "import pandas as pd\n",
    "import geopandas as gpd\n",
    "import torch\n",
    "from collections import defaultdict\n",
    "\n",
    "import processing_io as pio\n",
    "from torch_geometric.transforms import LineGraph\n",
    "\n",
    "from torch_geometric.data import Data, Batch\n",
    "import shapely.wkt as wkt\n",
    "from tqdm import tqdm\n",
    "import fiona\n",
    "import os\n",
    "\n",
    "import alphashape\n",
    "from shapely.geometry import Polygon\n",
    "import matplotlib.pyplot as plt\n",
    "from tqdm import tqdm\n",
    "import torch\n",
    "from shapely.geometry import Point\n",
    "import random\n",
    "\n",
    "highway_mapping = {\n",
    "    'trunk': 0, 'trunk_link': 0, 'motorway_link': 0,\n",
    "    'primary': 1, 'primary_link': 1,\n",
    "    'secondary': 2, 'secondary_link': 2,\n",
    "    'tertiary': 3, 'tertiary_link': 3,\n",
    "    'residential': 4, 'living_street': 5,\n",
    "    'pedestrian': 6, 'service': 7,\n",
    "    'construction': 8, 'unclassified': 9,\n",
    "    'np.nan': -1\n",
    "}\n",
    "result_df_name = 'sim_output_1pm_capacity_reduction_10k_PRELIMINARY'\n",
    "# result_df_name = 'sim_output_1pm_capacity_reduction_10k'\n",
    "\n",
    "result_path = '../../../../data/datasets_simulation_outputs/' + result_df_name + '.pt'\n",
    "string_is_for_1pm = \"pop_1pm\"\n",
    "\n",
    "base_dir_sample_sim_input = '../../../../data/' + string_is_for_1pm + '_simulations/' + string_is_for_1pm + '_policies_combinations_with_normal_dist/'\n",
    "subdirs_pattern = os.path.join(base_dir_sample_sim_input, 'output_networks_*')\n",
    "subdirs = list(set(glob.glob(subdirs_pattern)))\n",
    "subdirs.sort()\n",
    "\n",
    "paris_inside_bvd_peripherique = \"../../../../data/paris_inside_bvd_per/referentiel-comptages-edit.shp\"\n",
    "gdf_paris_inside_bvd_per = gpd.read_file(paris_inside_bvd_peripherique)\n",
    "boundary_df = alphashape.alphashape(gdf_paris_inside_bvd_per, 435).exterior[0]\n",
    "linear_ring_polygon = Polygon(boundary_df)\n",
    "\n",
    "gdf_basecase_output_links = gpd.read_file('results/' + string_is_for_1pm + '_basecase_average_output_links.geojson')\n",
    "gdf_basecase_average_mode_stats = pd.read_csv('results/' + string_is_for_1pm + '_basecase_average_mode_stats.csv', delimiter=';')\n",
    "districts = gpd.read_file(\"../../../../data/visualisation/districts_paris.geojson\")"
   ]
  },
  {
   "cell_type": "markdown",
   "metadata": {},
   "source": [
    "## Abstract\n",
    "\n",
    "This is further than process_output_of_simulations_with_all_output_links_and_eqasim_info.ipynb, as it also includes more input information.\n",
    "\n",
    "Note that there is more than one strategy to deal with the fact that there are more than one district per link. We implement the strategy of stacking the information of all districts together. \n",
    "An alternative strategy would be to use the mean of the information of the districts.\n",
    "\n",
    "Process the districts manually, so that each link belongs to at most 3 districts."
   ]
  },
  {
   "attachments": {},
   "cell_type": "markdown",
   "metadata": {},
   "source": [
    "## Process results\n",
    "\n",
    "Process the outputs of the simulations for further usage by GNN."
   ]
  },
  {
   "cell_type": "code",
   "execution_count": 2,
   "metadata": {},
   "outputs": [],
   "source": [
    "def compute_close_homes(links_gdf_input:pd.DataFrame, information_gdf_input:pd.DataFrame, utm_crs:str, distance:int=50):\n",
    "    links_gdf = links_gdf_input.copy()\n",
    "    information_gdf = information_gdf_input.copy()\n",
    "    close_places = []\n",
    "    links_gdf_utm = links_gdf.to_crs(utm_crs)\n",
    "    information_gdf_utm = information_gdf.to_crs(utm_crs)\n",
    "    for i, row in tqdm(enumerate(links_gdf_utm.iterrows()), desc=\"Processing rows\", unit=\"row\"):\n",
    "        buffer_utm = row[1].geometry.buffer(distance=distance)\n",
    "        buffer = gpd.GeoSeries([buffer_utm], crs=utm_crs).to_crs(links_gdf_utm.crs)[0]\n",
    "        matched_information = information_gdf_utm[information_gdf_utm.geometry.within(buffer)]\n",
    "        socioprofessional_classes = matched_information['socioprofessional_class'].tolist()\n",
    "        close_places.append((len(socioprofessional_classes), socioprofessional_classes))\n",
    "    return close_places\n",
    "\n",
    "def process_close_count_to_tensor(close_count_list: list):\n",
    "    socio_professional_classes = [item[1] for item in close_count_list]\n",
    "    unique_classes = set([2, 3, 4, 5, 6, 7, 8])\n",
    "    class_to_index = {cls: idx for idx, cls in enumerate(unique_classes)}\n",
    "\n",
    "    tensor_shape = (len(close_count_list), len(unique_classes))\n",
    "    close_homes_tensor = torch.zeros(tensor_shape)\n",
    "\n",
    "    for i, classes in enumerate(socio_professional_classes):\n",
    "        for cls in classes:\n",
    "            if cls in class_to_index:  # Ensure the class is in the predefined set\n",
    "                close_homes_tensor[i, class_to_index[cls]] += 1\n",
    "    \n",
    "    close_homes_tensor_sparse = close_homes_tensor.to_sparse()\n",
    "    return close_homes_tensor_sparse\n",
    "\n",
    "\n",
    "def calculate_averaged_results(trips_df):\n",
    "    \"\"\"Calculate average travel time and routed distance grouped by mode.\"\"\"\n",
    "    return trips_df.groupby('mode').agg(\n",
    "        total_travel_time=('travel_time', 'mean'),\n",
    "        total_routed_distance=('routed_distance', 'mean')\n",
    "    ).reset_index()\n",
    "\n",
    "\n",
    "def encode_modes(gdf):\n",
    "    \"\"\"Encode the 'modes' attribute based on specific strings.\"\"\"\n",
    "    modes_conditions = {\n",
    "        'car': gdf['modes'].str.contains('car', case=False, na=False).astype(int),\n",
    "        'bus': gdf['modes'].str.contains('bus', case=False, na=False).astype(int),\n",
    "        'pt': gdf['modes'].str.contains('pt', case=False, na=False).astype(int),\n",
    "        'train': gdf['modes'].str.contains('train', case=False, na=False).astype(int),\n",
    "        'rail': gdf['modes'].str.contains('rail', case=False, na=False).astype(int),\n",
    "        'subway': gdf['modes'].str.contains('subway', case=False, na=False).astype(int)\n",
    "    }\n",
    "    modes_encoded = pd.DataFrame(modes_conditions)\n",
    "    tensor_list = [torch.tensor(modes_encoded[col].values, dtype=torch.float) for col in modes_encoded.columns]\n",
    "    print(len(tensor_list))\n",
    "    return tensor_list\n",
    "    # return torch.tensor(modes_encoded.values, dtype=torch.float)\n",
    "\n",
    "\n",
    "def encode_modes_string(mode_string):\n",
    "    \"\"\"Encode the 'modes' attribute based on specific strings.\"\"\"\n",
    "    modes_conditions = {\n",
    "        'car': int(\"car\" in mode_string),\n",
    "        'bus': int(\"bus\" in mode_string),\n",
    "        'pt': int(\"pt\" in mode_string),\n",
    "        'train': int(\"train\" in mode_string),\n",
    "        'rail': int(\"rail\" in mode_string),\n",
    "        'subway': int(\"subway\" in mode_string),\n",
    "    }\n",
    "    modes_encoded_tensor = torch.tensor(list(modes_conditions.values()), dtype=torch.float)\n",
    "    return modes_encoded_tensor\n",
    "\n",
    "def get_dfs(base_dir:str):\n",
    "    files = os.listdir(base_dir)\n",
    "    for file in files:\n",
    "        file_path = os.path.join(base_dir, file)\n",
    "        base_name, ext = os.path.splitext(file)\n",
    "        if base_name.startswith(\"idf_1pm_\"):\n",
    "            base_name = base_name.replace(\"idf_1pm_\", \"\")\n",
    "        var_name = base_name  # Start with the cleaned base name\n",
    "    \n",
    "        if file.endswith('.csv'):\n",
    "            try:\n",
    "                var_name = f\"{var_name}_df\"  \n",
    "                globals()[var_name] = pd.read_csv(file_path, sep=\";\")\n",
    "                print(f\"Loaded CSV file: {file} into variable: {var_name}\")\n",
    "            except Exception as e:\n",
    "                print(f\"Error loading CSV file {file}: {e}\")\n",
    "            \n",
    "        elif file.endswith('.gpkg'):\n",
    "            try:\n",
    "                var_name = f\"{var_name}_gdf\"  \n",
    "                layers = fiona.listlayers(file_path)\n",
    "                geodataframes = {layer: gpd.read_file(file_path, layer=layer, geometry = 'geometry', crs=\"EPSG:2154\") for layer in layers}\n",
    "                for layer, gdf in geodataframes.items():\n",
    "                # print(f\"Layer: {layer}\")\n",
    "                    gdf = gdf.to_crs(epsg=4326)\n",
    "                    globals()[var_name] = gdf\n",
    "                    print(f\"Loaded GPKG file: {file} into variable: {var_name}\")\n",
    "            except Exception as e:\n",
    "                print(f\"Error loading CSV file {file}: {e}\")\n",
    "    homes_gdf = globals()[\"homes_gdf\"]\n",
    "    households_df = globals()[\"households_df\"]\n",
    "    persons_df = globals()[\"persons_df\"]\n",
    "    activities_gdf = globals()[\"activities_gdf\"]\n",
    "    trips_df = globals()[\"trips_gdf\"]\n",
    "    return homes_gdf, households_df, persons_df, activities_gdf, trips_df\n",
    "\n",
    "def extract_start_end_points(geometry):\n",
    "    if len(geometry.coords) != 2:\n",
    "        raise ValueError(\"Linestring does not have exactly 2 elements.\")\n",
    "    return geometry.coords[0], geometry.coords[-1]\n",
    "\n",
    "def get_close_trips_tensor(links_gdf_input, trips_gdf_input, utm_crs, distance):\n",
    "    close_trips_count = compute_close_homes(links_gdf_input = links_gdf_input, information_gdf_input = trips_gdf_input, utm_crs = utm_crs, distance=distance)\n",
    "    close_trips_count_tensor = process_close_count_to_tensor(close_trips_count)\n",
    "    return close_trips_count, close_trips_count_tensor\n",
    "\n",
    "def get_start_and_end_gdf(trips_with_socio, crs):\n",
    "    trips_start = trips_with_socio.copy()\n",
    "    trips_end = trips_with_socio.copy()\n",
    "\n",
    "    trips_start_gdf = gpd.GeoDataFrame(\n",
    "    trips_start, \n",
    "    geometry=gpd.points_from_xy(\n",
    "        trips_start['start_point'].apply(lambda p: p[0]), \n",
    "        trips_start['start_point'].apply(lambda p: p[1])\n",
    "    ), \n",
    "    crs=crs\n",
    ")\n",
    "\n",
    "    trips_end_gdf = gpd.GeoDataFrame(\n",
    "    trips_end, \n",
    "    geometry=gpd.points_from_xy(\n",
    "        trips_end['end_point'].apply(lambda p: p[0]), \n",
    "        trips_end['end_point'].apply(lambda p: p[1])\n",
    "    ), \n",
    "    crs=crs\n",
    ")\n",
    "    return trips_start_gdf,trips_end_gdf\n",
    "\n",
    "def process_centroid(geom_list):\n",
    "    if not geom_list:  # Empty list\n",
    "        return [np.nan, np.nan, np.nan]\n",
    "    elif len(geom_list) == 1:\n",
    "        return [geom_list[0], np.nan, np.nan]\n",
    "    elif len(geom_list) == 2:\n",
    "        return [geom_list[0], geom_list[1], np.nan]\n",
    "    else:\n",
    "        return [geom_list[0], geom_list[1], geom_list[2]]\n",
    "    \n",
    "def extract_point_coordinates(geom_list):\n",
    "    coordinates = []\n",
    "    for geom in geom_list:\n",
    "        if isinstance(geom, Point):\n",
    "            coordinates.append((geom.x, geom.y))\n",
    "        else:\n",
    "            coordinates.append((np.nan, np.nan))\n",
    "    return coordinates\n",
    "\n",
    "def process_value_list(perimeter_list):\n",
    "    if not perimeter_list:  # Empty list\n",
    "        return [np.nan, np.nan, np.nan]\n",
    "    elif len(perimeter_list) == 1:\n",
    "        return [perimeter_list[0], np.nan, np.nan]\n",
    "    elif len(perimeter_list) == 2:\n",
    "        return [perimeter_list[0], perimeter_list[1], np.nan]\n",
    "    else:\n",
    "        return [perimeter_list[0], perimeter_list[1], perimeter_list[2]]\n",
    "    \n",
    "def compute_district_2_information_counts(district_information_counts, column_to_filter_for):\n",
    "    district_group_2_information_counts = {}\n",
    "    for district, group in district_information_counts:        \n",
    "        # ignore groups with more than one district here. \n",
    "        if len(district) == 1:\n",
    "            total_counts = 0\n",
    "            total_distributions = []\n",
    "            counts = group[column_to_filter_for].values            \n",
    "            for c in counts:\n",
    "                total_counts += c[0]\n",
    "                if c[1] is not None and len(c[1]) > 0:\n",
    "                    total_distributions.extend(c[1])\n",
    "            distribution_counts = [total_distributions.count(i) for i in range(2, 9)]   \n",
    "            district_group_2_information_counts[district] = distribution_counts\n",
    "    return district_group_2_information_counts, distribution_counts\n",
    "\n",
    "def compute_district_2_information_tensor(district_2_information_counts, distribution_counts, gdf_input):\n",
    "    district_home_counts_tensor = torch.zeros((len(gdf_input), 3, len(distribution_counts)), dtype=torch.float)\n",
    "    nan_tensor = torch.full((len(distribution_counts),), float('nan'))\n",
    "\n",
    "    for idx, row in gdf_input.iterrows():\n",
    "        district_combination = row['district']\n",
    "        district_combination_tuple = tuple(district_combination)\n",
    "        if len(district_combination_tuple) == 0:\n",
    "            district_home_counts_tensor[idx] = torch.stack([nan_tensor, nan_tensor, nan_tensor])\n",
    "        elif len(district_combination_tuple) == 1:\n",
    "            district_home_counts_tensor[idx] = torch.stack([torch.tensor(district_2_information_counts[district_combination_tuple]), nan_tensor, nan_tensor])\n",
    "        elif len(district_combination_tuple) == 2:\n",
    "            a, b = district_combination_tuple\n",
    "            district_home_counts_tensor[idx] = torch.stack([torch.tensor(district_2_information_counts[(a,)]), torch.tensor(district_2_information_counts[(b,)]), nan_tensor])\n",
    "        elif len(district_combination_tuple) == 3:\n",
    "            a, b, c = district_combination_tuple\n",
    "            district_home_counts_tensor[idx] = torch.stack([torch.tensor(district_2_information_counts[(a,)]), torch.tensor(district_2_information_counts[(b,)]), torch.tensor(district_2_information_counts[(c,)])])\n",
    "        else:\n",
    "            print(\"NOT OK!\")\n",
    "            print(district_combination_tuple)\n",
    "    return district_home_counts_tensor\n",
    "\n",
    "def preprocess_links(links_gdf):\n",
    "    for index, row in links_gdf.iterrows():\n",
    "        if len(row['district']) >= 4:\n",
    "            row['district'].pop(random.randint(0, len(row['district']) - 1))\n",
    "    return links_gdf\n",
    "\n",
    "def find_duplicate_edges_in_gdf(gdf):\n",
    "    edge_count = defaultdict(list)\n",
    "    for idx, row in gdf.iterrows():\n",
    "        edge = tuple(sorted([row['from_node'], row['to_node']]))\n",
    "        edge_count[edge].append(idx)\n",
    "    \n",
    "    duplicates = {edge: indices for edge, indices in edge_count.items() if len(indices) > 1}\n",
    "    return duplicates"
   ]
  },
  {
   "cell_type": "code",
   "execution_count": 3,
   "metadata": {},
   "outputs": [
    {
     "name": "stderr",
     "output_type": "stream",
     "text": [
      "Processing subdirs:   0%|          | 0/100 [00:00<?, ?subdir/s]"
     ]
    },
    {
     "name": "stderr",
     "output_type": "stream",
     "text": [
      "Processing subdirs:   5%|▌         | 5/100 [00:43<13:45,  8.69s/subdir]\n",
      "/var/folders/m_/fjnjc1sn0ggc7z_2y7n27xfh0000gn/T/ipykernel_17098/2536648243.py:77: UserWarning: Geometry is in a geographic CRS. Results from 'centroid' are likely incorrect. Use 'GeoSeries.to_crs()' to re-project geometries to a projected CRS before this operation.\n",
      "\n",
      "  districts['district_centroid'] = districts['geometry'].centroid\n",
      "/Users/elenanatterer/anaconda3/envs/Paris_Analysis/lib/python3.10/site-packages/IPython/core/interactiveshell.py:3448: FutureWarning: The `op` parameter is deprecated and will be removed in a future release. Please use the `predicate` parameter instead.\n",
      "  if await self.run_code(code, result, async_=asy):\n",
      "/Users/elenanatterer/anaconda3/envs/Paris_Analysis/lib/python3.10/site-packages/pandas/core/reshape/merge.py:1203: RuntimeWarning: invalid value encountered in cast\n",
      "  if not (lk == lk.astype(rk.dtype))[~np.isnan(lk)].all():\n"
     ]
    }
   ],
   "source": [
    "# Read all network data into a dictionary of GeoDataFrames\n",
    "def compute_result_dic():\n",
    "    result_dic_output_links = {}\n",
    "    result_dic_eqasim_trips = {}\n",
    "    base_network_no_policies = gdf_basecase_output_links\n",
    "    result_dic_output_links[\"base_network_no_policies\"] = base_network_no_policies\n",
    "    counter = 0\n",
    "    for subdir in tqdm(subdirs, desc=\"Processing subdirs\", unit=\"subdir\"):\n",
    "        counter += 1\n",
    "        if counter > 5:\n",
    "            break\n",
    "        # print(f'Accessing folder: {subdir}')\n",
    "        # print(len(os.listdir(subdir)))\n",
    "        networks = [network for network in os.listdir(subdir) if not network.endswith(\".DS_Store\")]\n",
    "        for network in networks:\n",
    "            file_path = os.path.join(subdir, network)\n",
    "            policy_key = pio.create_policy_key_1pm(network)\n",
    "            df_output_links = read_output_links(file_path)\n",
    "            df_eqasim_trips = read_eqasim_trips(file_path)\n",
    "            if (df_output_links is not None and df_eqasim_trips is not None):\n",
    "                df_output_links.drop(columns=['geometry'], inplace=True)\n",
    "                gdf_extended = pio.extend_geodataframe(gdf_base=gdf_basecase_output_links, gdf_to_extend=df_output_links, column_to_extend='highway', new_column_name='highway')\n",
    "                gdf_extended = pio.extend_geodataframe(gdf_base=gdf_basecase_output_links, gdf_to_extend=gdf_extended, column_to_extend='vol_car', new_column_name='vol_car_base_case')\n",
    "                result_dic_output_links[policy_key] = gdf_extended\n",
    "                mode_stats = calculate_averaged_results(df_eqasim_trips)\n",
    "                result_dic_eqasim_trips[policy_key] = mode_stats\n",
    "    return result_dic_output_links, result_dic_eqasim_trips\n",
    "\n",
    "def read_output_links(folder):\n",
    "    file_path = os.path.join(folder, 'output_links.csv.gz')\n",
    "    if os.path.exists(file_path):\n",
    "        try:\n",
    "            # Read the CSV file with the correct delimiter\n",
    "            df = pd.read_csv(file_path, delimiter=';')\n",
    "            return df\n",
    "        except Exception:\n",
    "            print(\"empty data error\" + file_path)\n",
    "            return None\n",
    "    else:\n",
    "        return None\n",
    "\n",
    "def read_eqasim_trips(folder):\n",
    "    file_path = os.path.join(folder, 'eqasim_trips.csv')\n",
    "    if os.path.exists(file_path):\n",
    "        try:\n",
    "            df = pd.read_csv(file_path, delimiter=';')\n",
    "            return df\n",
    "        except Exception:\n",
    "            print(\"empty data error\" + file_path)\n",
    "            return None\n",
    "    else:\n",
    "        return None\n",
    "    \n",
    "\n",
    "def compute_result_dic_mode_stats(calculate_averaged_results):\n",
    "    result_dic_mode_stats = {}\n",
    "    result_dic_mode_stats[\"base_network_no_policies\"] = gdf_basecase_average_mode_stats\n",
    "    for subdir in tqdm(subdirs, desc=\"Processing subdirs\", unit=\"subdir\"):\n",
    "        networks = [network for network in os.listdir(subdir) if not network.endswith(\".DS_Store\")]\n",
    "        for network in networks:\n",
    "            file_path = os.path.join(subdir, network)\n",
    "            policy_key = pio.create_policy_key_1pm(network)\n",
    "            if (os.path.exists(file_path + 'eqasim_trips.csv')):\n",
    "                df_mode_stats = pd.read_csv(file_path + 'eqasim_trips.csv', delimiter=';')\n",
    "                averaged_results = calculate_averaged_results(df_mode_stats)\n",
    "                if (averaged_results is not None):\n",
    "                    result_dic_mode_stats[policy_key] = averaged_results\n",
    "            else:\n",
    "                print(f\"File {file_path + '/eqasim_trips.csv'} does not exist\")\n",
    "    return result_dic_mode_stats\n",
    "\n",
    "result_dic_output_links, result_dic_eqasim_trips = compute_result_dic()\n",
    "base_gdf = result_dic_output_links[\"base_network_no_policies\"]\n",
    "links_gdf_base = gpd.GeoDataFrame(base_gdf, geometry='geometry')\n",
    "links_gdf_base.crs = \"EPSG:2154\"  # Assuming the original CRS is EPSG:2154\n",
    "links_gdf_base.to_crs(\"EPSG:4326\", inplace=True)\n",
    "districts['district_centroid'] = districts['geometry'].centroid\n",
    "links_gdf_with_districts = gpd.sjoin(links_gdf_base, districts, how='left', op='intersects')\n",
    "\n",
    "# Group by edge and aggregate the district names\n",
    "links_gdf_with_districts = links_gdf_with_districts.groupby('link').agg({\n",
    "    'from_node': 'first',\n",
    "    'to_node': 'first',\n",
    "    'length': 'first',\n",
    "    'freespeed': 'first',\n",
    "    'capacity': 'first',\n",
    "    'lanes': 'first',\n",
    "    'modes': 'first',\n",
    "    'vol_car': 'first',\n",
    "    'highway': 'first',\n",
    "    'geometry': 'first',\n",
    "    'c_ar': lambda x: list(x.dropna()),\n",
    "    'district_centroid': lambda x: list(x.dropna()),\n",
    "    'perimetre': lambda x: list(x.dropna()),\n",
    "    'surface': lambda x: list(x.dropna()),\n",
    "}).reset_index()\n",
    "gdf_now = gpd.GeoDataFrame(links_gdf_with_districts, geometry='geometry', crs=links_gdf_base.crs)\n",
    "gdf_now = gdf_now.rename(columns={'c_ar': 'district', 'perimetre': 'district_perimeter', 'surface': 'district_surface'})\n",
    "links_gdf_final = gdf_now.copy()"
   ]
  },
  {
   "cell_type": "code",
   "execution_count": 4,
   "metadata": {},
   "outputs": [
    {
     "data": {
      "text/html": [
       "<div>\n",
       "<style scoped>\n",
       "    .dataframe tbody tr th:only-of-type {\n",
       "        vertical-align: middle;\n",
       "    }\n",
       "\n",
       "    .dataframe tbody tr th {\n",
       "        vertical-align: top;\n",
       "    }\n",
       "\n",
       "    .dataframe thead th {\n",
       "        text-align: right;\n",
       "    }\n",
       "</style>\n",
       "<table border=\"1\" class=\"dataframe\">\n",
       "  <thead>\n",
       "    <tr style=\"text-align: right;\">\n",
       "      <th></th>\n",
       "      <th>link</th>\n",
       "      <th>from_node</th>\n",
       "      <th>to_node</th>\n",
       "      <th>length</th>\n",
       "      <th>freespeed</th>\n",
       "      <th>capacity</th>\n",
       "      <th>lanes</th>\n",
       "      <th>modes</th>\n",
       "      <th>vol_car</th>\n",
       "      <th>highway</th>\n",
       "      <th>geometry</th>\n",
       "      <th>district</th>\n",
       "      <th>district_centroid</th>\n",
       "      <th>district_perimeter</th>\n",
       "      <th>district_surface</th>\n",
       "    </tr>\n",
       "  </thead>\n",
       "  <tbody>\n",
       "    <tr>\n",
       "      <th>0</th>\n",
       "      <td>100315</td>\n",
       "      <td>24972409</td>\n",
       "      <td>24972408</td>\n",
       "      <td>16.181257</td>\n",
       "      <td>8.333333</td>\n",
       "      <td>480.0</td>\n",
       "      <td>1.0</td>\n",
       "      <td>bus,car,car_passenger</td>\n",
       "      <td>6.627451</td>\n",
       "      <td>residential</td>\n",
       "      <td>LINESTRING (2.33869 48.85181, 2.33847 48.85181)</td>\n",
       "      <td>[6.0]</td>\n",
       "      <td>[POINT (2.3328979990533134 48.849130358585185)]</td>\n",
       "      <td>[6483.68678565]</td>\n",
       "      <td>[2153095.58639283]</td>\n",
       "    </tr>\n",
       "    <tr>\n",
       "      <th>1</th>\n",
       "      <td>100316</td>\n",
       "      <td>5904976363</td>\n",
       "      <td>24983651</td>\n",
       "      <td>14.860209</td>\n",
       "      <td>8.333333</td>\n",
       "      <td>480.0</td>\n",
       "      <td>1.0</td>\n",
       "      <td>bus,car,car_passenger,pt</td>\n",
       "      <td>9.607843</td>\n",
       "      <td>tertiary</td>\n",
       "      <td>LINESTRING (2.33874 48.85242, 2.33872 48.85229)</td>\n",
       "      <td>[6.0]</td>\n",
       "      <td>[POINT (2.3328979990533134 48.849130358585185)]</td>\n",
       "      <td>[6483.68678565]</td>\n",
       "      <td>[2153095.58639283]</td>\n",
       "    </tr>\n",
       "    <tr>\n",
       "      <th>2</th>\n",
       "      <td>100317</td>\n",
       "      <td>24983651</td>\n",
       "      <td>5904976363</td>\n",
       "      <td>14.860209</td>\n",
       "      <td>8.333333</td>\n",
       "      <td>960.0</td>\n",
       "      <td>2.0</td>\n",
       "      <td>bus,car,car_passenger,pt</td>\n",
       "      <td>2.490196</td>\n",
       "      <td>tertiary</td>\n",
       "      <td>LINESTRING (2.33872 48.85229, 2.33874 48.85242)</td>\n",
       "      <td>[6.0]</td>\n",
       "      <td>[POINT (2.3328979990533134 48.849130358585185)]</td>\n",
       "      <td>[6483.68678565]</td>\n",
       "      <td>[2153095.58639283]</td>\n",
       "    </tr>\n",
       "    <tr>\n",
       "      <th>3</th>\n",
       "      <td>100321</td>\n",
       "      <td>664205947</td>\n",
       "      <td>24972376</td>\n",
       "      <td>22.264540</td>\n",
       "      <td>8.333333</td>\n",
       "      <td>960.0</td>\n",
       "      <td>2.0</td>\n",
       "      <td>car,car_passenger</td>\n",
       "      <td>6.941176</td>\n",
       "      <td>residential</td>\n",
       "      <td>LINESTRING (2.33994 48.85200, 2.33986 48.85181)</td>\n",
       "      <td>[6.0]</td>\n",
       "      <td>[POINT (2.3328979990533134 48.849130358585185)]</td>\n",
       "      <td>[6483.68678565]</td>\n",
       "      <td>[2153095.58639283]</td>\n",
       "    </tr>\n",
       "    <tr>\n",
       "      <th>4</th>\n",
       "      <td>100324</td>\n",
       "      <td>24972376</td>\n",
       "      <td>24972375</td>\n",
       "      <td>64.853276</td>\n",
       "      <td>8.333333</td>\n",
       "      <td>480.0</td>\n",
       "      <td>1.0</td>\n",
       "      <td>bus,car,car_passenger</td>\n",
       "      <td>7.607843</td>\n",
       "      <td>residential</td>\n",
       "      <td>LINESTRING (2.33986 48.85181, 2.33909 48.85152)</td>\n",
       "      <td>[6.0]</td>\n",
       "      <td>[POINT (2.3328979990533134 48.849130358585185)]</td>\n",
       "      <td>[6483.68678565]</td>\n",
       "      <td>[2153095.58639283]</td>\n",
       "    </tr>\n",
       "  </tbody>\n",
       "</table>\n",
       "</div>"
      ],
      "text/plain": [
       "     link   from_node     to_node     length  freespeed  capacity  lanes  \\\n",
       "0  100315    24972409    24972408  16.181257   8.333333     480.0    1.0   \n",
       "1  100316  5904976363    24983651  14.860209   8.333333     480.0    1.0   \n",
       "2  100317    24983651  5904976363  14.860209   8.333333     960.0    2.0   \n",
       "3  100321   664205947    24972376  22.264540   8.333333     960.0    2.0   \n",
       "4  100324    24972376    24972375  64.853276   8.333333     480.0    1.0   \n",
       "\n",
       "                      modes   vol_car      highway  \\\n",
       "0     bus,car,car_passenger  6.627451  residential   \n",
       "1  bus,car,car_passenger,pt  9.607843     tertiary   \n",
       "2  bus,car,car_passenger,pt  2.490196     tertiary   \n",
       "3         car,car_passenger  6.941176  residential   \n",
       "4     bus,car,car_passenger  7.607843  residential   \n",
       "\n",
       "                                          geometry district  \\\n",
       "0  LINESTRING (2.33869 48.85181, 2.33847 48.85181)    [6.0]   \n",
       "1  LINESTRING (2.33874 48.85242, 2.33872 48.85229)    [6.0]   \n",
       "2  LINESTRING (2.33872 48.85229, 2.33874 48.85242)    [6.0]   \n",
       "3  LINESTRING (2.33994 48.85200, 2.33986 48.85181)    [6.0]   \n",
       "4  LINESTRING (2.33986 48.85181, 2.33909 48.85152)    [6.0]   \n",
       "\n",
       "                                 district_centroid district_perimeter  \\\n",
       "0  [POINT (2.3328979990533134 48.849130358585185)]    [6483.68678565]   \n",
       "1  [POINT (2.3328979990533134 48.849130358585185)]    [6483.68678565]   \n",
       "2  [POINT (2.3328979990533134 48.849130358585185)]    [6483.68678565]   \n",
       "3  [POINT (2.3328979990533134 48.849130358585185)]    [6483.68678565]   \n",
       "4  [POINT (2.3328979990533134 48.849130358585185)]    [6483.68678565]   \n",
       "\n",
       "     district_surface  \n",
       "0  [2153095.58639283]  \n",
       "1  [2153095.58639283]  \n",
       "2  [2153095.58639283]  \n",
       "3  [2153095.58639283]  \n",
       "4  [2153095.58639283]  "
      ]
     },
     "execution_count": 4,
     "metadata": {},
     "output_type": "execute_result"
    }
   ],
   "source": [
    "links_gdf_final.head()"
   ]
  },
  {
   "cell_type": "code",
   "execution_count": 5,
   "metadata": {},
   "outputs": [],
   "source": [
    "import torch\n",
    "\n",
    "# Convert district_centroid to a tensor of size (20, 2)\n",
    "district_centroids = districts['district_centroid'].apply(lambda point: [point.x, point.y])\n",
    "district_centroids_tensor = torch.tensor(district_centroids.tolist(), dtype=torch.float32)\n",
    "\n",
    "# Ensure the tensor is of size (20, 2)\n",
    "if district_centroids_tensor.size(0) != 20 or district_centroids_tensor.size(1) != 2:\n",
    "    raise ValueError(\"The resulting tensor does not have the expected size of (20, 2)\")\n",
    "\n",
    "# Pad the tensor to size (20, 3, 2) by duplicating entries\n",
    "district_centroids_tensor_padded = district_centroids_tensor.unsqueeze(1).expand(-1, 3, -1)\n"
   ]
  },
  {
   "cell_type": "code",
   "execution_count": 6,
   "metadata": {},
   "outputs": [
    {
     "name": "stdout",
     "output_type": "stream",
     "text": [
      "Original number of edges: 31216\n",
      "Number of edges after summarization: 25309\n",
      "Number of remaining duplicate edges: 0\n"
     ]
    }
   ],
   "source": [
    "def summarize_duplicate_edges(gdf):\n",
    "    # Check if 'vol_car' exists and print its data type\n",
    "    if 'vol_car' not in gdf.columns:\n",
    "        print(\"'vol_car' column does not exist in the dataframe\")\n",
    "        return gdf\n",
    "\n",
    "    # Create a unique identifier for each edge, regardless of direction\n",
    "    gdf['edge_id'] = gdf.apply(lambda row: tuple(sorted([row['from_node'], row['to_node']])), axis=1)\n",
    "    \n",
    "    # Group by the edge_id\n",
    "    grouped = gdf.groupby('edge_id')\n",
    "    \n",
    "    # Function to aggregate the data\n",
    "    def aggregate_edges(group):\n",
    "        # Sum the 'vol_car' column\n",
    "        vol_car_sum = group['vol_car'].sum()\n",
    "        \n",
    "        # Take other attributes from the first entry\n",
    "        first_entry = group.iloc[0]\n",
    "        \n",
    "        # Create a new row with combined data\n",
    "        combined = first_entry.copy()\n",
    "        combined['vol_car'] = vol_car_sum\n",
    "        \n",
    "        # If you want to keep track of the original directions, you can add this info\n",
    "        combined['original_directions'] = list(group[['from_node', 'to_node']].itertuples(index=False, name=None))\n",
    "        \n",
    "        return combined\n",
    "    \n",
    "    # Apply the aggregation\n",
    "    summarized_gdf = grouped.apply(aggregate_edges)\n",
    "    \n",
    "    # Reset the index and drop the temporary edge_id column\n",
    "    summarized_gdf = summarized_gdf.reset_index(drop=True)\n",
    "    summarized_gdf = summarized_gdf.drop(columns=['edge_id'])\n",
    "    \n",
    "    return summarized_gdf\n",
    "\n",
    "# Apply the summarization to links_gdf_final\n",
    "links_gdf_summarized = summarize_duplicate_edges(links_gdf_final)\n",
    "\n",
    "# Print some information about the summarization\n",
    "print(f\"Original number of edges: {len(links_gdf_final)}\")\n",
    "print(f\"Number of edges after summarization: {len(links_gdf_summarized)}\")\n",
    "\n",
    "# Check if there are any remaining duplicates\n",
    "remaining_duplicates = find_duplicate_edges_in_gdf(links_gdf_summarized)\n",
    "print(f\"Number of remaining duplicate edges: {len(remaining_duplicates)}\")"
   ]
  },
  {
   "cell_type": "code",
   "execution_count": 7,
   "metadata": {},
   "outputs": [],
   "source": [
    "links_gdf_final = links_gdf_summarized.copy()"
   ]
  },
  {
   "cell_type": "code",
   "execution_count": 8,
   "metadata": {},
   "outputs": [
    {
     "name": "stdout",
     "output_type": "stream",
     "text": [
      "The maximum length of the list in 'district' in links_gdf_final is: 4\n"
     ]
    }
   ],
   "source": [
    "max_district_length = max(links_gdf_final['district'].apply(len))\n",
    "print(f\"The maximum length of the list in 'district' in links_gdf_final is: {max_district_length}\")"
   ]
  },
  {
   "cell_type": "code",
   "execution_count": 9,
   "metadata": {},
   "outputs": [
    {
     "name": "stdout",
     "output_type": "stream",
     "text": [
      "Loaded CSV file: idf_1pm_persons.csv into variable: persons_df\n",
      "Loaded GPKG file: idf_1pm_commutes.gpkg into variable: commutes_gdf\n",
      "Loaded CSV file: idf_1pm_households.csv into variable: households_df\n",
      "Loaded CSV file: idf_1pm_trips.csv into variable: trips_df\n",
      "Loaded CSV file: idf_1pm_activities.csv into variable: activities_df\n",
      "Loaded CSV file: idf_1pm_vehicle_types.csv into variable: vehicle_types_df\n",
      "Loaded GPKG file: idf_1pm_trips.gpkg into variable: trips_gdf\n",
      "Loaded GPKG file: idf_1pm_activities.gpkg into variable: activities_gdf\n",
      "Loaded CSV file: idf_1pm_vehicles.csv into variable: vehicles_df\n",
      "Loaded GPKG file: idf_1pm_homes.gpkg into variable: homes_gdf\n"
     ]
    }
   ],
   "source": [
    "base_dir_sample_sim_input = '../../../../data/pop_1pm_simulations/idf_1pm/' \n",
    "homes_gdf, households_df, persons_df, activities_gdf, trips_df = get_dfs(base_dir=base_dir_sample_sim_input)"
   ]
  },
  {
   "cell_type": "code",
   "execution_count": 10,
   "metadata": {},
   "outputs": [
    {
     "data": {
      "text/plain": [
       "448"
      ]
     },
     "execution_count": 10,
     "metadata": {},
     "output_type": "execute_result"
    }
   ],
   "source": [
    "len(result_dic_eqasim_trips.keys())"
   ]
  },
  {
   "cell_type": "code",
   "execution_count": 11,
   "metadata": {},
   "outputs": [
    {
     "data": {
      "text/plain": [
       "449"
      ]
     },
     "execution_count": 11,
     "metadata": {},
     "output_type": "execute_result"
    }
   ],
   "source": [
    "len(result_dic_output_links.keys())"
   ]
  },
  {
   "cell_type": "code",
   "execution_count": 12,
   "metadata": {},
   "outputs": [],
   "source": [
    "population_df = pd.read_csv(\"intermediate_results/population.csv\")\n",
    "\n",
    "sorted_population_df = population_df.sort_values(by=\"id\")\n",
    "sorted_persons_df = persons_df.sort_values(by=\"person_id\")\n",
    "merged_df = pd.merge(sorted_persons_df, sorted_population_df, left_on=\"person_id\", right_on=\"id\")\n",
    "removed_some_columns = merged_df.copy()\n",
    "removed_some_columns = removed_some_columns.drop(columns=['employed_y', 'hasPtSubscription', 'householdId', 'sex_y', 'htsPersonId', 'censusPersonId', 'hasLicense', 'id', 'age_y'])\n",
    "updated_persons = removed_some_columns.copy()\n",
    "persons_with_geospatial_information = homes_gdf.merge(updated_persons, on='household_id', how='right')\n",
    "\n",
    "if not isinstance(persons_with_geospatial_information, gpd.GeoDataFrame):\n",
    "    persons_with_geospatial_information = gpd.GeoDataFrame(persons_with_geospatial_information, geometry=gpd.points_from_xy(persons_with_geospatial_information.longitude, persons_with_geospatial_information.latitude), crs= links_gdf_final.crs)\n",
    "\n",
    "utm_crs = 'EPSG:32631'  # UTM zone 31N"
   ]
  },
  {
   "cell_type": "code",
   "execution_count": 13,
   "metadata": {},
   "outputs": [
    {
     "name": "stderr",
     "output_type": "stream",
     "text": [
      "Processing rows: 25309row [00:54, 467.84row/s]\n"
     ]
    }
   ],
   "source": [
    "# DEAL WITH HOMES\n",
    "\n",
    "links_gdf_final.crs = \"EPSG:4326\"\n",
    "\n",
    "close_homes_count_normal = compute_close_homes(links_gdf_input = links_gdf_final, information_gdf_input = persons_with_geospatial_information, utm_crs = utm_crs)\n",
    "links_gdf_final['close_homes_count'] = close_homes_count_normal\n",
    "close_homes_tensor = process_close_count_to_tensor(close_homes_count_normal)"
   ]
  },
  {
   "cell_type": "markdown",
   "metadata": {},
   "source": [
    "# Deal with districts"
   ]
  },
  {
   "cell_type": "code",
   "execution_count": 14,
   "metadata": {},
   "outputs": [],
   "source": [
    "# DISTRICTS GENERAL \n",
    "\n",
    "links_gdf_final['districts_tuple'] = links_gdf_final['district'].apply(lambda x: tuple(x))\n",
    "district_tuples = links_gdf_final.groupby('districts_tuple')"
   ]
  },
  {
   "cell_type": "code",
   "execution_count": 15,
   "metadata": {},
   "outputs": [],
   "source": [
    "# # DISTRICT CENTROIDS\n",
    "\n",
    "centroid_distances = np.array([\n",
    "    process_centroid(geom_list)\n",
    "    for geom_list in links_gdf_final['district_centroid']\n",
    "])\n",
    "\n",
    "# Process the centroids\n",
    "centroid_distance_with_coordinates = np.array([\n",
    "    extract_point_coordinates(geom_list)\n",
    "    for geom_list in centroid_distances\n",
    "])\n",
    "district_centroids_tensor = torch.tensor(centroid_distance_with_coordinates, dtype=torch.float)\n",
    "\n",
    "# # FIND DISTRICT POLYGON"
   ]
  },
  {
   "cell_type": "code",
   "execution_count": 16,
   "metadata": {},
   "outputs": [
    {
     "name": "stdout",
     "output_type": "stream",
     "text": [
      "torch.Size([25309, 3, 2])\n",
      "torch.Size([25309, 2])\n",
      "torch.Size([25309, 2])\n"
     ]
    }
   ],
   "source": [
    "# PROCESS LINK GEOMETRIES\n",
    "\n",
    "edge_midpoints = np.array([((geom.coords[0][0] + geom.coords[-1][0]) / 2, \n",
    "                                    (geom.coords[0][1] + geom.coords[-1][1]) / 2) \n",
    "                                for geom in links_gdf_final.geometry])\n",
    "\n",
    "nodes = pd.concat([links_gdf_final['from_node'], links_gdf_final['to_node']]).unique()\n",
    "node_to_idx = {node: idx for idx, node in enumerate(nodes)}\n",
    "links_gdf_final['from_idx'] = links_gdf_final['from_node'].map(node_to_idx)\n",
    "links_gdf_final['to_idx'] = links_gdf_final['to_node'].map(node_to_idx)\n",
    "edges_base = links_gdf_final[['from_idx', 'to_idx']].values\n",
    "edge_midpoint_tensor = torch.tensor(edge_midpoints, dtype=torch.float)\n",
    "\n",
    "# Initialize start and end points\n",
    "start_points = np.array([geom.coords[0] for geom in links_gdf_final.geometry])\n",
    "end_points = np.array([geom.coords[-1] for geom in links_gdf_final.geometry])\n",
    "\n",
    "# Convert to tensors\n",
    "edge_start_point_tensor = torch.tensor(start_points, dtype=torch.float)\n",
    "edge_end_point_tensor = torch.tensor(end_points, dtype=torch.float)\n",
    "\n",
    "edge_start_end_tensor = torch.stack((edge_start_point_tensor, edge_end_point_tensor), dim=1)\n",
    "\n",
    "stacked_edge_geometries_tensor = torch.stack([edge_start_point_tensor, edge_end_point_tensor, edge_midpoint_tensor], dim=1)\n",
    "\n",
    "print(stacked_edge_geometries_tensor.shape)\n",
    "print(edge_start_point_tensor.shape)\n",
    "print(edge_start_point_tensor.to_dense().shape)"
   ]
  },
  {
   "attachments": {},
   "cell_type": "markdown",
   "metadata": {},
   "source": [
    "## Analyze results and plot"
   ]
  },
  {
   "cell_type": "code",
   "execution_count": 17,
   "metadata": {},
   "outputs": [],
   "source": [
    "# pio.analyze_geodataframes(result_dic=result_dic, consider_only_highway_edges=True)"
   ]
  },
  {
   "cell_type": "code",
   "execution_count": 18,
   "metadata": {},
   "outputs": [],
   "source": [
    "# pio.analyze_geodataframes(result_dic=result_dic, consider_only_highway_edges=False)"
   ]
  },
  {
   "cell_type": "code",
   "execution_count": 19,
   "metadata": {},
   "outputs": [
    {
     "data": {
      "text/html": [
       "<div>\n",
       "<style scoped>\n",
       "    .dataframe tbody tr th:only-of-type {\n",
       "        vertical-align: middle;\n",
       "    }\n",
       "\n",
       "    .dataframe tbody tr th {\n",
       "        vertical-align: top;\n",
       "    }\n",
       "\n",
       "    .dataframe thead th {\n",
       "        text-align: right;\n",
       "    }\n",
       "</style>\n",
       "<table border=\"1\" class=\"dataframe\">\n",
       "  <thead>\n",
       "    <tr style=\"text-align: right;\">\n",
       "      <th></th>\n",
       "      <th>c_ar</th>\n",
       "      <th>surface</th>\n",
       "      <th>perimetre</th>\n",
       "      <th>geometry</th>\n",
       "      <th>district_centroid</th>\n",
       "    </tr>\n",
       "  </thead>\n",
       "  <tbody>\n",
       "    <tr>\n",
       "      <th>0</th>\n",
       "      <td>1</td>\n",
       "      <td>1.824613e+06</td>\n",
       "      <td>6054.936862</td>\n",
       "      <td>POLYGON ((2.32801 48.86992, 2.32997 48.86851, ...</td>\n",
       "      <td>POINT (2.33644 48.86256)</td>\n",
       "    </tr>\n",
       "    <tr>\n",
       "      <th>1</th>\n",
       "      <td>2</td>\n",
       "      <td>9.911537e+05</td>\n",
       "      <td>4554.104360</td>\n",
       "      <td>POLYGON ((2.35152 48.86443, 2.35095 48.86341, ...</td>\n",
       "      <td>POINT (2.34280 48.86828)</td>\n",
       "    </tr>\n",
       "    <tr>\n",
       "      <th>2</th>\n",
       "      <td>3</td>\n",
       "      <td>1.170883e+06</td>\n",
       "      <td>4519.263648</td>\n",
       "      <td>POLYGON ((2.36383 48.86750, 2.36389 48.86747, ...</td>\n",
       "      <td>POINT (2.36000 48.86287)</td>\n",
       "    </tr>\n",
       "    <tr>\n",
       "      <th>3</th>\n",
       "      <td>4</td>\n",
       "      <td>1.600586e+06</td>\n",
       "      <td>5420.908434</td>\n",
       "      <td>POLYGON ((2.36851 48.85573, 2.36900 48.85374, ...</td>\n",
       "      <td>POINT (2.35763 48.85434)</td>\n",
       "    </tr>\n",
       "    <tr>\n",
       "      <th>4</th>\n",
       "      <td>5</td>\n",
       "      <td>2.539375e+06</td>\n",
       "      <td>6239.195396</td>\n",
       "      <td>POLYGON ((2.36443 48.84614, 2.36484 48.84584, ...</td>\n",
       "      <td>POINT (2.35071 48.84444)</td>\n",
       "    </tr>\n",
       "    <tr>\n",
       "      <th>5</th>\n",
       "      <td>6</td>\n",
       "      <td>2.153096e+06</td>\n",
       "      <td>6483.686786</td>\n",
       "      <td>POLYGON ((2.34459 48.85405, 2.34428 48.85375, ...</td>\n",
       "      <td>POINT (2.33290 48.84913)</td>\n",
       "    </tr>\n",
       "    <tr>\n",
       "      <th>6</th>\n",
       "      <td>7</td>\n",
       "      <td>4.090057e+06</td>\n",
       "      <td>8099.424883</td>\n",
       "      <td>POLYGON ((2.32090 48.86306, 2.32094 48.86305, ...</td>\n",
       "      <td>POINT (2.31219 48.85617)</td>\n",
       "    </tr>\n",
       "    <tr>\n",
       "      <th>7</th>\n",
       "      <td>8</td>\n",
       "      <td>3.880036e+06</td>\n",
       "      <td>7880.533268</td>\n",
       "      <td>POLYGON ((2.32584 48.86956, 2.32569 48.86954, ...</td>\n",
       "      <td>POINT (2.31255 48.87272)</td>\n",
       "    </tr>\n",
       "    <tr>\n",
       "      <th>8</th>\n",
       "      <td>9</td>\n",
       "      <td>2.178303e+06</td>\n",
       "      <td>6471.588290</td>\n",
       "      <td>POLYGON ((2.33978 48.88203, 2.33982 48.88202, ...</td>\n",
       "      <td>POINT (2.33746 48.87716)</td>\n",
       "    </tr>\n",
       "    <tr>\n",
       "      <th>9</th>\n",
       "      <td>10</td>\n",
       "      <td>2.891739e+06</td>\n",
       "      <td>6739.375055</td>\n",
       "      <td>POLYGON ((2.36469 48.88437, 2.36485 48.88436, ...</td>\n",
       "      <td>POINT (2.36073 48.87613)</td>\n",
       "    </tr>\n",
       "    <tr>\n",
       "      <th>10</th>\n",
       "      <td>11</td>\n",
       "      <td>3.665442e+06</td>\n",
       "      <td>8282.011886</td>\n",
       "      <td>POLYGON ((2.39624 48.85415, 2.39708 48.85308, ...</td>\n",
       "      <td>POINT (2.38006 48.85906)</td>\n",
       "    </tr>\n",
       "    <tr>\n",
       "      <th>11</th>\n",
       "      <td>12</td>\n",
       "      <td>1.631478e+07</td>\n",
       "      <td>24089.666298</td>\n",
       "      <td>POLYGON ((2.41388 48.83357, 2.41401 48.83357, ...</td>\n",
       "      <td>POINT (2.42132 48.83497)</td>\n",
       "    </tr>\n",
       "    <tr>\n",
       "      <th>12</th>\n",
       "      <td>13</td>\n",
       "      <td>7.149311e+06</td>\n",
       "      <td>11546.546526</td>\n",
       "      <td>POLYGON ((2.37491 48.83801, 2.37698 48.83610, ...</td>\n",
       "      <td>POINT (2.36227 48.82839)</td>\n",
       "    </tr>\n",
       "    <tr>\n",
       "      <th>13</th>\n",
       "      <td>14</td>\n",
       "      <td>5.614877e+06</td>\n",
       "      <td>10317.483310</td>\n",
       "      <td>POLYGON ((2.33381 48.84061, 2.33673 48.83965, ...</td>\n",
       "      <td>POINT (2.32654 48.82924)</td>\n",
       "    </tr>\n",
       "    <tr>\n",
       "      <th>14</th>\n",
       "      <td>15</td>\n",
       "      <td>8.494994e+06</td>\n",
       "      <td>13678.798315</td>\n",
       "      <td>POLYGON ((2.29932 48.85217, 2.30088 48.85118, ...</td>\n",
       "      <td>POINT (2.29283 48.84009)</td>\n",
       "    </tr>\n",
       "    <tr>\n",
       "      <th>15</th>\n",
       "      <td>16</td>\n",
       "      <td>1.637254e+07</td>\n",
       "      <td>17416.109657</td>\n",
       "      <td>POLYGON ((2.27427 48.87837, 2.27749 48.87796, ...</td>\n",
       "      <td>POINT (2.26197 48.86039)</td>\n",
       "    </tr>\n",
       "    <tr>\n",
       "      <th>16</th>\n",
       "      <td>17</td>\n",
       "      <td>5.668835e+06</td>\n",
       "      <td>10775.579516</td>\n",
       "      <td>POLYGON ((2.29517 48.87396, 2.29504 48.87378, ...</td>\n",
       "      <td>POINT (2.30678 48.88733)</td>\n",
       "    </tr>\n",
       "    <tr>\n",
       "      <th>17</th>\n",
       "      <td>18</td>\n",
       "      <td>5.996051e+06</td>\n",
       "      <td>9916.464176</td>\n",
       "      <td>POLYGON ((2.36580 48.88554, 2.36469 48.88437, ...</td>\n",
       "      <td>POINT (2.34816 48.89257)</td>\n",
       "    </tr>\n",
       "    <tr>\n",
       "      <th>18</th>\n",
       "      <td>19</td>\n",
       "      <td>6.792651e+06</td>\n",
       "      <td>11253.182479</td>\n",
       "      <td>POLYGON ((2.38943 48.90122, 2.39014 48.90108, ...</td>\n",
       "      <td>POINT (2.38482 48.88708)</td>\n",
       "    </tr>\n",
       "    <tr>\n",
       "      <th>19</th>\n",
       "      <td>20</td>\n",
       "      <td>5.983446e+06</td>\n",
       "      <td>10704.940486</td>\n",
       "      <td>POLYGON ((2.41277 48.87547, 2.41284 48.87524, ...</td>\n",
       "      <td>POINT (2.40119 48.86346)</td>\n",
       "    </tr>\n",
       "  </tbody>\n",
       "</table>\n",
       "</div>"
      ],
      "text/plain": [
       "    c_ar       surface     perimetre  \\\n",
       "0      1  1.824613e+06   6054.936862   \n",
       "1      2  9.911537e+05   4554.104360   \n",
       "2      3  1.170883e+06   4519.263648   \n",
       "3      4  1.600586e+06   5420.908434   \n",
       "4      5  2.539375e+06   6239.195396   \n",
       "5      6  2.153096e+06   6483.686786   \n",
       "6      7  4.090057e+06   8099.424883   \n",
       "7      8  3.880036e+06   7880.533268   \n",
       "8      9  2.178303e+06   6471.588290   \n",
       "9     10  2.891739e+06   6739.375055   \n",
       "10    11  3.665442e+06   8282.011886   \n",
       "11    12  1.631478e+07  24089.666298   \n",
       "12    13  7.149311e+06  11546.546526   \n",
       "13    14  5.614877e+06  10317.483310   \n",
       "14    15  8.494994e+06  13678.798315   \n",
       "15    16  1.637254e+07  17416.109657   \n",
       "16    17  5.668835e+06  10775.579516   \n",
       "17    18  5.996051e+06   9916.464176   \n",
       "18    19  6.792651e+06  11253.182479   \n",
       "19    20  5.983446e+06  10704.940486   \n",
       "\n",
       "                                             geometry  \\\n",
       "0   POLYGON ((2.32801 48.86992, 2.32997 48.86851, ...   \n",
       "1   POLYGON ((2.35152 48.86443, 2.35095 48.86341, ...   \n",
       "2   POLYGON ((2.36383 48.86750, 2.36389 48.86747, ...   \n",
       "3   POLYGON ((2.36851 48.85573, 2.36900 48.85374, ...   \n",
       "4   POLYGON ((2.36443 48.84614, 2.36484 48.84584, ...   \n",
       "5   POLYGON ((2.34459 48.85405, 2.34428 48.85375, ...   \n",
       "6   POLYGON ((2.32090 48.86306, 2.32094 48.86305, ...   \n",
       "7   POLYGON ((2.32584 48.86956, 2.32569 48.86954, ...   \n",
       "8   POLYGON ((2.33978 48.88203, 2.33982 48.88202, ...   \n",
       "9   POLYGON ((2.36469 48.88437, 2.36485 48.88436, ...   \n",
       "10  POLYGON ((2.39624 48.85415, 2.39708 48.85308, ...   \n",
       "11  POLYGON ((2.41388 48.83357, 2.41401 48.83357, ...   \n",
       "12  POLYGON ((2.37491 48.83801, 2.37698 48.83610, ...   \n",
       "13  POLYGON ((2.33381 48.84061, 2.33673 48.83965, ...   \n",
       "14  POLYGON ((2.29932 48.85217, 2.30088 48.85118, ...   \n",
       "15  POLYGON ((2.27427 48.87837, 2.27749 48.87796, ...   \n",
       "16  POLYGON ((2.29517 48.87396, 2.29504 48.87378, ...   \n",
       "17  POLYGON ((2.36580 48.88554, 2.36469 48.88437, ...   \n",
       "18  POLYGON ((2.38943 48.90122, 2.39014 48.90108, ...   \n",
       "19  POLYGON ((2.41277 48.87547, 2.41284 48.87524, ...   \n",
       "\n",
       "           district_centroid  \n",
       "0   POINT (2.33644 48.86256)  \n",
       "1   POINT (2.34280 48.86828)  \n",
       "2   POINT (2.36000 48.86287)  \n",
       "3   POINT (2.35763 48.85434)  \n",
       "4   POINT (2.35071 48.84444)  \n",
       "5   POINT (2.33290 48.84913)  \n",
       "6   POINT (2.31219 48.85617)  \n",
       "7   POINT (2.31255 48.87272)  \n",
       "8   POINT (2.33746 48.87716)  \n",
       "9   POINT (2.36073 48.87613)  \n",
       "10  POINT (2.38006 48.85906)  \n",
       "11  POINT (2.42132 48.83497)  \n",
       "12  POINT (2.36227 48.82839)  \n",
       "13  POINT (2.32654 48.82924)  \n",
       "14  POINT (2.29283 48.84009)  \n",
       "15  POINT (2.26197 48.86039)  \n",
       "16  POINT (2.30678 48.88733)  \n",
       "17  POINT (2.34816 48.89257)  \n",
       "18  POINT (2.38482 48.88708)  \n",
       "19  POINT (2.40119 48.86346)  "
      ]
     },
     "execution_count": 19,
     "metadata": {},
     "output_type": "execute_result"
    }
   ],
   "source": [
    "districts"
   ]
  },
  {
   "cell_type": "code",
   "execution_count": 20,
   "metadata": {},
   "outputs": [],
   "source": [
    "def aggregate_district_information(links_gdf, tensors_edge_information):\n",
    "    \n",
    "    # Assuming tensors_edge_information is a list of tensors\n",
    "    vol_base_case = tensors_edge_information[0]  # Adjust index if needed\n",
    "    capacities_base = tensors_edge_information[1]  \n",
    "    capacities_new = tensors_edge_information[2] \n",
    "    capacity_reduction = tensors_edge_information[3]  \n",
    "    freespeed_base = tensors_edge_information[4]\n",
    "    freespeed = tensors_edge_information[5]\n",
    "    highway = tensors_edge_information[6]\n",
    "    length = tensors_edge_information[7]\n",
    "    cars_allowed = tensors_edge_information[8]\n",
    "    bus_allowed = tensors_edge_information[9]\n",
    "    pt_allowed = tensors_edge_information[10]\n",
    "    train_allowed = tensors_edge_information[11]\n",
    "    rail_allowed = tensors_edge_information[12]\n",
    "    subway_allowed = tensors_edge_information[13]\n",
    "    \n",
    "    district_info = {}\n",
    "            \n",
    "    # modes_str = \"\"\n",
    "    for idx, row in links_gdf.iterrows():\n",
    "        districts = row['district']\n",
    "        modes = row['modes']\n",
    "        # modes_str += modes + \",\"\n",
    "        for district in districts:\n",
    "            if district not in district_info:\n",
    "                district_info[district] = {\n",
    "                    'vol_base_case': 0,\n",
    "                    'capacity_base': 0,\n",
    "                    'capacity_new': 0,\n",
    "                    'capacity_reduction': 0,\n",
    "                    'freespeed_base_sum': 0,\n",
    "                    'freespeed_base_count': 0,\n",
    "                    'freespeed_sum': 0,\n",
    "                    'freespeed_count': 0,\n",
    "                    'highway_sum': 0,\n",
    "                    'highway_count': 0,\n",
    "                    'length': 0,\n",
    "                    'edge_count': 0,\n",
    "                    'cars_allowed': 0,\n",
    "                    'bus_allowed': 0,\n",
    "                    'pt_allowed': 0,\n",
    "                    'train_allowed': 0,\n",
    "                    'rail_allowed': 0,\n",
    "                    'subway_allowed': 0,\n",
    "                }\n",
    "            \n",
    "            if \"car\" in modes:\n",
    "                district_info[district]['capacity_base'] += capacities_base[idx].item()\n",
    "                district_info[district]['capacity_new'] += capacities_new[idx].item()\n",
    "                district_info[district]['capacity_reduction'] += capacity_reduction[idx].item()\n",
    "                district_info[district]['freespeed_sum'] += freespeed[idx].item()\n",
    "                district_info[district]['freespeed_base_sum'] += freespeed_base[idx].item()\n",
    "                district_info[district]['freespeed_base_count'] += 1\n",
    "                district_info[district]['freespeed_count'] += 1\n",
    "            \n",
    "            district_info[district]['length'] += length[idx].item()\n",
    "\n",
    "            highway_value = highway_mapping.get(row['highway'], -1)\n",
    "            district_info[district]['highway_sum'] += highway_value\n",
    "            district_info[district]['highway_count'] += 1\n",
    "            district_info[district]['edge_count'] += 1\n",
    "            \n",
    "            district_info[district]['cars_allowed'] += cars_allowed[idx].item()\n",
    "            district_info[district]['bus_allowed'] += bus_allowed[idx].item()\n",
    "            district_info[district]['pt_allowed'] += pt_allowed[idx].item()\n",
    "            district_info[district]['train_allowed'] += train_allowed[idx].item()\n",
    "            district_info[district]['rail_allowed'] += rail_allowed[idx].item()\n",
    "            district_info[district]['subway_allowed'] += subway_allowed[idx].item()\n",
    "\n",
    "    # Compute averages \n",
    "    for district in district_info:\n",
    "        district_info[district]['freespeed_base'] = district_info[district]['freespeed_base_sum'] / district_info[district]['freespeed_base_count']\n",
    "        district_info[district]['freespeed'] = district_info[district]['freespeed_sum'] / district_info[district]['freespeed_count']\n",
    "        district_info[district]['highway'] = district_info[district]['highway_sum'] / district_info[district]['highway_count']\n",
    "            \n",
    "    # Sort districts by their identifiers\n",
    "    districts = sorted(district_info.keys())\n",
    "    \n",
    "    vol_base_case_tensor = torch.tensor([district_info[d]['vol_base_case'] for d in districts])\n",
    "    capacity_base_tensor = torch.tensor([district_info[d]['capacity_base'] for d in districts])\n",
    "    capacity_new_tensor = torch.tensor([district_info[d]['capacity_new'] for d in districts])\n",
    "    capacity_reduction_tensor = torch.tensor([district_info[d]['capacity_reduction'] for d in districts])\n",
    "    \n",
    "    length_tensor = torch.tensor([district_info[d]['length'] for d in districts])\n",
    "    edge_count_tensor = torch.tensor([district_info[d]['edge_count'] for d in districts])\n",
    "    highway_tensor = torch.tensor([district_info[d]['highway'] for d in districts])\n",
    "    freespeed_base_tensor = torch.tensor([district_info[d]['freespeed_base'] for d in districts])\n",
    "    freespeed_tensor = torch.tensor([district_info[d]['freespeed'] for d in districts])\n",
    "    # allowed_modes_tensor = torch.stack([district_info[d]['allowed_modes'] for d in districts])\n",
    "    \n",
    "    cars_allowed_tensor = torch.tensor([district_info[d]['cars_allowed'] for d in districts])\n",
    "    bus_allowed_tensor = torch.tensor([district_info[d]['bus_allowed'] for d in districts])\n",
    "    pt_allowed_tensor = torch.tensor([district_info[d]['pt_allowed'] for d in districts])\n",
    "    train_allowed_tensor = torch.tensor([district_info[d]['train_allowed'] for d in districts])\n",
    "    rail_allowed_tensor = torch.tensor([district_info[d]['rail_allowed'] for d in districts])\n",
    "    subway_allowed_tensor = torch.tensor([district_info[d]['subway_allowed'] for d in districts])\n",
    "\n",
    "    return {\n",
    "        'districts': districts,\n",
    "        'vol_base_case': vol_base_case_tensor,\n",
    "        'capacity_base': capacity_base_tensor,\n",
    "        'capacity_new': capacity_new_tensor,\n",
    "        'capacity_reduction': capacity_reduction_tensor,\n",
    "        'length': length_tensor,\n",
    "        'highway': highway_tensor,\n",
    "        'freespeed_base': freespeed_base_tensor,\n",
    "        'freespeed': freespeed_tensor,\n",
    "        # 'allowed_modes': allowed_modes_tensor,\n",
    "        'cars_allowed': cars_allowed_tensor,\n",
    "        'bus_allowed': bus_allowed_tensor,\n",
    "        'pt_allowed': pt_allowed_tensor,\n",
    "        'train_allowed': train_allowed_tensor,\n",
    "        'rail_allowed': rail_allowed_tensor,\n",
    "        'subway_allowed': subway_allowed_tensor,\n",
    "        'edge_count': edge_count_tensor,\n",
    "    }"
   ]
  },
  {
   "cell_type": "code",
   "execution_count": 21,
   "metadata": {},
   "outputs": [],
   "source": [
    "def compute_combined_tensor(vol_base_case, capacity_base_case, length, freespeed_base_case, allowed_modes, gdf, capacities_new, capacity_reduction, highway, freespeed):\n",
    "    edge_tensors = [\n",
    "                torch.tensor(vol_base_case), \n",
    "                torch.tensor(capacity_base_case), \n",
    "                torch.tensor(capacities_new), \n",
    "                torch.tensor(capacity_reduction), \n",
    "                torch.tensor(freespeed_base_case), \n",
    "                torch.tensor(freespeed), \n",
    "                torch.tensor(highway), \n",
    "                torch.tensor(length), \n",
    "                allowed_modes[0],\n",
    "                allowed_modes[1],\n",
    "                allowed_modes[2],\n",
    "                allowed_modes[3],\n",
    "                allowed_modes[4],\n",
    "                allowed_modes[5],\n",
    "            ]\n",
    "\n",
    "    district_info = aggregate_district_information(links_gdf=gdf, tensors_edge_information= edge_tensors)\n",
    "    district_tensors = [\n",
    "                district_info['vol_base_case'],\n",
    "                district_info['capacity_base'],\n",
    "                district_info['capacity_new'],\n",
    "                district_info['capacity_reduction'],\n",
    "                district_info['freespeed_base'],\n",
    "                district_info['freespeed'],\n",
    "                district_info['highway'],\n",
    "                district_info['length'],\n",
    "                district_info['cars_allowed'],\n",
    "                district_info['bus_allowed'],\n",
    "                district_info['pt_allowed'],\n",
    "                district_info['train_allowed'],\n",
    "                district_info['rail_allowed'],\n",
    "                district_info['subway_allowed'],\n",
    "            ]\n",
    "    stacked_tensor1 = torch.stack(edge_tensors, dim=1)  # Shape: (25209, 14)\n",
    "    stacked_tensor2 = torch.stack(district_tensors, dim=1)  # Shape: (20, 14)\n",
    "    combined_tensor = torch.cat((stacked_tensor1, stacked_tensor2), dim=0)  # Shape: (25229, 14)\n",
    "    return district_info,combined_tensor\n",
    "\n",
    "def compute_node_attributes(district_info, linegraph_data, len_edges):\n",
    "    num_edge_nodes = len_edges\n",
    "    num_district_nodes = len(district_info['districts'])\n",
    "    existing_feature_dim1 = linegraph_data.x.size(1) if linegraph_data.x is not None else 14\n",
    "    node_type_feature = torch.zeros((num_edge_nodes + num_district_nodes, 1), dtype=torch.long)\n",
    "    node_type_feature[num_edge_nodes:, :] = 1\n",
    "    return num_edge_nodes,num_district_nodes,existing_feature_dim1,node_type_feature\n",
    "\n",
    "def compute_edge_attributes(district_info, linegraph_data, len_edges):\n",
    "    district_node_offset = len_edges\n",
    "    edge_to_district_edges = []\n",
    "    for idx, row in links_gdf_final.iterrows():\n",
    "        for district in row['district']:\n",
    "            district_idx = district_info['districts'].index(district) + district_node_offset\n",
    "            edge_to_district_edges.append([idx, district_idx])\n",
    "            edge_to_district_edges.append([district_idx, idx])  # Add reverse edge for undirected graph  # TODO is one way enough ? \n",
    "    edge_to_district_index = torch.tensor(edge_to_district_edges, dtype=torch.long).t()\n",
    "    linegraph_data.edge_index = torch.cat([linegraph_data.edge_index, edge_to_district_index], dim=1)\n",
    "    edge_to_district_index = torch.tensor(edge_to_district_edges, dtype=torch.long).t()\n",
    "    edge_to_district_attr = torch.ones((edge_to_district_index.shape[1], 1), dtype=torch.long)\n",
    "    return edge_to_district_index, edge_to_district_attr\n",
    "\n",
    "def compute_target_tensor(vol_base_case, gdf, district_info):\n",
    "    edge_car_volume_difference = gdf['vol_car'].values - vol_base_case\n",
    "    district_car_volume_difference = []\n",
    "    for district in district_info['districts']:\n",
    "        district_edges = gdf[gdf['district'].apply(lambda x: district in x)]\n",
    "        district_volume_diff = district_edges['vol_car'].sum() - district_edges['vol_car_base_case'].sum()\n",
    "        district_car_volume_difference.append(district_volume_diff)\n",
    "    district_car_volume_difference = torch.tensor(district_car_volume_difference, dtype=torch.float).unsqueeze(1)\n",
    "    target_values = torch.cat([torch.tensor(edge_car_volume_difference, dtype=torch.float).unsqueeze(1), district_car_volume_difference], dim=0)\n",
    "    return target_values\n",
    "\n",
    "def get_basic_edge_attributes(capacity_base_case, gdf):\n",
    "    capacities_new = np.where(gdf['modes'].str.contains('car'), gdf['capacity'], 0)\n",
    "    capacity_reduction = capacities_new - capacity_base_case\n",
    "    highway = gdf['highway'].apply(lambda x: highway_mapping.get(x, -1)).values\n",
    "    freespeed = np.where(gdf['modes'].str.contains('car'), gdf['freespeed'], 0)\n",
    "    return capacities_new,capacity_reduction,highway,freespeed\n",
    "\n",
    "def prepare_gdf(df):\n",
    "    gdf = links_gdf_final[['link', 'district', 'geometry']].merge(df, on='link', how='left')\n",
    "    gdf = gpd.GeoDataFrame(gdf, geometry='geometry')\n",
    "    gdf.crs = links_gdf_final.crs\n",
    "    return gdf"
   ]
  },
  {
   "cell_type": "code",
   "execution_count": 22,
   "metadata": {},
   "outputs": [
    {
     "name": "stdout",
     "output_type": "stream",
     "text": [
      "6\n"
     ]
    },
    {
     "name": "stderr",
     "output_type": "stream",
     "text": [
      "Processing result_dic:   0%|          | 2/449 [00:01<06:37,  1.13dataframe/s]"
     ]
    },
    {
     "name": "stdout",
     "output_type": "stream",
     "text": [
      "Data(edge_index=[2, 83116], num_nodes=25329, x=[25329, 15], edge_attr=[83116, 1], pos=[25329, 3, 2], y=[25329, 1])\n"
     ]
    },
    {
     "name": "stderr",
     "output_type": "stream",
     "text": [
      "Processing result_dic:   1%|          | 3/449 [00:03<09:40,  1.30s/dataframe]"
     ]
    },
    {
     "name": "stdout",
     "output_type": "stream",
     "text": [
      "Data(edge_index=[2, 83116], num_nodes=25329, x=[25329, 15], edge_attr=[83116, 1], pos=[25329, 3, 2], y=[25329, 1])\n"
     ]
    },
    {
     "name": "stderr",
     "output_type": "stream",
     "text": [
      "Processing result_dic:   1%|          | 4/449 [00:05<10:54,  1.47s/dataframe]"
     ]
    },
    {
     "name": "stdout",
     "output_type": "stream",
     "text": [
      "Data(edge_index=[2, 83116], num_nodes=25329, x=[25329, 15], edge_attr=[83116, 1], pos=[25329, 3, 2], y=[25329, 1])\n"
     ]
    },
    {
     "name": "stderr",
     "output_type": "stream",
     "text": [
      "Processing result_dic:   1%|          | 5/449 [00:07<12:23,  1.67s/dataframe]"
     ]
    },
    {
     "name": "stdout",
     "output_type": "stream",
     "text": [
      "Data(edge_index=[2, 83116], num_nodes=25329, x=[25329, 15], edge_attr=[83116, 1], pos=[25329, 3, 2], y=[25329, 1])\n"
     ]
    },
    {
     "name": "stderr",
     "output_type": "stream",
     "text": [
      "Processing result_dic:   1%|▏         | 6/449 [00:09<13:16,  1.80s/dataframe]"
     ]
    },
    {
     "name": "stdout",
     "output_type": "stream",
     "text": [
      "Data(edge_index=[2, 83116], num_nodes=25329, x=[25329, 15], edge_attr=[83116, 1], pos=[25329, 3, 2], y=[25329, 1])\n"
     ]
    },
    {
     "name": "stderr",
     "output_type": "stream",
     "text": [
      "Processing result_dic:   2%|▏         | 7/449 [00:11<13:53,  1.89s/dataframe]"
     ]
    },
    {
     "name": "stdout",
     "output_type": "stream",
     "text": [
      "Data(edge_index=[2, 83116], num_nodes=25329, x=[25329, 15], edge_attr=[83116, 1], pos=[25329, 3, 2], y=[25329, 1])\n"
     ]
    },
    {
     "name": "stderr",
     "output_type": "stream",
     "text": [
      "Processing result_dic:   2%|▏         | 8/449 [00:13<14:23,  1.96s/dataframe]"
     ]
    },
    {
     "name": "stdout",
     "output_type": "stream",
     "text": [
      "Data(edge_index=[2, 83116], num_nodes=25329, x=[25329, 15], edge_attr=[83116, 1], pos=[25329, 3, 2], y=[25329, 1])\n"
     ]
    },
    {
     "name": "stderr",
     "output_type": "stream",
     "text": [
      "Processing result_dic:   2%|▏         | 9/449 [00:15<13:57,  1.90s/dataframe]"
     ]
    },
    {
     "name": "stdout",
     "output_type": "stream",
     "text": [
      "Data(edge_index=[2, 83116], num_nodes=25329, x=[25329, 15], edge_attr=[83116, 1], pos=[25329, 3, 2], y=[25329, 1])\n"
     ]
    },
    {
     "name": "stderr",
     "output_type": "stream",
     "text": [
      "Processing result_dic:   2%|▏         | 10/449 [00:17<14:04,  1.92s/dataframe]"
     ]
    },
    {
     "name": "stdout",
     "output_type": "stream",
     "text": [
      "Data(edge_index=[2, 83116], num_nodes=25329, x=[25329, 15], edge_attr=[83116, 1], pos=[25329, 3, 2], y=[25329, 1])\n"
     ]
    },
    {
     "name": "stderr",
     "output_type": "stream",
     "text": [
      "Processing result_dic:   2%|▏         | 11/449 [00:19<13:42,  1.88s/dataframe]"
     ]
    },
    {
     "name": "stdout",
     "output_type": "stream",
     "text": [
      "Data(edge_index=[2, 83116], num_nodes=25329, x=[25329, 15], edge_attr=[83116, 1], pos=[25329, 3, 2], y=[25329, 1])\n"
     ]
    },
    {
     "name": "stderr",
     "output_type": "stream",
     "text": [
      "Processing result_dic:   3%|▎         | 12/449 [00:21<13:44,  1.89s/dataframe]"
     ]
    },
    {
     "name": "stdout",
     "output_type": "stream",
     "text": [
      "Data(edge_index=[2, 83116], num_nodes=25329, x=[25329, 15], edge_attr=[83116, 1], pos=[25329, 3, 2], y=[25329, 1])\n"
     ]
    },
    {
     "name": "stderr",
     "output_type": "stream",
     "text": [
      "Processing result_dic:   3%|▎         | 13/449 [00:22<13:27,  1.85s/dataframe]"
     ]
    },
    {
     "name": "stdout",
     "output_type": "stream",
     "text": [
      "Data(edge_index=[2, 83116], num_nodes=25329, x=[25329, 15], edge_attr=[83116, 1], pos=[25329, 3, 2], y=[25329, 1])\n"
     ]
    },
    {
     "name": "stderr",
     "output_type": "stream",
     "text": [
      "Processing result_dic:   3%|▎         | 14/449 [00:24<13:48,  1.91s/dataframe]"
     ]
    },
    {
     "name": "stdout",
     "output_type": "stream",
     "text": [
      "Data(edge_index=[2, 83116], num_nodes=25329, x=[25329, 15], edge_attr=[83116, 1], pos=[25329, 3, 2], y=[25329, 1])\n"
     ]
    },
    {
     "name": "stderr",
     "output_type": "stream",
     "text": [
      "Processing result_dic:   3%|▎         | 15/449 [00:26<13:31,  1.87s/dataframe]"
     ]
    },
    {
     "name": "stdout",
     "output_type": "stream",
     "text": [
      "Data(edge_index=[2, 83116], num_nodes=25329, x=[25329, 15], edge_attr=[83116, 1], pos=[25329, 3, 2], y=[25329, 1])\n"
     ]
    },
    {
     "name": "stderr",
     "output_type": "stream",
     "text": [
      "Processing result_dic:   4%|▎         | 16/449 [00:28<13:16,  1.84s/dataframe]"
     ]
    },
    {
     "name": "stdout",
     "output_type": "stream",
     "text": [
      "Data(edge_index=[2, 83116], num_nodes=25329, x=[25329, 15], edge_attr=[83116, 1], pos=[25329, 3, 2], y=[25329, 1])\n"
     ]
    },
    {
     "name": "stderr",
     "output_type": "stream",
     "text": [
      "Processing result_dic:   4%|▍         | 17/449 [00:30<13:23,  1.86s/dataframe]"
     ]
    },
    {
     "name": "stdout",
     "output_type": "stream",
     "text": [
      "Data(edge_index=[2, 83116], num_nodes=25329, x=[25329, 15], edge_attr=[83116, 1], pos=[25329, 3, 2], y=[25329, 1])\n"
     ]
    },
    {
     "name": "stderr",
     "output_type": "stream",
     "text": [
      "Processing result_dic:   4%|▍         | 18/449 [00:32<13:10,  1.83s/dataframe]"
     ]
    },
    {
     "name": "stdout",
     "output_type": "stream",
     "text": [
      "Data(edge_index=[2, 83116], num_nodes=25329, x=[25329, 15], edge_attr=[83116, 1], pos=[25329, 3, 2], y=[25329, 1])\n"
     ]
    },
    {
     "name": "stderr",
     "output_type": "stream",
     "text": [
      "Processing result_dic:   4%|▍         | 19/449 [00:34<13:18,  1.86s/dataframe]"
     ]
    },
    {
     "name": "stdout",
     "output_type": "stream",
     "text": [
      "Data(edge_index=[2, 83116], num_nodes=25329, x=[25329, 15], edge_attr=[83116, 1], pos=[25329, 3, 2], y=[25329, 1])\n"
     ]
    },
    {
     "name": "stderr",
     "output_type": "stream",
     "text": [
      "Processing result_dic:   4%|▍         | 20/449 [00:35<13:22,  1.87s/dataframe]"
     ]
    },
    {
     "name": "stdout",
     "output_type": "stream",
     "text": [
      "Data(edge_index=[2, 83116], num_nodes=25329, x=[25329, 15], edge_attr=[83116, 1], pos=[25329, 3, 2], y=[25329, 1])\n"
     ]
    },
    {
     "name": "stderr",
     "output_type": "stream",
     "text": [
      "Processing result_dic:   5%|▍         | 21/449 [00:37<13:23,  1.88s/dataframe]"
     ]
    },
    {
     "name": "stdout",
     "output_type": "stream",
     "text": [
      "Data(edge_index=[2, 83116], num_nodes=25329, x=[25329, 15], edge_attr=[83116, 1], pos=[25329, 3, 2], y=[25329, 1])\n"
     ]
    },
    {
     "name": "stderr",
     "output_type": "stream",
     "text": [
      "Processing result_dic:   5%|▍         | 22/449 [00:39<13:07,  1.84s/dataframe]"
     ]
    },
    {
     "name": "stdout",
     "output_type": "stream",
     "text": [
      "Data(edge_index=[2, 83116], num_nodes=25329, x=[25329, 15], edge_attr=[83116, 1], pos=[25329, 3, 2], y=[25329, 1])\n"
     ]
    },
    {
     "name": "stderr",
     "output_type": "stream",
     "text": [
      "Processing result_dic:   5%|▌         | 23/449 [00:41<13:15,  1.87s/dataframe]"
     ]
    },
    {
     "name": "stdout",
     "output_type": "stream",
     "text": [
      "Data(edge_index=[2, 83116], num_nodes=25329, x=[25329, 15], edge_attr=[83116, 1], pos=[25329, 3, 2], y=[25329, 1])\n"
     ]
    },
    {
     "name": "stderr",
     "output_type": "stream",
     "text": [
      "Processing result_dic:   5%|▌         | 24/449 [00:43<13:00,  1.84s/dataframe]"
     ]
    },
    {
     "name": "stdout",
     "output_type": "stream",
     "text": [
      "Data(edge_index=[2, 83116], num_nodes=25329, x=[25329, 15], edge_attr=[83116, 1], pos=[25329, 3, 2], y=[25329, 1])\n"
     ]
    },
    {
     "name": "stderr",
     "output_type": "stream",
     "text": [
      "Processing result_dic:   6%|▌         | 25/449 [00:45<13:05,  1.85s/dataframe]"
     ]
    },
    {
     "name": "stdout",
     "output_type": "stream",
     "text": [
      "Data(edge_index=[2, 83116], num_nodes=25329, x=[25329, 15], edge_attr=[83116, 1], pos=[25329, 3, 2], y=[25329, 1])\n"
     ]
    },
    {
     "name": "stderr",
     "output_type": "stream",
     "text": [
      "Processing result_dic:   6%|▌         | 26/449 [00:46<12:53,  1.83s/dataframe]"
     ]
    },
    {
     "name": "stdout",
     "output_type": "stream",
     "text": [
      "Data(edge_index=[2, 83116], num_nodes=25329, x=[25329, 15], edge_attr=[83116, 1], pos=[25329, 3, 2], y=[25329, 1])\n"
     ]
    },
    {
     "name": "stderr",
     "output_type": "stream",
     "text": [
      "Processing result_dic:   6%|▌         | 27/449 [00:48<12:58,  1.84s/dataframe]"
     ]
    },
    {
     "name": "stdout",
     "output_type": "stream",
     "text": [
      "Data(edge_index=[2, 83116], num_nodes=25329, x=[25329, 15], edge_attr=[83116, 1], pos=[25329, 3, 2], y=[25329, 1])\n"
     ]
    },
    {
     "name": "stderr",
     "output_type": "stream",
     "text": [
      "Processing result_dic:   6%|▌         | 28/449 [00:50<13:03,  1.86s/dataframe]"
     ]
    },
    {
     "name": "stdout",
     "output_type": "stream",
     "text": [
      "Data(edge_index=[2, 83116], num_nodes=25329, x=[25329, 15], edge_attr=[83116, 1], pos=[25329, 3, 2], y=[25329, 1])\n"
     ]
    },
    {
     "name": "stderr",
     "output_type": "stream",
     "text": [
      "Processing result_dic:   6%|▋         | 29/449 [00:52<12:50,  1.83s/dataframe]"
     ]
    },
    {
     "name": "stdout",
     "output_type": "stream",
     "text": [
      "Data(edge_index=[2, 83116], num_nodes=25329, x=[25329, 15], edge_attr=[83116, 1], pos=[25329, 3, 2], y=[25329, 1])\n"
     ]
    },
    {
     "name": "stderr",
     "output_type": "stream",
     "text": [
      "Processing result_dic:   7%|▋         | 30/449 [00:54<12:59,  1.86s/dataframe]"
     ]
    },
    {
     "name": "stdout",
     "output_type": "stream",
     "text": [
      "Data(edge_index=[2, 83116], num_nodes=25329, x=[25329, 15], edge_attr=[83116, 1], pos=[25329, 3, 2], y=[25329, 1])\n"
     ]
    },
    {
     "name": "stderr",
     "output_type": "stream",
     "text": [
      "Processing result_dic:   7%|▋         | 31/449 [00:56<12:47,  1.84s/dataframe]"
     ]
    },
    {
     "name": "stdout",
     "output_type": "stream",
     "text": [
      "Data(edge_index=[2, 83116], num_nodes=25329, x=[25329, 15], edge_attr=[83116, 1], pos=[25329, 3, 2], y=[25329, 1])\n"
     ]
    },
    {
     "name": "stderr",
     "output_type": "stream",
     "text": [
      "Processing result_dic:   7%|▋         | 32/449 [00:58<12:55,  1.86s/dataframe]"
     ]
    },
    {
     "name": "stdout",
     "output_type": "stream",
     "text": [
      "Data(edge_index=[2, 83116], num_nodes=25329, x=[25329, 15], edge_attr=[83116, 1], pos=[25329, 3, 2], y=[25329, 1])\n"
     ]
    },
    {
     "name": "stderr",
     "output_type": "stream",
     "text": [
      "Processing result_dic:   7%|▋         | 33/449 [00:59<12:42,  1.83s/dataframe]"
     ]
    },
    {
     "name": "stdout",
     "output_type": "stream",
     "text": [
      "Data(edge_index=[2, 83116], num_nodes=25329, x=[25329, 15], edge_attr=[83116, 1], pos=[25329, 3, 2], y=[25329, 1])\n"
     ]
    },
    {
     "name": "stderr",
     "output_type": "stream",
     "text": [
      "Processing result_dic:   8%|▊         | 34/449 [01:01<13:01,  1.88s/dataframe]"
     ]
    },
    {
     "name": "stdout",
     "output_type": "stream",
     "text": [
      "Data(edge_index=[2, 83116], num_nodes=25329, x=[25329, 15], edge_attr=[83116, 1], pos=[25329, 3, 2], y=[25329, 1])\n"
     ]
    },
    {
     "name": "stderr",
     "output_type": "stream",
     "text": [
      "Processing result_dic:   8%|▊         | 35/449 [01:03<12:45,  1.85s/dataframe]"
     ]
    },
    {
     "name": "stdout",
     "output_type": "stream",
     "text": [
      "Data(edge_index=[2, 83116], num_nodes=25329, x=[25329, 15], edge_attr=[83116, 1], pos=[25329, 3, 2], y=[25329, 1])\n"
     ]
    },
    {
     "name": "stderr",
     "output_type": "stream",
     "text": [
      "Processing result_dic:   8%|▊         | 36/449 [01:05<12:36,  1.83s/dataframe]"
     ]
    },
    {
     "name": "stdout",
     "output_type": "stream",
     "text": [
      "Data(edge_index=[2, 83116], num_nodes=25329, x=[25329, 15], edge_attr=[83116, 1], pos=[25329, 3, 2], y=[25329, 1])\n"
     ]
    },
    {
     "name": "stderr",
     "output_type": "stream",
     "text": [
      "Processing result_dic:   8%|▊         | 37/449 [01:07<12:43,  1.85s/dataframe]"
     ]
    },
    {
     "name": "stdout",
     "output_type": "stream",
     "text": [
      "Data(edge_index=[2, 83116], num_nodes=25329, x=[25329, 15], edge_attr=[83116, 1], pos=[25329, 3, 2], y=[25329, 1])\n"
     ]
    },
    {
     "name": "stderr",
     "output_type": "stream",
     "text": [
      "Processing result_dic:   8%|▊         | 38/449 [01:09<12:31,  1.83s/dataframe]"
     ]
    },
    {
     "name": "stdout",
     "output_type": "stream",
     "text": [
      "Data(edge_index=[2, 83116], num_nodes=25329, x=[25329, 15], edge_attr=[83116, 1], pos=[25329, 3, 2], y=[25329, 1])\n"
     ]
    },
    {
     "name": "stderr",
     "output_type": "stream",
     "text": [
      "Processing result_dic:   9%|▊         | 39/449 [01:11<12:40,  1.85s/dataframe]"
     ]
    },
    {
     "name": "stdout",
     "output_type": "stream",
     "text": [
      "Data(edge_index=[2, 83116], num_nodes=25329, x=[25329, 15], edge_attr=[83116, 1], pos=[25329, 3, 2], y=[25329, 1])\n"
     ]
    },
    {
     "name": "stderr",
     "output_type": "stream",
     "text": [
      "Processing result_dic:   9%|▉         | 40/449 [01:12<12:43,  1.87s/dataframe]"
     ]
    },
    {
     "name": "stdout",
     "output_type": "stream",
     "text": [
      "Data(edge_index=[2, 83116], num_nodes=25329, x=[25329, 15], edge_attr=[83116, 1], pos=[25329, 3, 2], y=[25329, 1])\n"
     ]
    },
    {
     "name": "stderr",
     "output_type": "stream",
     "text": [
      "Processing result_dic:   9%|▉         | 41/449 [01:14<12:44,  1.87s/dataframe]"
     ]
    },
    {
     "name": "stdout",
     "output_type": "stream",
     "text": [
      "Data(edge_index=[2, 83116], num_nodes=25329, x=[25329, 15], edge_attr=[83116, 1], pos=[25329, 3, 2], y=[25329, 1])\n"
     ]
    },
    {
     "name": "stderr",
     "output_type": "stream",
     "text": [
      "Processing result_dic:   9%|▉         | 42/449 [01:16<12:31,  1.85s/dataframe]"
     ]
    },
    {
     "name": "stdout",
     "output_type": "stream",
     "text": [
      "Data(edge_index=[2, 83116], num_nodes=25329, x=[25329, 15], edge_attr=[83116, 1], pos=[25329, 3, 2], y=[25329, 1])\n"
     ]
    },
    {
     "name": "stderr",
     "output_type": "stream",
     "text": [
      "Processing result_dic:  10%|▉         | 43/449 [01:18<12:36,  1.86s/dataframe]"
     ]
    },
    {
     "name": "stdout",
     "output_type": "stream",
     "text": [
      "Data(edge_index=[2, 83116], num_nodes=25329, x=[25329, 15], edge_attr=[83116, 1], pos=[25329, 3, 2], y=[25329, 1])\n"
     ]
    },
    {
     "name": "stderr",
     "output_type": "stream",
     "text": [
      "Processing result_dic:  10%|▉         | 44/449 [01:20<12:24,  1.84s/dataframe]"
     ]
    },
    {
     "name": "stdout",
     "output_type": "stream",
     "text": [
      "Data(edge_index=[2, 83116], num_nodes=25329, x=[25329, 15], edge_attr=[83116, 1], pos=[25329, 3, 2], y=[25329, 1])\n"
     ]
    },
    {
     "name": "stderr",
     "output_type": "stream",
     "text": [
      "Processing result_dic:  10%|█         | 45/449 [01:22<12:48,  1.90s/dataframe]"
     ]
    },
    {
     "name": "stdout",
     "output_type": "stream",
     "text": [
      "Data(edge_index=[2, 83116], num_nodes=25329, x=[25329, 15], edge_attr=[83116, 1], pos=[25329, 3, 2], y=[25329, 1])\n"
     ]
    },
    {
     "name": "stderr",
     "output_type": "stream",
     "text": [
      "Processing result_dic:  10%|█         | 46/449 [01:24<12:33,  1.87s/dataframe]"
     ]
    },
    {
     "name": "stdout",
     "output_type": "stream",
     "text": [
      "Data(edge_index=[2, 83116], num_nodes=25329, x=[25329, 15], edge_attr=[83116, 1], pos=[25329, 3, 2], y=[25329, 1])\n"
     ]
    },
    {
     "name": "stderr",
     "output_type": "stream",
     "text": [
      "Processing result_dic:  10%|█         | 47/449 [01:25<12:22,  1.85s/dataframe]"
     ]
    },
    {
     "name": "stdout",
     "output_type": "stream",
     "text": [
      "Data(edge_index=[2, 83116], num_nodes=25329, x=[25329, 15], edge_attr=[83116, 1], pos=[25329, 3, 2], y=[25329, 1])\n"
     ]
    },
    {
     "name": "stderr",
     "output_type": "stream",
     "text": [
      "Processing result_dic:  11%|█         | 48/449 [01:27<12:26,  1.86s/dataframe]"
     ]
    },
    {
     "name": "stdout",
     "output_type": "stream",
     "text": [
      "Data(edge_index=[2, 83116], num_nodes=25329, x=[25329, 15], edge_attr=[83116, 1], pos=[25329, 3, 2], y=[25329, 1])\n"
     ]
    },
    {
     "name": "stderr",
     "output_type": "stream",
     "text": [
      "Processing result_dic:  11%|█         | 49/449 [01:29<12:12,  1.83s/dataframe]"
     ]
    },
    {
     "name": "stdout",
     "output_type": "stream",
     "text": [
      "Data(edge_index=[2, 83116], num_nodes=25329, x=[25329, 15], edge_attr=[83116, 1], pos=[25329, 3, 2], y=[25329, 1])\n"
     ]
    },
    {
     "name": "stderr",
     "output_type": "stream",
     "text": [
      "Processing result_dic:  11%|█         | 50/449 [01:31<12:20,  1.86s/dataframe]"
     ]
    },
    {
     "name": "stdout",
     "output_type": "stream",
     "text": [
      "Data(edge_index=[2, 83116], num_nodes=25329, x=[25329, 15], edge_attr=[83116, 1], pos=[25329, 3, 2], y=[25329, 1])\n"
     ]
    },
    {
     "name": "stderr",
     "output_type": "stream",
     "text": [
      "Processing result_dic:  11%|█▏        | 51/449 [01:33<12:09,  1.83s/dataframe]"
     ]
    },
    {
     "name": "stdout",
     "output_type": "stream",
     "text": [
      "Data(edge_index=[2, 83116], num_nodes=25329, x=[25329, 15], edge_attr=[83116, 1], pos=[25329, 3, 2], y=[25329, 1])\n"
     ]
    },
    {
     "name": "stderr",
     "output_type": "stream",
     "text": [
      "Processing result_dic:  12%|█▏        | 52/449 [01:35<12:31,  1.89s/dataframe]"
     ]
    },
    {
     "name": "stdout",
     "output_type": "stream",
     "text": [
      "Data(edge_index=[2, 83116], num_nodes=25329, x=[25329, 15], edge_attr=[83116, 1], pos=[25329, 3, 2], y=[25329, 1])\n"
     ]
    },
    {
     "name": "stderr",
     "output_type": "stream",
     "text": [
      "Processing result_dic:  12%|█▏        | 53/449 [01:37<12:17,  1.86s/dataframe]"
     ]
    },
    {
     "name": "stdout",
     "output_type": "stream",
     "text": [
      "Data(edge_index=[2, 83116], num_nodes=25329, x=[25329, 15], edge_attr=[83116, 1], pos=[25329, 3, 2], y=[25329, 1])\n"
     ]
    },
    {
     "name": "stderr",
     "output_type": "stream",
     "text": [
      "Processing result_dic:  12%|█▏        | 54/449 [01:38<12:06,  1.84s/dataframe]"
     ]
    },
    {
     "name": "stdout",
     "output_type": "stream",
     "text": [
      "Data(edge_index=[2, 83116], num_nodes=25329, x=[25329, 15], edge_attr=[83116, 1], pos=[25329, 3, 2], y=[25329, 1])\n"
     ]
    },
    {
     "name": "stderr",
     "output_type": "stream",
     "text": [
      "Processing result_dic:  12%|█▏        | 55/449 [01:40<12:11,  1.86s/dataframe]"
     ]
    },
    {
     "name": "stdout",
     "output_type": "stream",
     "text": [
      "Data(edge_index=[2, 83116], num_nodes=25329, x=[25329, 15], edge_attr=[83116, 1], pos=[25329, 3, 2], y=[25329, 1])\n"
     ]
    },
    {
     "name": "stderr",
     "output_type": "stream",
     "text": [
      "Processing result_dic:  12%|█▏        | 56/449 [01:42<11:57,  1.83s/dataframe]"
     ]
    },
    {
     "name": "stdout",
     "output_type": "stream",
     "text": [
      "Data(edge_index=[2, 83116], num_nodes=25329, x=[25329, 15], edge_attr=[83116, 1], pos=[25329, 3, 2], y=[25329, 1])\n"
     ]
    },
    {
     "name": "stderr",
     "output_type": "stream",
     "text": [
      "Processing result_dic:  13%|█▎        | 57/449 [01:44<12:05,  1.85s/dataframe]"
     ]
    },
    {
     "name": "stdout",
     "output_type": "stream",
     "text": [
      "Data(edge_index=[2, 83116], num_nodes=25329, x=[25329, 15], edge_attr=[83116, 1], pos=[25329, 3, 2], y=[25329, 1])\n"
     ]
    },
    {
     "name": "stderr",
     "output_type": "stream",
     "text": [
      "Processing result_dic:  13%|█▎        | 58/449 [01:46<12:08,  1.86s/dataframe]"
     ]
    },
    {
     "name": "stdout",
     "output_type": "stream",
     "text": [
      "Data(edge_index=[2, 83116], num_nodes=25329, x=[25329, 15], edge_attr=[83116, 1], pos=[25329, 3, 2], y=[25329, 1])\n"
     ]
    },
    {
     "name": "stderr",
     "output_type": "stream",
     "text": [
      "Processing result_dic:  13%|█▎        | 59/449 [01:48<12:10,  1.87s/dataframe]"
     ]
    },
    {
     "name": "stdout",
     "output_type": "stream",
     "text": [
      "Data(edge_index=[2, 83116], num_nodes=25329, x=[25329, 15], edge_attr=[83116, 1], pos=[25329, 3, 2], y=[25329, 1])\n"
     ]
    },
    {
     "name": "stderr",
     "output_type": "stream",
     "text": [
      "Processing result_dic:  13%|█▎        | 60/449 [01:50<11:58,  1.85s/dataframe]"
     ]
    },
    {
     "name": "stdout",
     "output_type": "stream",
     "text": [
      "Data(edge_index=[2, 83116], num_nodes=25329, x=[25329, 15], edge_attr=[83116, 1], pos=[25329, 3, 2], y=[25329, 1])\n"
     ]
    },
    {
     "name": "stderr",
     "output_type": "stream",
     "text": [
      "Processing result_dic:  14%|█▎        | 61/449 [01:51<12:04,  1.87s/dataframe]"
     ]
    },
    {
     "name": "stdout",
     "output_type": "stream",
     "text": [
      "Data(edge_index=[2, 83116], num_nodes=25329, x=[25329, 15], edge_attr=[83116, 1], pos=[25329, 3, 2], y=[25329, 1])\n"
     ]
    },
    {
     "name": "stderr",
     "output_type": "stream",
     "text": [
      "Processing result_dic:  14%|█▍        | 62/449 [01:53<11:51,  1.84s/dataframe]"
     ]
    },
    {
     "name": "stdout",
     "output_type": "stream",
     "text": [
      "Data(edge_index=[2, 83116], num_nodes=25329, x=[25329, 15], edge_attr=[83116, 1], pos=[25329, 3, 2], y=[25329, 1])\n"
     ]
    },
    {
     "name": "stderr",
     "output_type": "stream",
     "text": [
      "Processing result_dic:  14%|█▍        | 63/449 [01:55<11:41,  1.82s/dataframe]"
     ]
    },
    {
     "name": "stdout",
     "output_type": "stream",
     "text": [
      "Data(edge_index=[2, 83116], num_nodes=25329, x=[25329, 15], edge_attr=[83116, 1], pos=[25329, 3, 2], y=[25329, 1])\n"
     ]
    },
    {
     "name": "stderr",
     "output_type": "stream",
     "text": [
      "Processing result_dic:  14%|█▍        | 64/449 [01:57<11:49,  1.84s/dataframe]"
     ]
    },
    {
     "name": "stdout",
     "output_type": "stream",
     "text": [
      "Data(edge_index=[2, 83116], num_nodes=25329, x=[25329, 15], edge_attr=[83116, 1], pos=[25329, 3, 2], y=[25329, 1])\n"
     ]
    },
    {
     "name": "stderr",
     "output_type": "stream",
     "text": [
      "Processing result_dic:  14%|█▍        | 65/449 [01:59<11:53,  1.86s/dataframe]"
     ]
    },
    {
     "name": "stdout",
     "output_type": "stream",
     "text": [
      "Data(edge_index=[2, 83116], num_nodes=25329, x=[25329, 15], edge_attr=[83116, 1], pos=[25329, 3, 2], y=[25329, 1])\n"
     ]
    },
    {
     "name": "stderr",
     "output_type": "stream",
     "text": [
      "Processing result_dic:  15%|█▍        | 66/449 [02:01<11:58,  1.88s/dataframe]"
     ]
    },
    {
     "name": "stdout",
     "output_type": "stream",
     "text": [
      "Data(edge_index=[2, 83116], num_nodes=25329, x=[25329, 15], edge_attr=[83116, 1], pos=[25329, 3, 2], y=[25329, 1])\n"
     ]
    },
    {
     "name": "stderr",
     "output_type": "stream",
     "text": [
      "Processing result_dic:  15%|█▍        | 67/449 [02:03<11:45,  1.85s/dataframe]"
     ]
    },
    {
     "name": "stdout",
     "output_type": "stream",
     "text": [
      "Data(edge_index=[2, 83116], num_nodes=25329, x=[25329, 15], edge_attr=[83116, 1], pos=[25329, 3, 2], y=[25329, 1])\n"
     ]
    },
    {
     "name": "stderr",
     "output_type": "stream",
     "text": [
      "Processing result_dic:  15%|█▌        | 68/449 [02:04<11:50,  1.87s/dataframe]"
     ]
    },
    {
     "name": "stdout",
     "output_type": "stream",
     "text": [
      "Data(edge_index=[2, 83116], num_nodes=25329, x=[25329, 15], edge_attr=[83116, 1], pos=[25329, 3, 2], y=[25329, 1])\n"
     ]
    },
    {
     "name": "stderr",
     "output_type": "stream",
     "text": [
      "Processing result_dic:  15%|█▌        | 69/449 [02:06<11:38,  1.84s/dataframe]"
     ]
    },
    {
     "name": "stdout",
     "output_type": "stream",
     "text": [
      "Data(edge_index=[2, 83116], num_nodes=25329, x=[25329, 15], edge_attr=[83116, 1], pos=[25329, 3, 2], y=[25329, 1])\n"
     ]
    },
    {
     "name": "stderr",
     "output_type": "stream",
     "text": [
      "Processing result_dic:  16%|█▌        | 70/449 [02:08<11:47,  1.87s/dataframe]"
     ]
    },
    {
     "name": "stdout",
     "output_type": "stream",
     "text": [
      "Data(edge_index=[2, 83116], num_nodes=25329, x=[25329, 15], edge_attr=[83116, 1], pos=[25329, 3, 2], y=[25329, 1])\n"
     ]
    },
    {
     "name": "stderr",
     "output_type": "stream",
     "text": [
      "Processing result_dic:  16%|█▌        | 71/449 [02:10<11:34,  1.84s/dataframe]"
     ]
    },
    {
     "name": "stdout",
     "output_type": "stream",
     "text": [
      "Data(edge_index=[2, 83116], num_nodes=25329, x=[25329, 15], edge_attr=[83116, 1], pos=[25329, 3, 2], y=[25329, 1])\n"
     ]
    },
    {
     "name": "stderr",
     "output_type": "stream",
     "text": [
      "Processing result_dic:  16%|█▌        | 72/449 [02:12<11:55,  1.90s/dataframe]"
     ]
    },
    {
     "name": "stdout",
     "output_type": "stream",
     "text": [
      "Data(edge_index=[2, 83116], num_nodes=25329, x=[25329, 15], edge_attr=[83116, 1], pos=[25329, 3, 2], y=[25329, 1])\n"
     ]
    },
    {
     "name": "stderr",
     "output_type": "stream",
     "text": [
      "Processing result_dic:  16%|█▋        | 73/449 [02:14<11:40,  1.86s/dataframe]"
     ]
    },
    {
     "name": "stdout",
     "output_type": "stream",
     "text": [
      "Data(edge_index=[2, 83116], num_nodes=25329, x=[25329, 15], edge_attr=[83116, 1], pos=[25329, 3, 2], y=[25329, 1])\n"
     ]
    },
    {
     "name": "stderr",
     "output_type": "stream",
     "text": [
      "Processing result_dic:  16%|█▋        | 74/449 [02:15<11:27,  1.83s/dataframe]"
     ]
    },
    {
     "name": "stdout",
     "output_type": "stream",
     "text": [
      "Data(edge_index=[2, 83116], num_nodes=25329, x=[25329, 15], edge_attr=[83116, 1], pos=[25329, 3, 2], y=[25329, 1])\n"
     ]
    },
    {
     "name": "stderr",
     "output_type": "stream",
     "text": [
      "Processing result_dic:  17%|█▋        | 75/449 [02:17<11:35,  1.86s/dataframe]"
     ]
    },
    {
     "name": "stdout",
     "output_type": "stream",
     "text": [
      "Data(edge_index=[2, 83116], num_nodes=25329, x=[25329, 15], edge_attr=[83116, 1], pos=[25329, 3, 2], y=[25329, 1])\n"
     ]
    },
    {
     "name": "stderr",
     "output_type": "stream",
     "text": [
      "Processing result_dic:  17%|█▋        | 76/449 [02:19<11:22,  1.83s/dataframe]"
     ]
    },
    {
     "name": "stdout",
     "output_type": "stream",
     "text": [
      "Data(edge_index=[2, 83116], num_nodes=25329, x=[25329, 15], edge_attr=[83116, 1], pos=[25329, 3, 2], y=[25329, 1])\n"
     ]
    },
    {
     "name": "stderr",
     "output_type": "stream",
     "text": [
      "Processing result_dic:  17%|█▋        | 77/449 [02:21<11:28,  1.85s/dataframe]"
     ]
    },
    {
     "name": "stdout",
     "output_type": "stream",
     "text": [
      "Data(edge_index=[2, 83116], num_nodes=25329, x=[25329, 15], edge_attr=[83116, 1], pos=[25329, 3, 2], y=[25329, 1])\n"
     ]
    },
    {
     "name": "stderr",
     "output_type": "stream",
     "text": [
      "Processing result_dic:  17%|█▋        | 78/449 [02:23<11:29,  1.86s/dataframe]"
     ]
    },
    {
     "name": "stdout",
     "output_type": "stream",
     "text": [
      "Data(edge_index=[2, 83116], num_nodes=25329, x=[25329, 15], edge_attr=[83116, 1], pos=[25329, 3, 2], y=[25329, 1])\n"
     ]
    },
    {
     "name": "stderr",
     "output_type": "stream",
     "text": [
      "Processing result_dic:  18%|█▊        | 79/449 [02:25<11:32,  1.87s/dataframe]"
     ]
    },
    {
     "name": "stdout",
     "output_type": "stream",
     "text": [
      "Data(edge_index=[2, 83116], num_nodes=25329, x=[25329, 15], edge_attr=[83116, 1], pos=[25329, 3, 2], y=[25329, 1])\n"
     ]
    },
    {
     "name": "stderr",
     "output_type": "stream",
     "text": [
      "Processing result_dic:  18%|█▊        | 80/449 [02:27<11:20,  1.84s/dataframe]"
     ]
    },
    {
     "name": "stdout",
     "output_type": "stream",
     "text": [
      "Data(edge_index=[2, 83116], num_nodes=25329, x=[25329, 15], edge_attr=[83116, 1], pos=[25329, 3, 2], y=[25329, 1])\n"
     ]
    },
    {
     "name": "stderr",
     "output_type": "stream",
     "text": [
      "Processing result_dic:  18%|█▊        | 81/449 [02:28<11:11,  1.82s/dataframe]"
     ]
    },
    {
     "name": "stdout",
     "output_type": "stream",
     "text": [
      "Data(edge_index=[2, 83116], num_nodes=25329, x=[25329, 15], edge_attr=[83116, 1], pos=[25329, 3, 2], y=[25329, 1])\n"
     ]
    },
    {
     "name": "stderr",
     "output_type": "stream",
     "text": [
      "Processing result_dic:  18%|█▊        | 82/449 [02:30<11:18,  1.85s/dataframe]"
     ]
    },
    {
     "name": "stdout",
     "output_type": "stream",
     "text": [
      "Data(edge_index=[2, 83116], num_nodes=25329, x=[25329, 15], edge_attr=[83116, 1], pos=[25329, 3, 2], y=[25329, 1])\n"
     ]
    },
    {
     "name": "stderr",
     "output_type": "stream",
     "text": [
      "Processing result_dic:  18%|█▊        | 83/449 [02:32<11:07,  1.82s/dataframe]"
     ]
    },
    {
     "name": "stdout",
     "output_type": "stream",
     "text": [
      "Data(edge_index=[2, 83116], num_nodes=25329, x=[25329, 15], edge_attr=[83116, 1], pos=[25329, 3, 2], y=[25329, 1])\n"
     ]
    },
    {
     "name": "stderr",
     "output_type": "stream",
     "text": [
      "Processing result_dic:  19%|█▊        | 84/449 [02:34<11:15,  1.85s/dataframe]"
     ]
    },
    {
     "name": "stdout",
     "output_type": "stream",
     "text": [
      "Data(edge_index=[2, 83116], num_nodes=25329, x=[25329, 15], edge_attr=[83116, 1], pos=[25329, 3, 2], y=[25329, 1])\n"
     ]
    },
    {
     "name": "stderr",
     "output_type": "stream",
     "text": [
      "Processing result_dic:  19%|█▉        | 85/449 [02:36<11:18,  1.87s/dataframe]"
     ]
    },
    {
     "name": "stdout",
     "output_type": "stream",
     "text": [
      "Data(edge_index=[2, 83116], num_nodes=25329, x=[25329, 15], edge_attr=[83116, 1], pos=[25329, 3, 2], y=[25329, 1])\n"
     ]
    },
    {
     "name": "stderr",
     "output_type": "stream",
     "text": [
      "Processing result_dic:  19%|█▉        | 86/449 [02:38<11:21,  1.88s/dataframe]"
     ]
    },
    {
     "name": "stdout",
     "output_type": "stream",
     "text": [
      "Data(edge_index=[2, 83116], num_nodes=25329, x=[25329, 15], edge_attr=[83116, 1], pos=[25329, 3, 2], y=[25329, 1])\n"
     ]
    },
    {
     "name": "stderr",
     "output_type": "stream",
     "text": [
      "Processing result_dic:  19%|█▉        | 87/449 [02:40<11:07,  1.84s/dataframe]"
     ]
    },
    {
     "name": "stdout",
     "output_type": "stream",
     "text": [
      "Data(edge_index=[2, 83116], num_nodes=25329, x=[25329, 15], edge_attr=[83116, 1], pos=[25329, 3, 2], y=[25329, 1])\n"
     ]
    },
    {
     "name": "stderr",
     "output_type": "stream",
     "text": [
      "Processing result_dic:  20%|█▉        | 88/449 [02:41<11:14,  1.87s/dataframe]"
     ]
    },
    {
     "name": "stdout",
     "output_type": "stream",
     "text": [
      "Data(edge_index=[2, 83116], num_nodes=25329, x=[25329, 15], edge_attr=[83116, 1], pos=[25329, 3, 2], y=[25329, 1])\n"
     ]
    },
    {
     "name": "stderr",
     "output_type": "stream",
     "text": [
      "Processing result_dic:  20%|█▉        | 89/449 [02:43<11:01,  1.84s/dataframe]"
     ]
    },
    {
     "name": "stdout",
     "output_type": "stream",
     "text": [
      "Data(edge_index=[2, 83116], num_nodes=25329, x=[25329, 15], edge_attr=[83116, 1], pos=[25329, 3, 2], y=[25329, 1])\n"
     ]
    },
    {
     "name": "stderr",
     "output_type": "stream",
     "text": [
      "Processing result_dic:  20%|██        | 90/449 [02:45<10:52,  1.82s/dataframe]"
     ]
    },
    {
     "name": "stdout",
     "output_type": "stream",
     "text": [
      "Data(edge_index=[2, 83116], num_nodes=25329, x=[25329, 15], edge_attr=[83116, 1], pos=[25329, 3, 2], y=[25329, 1])\n"
     ]
    },
    {
     "name": "stderr",
     "output_type": "stream",
     "text": [
      "Processing result_dic:  20%|██        | 91/449 [02:47<11:13,  1.88s/dataframe]"
     ]
    },
    {
     "name": "stdout",
     "output_type": "stream",
     "text": [
      "Data(edge_index=[2, 83116], num_nodes=25329, x=[25329, 15], edge_attr=[83116, 1], pos=[25329, 3, 2], y=[25329, 1])\n"
     ]
    },
    {
     "name": "stderr",
     "output_type": "stream",
     "text": [
      "Processing result_dic:  20%|██        | 92/449 [02:49<11:01,  1.85s/dataframe]"
     ]
    },
    {
     "name": "stdout",
     "output_type": "stream",
     "text": [
      "Data(edge_index=[2, 83116], num_nodes=25329, x=[25329, 15], edge_attr=[83116, 1], pos=[25329, 3, 2], y=[25329, 1])\n"
     ]
    },
    {
     "name": "stderr",
     "output_type": "stream",
     "text": [
      "Processing result_dic:  21%|██        | 93/449 [02:51<11:03,  1.86s/dataframe]"
     ]
    },
    {
     "name": "stdout",
     "output_type": "stream",
     "text": [
      "Data(edge_index=[2, 83116], num_nodes=25329, x=[25329, 15], edge_attr=[83116, 1], pos=[25329, 3, 2], y=[25329, 1])\n"
     ]
    },
    {
     "name": "stderr",
     "output_type": "stream",
     "text": [
      "Processing result_dic:  21%|██        | 94/449 [02:52<10:50,  1.83s/dataframe]"
     ]
    },
    {
     "name": "stdout",
     "output_type": "stream",
     "text": [
      "Data(edge_index=[2, 83116], num_nodes=25329, x=[25329, 15], edge_attr=[83116, 1], pos=[25329, 3, 2], y=[25329, 1])\n"
     ]
    },
    {
     "name": "stderr",
     "output_type": "stream",
     "text": [
      "Processing result_dic:  21%|██        | 95/449 [02:54<10:55,  1.85s/dataframe]"
     ]
    },
    {
     "name": "stdout",
     "output_type": "stream",
     "text": [
      "Data(edge_index=[2, 83116], num_nodes=25329, x=[25329, 15], edge_attr=[83116, 1], pos=[25329, 3, 2], y=[25329, 1])\n"
     ]
    },
    {
     "name": "stderr",
     "output_type": "stream",
     "text": [
      "Processing result_dic:  21%|██▏       | 96/449 [02:56<10:44,  1.83s/dataframe]"
     ]
    },
    {
     "name": "stdout",
     "output_type": "stream",
     "text": [
      "Data(edge_index=[2, 83116], num_nodes=25329, x=[25329, 15], edge_attr=[83116, 1], pos=[25329, 3, 2], y=[25329, 1])\n"
     ]
    },
    {
     "name": "stderr",
     "output_type": "stream",
     "text": [
      "Processing result_dic:  22%|██▏       | 97/449 [02:58<10:59,  1.87s/dataframe]"
     ]
    },
    {
     "name": "stdout",
     "output_type": "stream",
     "text": [
      "Data(edge_index=[2, 83116], num_nodes=25329, x=[25329, 15], edge_attr=[83116, 1], pos=[25329, 3, 2], y=[25329, 1])\n"
     ]
    },
    {
     "name": "stderr",
     "output_type": "stream",
     "text": [
      "Processing result_dic:  22%|██▏       | 98/449 [03:00<10:46,  1.84s/dataframe]"
     ]
    },
    {
     "name": "stdout",
     "output_type": "stream",
     "text": [
      "Data(edge_index=[2, 83116], num_nodes=25329, x=[25329, 15], edge_attr=[83116, 1], pos=[25329, 3, 2], y=[25329, 1])\n"
     ]
    },
    {
     "name": "stderr",
     "output_type": "stream",
     "text": [
      "Processing result_dic:  22%|██▏       | 99/449 [03:02<10:52,  1.86s/dataframe]"
     ]
    },
    {
     "name": "stdout",
     "output_type": "stream",
     "text": [
      "Data(edge_index=[2, 83116], num_nodes=25329, x=[25329, 15], edge_attr=[83116, 1], pos=[25329, 3, 2], y=[25329, 1])\n"
     ]
    },
    {
     "name": "stderr",
     "output_type": "stream",
     "text": [
      "Processing result_dic:  22%|██▏       | 100/449 [03:04<10:41,  1.84s/dataframe]"
     ]
    },
    {
     "name": "stdout",
     "output_type": "stream",
     "text": [
      "Data(edge_index=[2, 83116], num_nodes=25329, x=[25329, 15], edge_attr=[83116, 1], pos=[25329, 3, 2], y=[25329, 1])\n"
     ]
    },
    {
     "name": "stderr",
     "output_type": "stream",
     "text": [
      "Processing result_dic:  22%|██▏       | 101/449 [03:05<10:33,  1.82s/dataframe]"
     ]
    },
    {
     "name": "stdout",
     "output_type": "stream",
     "text": [
      "Data(edge_index=[2, 83116], num_nodes=25329, x=[25329, 15], edge_attr=[83116, 1], pos=[25329, 3, 2], y=[25329, 1])\n"
     ]
    },
    {
     "name": "stderr",
     "output_type": "stream",
     "text": [
      "Processing result_dic:  23%|██▎       | 102/449 [03:07<10:41,  1.85s/dataframe]"
     ]
    },
    {
     "name": "stdout",
     "output_type": "stream",
     "text": [
      "Data(edge_index=[2, 83116], num_nodes=25329, x=[25329, 15], edge_attr=[83116, 1], pos=[25329, 3, 2], y=[25329, 1])\n"
     ]
    },
    {
     "name": "stderr",
     "output_type": "stream",
     "text": [
      "Processing result_dic:  23%|██▎       | 103/449 [03:09<10:31,  1.83s/dataframe]"
     ]
    },
    {
     "name": "stdout",
     "output_type": "stream",
     "text": [
      "Data(edge_index=[2, 83116], num_nodes=25329, x=[25329, 15], edge_attr=[83116, 1], pos=[25329, 3, 2], y=[25329, 1])\n"
     ]
    },
    {
     "name": "stderr",
     "output_type": "stream",
     "text": [
      "Processing result_dic:  23%|██▎       | 104/449 [03:11<10:53,  1.89s/dataframe]"
     ]
    },
    {
     "name": "stdout",
     "output_type": "stream",
     "text": [
      "Data(edge_index=[2, 83116], num_nodes=25329, x=[25329, 15], edge_attr=[83116, 1], pos=[25329, 3, 2], y=[25329, 1])\n"
     ]
    },
    {
     "name": "stderr",
     "output_type": "stream",
     "text": [
      "Processing result_dic:  23%|██▎       | 105/449 [03:13<10:39,  1.86s/dataframe]"
     ]
    },
    {
     "name": "stdout",
     "output_type": "stream",
     "text": [
      "Data(edge_index=[2, 83116], num_nodes=25329, x=[25329, 15], edge_attr=[83116, 1], pos=[25329, 3, 2], y=[25329, 1])\n"
     ]
    },
    {
     "name": "stderr",
     "output_type": "stream",
     "text": [
      "Processing result_dic:  24%|██▎       | 106/449 [03:15<10:42,  1.87s/dataframe]"
     ]
    },
    {
     "name": "stdout",
     "output_type": "stream",
     "text": [
      "Data(edge_index=[2, 83116], num_nodes=25329, x=[25329, 15], edge_attr=[83116, 1], pos=[25329, 3, 2], y=[25329, 1])\n"
     ]
    },
    {
     "name": "stderr",
     "output_type": "stream",
     "text": [
      "Processing result_dic:  24%|██▍       | 107/449 [03:17<10:31,  1.85s/dataframe]"
     ]
    },
    {
     "name": "stdout",
     "output_type": "stream",
     "text": [
      "Data(edge_index=[2, 83116], num_nodes=25329, x=[25329, 15], edge_attr=[83116, 1], pos=[25329, 3, 2], y=[25329, 1])\n"
     ]
    },
    {
     "name": "stderr",
     "output_type": "stream",
     "text": [
      "Processing result_dic:  24%|██▍       | 108/449 [03:18<10:22,  1.83s/dataframe]"
     ]
    },
    {
     "name": "stdout",
     "output_type": "stream",
     "text": [
      "Data(edge_index=[2, 83116], num_nodes=25329, x=[25329, 15], edge_attr=[83116, 1], pos=[25329, 3, 2], y=[25329, 1])\n"
     ]
    },
    {
     "name": "stderr",
     "output_type": "stream",
     "text": [
      "Processing result_dic:  24%|██▍       | 109/449 [03:20<10:30,  1.85s/dataframe]"
     ]
    },
    {
     "name": "stdout",
     "output_type": "stream",
     "text": [
      "Data(edge_index=[2, 83116], num_nodes=25329, x=[25329, 15], edge_attr=[83116, 1], pos=[25329, 3, 2], y=[25329, 1])\n"
     ]
    },
    {
     "name": "stderr",
     "output_type": "stream",
     "text": [
      "Processing result_dic:  24%|██▍       | 110/449 [03:22<10:20,  1.83s/dataframe]"
     ]
    },
    {
     "name": "stdout",
     "output_type": "stream",
     "text": [
      "Data(edge_index=[2, 83116], num_nodes=25329, x=[25329, 15], edge_attr=[83116, 1], pos=[25329, 3, 2], y=[25329, 1])\n"
     ]
    },
    {
     "name": "stderr",
     "output_type": "stream",
     "text": [
      "Processing result_dic:  25%|██▍       | 111/449 [03:24<10:37,  1.89s/dataframe]"
     ]
    },
    {
     "name": "stdout",
     "output_type": "stream",
     "text": [
      "Data(edge_index=[2, 83116], num_nodes=25329, x=[25329, 15], edge_attr=[83116, 1], pos=[25329, 3, 2], y=[25329, 1])\n"
     ]
    },
    {
     "name": "stderr",
     "output_type": "stream",
     "text": [
      "Processing result_dic:  25%|██▍       | 112/449 [03:26<10:27,  1.86s/dataframe]"
     ]
    },
    {
     "name": "stdout",
     "output_type": "stream",
     "text": [
      "Data(edge_index=[2, 83116], num_nodes=25329, x=[25329, 15], edge_attr=[83116, 1], pos=[25329, 3, 2], y=[25329, 1])\n"
     ]
    },
    {
     "name": "stderr",
     "output_type": "stream",
     "text": [
      "Processing result_dic:  25%|██▌       | 113/449 [03:28<10:33,  1.89s/dataframe]"
     ]
    },
    {
     "name": "stdout",
     "output_type": "stream",
     "text": [
      "Data(edge_index=[2, 83116], num_nodes=25329, x=[25329, 15], edge_attr=[83116, 1], pos=[25329, 3, 2], y=[25329, 1])\n"
     ]
    },
    {
     "name": "stderr",
     "output_type": "stream",
     "text": [
      "Processing result_dic:  25%|██▌       | 114/449 [03:30<10:20,  1.85s/dataframe]"
     ]
    },
    {
     "name": "stdout",
     "output_type": "stream",
     "text": [
      "Data(edge_index=[2, 83116], num_nodes=25329, x=[25329, 15], edge_attr=[83116, 1], pos=[25329, 3, 2], y=[25329, 1])\n"
     ]
    },
    {
     "name": "stderr",
     "output_type": "stream",
     "text": [
      "Processing result_dic:  26%|██▌       | 115/449 [03:31<10:23,  1.87s/dataframe]"
     ]
    },
    {
     "name": "stdout",
     "output_type": "stream",
     "text": [
      "Data(edge_index=[2, 83116], num_nodes=25329, x=[25329, 15], edge_attr=[83116, 1], pos=[25329, 3, 2], y=[25329, 1])\n"
     ]
    },
    {
     "name": "stderr",
     "output_type": "stream",
     "text": [
      "Processing result_dic:  26%|██▌       | 116/449 [03:33<10:10,  1.83s/dataframe]"
     ]
    },
    {
     "name": "stdout",
     "output_type": "stream",
     "text": [
      "Data(edge_index=[2, 83116], num_nodes=25329, x=[25329, 15], edge_attr=[83116, 1], pos=[25329, 3, 2], y=[25329, 1])\n"
     ]
    },
    {
     "name": "stderr",
     "output_type": "stream",
     "text": [
      "Processing result_dic:  26%|██▌       | 117/449 [03:35<10:18,  1.86s/dataframe]"
     ]
    },
    {
     "name": "stdout",
     "output_type": "stream",
     "text": [
      "Data(edge_index=[2, 83116], num_nodes=25329, x=[25329, 15], edge_attr=[83116, 1], pos=[25329, 3, 2], y=[25329, 1])\n"
     ]
    },
    {
     "name": "stderr",
     "output_type": "stream",
     "text": [
      "Processing result_dic:  26%|██▋       | 118/449 [03:37<10:20,  1.87s/dataframe]"
     ]
    },
    {
     "name": "stdout",
     "output_type": "stream",
     "text": [
      "Data(edge_index=[2, 83116], num_nodes=25329, x=[25329, 15], edge_attr=[83116, 1], pos=[25329, 3, 2], y=[25329, 1])\n"
     ]
    },
    {
     "name": "stderr",
     "output_type": "stream",
     "text": [
      "Processing result_dic:  27%|██▋       | 119/449 [03:39<10:07,  1.84s/dataframe]"
     ]
    },
    {
     "name": "stdout",
     "output_type": "stream",
     "text": [
      "Data(edge_index=[2, 83116], num_nodes=25329, x=[25329, 15], edge_attr=[83116, 1], pos=[25329, 3, 2], y=[25329, 1])\n"
     ]
    },
    {
     "name": "stderr",
     "output_type": "stream",
     "text": [
      "Processing result_dic:  27%|██▋       | 120/449 [03:41<10:16,  1.87s/dataframe]"
     ]
    },
    {
     "name": "stdout",
     "output_type": "stream",
     "text": [
      "Data(edge_index=[2, 83116], num_nodes=25329, x=[25329, 15], edge_attr=[83116, 1], pos=[25329, 3, 2], y=[25329, 1])\n"
     ]
    },
    {
     "name": "stderr",
     "output_type": "stream",
     "text": [
      "Processing result_dic:  27%|██▋       | 121/449 [03:43<10:04,  1.84s/dataframe]"
     ]
    },
    {
     "name": "stdout",
     "output_type": "stream",
     "text": [
      "Data(edge_index=[2, 83116], num_nodes=25329, x=[25329, 15], edge_attr=[83116, 1], pos=[25329, 3, 2], y=[25329, 1])\n"
     ]
    },
    {
     "name": "stderr",
     "output_type": "stream",
     "text": [
      "Processing result_dic:  27%|██▋       | 122/449 [03:44<10:08,  1.86s/dataframe]"
     ]
    },
    {
     "name": "stdout",
     "output_type": "stream",
     "text": [
      "Data(edge_index=[2, 83116], num_nodes=25329, x=[25329, 15], edge_attr=[83116, 1], pos=[25329, 3, 2], y=[25329, 1])\n"
     ]
    },
    {
     "name": "stderr",
     "output_type": "stream",
     "text": [
      "Processing result_dic:  27%|██▋       | 123/449 [03:46<10:11,  1.87s/dataframe]"
     ]
    },
    {
     "name": "stdout",
     "output_type": "stream",
     "text": [
      "Data(edge_index=[2, 83116], num_nodes=25329, x=[25329, 15], edge_attr=[83116, 1], pos=[25329, 3, 2], y=[25329, 1])\n"
     ]
    },
    {
     "name": "stderr",
     "output_type": "stream",
     "text": [
      "Processing result_dic:  28%|██▊       | 124/449 [03:48<10:13,  1.89s/dataframe]"
     ]
    },
    {
     "name": "stdout",
     "output_type": "stream",
     "text": [
      "Data(edge_index=[2, 83116], num_nodes=25329, x=[25329, 15], edge_attr=[83116, 1], pos=[25329, 3, 2], y=[25329, 1])\n"
     ]
    },
    {
     "name": "stderr",
     "output_type": "stream",
     "text": [
      "Processing result_dic:  28%|██▊       | 125/449 [03:50<10:00,  1.85s/dataframe]"
     ]
    },
    {
     "name": "stdout",
     "output_type": "stream",
     "text": [
      "Data(edge_index=[2, 83116], num_nodes=25329, x=[25329, 15], edge_attr=[83116, 1], pos=[25329, 3, 2], y=[25329, 1])\n"
     ]
    },
    {
     "name": "stderr",
     "output_type": "stream",
     "text": [
      "Processing result_dic:  28%|██▊       | 126/449 [03:52<10:05,  1.87s/dataframe]"
     ]
    },
    {
     "name": "stdout",
     "output_type": "stream",
     "text": [
      "Data(edge_index=[2, 83116], num_nodes=25329, x=[25329, 15], edge_attr=[83116, 1], pos=[25329, 3, 2], y=[25329, 1])\n"
     ]
    },
    {
     "name": "stderr",
     "output_type": "stream",
     "text": [
      "Processing result_dic:  28%|██▊       | 127/449 [03:54<09:54,  1.84s/dataframe]"
     ]
    },
    {
     "name": "stdout",
     "output_type": "stream",
     "text": [
      "Data(edge_index=[2, 83116], num_nodes=25329, x=[25329, 15], edge_attr=[83116, 1], pos=[25329, 3, 2], y=[25329, 1])\n"
     ]
    },
    {
     "name": "stderr",
     "output_type": "stream",
     "text": [
      "Processing result_dic:  29%|██▊       | 128/449 [03:56<09:47,  1.83s/dataframe]"
     ]
    },
    {
     "name": "stdout",
     "output_type": "stream",
     "text": [
      "Data(edge_index=[2, 83116], num_nodes=25329, x=[25329, 15], edge_attr=[83116, 1], pos=[25329, 3, 2], y=[25329, 1])\n"
     ]
    },
    {
     "name": "stderr",
     "output_type": "stream",
     "text": [
      "Processing result_dic:  29%|██▊       | 129/449 [03:57<09:55,  1.86s/dataframe]"
     ]
    },
    {
     "name": "stdout",
     "output_type": "stream",
     "text": [
      "Data(edge_index=[2, 83116], num_nodes=25329, x=[25329, 15], edge_attr=[83116, 1], pos=[25329, 3, 2], y=[25329, 1])\n"
     ]
    },
    {
     "name": "stderr",
     "output_type": "stream",
     "text": [
      "Processing result_dic:  29%|██▉       | 130/449 [03:59<09:56,  1.87s/dataframe]"
     ]
    },
    {
     "name": "stdout",
     "output_type": "stream",
     "text": [
      "Data(edge_index=[2, 83116], num_nodes=25329, x=[25329, 15], edge_attr=[83116, 1], pos=[25329, 3, 2], y=[25329, 1])\n"
     ]
    },
    {
     "name": "stderr",
     "output_type": "stream",
     "text": [
      "Processing result_dic:  29%|██▉       | 131/449 [04:01<09:59,  1.89s/dataframe]"
     ]
    },
    {
     "name": "stdout",
     "output_type": "stream",
     "text": [
      "Data(edge_index=[2, 83116], num_nodes=25329, x=[25329, 15], edge_attr=[83116, 1], pos=[25329, 3, 2], y=[25329, 1])\n"
     ]
    },
    {
     "name": "stderr",
     "output_type": "stream",
     "text": [
      "Processing result_dic:  29%|██▉       | 132/449 [04:03<09:46,  1.85s/dataframe]"
     ]
    },
    {
     "name": "stdout",
     "output_type": "stream",
     "text": [
      "Data(edge_index=[2, 83116], num_nodes=25329, x=[25329, 15], edge_attr=[83116, 1], pos=[25329, 3, 2], y=[25329, 1])\n"
     ]
    },
    {
     "name": "stderr",
     "output_type": "stream",
     "text": [
      "Processing result_dic:  30%|██▉       | 133/449 [04:05<09:49,  1.86s/dataframe]"
     ]
    },
    {
     "name": "stdout",
     "output_type": "stream",
     "text": [
      "Data(edge_index=[2, 83116], num_nodes=25329, x=[25329, 15], edge_attr=[83116, 1], pos=[25329, 3, 2], y=[25329, 1])\n"
     ]
    },
    {
     "name": "stderr",
     "output_type": "stream",
     "text": [
      "Processing result_dic:  30%|██▉       | 134/449 [04:07<09:39,  1.84s/dataframe]"
     ]
    },
    {
     "name": "stdout",
     "output_type": "stream",
     "text": [
      "Data(edge_index=[2, 83116], num_nodes=25329, x=[25329, 15], edge_attr=[83116, 1], pos=[25329, 3, 2], y=[25329, 1])\n"
     ]
    },
    {
     "name": "stderr",
     "output_type": "stream",
     "text": [
      "Processing result_dic:  30%|███       | 135/449 [04:09<09:43,  1.86s/dataframe]"
     ]
    },
    {
     "name": "stdout",
     "output_type": "stream",
     "text": [
      "Data(edge_index=[2, 83116], num_nodes=25329, x=[25329, 15], edge_attr=[83116, 1], pos=[25329, 3, 2], y=[25329, 1])\n"
     ]
    },
    {
     "name": "stderr",
     "output_type": "stream",
     "text": [
      "Processing result_dic:  30%|███       | 136/449 [04:11<10:07,  1.94s/dataframe]"
     ]
    },
    {
     "name": "stdout",
     "output_type": "stream",
     "text": [
      "Data(edge_index=[2, 83116], num_nodes=25329, x=[25329, 15], edge_attr=[83116, 1], pos=[25329, 3, 2], y=[25329, 1])\n"
     ]
    },
    {
     "name": "stderr",
     "output_type": "stream",
     "text": [
      "Processing result_dic:  31%|███       | 137/449 [04:13<09:51,  1.90s/dataframe]"
     ]
    },
    {
     "name": "stdout",
     "output_type": "stream",
     "text": [
      "Data(edge_index=[2, 83116], num_nodes=25329, x=[25329, 15], edge_attr=[83116, 1], pos=[25329, 3, 2], y=[25329, 1])\n"
     ]
    },
    {
     "name": "stderr",
     "output_type": "stream",
     "text": [
      "Processing result_dic:  31%|███       | 138/449 [04:15<09:53,  1.91s/dataframe]"
     ]
    },
    {
     "name": "stdout",
     "output_type": "stream",
     "text": [
      "Data(edge_index=[2, 83116], num_nodes=25329, x=[25329, 15], edge_attr=[83116, 1], pos=[25329, 3, 2], y=[25329, 1])\n"
     ]
    },
    {
     "name": "stderr",
     "output_type": "stream",
     "text": [
      "Processing result_dic:  31%|███       | 139/449 [04:16<09:40,  1.87s/dataframe]"
     ]
    },
    {
     "name": "stdout",
     "output_type": "stream",
     "text": [
      "Data(edge_index=[2, 83116], num_nodes=25329, x=[25329, 15], edge_attr=[83116, 1], pos=[25329, 3, 2], y=[25329, 1])\n"
     ]
    },
    {
     "name": "stderr",
     "output_type": "stream",
     "text": [
      "Processing result_dic:  31%|███       | 140/449 [04:18<09:40,  1.88s/dataframe]"
     ]
    },
    {
     "name": "stdout",
     "output_type": "stream",
     "text": [
      "Data(edge_index=[2, 83116], num_nodes=25329, x=[25329, 15], edge_attr=[83116, 1], pos=[25329, 3, 2], y=[25329, 1])\n"
     ]
    },
    {
     "name": "stderr",
     "output_type": "stream",
     "text": [
      "Processing result_dic:  31%|███▏      | 141/449 [04:20<09:39,  1.88s/dataframe]"
     ]
    },
    {
     "name": "stdout",
     "output_type": "stream",
     "text": [
      "Data(edge_index=[2, 83116], num_nodes=25329, x=[25329, 15], edge_attr=[83116, 1], pos=[25329, 3, 2], y=[25329, 1])\n"
     ]
    },
    {
     "name": "stderr",
     "output_type": "stream",
     "text": [
      "Processing result_dic:  32%|███▏      | 142/449 [04:22<09:40,  1.89s/dataframe]"
     ]
    },
    {
     "name": "stdout",
     "output_type": "stream",
     "text": [
      "Data(edge_index=[2, 83116], num_nodes=25329, x=[25329, 15], edge_attr=[83116, 1], pos=[25329, 3, 2], y=[25329, 1])\n"
     ]
    },
    {
     "name": "stderr",
     "output_type": "stream",
     "text": [
      "Processing result_dic:  32%|███▏      | 143/449 [04:24<09:28,  1.86s/dataframe]"
     ]
    },
    {
     "name": "stdout",
     "output_type": "stream",
     "text": [
      "Data(edge_index=[2, 83116], num_nodes=25329, x=[25329, 15], edge_attr=[83116, 1], pos=[25329, 3, 2], y=[25329, 1])\n"
     ]
    },
    {
     "name": "stderr",
     "output_type": "stream",
     "text": [
      "Processing result_dic:  32%|███▏      | 144/449 [04:26<09:19,  1.83s/dataframe]"
     ]
    },
    {
     "name": "stdout",
     "output_type": "stream",
     "text": [
      "Data(edge_index=[2, 83116], num_nodes=25329, x=[25329, 15], edge_attr=[83116, 1], pos=[25329, 3, 2], y=[25329, 1])\n"
     ]
    },
    {
     "name": "stderr",
     "output_type": "stream",
     "text": [
      "Processing result_dic:  32%|███▏      | 145/449 [04:27<09:22,  1.85s/dataframe]"
     ]
    },
    {
     "name": "stdout",
     "output_type": "stream",
     "text": [
      "Data(edge_index=[2, 83116], num_nodes=25329, x=[25329, 15], edge_attr=[83116, 1], pos=[25329, 3, 2], y=[25329, 1])\n"
     ]
    },
    {
     "name": "stderr",
     "output_type": "stream",
     "text": [
      "Processing result_dic:  33%|███▎      | 146/449 [04:29<09:13,  1.83s/dataframe]"
     ]
    },
    {
     "name": "stdout",
     "output_type": "stream",
     "text": [
      "Data(edge_index=[2, 83116], num_nodes=25329, x=[25329, 15], edge_attr=[83116, 1], pos=[25329, 3, 2], y=[25329, 1])\n"
     ]
    },
    {
     "name": "stderr",
     "output_type": "stream",
     "text": [
      "Processing result_dic:  33%|███▎      | 147/449 [04:31<09:31,  1.89s/dataframe]"
     ]
    },
    {
     "name": "stdout",
     "output_type": "stream",
     "text": [
      "Data(edge_index=[2, 83116], num_nodes=25329, x=[25329, 15], edge_attr=[83116, 1], pos=[25329, 3, 2], y=[25329, 1])\n"
     ]
    },
    {
     "name": "stderr",
     "output_type": "stream",
     "text": [
      "Processing result_dic:  33%|███▎      | 148/449 [04:33<09:17,  1.85s/dataframe]"
     ]
    },
    {
     "name": "stdout",
     "output_type": "stream",
     "text": [
      "Data(edge_index=[2, 83116], num_nodes=25329, x=[25329, 15], edge_attr=[83116, 1], pos=[25329, 3, 2], y=[25329, 1])\n"
     ]
    },
    {
     "name": "stderr",
     "output_type": "stream",
     "text": [
      "Processing result_dic:  33%|███▎      | 149/449 [04:35<09:20,  1.87s/dataframe]"
     ]
    },
    {
     "name": "stdout",
     "output_type": "stream",
     "text": [
      "Data(edge_index=[2, 83116], num_nodes=25329, x=[25329, 15], edge_attr=[83116, 1], pos=[25329, 3, 2], y=[25329, 1])\n"
     ]
    },
    {
     "name": "stderr",
     "output_type": "stream",
     "text": [
      "Processing result_dic:  33%|███▎      | 150/449 [04:37<09:09,  1.84s/dataframe]"
     ]
    },
    {
     "name": "stdout",
     "output_type": "stream",
     "text": [
      "Data(edge_index=[2, 83116], num_nodes=25329, x=[25329, 15], edge_attr=[83116, 1], pos=[25329, 3, 2], y=[25329, 1])\n"
     ]
    },
    {
     "name": "stderr",
     "output_type": "stream",
     "text": [
      "Processing result_dic:  34%|███▎      | 151/449 [04:39<09:12,  1.85s/dataframe]"
     ]
    },
    {
     "name": "stdout",
     "output_type": "stream",
     "text": [
      "Data(edge_index=[2, 83116], num_nodes=25329, x=[25329, 15], edge_attr=[83116, 1], pos=[25329, 3, 2], y=[25329, 1])\n"
     ]
    },
    {
     "name": "stderr",
     "output_type": "stream",
     "text": [
      "Processing result_dic:  34%|███▍      | 152/449 [04:40<09:03,  1.83s/dataframe]"
     ]
    },
    {
     "name": "stdout",
     "output_type": "stream",
     "text": [
      "Data(edge_index=[2, 83116], num_nodes=25329, x=[25329, 15], edge_attr=[83116, 1], pos=[25329, 3, 2], y=[25329, 1])\n"
     ]
    },
    {
     "name": "stderr",
     "output_type": "stream",
     "text": [
      "Processing result_dic:  34%|███▍      | 153/449 [04:42<09:17,  1.88s/dataframe]"
     ]
    },
    {
     "name": "stdout",
     "output_type": "stream",
     "text": [
      "Data(edge_index=[2, 83116], num_nodes=25329, x=[25329, 15], edge_attr=[83116, 1], pos=[25329, 3, 2], y=[25329, 1])\n"
     ]
    },
    {
     "name": "stderr",
     "output_type": "stream",
     "text": [
      "Processing result_dic:  34%|███▍      | 154/449 [04:44<09:05,  1.85s/dataframe]"
     ]
    },
    {
     "name": "stdout",
     "output_type": "stream",
     "text": [
      "Data(edge_index=[2, 83116], num_nodes=25329, x=[25329, 15], edge_attr=[83116, 1], pos=[25329, 3, 2], y=[25329, 1])\n"
     ]
    },
    {
     "name": "stderr",
     "output_type": "stream",
     "text": [
      "Processing result_dic:  35%|███▍      | 155/449 [04:46<08:56,  1.83s/dataframe]"
     ]
    },
    {
     "name": "stdout",
     "output_type": "stream",
     "text": [
      "Data(edge_index=[2, 83116], num_nodes=25329, x=[25329, 15], edge_attr=[83116, 1], pos=[25329, 3, 2], y=[25329, 1])\n"
     ]
    },
    {
     "name": "stderr",
     "output_type": "stream",
     "text": [
      "Processing result_dic:  35%|███▍      | 156/449 [04:48<09:02,  1.85s/dataframe]"
     ]
    },
    {
     "name": "stdout",
     "output_type": "stream",
     "text": [
      "Data(edge_index=[2, 83116], num_nodes=25329, x=[25329, 15], edge_attr=[83116, 1], pos=[25329, 3, 2], y=[25329, 1])\n"
     ]
    },
    {
     "name": "stderr",
     "output_type": "stream",
     "text": [
      "Processing result_dic:  35%|███▍      | 157/449 [04:50<08:51,  1.82s/dataframe]"
     ]
    },
    {
     "name": "stdout",
     "output_type": "stream",
     "text": [
      "Data(edge_index=[2, 83116], num_nodes=25329, x=[25329, 15], edge_attr=[83116, 1], pos=[25329, 3, 2], y=[25329, 1])\n"
     ]
    },
    {
     "name": "stderr",
     "output_type": "stream",
     "text": [
      "Processing result_dic:  35%|███▌      | 158/449 [04:52<09:06,  1.88s/dataframe]"
     ]
    },
    {
     "name": "stdout",
     "output_type": "stream",
     "text": [
      "Data(edge_index=[2, 83116], num_nodes=25329, x=[25329, 15], edge_attr=[83116, 1], pos=[25329, 3, 2], y=[25329, 1])\n"
     ]
    },
    {
     "name": "stderr",
     "output_type": "stream",
     "text": [
      "Processing result_dic:  35%|███▌      | 159/449 [04:53<08:55,  1.84s/dataframe]"
     ]
    },
    {
     "name": "stdout",
     "output_type": "stream",
     "text": [
      "Data(edge_index=[2, 83116], num_nodes=25329, x=[25329, 15], edge_attr=[83116, 1], pos=[25329, 3, 2], y=[25329, 1])\n"
     ]
    },
    {
     "name": "stderr",
     "output_type": "stream",
     "text": [
      "Processing result_dic:  36%|███▌      | 160/449 [04:55<09:01,  1.87s/dataframe]"
     ]
    },
    {
     "name": "stdout",
     "output_type": "stream",
     "text": [
      "Data(edge_index=[2, 83116], num_nodes=25329, x=[25329, 15], edge_attr=[83116, 1], pos=[25329, 3, 2], y=[25329, 1])\n"
     ]
    },
    {
     "name": "stderr",
     "output_type": "stream",
     "text": [
      "Processing result_dic:  36%|███▌      | 161/449 [04:57<08:52,  1.85s/dataframe]"
     ]
    },
    {
     "name": "stdout",
     "output_type": "stream",
     "text": [
      "Data(edge_index=[2, 83116], num_nodes=25329, x=[25329, 15], edge_attr=[83116, 1], pos=[25329, 3, 2], y=[25329, 1])\n"
     ]
    },
    {
     "name": "stderr",
     "output_type": "stream",
     "text": [
      "Processing result_dic:  36%|███▌      | 162/449 [04:59<08:45,  1.83s/dataframe]"
     ]
    },
    {
     "name": "stdout",
     "output_type": "stream",
     "text": [
      "Data(edge_index=[2, 83116], num_nodes=25329, x=[25329, 15], edge_attr=[83116, 1], pos=[25329, 3, 2], y=[25329, 1])\n"
     ]
    },
    {
     "name": "stderr",
     "output_type": "stream",
     "text": [
      "Processing result_dic:  36%|███▋      | 163/449 [05:01<09:05,  1.91s/dataframe]"
     ]
    },
    {
     "name": "stdout",
     "output_type": "stream",
     "text": [
      "Data(edge_index=[2, 83116], num_nodes=25329, x=[25329, 15], edge_attr=[83116, 1], pos=[25329, 3, 2], y=[25329, 1])\n"
     ]
    },
    {
     "name": "stderr",
     "output_type": "stream",
     "text": [
      "Processing result_dic:  37%|███▋      | 164/449 [05:03<08:51,  1.87s/dataframe]"
     ]
    },
    {
     "name": "stdout",
     "output_type": "stream",
     "text": [
      "Data(edge_index=[2, 83116], num_nodes=25329, x=[25329, 15], edge_attr=[83116, 1], pos=[25329, 3, 2], y=[25329, 1])\n"
     ]
    },
    {
     "name": "stderr",
     "output_type": "stream",
     "text": [
      "Processing result_dic:  37%|███▋      | 165/449 [05:05<08:55,  1.88s/dataframe]"
     ]
    },
    {
     "name": "stdout",
     "output_type": "stream",
     "text": [
      "Data(edge_index=[2, 83116], num_nodes=25329, x=[25329, 15], edge_attr=[83116, 1], pos=[25329, 3, 2], y=[25329, 1])\n"
     ]
    },
    {
     "name": "stderr",
     "output_type": "stream",
     "text": [
      "Processing result_dic:  37%|███▋      | 166/449 [05:06<08:48,  1.87s/dataframe]"
     ]
    },
    {
     "name": "stdout",
     "output_type": "stream",
     "text": [
      "Data(edge_index=[2, 83116], num_nodes=25329, x=[25329, 15], edge_attr=[83116, 1], pos=[25329, 3, 2], y=[25329, 1])\n"
     ]
    },
    {
     "name": "stderr",
     "output_type": "stream",
     "text": [
      "Processing result_dic:  37%|███▋      | 167/449 [05:08<08:54,  1.89s/dataframe]"
     ]
    },
    {
     "name": "stdout",
     "output_type": "stream",
     "text": [
      "Data(edge_index=[2, 83116], num_nodes=25329, x=[25329, 15], edge_attr=[83116, 1], pos=[25329, 3, 2], y=[25329, 1])\n"
     ]
    },
    {
     "name": "stderr",
     "output_type": "stream",
     "text": [
      "Processing result_dic:  37%|███▋      | 168/449 [05:10<08:42,  1.86s/dataframe]"
     ]
    },
    {
     "name": "stdout",
     "output_type": "stream",
     "text": [
      "Data(edge_index=[2, 83116], num_nodes=25329, x=[25329, 15], edge_attr=[83116, 1], pos=[25329, 3, 2], y=[25329, 1])\n"
     ]
    },
    {
     "name": "stderr",
     "output_type": "stream",
     "text": [
      "Processing result_dic:  38%|███▊      | 169/449 [05:12<08:54,  1.91s/dataframe]"
     ]
    },
    {
     "name": "stdout",
     "output_type": "stream",
     "text": [
      "Data(edge_index=[2, 83116], num_nodes=25329, x=[25329, 15], edge_attr=[83116, 1], pos=[25329, 3, 2], y=[25329, 1])\n"
     ]
    },
    {
     "name": "stderr",
     "output_type": "stream",
     "text": [
      "Processing result_dic:  38%|███▊      | 170/449 [05:14<08:40,  1.87s/dataframe]"
     ]
    },
    {
     "name": "stdout",
     "output_type": "stream",
     "text": [
      "Data(edge_index=[2, 83116], num_nodes=25329, x=[25329, 15], edge_attr=[83116, 1], pos=[25329, 3, 2], y=[25329, 1])\n"
     ]
    },
    {
     "name": "stderr",
     "output_type": "stream",
     "text": [
      "Processing result_dic:  38%|███▊      | 171/449 [05:16<08:34,  1.85s/dataframe]"
     ]
    },
    {
     "name": "stdout",
     "output_type": "stream",
     "text": [
      "Data(edge_index=[2, 83116], num_nodes=25329, x=[25329, 15], edge_attr=[83116, 1], pos=[25329, 3, 2], y=[25329, 1])\n"
     ]
    },
    {
     "name": "stderr",
     "output_type": "stream",
     "text": [
      "Processing result_dic:  38%|███▊      | 172/449 [05:18<08:44,  1.89s/dataframe]"
     ]
    },
    {
     "name": "stdout",
     "output_type": "stream",
     "text": [
      "Data(edge_index=[2, 83116], num_nodes=25329, x=[25329, 15], edge_attr=[83116, 1], pos=[25329, 3, 2], y=[25329, 1])\n"
     ]
    },
    {
     "name": "stderr",
     "output_type": "stream",
     "text": [
      "Processing result_dic:  39%|███▊      | 173/449 [05:20<08:45,  1.90s/dataframe]"
     ]
    },
    {
     "name": "stdout",
     "output_type": "stream",
     "text": [
      "Data(edge_index=[2, 83116], num_nodes=25329, x=[25329, 15], edge_attr=[83116, 1], pos=[25329, 3, 2], y=[25329, 1])\n"
     ]
    },
    {
     "name": "stderr",
     "output_type": "stream",
     "text": [
      "Processing result_dic:  39%|███▉      | 174/449 [05:22<08:44,  1.91s/dataframe]"
     ]
    },
    {
     "name": "stdout",
     "output_type": "stream",
     "text": [
      "Data(edge_index=[2, 83116], num_nodes=25329, x=[25329, 15], edge_attr=[83116, 1], pos=[25329, 3, 2], y=[25329, 1])\n"
     ]
    },
    {
     "name": "stderr",
     "output_type": "stream",
     "text": [
      "Processing result_dic:  39%|███▉      | 175/449 [05:23<08:31,  1.87s/dataframe]"
     ]
    },
    {
     "name": "stdout",
     "output_type": "stream",
     "text": [
      "Data(edge_index=[2, 83116], num_nodes=25329, x=[25329, 15], edge_attr=[83116, 1], pos=[25329, 3, 2], y=[25329, 1])\n"
     ]
    },
    {
     "name": "stderr",
     "output_type": "stream",
     "text": [
      "Processing result_dic:  39%|███▉      | 176/449 [05:25<08:33,  1.88s/dataframe]"
     ]
    },
    {
     "name": "stdout",
     "output_type": "stream",
     "text": [
      "Data(edge_index=[2, 83116], num_nodes=25329, x=[25329, 15], edge_attr=[83116, 1], pos=[25329, 3, 2], y=[25329, 1])\n"
     ]
    },
    {
     "name": "stderr",
     "output_type": "stream",
     "text": [
      "Processing result_dic:  39%|███▉      | 177/449 [05:27<08:22,  1.85s/dataframe]"
     ]
    },
    {
     "name": "stdout",
     "output_type": "stream",
     "text": [
      "Data(edge_index=[2, 83116], num_nodes=25329, x=[25329, 15], edge_attr=[83116, 1], pos=[25329, 3, 2], y=[25329, 1])\n"
     ]
    },
    {
     "name": "stderr",
     "output_type": "stream",
     "text": [
      "Processing result_dic:  40%|███▉      | 178/449 [05:29<08:26,  1.87s/dataframe]"
     ]
    },
    {
     "name": "stdout",
     "output_type": "stream",
     "text": [
      "Data(edge_index=[2, 83116], num_nodes=25329, x=[25329, 15], edge_attr=[83116, 1], pos=[25329, 3, 2], y=[25329, 1])\n"
     ]
    },
    {
     "name": "stderr",
     "output_type": "stream",
     "text": [
      "Processing result_dic:  40%|███▉      | 179/449 [05:31<08:24,  1.87s/dataframe]"
     ]
    },
    {
     "name": "stdout",
     "output_type": "stream",
     "text": [
      "Data(edge_index=[2, 83116], num_nodes=25329, x=[25329, 15], edge_attr=[83116, 1], pos=[25329, 3, 2], y=[25329, 1])\n"
     ]
    },
    {
     "name": "stderr",
     "output_type": "stream",
     "text": [
      "Processing result_dic:  40%|████      | 180/449 [05:33<08:25,  1.88s/dataframe]"
     ]
    },
    {
     "name": "stdout",
     "output_type": "stream",
     "text": [
      "Data(edge_index=[2, 83116], num_nodes=25329, x=[25329, 15], edge_attr=[83116, 1], pos=[25329, 3, 2], y=[25329, 1])\n"
     ]
    },
    {
     "name": "stderr",
     "output_type": "stream",
     "text": [
      "Processing result_dic:  40%|████      | 181/449 [05:35<08:14,  1.84s/dataframe]"
     ]
    },
    {
     "name": "stdout",
     "output_type": "stream",
     "text": [
      "Data(edge_index=[2, 83116], num_nodes=25329, x=[25329, 15], edge_attr=[83116, 1], pos=[25329, 3, 2], y=[25329, 1])\n"
     ]
    },
    {
     "name": "stderr",
     "output_type": "stream",
     "text": [
      "Processing result_dic:  41%|████      | 182/449 [05:36<08:06,  1.82s/dataframe]"
     ]
    },
    {
     "name": "stdout",
     "output_type": "stream",
     "text": [
      "Data(edge_index=[2, 83116], num_nodes=25329, x=[25329, 15], edge_attr=[83116, 1], pos=[25329, 3, 2], y=[25329, 1])\n"
     ]
    },
    {
     "name": "stderr",
     "output_type": "stream",
     "text": [
      "Processing result_dic:  41%|████      | 183/449 [05:38<08:10,  1.84s/dataframe]"
     ]
    },
    {
     "name": "stdout",
     "output_type": "stream",
     "text": [
      "Data(edge_index=[2, 83116], num_nodes=25329, x=[25329, 15], edge_attr=[83116, 1], pos=[25329, 3, 2], y=[25329, 1])\n"
     ]
    },
    {
     "name": "stderr",
     "output_type": "stream",
     "text": [
      "Processing result_dic:  41%|████      | 184/449 [05:40<08:10,  1.85s/dataframe]"
     ]
    },
    {
     "name": "stdout",
     "output_type": "stream",
     "text": [
      "Data(edge_index=[2, 83116], num_nodes=25329, x=[25329, 15], edge_attr=[83116, 1], pos=[25329, 3, 2], y=[25329, 1])\n"
     ]
    },
    {
     "name": "stderr",
     "output_type": "stream",
     "text": [
      "Processing result_dic:  41%|████      | 185/449 [05:42<08:12,  1.87s/dataframe]"
     ]
    },
    {
     "name": "stdout",
     "output_type": "stream",
     "text": [
      "Data(edge_index=[2, 83116], num_nodes=25329, x=[25329, 15], edge_attr=[83116, 1], pos=[25329, 3, 2], y=[25329, 1])\n"
     ]
    },
    {
     "name": "stderr",
     "output_type": "stream",
     "text": [
      "Processing result_dic:  41%|████▏     | 186/449 [05:44<08:02,  1.83s/dataframe]"
     ]
    },
    {
     "name": "stdout",
     "output_type": "stream",
     "text": [
      "Data(edge_index=[2, 83116], num_nodes=25329, x=[25329, 15], edge_attr=[83116, 1], pos=[25329, 3, 2], y=[25329, 1])\n"
     ]
    },
    {
     "name": "stderr",
     "output_type": "stream",
     "text": [
      "Processing result_dic:  42%|████▏     | 187/449 [05:46<08:05,  1.85s/dataframe]"
     ]
    },
    {
     "name": "stdout",
     "output_type": "stream",
     "text": [
      "Data(edge_index=[2, 83116], num_nodes=25329, x=[25329, 15], edge_attr=[83116, 1], pos=[25329, 3, 2], y=[25329, 1])\n"
     ]
    },
    {
     "name": "stderr",
     "output_type": "stream",
     "text": [
      "Processing result_dic:  42%|████▏     | 188/449 [05:47<07:56,  1.83s/dataframe]"
     ]
    },
    {
     "name": "stdout",
     "output_type": "stream",
     "text": [
      "Data(edge_index=[2, 83116], num_nodes=25329, x=[25329, 15], edge_attr=[83116, 1], pos=[25329, 3, 2], y=[25329, 1])\n"
     ]
    },
    {
     "name": "stderr",
     "output_type": "stream",
     "text": [
      "Processing result_dic:  42%|████▏     | 189/449 [05:49<07:59,  1.84s/dataframe]"
     ]
    },
    {
     "name": "stdout",
     "output_type": "stream",
     "text": [
      "Data(edge_index=[2, 83116], num_nodes=25329, x=[25329, 15], edge_attr=[83116, 1], pos=[25329, 3, 2], y=[25329, 1])\n"
     ]
    },
    {
     "name": "stderr",
     "output_type": "stream",
     "text": [
      "Processing result_dic:  42%|████▏     | 190/449 [05:51<08:01,  1.86s/dataframe]"
     ]
    },
    {
     "name": "stdout",
     "output_type": "stream",
     "text": [
      "Data(edge_index=[2, 83116], num_nodes=25329, x=[25329, 15], edge_attr=[83116, 1], pos=[25329, 3, 2], y=[25329, 1])\n"
     ]
    },
    {
     "name": "stderr",
     "output_type": "stream",
     "text": [
      "Processing result_dic:  43%|████▎     | 191/449 [05:53<07:52,  1.83s/dataframe]"
     ]
    },
    {
     "name": "stdout",
     "output_type": "stream",
     "text": [
      "Data(edge_index=[2, 83116], num_nodes=25329, x=[25329, 15], edge_attr=[83116, 1], pos=[25329, 3, 2], y=[25329, 1])\n"
     ]
    },
    {
     "name": "stderr",
     "output_type": "stream",
     "text": [
      "Processing result_dic:  43%|████▎     | 192/449 [05:55<07:56,  1.85s/dataframe]"
     ]
    },
    {
     "name": "stdout",
     "output_type": "stream",
     "text": [
      "Data(edge_index=[2, 83116], num_nodes=25329, x=[25329, 15], edge_attr=[83116, 1], pos=[25329, 3, 2], y=[25329, 1])\n"
     ]
    },
    {
     "name": "stderr",
     "output_type": "stream",
     "text": [
      "Processing result_dic:  43%|████▎     | 193/449 [05:57<07:49,  1.83s/dataframe]"
     ]
    },
    {
     "name": "stdout",
     "output_type": "stream",
     "text": [
      "Data(edge_index=[2, 83116], num_nodes=25329, x=[25329, 15], edge_attr=[83116, 1], pos=[25329, 3, 2], y=[25329, 1])\n"
     ]
    },
    {
     "name": "stderr",
     "output_type": "stream",
     "text": [
      "Processing result_dic:  43%|████▎     | 194/449 [05:59<08:00,  1.88s/dataframe]"
     ]
    },
    {
     "name": "stdout",
     "output_type": "stream",
     "text": [
      "Data(edge_index=[2, 83116], num_nodes=25329, x=[25329, 15], edge_attr=[83116, 1], pos=[25329, 3, 2], y=[25329, 1])\n"
     ]
    },
    {
     "name": "stderr",
     "output_type": "stream",
     "text": [
      "Processing result_dic:  43%|████▎     | 195/449 [06:00<07:49,  1.85s/dataframe]"
     ]
    },
    {
     "name": "stdout",
     "output_type": "stream",
     "text": [
      "Data(edge_index=[2, 83116], num_nodes=25329, x=[25329, 15], edge_attr=[83116, 1], pos=[25329, 3, 2], y=[25329, 1])\n"
     ]
    },
    {
     "name": "stderr",
     "output_type": "stream",
     "text": [
      "Processing result_dic:  44%|████▎     | 196/449 [06:02<07:52,  1.87s/dataframe]"
     ]
    },
    {
     "name": "stdout",
     "output_type": "stream",
     "text": [
      "Data(edge_index=[2, 83116], num_nodes=25329, x=[25329, 15], edge_attr=[83116, 1], pos=[25329, 3, 2], y=[25329, 1])\n"
     ]
    },
    {
     "name": "stderr",
     "output_type": "stream",
     "text": [
      "Processing result_dic:  44%|████▍     | 197/449 [06:04<07:42,  1.84s/dataframe]"
     ]
    },
    {
     "name": "stdout",
     "output_type": "stream",
     "text": [
      "Data(edge_index=[2, 83116], num_nodes=25329, x=[25329, 15], edge_attr=[83116, 1], pos=[25329, 3, 2], y=[25329, 1])\n"
     ]
    },
    {
     "name": "stderr",
     "output_type": "stream",
     "text": [
      "Processing result_dic:  44%|████▍     | 198/449 [06:06<07:34,  1.81s/dataframe]"
     ]
    },
    {
     "name": "stdout",
     "output_type": "stream",
     "text": [
      "Data(edge_index=[2, 83116], num_nodes=25329, x=[25329, 15], edge_attr=[83116, 1], pos=[25329, 3, 2], y=[25329, 1])\n"
     ]
    },
    {
     "name": "stderr",
     "output_type": "stream",
     "text": [
      "Processing result_dic:  44%|████▍     | 199/449 [06:08<07:38,  1.83s/dataframe]"
     ]
    },
    {
     "name": "stdout",
     "output_type": "stream",
     "text": [
      "Data(edge_index=[2, 83116], num_nodes=25329, x=[25329, 15], edge_attr=[83116, 1], pos=[25329, 3, 2], y=[25329, 1])\n"
     ]
    },
    {
     "name": "stderr",
     "output_type": "stream",
     "text": [
      "Processing result_dic:  45%|████▍     | 200/449 [06:10<07:38,  1.84s/dataframe]"
     ]
    },
    {
     "name": "stdout",
     "output_type": "stream",
     "text": [
      "Data(edge_index=[2, 83116], num_nodes=25329, x=[25329, 15], edge_attr=[83116, 1], pos=[25329, 3, 2], y=[25329, 1])\n"
     ]
    },
    {
     "name": "stderr",
     "output_type": "stream",
     "text": [
      "Processing result_dic:  45%|████▍     | 201/449 [06:11<07:41,  1.86s/dataframe]"
     ]
    },
    {
     "name": "stdout",
     "output_type": "stream",
     "text": [
      "Data(edge_index=[2, 83116], num_nodes=25329, x=[25329, 15], edge_attr=[83116, 1], pos=[25329, 3, 2], y=[25329, 1])\n"
     ]
    },
    {
     "name": "stderr",
     "output_type": "stream",
     "text": [
      "Processing result_dic:  45%|████▍     | 202/449 [06:13<07:32,  1.83s/dataframe]"
     ]
    },
    {
     "name": "stdout",
     "output_type": "stream",
     "text": [
      "Data(edge_index=[2, 83116], num_nodes=25329, x=[25329, 15], edge_attr=[83116, 1], pos=[25329, 3, 2], y=[25329, 1])\n"
     ]
    },
    {
     "name": "stderr",
     "output_type": "stream",
     "text": [
      "Processing result_dic:  45%|████▌     | 203/449 [06:15<07:35,  1.85s/dataframe]"
     ]
    },
    {
     "name": "stdout",
     "output_type": "stream",
     "text": [
      "Data(edge_index=[2, 83116], num_nodes=25329, x=[25329, 15], edge_attr=[83116, 1], pos=[25329, 3, 2], y=[25329, 1])\n"
     ]
    },
    {
     "name": "stderr",
     "output_type": "stream",
     "text": [
      "Processing result_dic:  45%|████▌     | 204/449 [06:17<07:34,  1.86s/dataframe]"
     ]
    },
    {
     "name": "stdout",
     "output_type": "stream",
     "text": [
      "Data(edge_index=[2, 83116], num_nodes=25329, x=[25329, 15], edge_attr=[83116, 1], pos=[25329, 3, 2], y=[25329, 1])\n"
     ]
    },
    {
     "name": "stderr",
     "output_type": "stream",
     "text": [
      "Processing result_dic:  46%|████▌     | 205/449 [06:19<07:34,  1.86s/dataframe]"
     ]
    },
    {
     "name": "stdout",
     "output_type": "stream",
     "text": [
      "Data(edge_index=[2, 83116], num_nodes=25329, x=[25329, 15], edge_attr=[83116, 1], pos=[25329, 3, 2], y=[25329, 1])\n"
     ]
    },
    {
     "name": "stderr",
     "output_type": "stream",
     "text": [
      "Processing result_dic:  46%|████▌     | 206/449 [06:21<07:25,  1.83s/dataframe]"
     ]
    },
    {
     "name": "stdout",
     "output_type": "stream",
     "text": [
      "Data(edge_index=[2, 83116], num_nodes=25329, x=[25329, 15], edge_attr=[83116, 1], pos=[25329, 3, 2], y=[25329, 1])\n"
     ]
    },
    {
     "name": "stderr",
     "output_type": "stream",
     "text": [
      "Processing result_dic:  46%|████▌     | 207/449 [06:23<07:28,  1.85s/dataframe]"
     ]
    },
    {
     "name": "stdout",
     "output_type": "stream",
     "text": [
      "Data(edge_index=[2, 83116], num_nodes=25329, x=[25329, 15], edge_attr=[83116, 1], pos=[25329, 3, 2], y=[25329, 1])\n"
     ]
    },
    {
     "name": "stderr",
     "output_type": "stream",
     "text": [
      "Processing result_dic:  46%|████▋     | 208/449 [06:24<07:19,  1.82s/dataframe]"
     ]
    },
    {
     "name": "stdout",
     "output_type": "stream",
     "text": [
      "Data(edge_index=[2, 83116], num_nodes=25329, x=[25329, 15], edge_attr=[83116, 1], pos=[25329, 3, 2], y=[25329, 1])\n"
     ]
    },
    {
     "name": "stderr",
     "output_type": "stream",
     "text": [
      "Processing result_dic:  47%|████▋     | 209/449 [06:26<07:21,  1.84s/dataframe]"
     ]
    },
    {
     "name": "stdout",
     "output_type": "stream",
     "text": [
      "Data(edge_index=[2, 83116], num_nodes=25329, x=[25329, 15], edge_attr=[83116, 1], pos=[25329, 3, 2], y=[25329, 1])\n"
     ]
    },
    {
     "name": "stderr",
     "output_type": "stream",
     "text": [
      "Processing result_dic:  47%|████▋     | 210/449 [06:28<07:23,  1.86s/dataframe]"
     ]
    },
    {
     "name": "stdout",
     "output_type": "stream",
     "text": [
      "Data(edge_index=[2, 83116], num_nodes=25329, x=[25329, 15], edge_attr=[83116, 1], pos=[25329, 3, 2], y=[25329, 1])\n"
     ]
    },
    {
     "name": "stderr",
     "output_type": "stream",
     "text": [
      "Processing result_dic:  47%|████▋     | 211/449 [06:30<07:14,  1.82s/dataframe]"
     ]
    },
    {
     "name": "stdout",
     "output_type": "stream",
     "text": [
      "Data(edge_index=[2, 83116], num_nodes=25329, x=[25329, 15], edge_attr=[83116, 1], pos=[25329, 3, 2], y=[25329, 1])\n"
     ]
    },
    {
     "name": "stderr",
     "output_type": "stream",
     "text": [
      "Processing result_dic:  47%|████▋     | 212/449 [06:32<07:17,  1.85s/dataframe]"
     ]
    },
    {
     "name": "stdout",
     "output_type": "stream",
     "text": [
      "Data(edge_index=[2, 83116], num_nodes=25329, x=[25329, 15], edge_attr=[83116, 1], pos=[25329, 3, 2], y=[25329, 1])\n"
     ]
    },
    {
     "name": "stderr",
     "output_type": "stream",
     "text": [
      "Processing result_dic:  47%|████▋     | 213/449 [06:34<07:09,  1.82s/dataframe]"
     ]
    },
    {
     "name": "stdout",
     "output_type": "stream",
     "text": [
      "Data(edge_index=[2, 83116], num_nodes=25329, x=[25329, 15], edge_attr=[83116, 1], pos=[25329, 3, 2], y=[25329, 1])\n"
     ]
    },
    {
     "name": "stderr",
     "output_type": "stream",
     "text": [
      "Processing result_dic:  48%|████▊     | 214/449 [06:36<07:21,  1.88s/dataframe]"
     ]
    },
    {
     "name": "stdout",
     "output_type": "stream",
     "text": [
      "Data(edge_index=[2, 83116], num_nodes=25329, x=[25329, 15], edge_attr=[83116, 1], pos=[25329, 3, 2], y=[25329, 1])\n"
     ]
    },
    {
     "name": "stderr",
     "output_type": "stream",
     "text": [
      "Processing result_dic:  48%|████▊     | 215/449 [06:37<07:11,  1.85s/dataframe]"
     ]
    },
    {
     "name": "stdout",
     "output_type": "stream",
     "text": [
      "Data(edge_index=[2, 83116], num_nodes=25329, x=[25329, 15], edge_attr=[83116, 1], pos=[25329, 3, 2], y=[25329, 1])\n"
     ]
    },
    {
     "name": "stderr",
     "output_type": "stream",
     "text": [
      "Processing result_dic:  48%|████▊     | 216/449 [06:39<07:05,  1.82s/dataframe]"
     ]
    },
    {
     "name": "stdout",
     "output_type": "stream",
     "text": [
      "Data(edge_index=[2, 83116], num_nodes=25329, x=[25329, 15], edge_attr=[83116, 1], pos=[25329, 3, 2], y=[25329, 1])\n"
     ]
    },
    {
     "name": "stderr",
     "output_type": "stream",
     "text": [
      "Processing result_dic:  48%|████▊     | 217/449 [06:41<07:07,  1.84s/dataframe]"
     ]
    },
    {
     "name": "stdout",
     "output_type": "stream",
     "text": [
      "Data(edge_index=[2, 83116], num_nodes=25329, x=[25329, 15], edge_attr=[83116, 1], pos=[25329, 3, 2], y=[25329, 1])\n"
     ]
    },
    {
     "name": "stderr",
     "output_type": "stream",
     "text": [
      "Processing result_dic:  49%|████▊     | 218/449 [06:43<06:59,  1.82s/dataframe]"
     ]
    },
    {
     "name": "stdout",
     "output_type": "stream",
     "text": [
      "Data(edge_index=[2, 83116], num_nodes=25329, x=[25329, 15], edge_attr=[83116, 1], pos=[25329, 3, 2], y=[25329, 1])\n"
     ]
    },
    {
     "name": "stderr",
     "output_type": "stream",
     "text": [
      "Processing result_dic:  49%|████▉     | 219/449 [06:45<07:13,  1.88s/dataframe]"
     ]
    },
    {
     "name": "stdout",
     "output_type": "stream",
     "text": [
      "Data(edge_index=[2, 83116], num_nodes=25329, x=[25329, 15], edge_attr=[83116, 1], pos=[25329, 3, 2], y=[25329, 1])\n"
     ]
    },
    {
     "name": "stderr",
     "output_type": "stream",
     "text": [
      "Processing result_dic:  49%|████▉     | 220/449 [06:47<07:03,  1.85s/dataframe]"
     ]
    },
    {
     "name": "stdout",
     "output_type": "stream",
     "text": [
      "Data(edge_index=[2, 83116], num_nodes=25329, x=[25329, 15], edge_attr=[83116, 1], pos=[25329, 3, 2], y=[25329, 1])\n"
     ]
    },
    {
     "name": "stderr",
     "output_type": "stream",
     "text": [
      "Processing result_dic:  49%|████▉     | 221/449 [06:48<07:04,  1.86s/dataframe]"
     ]
    },
    {
     "name": "stdout",
     "output_type": "stream",
     "text": [
      "Data(edge_index=[2, 83116], num_nodes=25329, x=[25329, 15], edge_attr=[83116, 1], pos=[25329, 3, 2], y=[25329, 1])\n"
     ]
    },
    {
     "name": "stderr",
     "output_type": "stream",
     "text": [
      "Processing result_dic:  49%|████▉     | 222/449 [06:50<06:55,  1.83s/dataframe]"
     ]
    },
    {
     "name": "stdout",
     "output_type": "stream",
     "text": [
      "Data(edge_index=[2, 83116], num_nodes=25329, x=[25329, 15], edge_attr=[83116, 1], pos=[25329, 3, 2], y=[25329, 1])\n"
     ]
    },
    {
     "name": "stderr",
     "output_type": "stream",
     "text": [
      "Processing result_dic:  50%|████▉     | 223/449 [06:52<06:58,  1.85s/dataframe]"
     ]
    },
    {
     "name": "stdout",
     "output_type": "stream",
     "text": [
      "Data(edge_index=[2, 83116], num_nodes=25329, x=[25329, 15], edge_attr=[83116, 1], pos=[25329, 3, 2], y=[25329, 1])\n"
     ]
    },
    {
     "name": "stderr",
     "output_type": "stream",
     "text": [
      "Processing result_dic:  50%|████▉     | 224/449 [06:54<06:57,  1.86s/dataframe]"
     ]
    },
    {
     "name": "stdout",
     "output_type": "stream",
     "text": [
      "Data(edge_index=[2, 83116], num_nodes=25329, x=[25329, 15], edge_attr=[83116, 1], pos=[25329, 3, 2], y=[25329, 1])\n"
     ]
    },
    {
     "name": "stderr",
     "output_type": "stream",
     "text": [
      "Processing result_dic:  50%|█████     | 225/449 [06:56<06:50,  1.83s/dataframe]"
     ]
    },
    {
     "name": "stdout",
     "output_type": "stream",
     "text": [
      "Data(edge_index=[2, 83116], num_nodes=25329, x=[25329, 15], edge_attr=[83116, 1], pos=[25329, 3, 2], y=[25329, 1])\n"
     ]
    },
    {
     "name": "stderr",
     "output_type": "stream",
     "text": [
      "Processing result_dic:  50%|█████     | 226/449 [06:58<06:52,  1.85s/dataframe]"
     ]
    },
    {
     "name": "stdout",
     "output_type": "stream",
     "text": [
      "Data(edge_index=[2, 83116], num_nodes=25329, x=[25329, 15], edge_attr=[83116, 1], pos=[25329, 3, 2], y=[25329, 1])\n"
     ]
    },
    {
     "name": "stderr",
     "output_type": "stream",
     "text": [
      "Processing result_dic:  51%|█████     | 227/449 [06:59<06:44,  1.82s/dataframe]"
     ]
    },
    {
     "name": "stdout",
     "output_type": "stream",
     "text": [
      "Data(edge_index=[2, 83116], num_nodes=25329, x=[25329, 15], edge_attr=[83116, 1], pos=[25329, 3, 2], y=[25329, 1])\n"
     ]
    },
    {
     "name": "stderr",
     "output_type": "stream",
     "text": [
      "Processing result_dic:  51%|█████     | 228/449 [07:01<06:47,  1.84s/dataframe]"
     ]
    },
    {
     "name": "stdout",
     "output_type": "stream",
     "text": [
      "Data(edge_index=[2, 83116], num_nodes=25329, x=[25329, 15], edge_attr=[83116, 1], pos=[25329, 3, 2], y=[25329, 1])\n"
     ]
    },
    {
     "name": "stderr",
     "output_type": "stream",
     "text": [
      "Processing result_dic:  51%|█████     | 229/449 [07:03<06:47,  1.85s/dataframe]"
     ]
    },
    {
     "name": "stdout",
     "output_type": "stream",
     "text": [
      "Data(edge_index=[2, 83116], num_nodes=25329, x=[25329, 15], edge_attr=[83116, 1], pos=[25329, 3, 2], y=[25329, 1])\n"
     ]
    },
    {
     "name": "stderr",
     "output_type": "stream",
     "text": [
      "Processing result_dic:  51%|█████     | 230/449 [07:05<06:49,  1.87s/dataframe]"
     ]
    },
    {
     "name": "stdout",
     "output_type": "stream",
     "text": [
      "Data(edge_index=[2, 83116], num_nodes=25329, x=[25329, 15], edge_attr=[83116, 1], pos=[25329, 3, 2], y=[25329, 1])\n"
     ]
    },
    {
     "name": "stderr",
     "output_type": "stream",
     "text": [
      "Processing result_dic:  51%|█████▏    | 231/449 [07:07<06:41,  1.84s/dataframe]"
     ]
    },
    {
     "name": "stdout",
     "output_type": "stream",
     "text": [
      "Data(edge_index=[2, 83116], num_nodes=25329, x=[25329, 15], edge_attr=[83116, 1], pos=[25329, 3, 2], y=[25329, 1])\n"
     ]
    },
    {
     "name": "stderr",
     "output_type": "stream",
     "text": [
      "Processing result_dic:  52%|█████▏    | 232/449 [07:09<06:43,  1.86s/dataframe]"
     ]
    },
    {
     "name": "stdout",
     "output_type": "stream",
     "text": [
      "Data(edge_index=[2, 83116], num_nodes=25329, x=[25329, 15], edge_attr=[83116, 1], pos=[25329, 3, 2], y=[25329, 1])\n"
     ]
    },
    {
     "name": "stderr",
     "output_type": "stream",
     "text": [
      "Processing result_dic:  52%|█████▏    | 233/449 [07:10<06:36,  1.83s/dataframe]"
     ]
    },
    {
     "name": "stdout",
     "output_type": "stream",
     "text": [
      "Data(edge_index=[2, 83116], num_nodes=25329, x=[25329, 15], edge_attr=[83116, 1], pos=[25329, 3, 2], y=[25329, 1])\n"
     ]
    },
    {
     "name": "stderr",
     "output_type": "stream",
     "text": [
      "Processing result_dic:  52%|█████▏    | 234/449 [07:12<06:38,  1.85s/dataframe]"
     ]
    },
    {
     "name": "stdout",
     "output_type": "stream",
     "text": [
      "Data(edge_index=[2, 83116], num_nodes=25329, x=[25329, 15], edge_attr=[83116, 1], pos=[25329, 3, 2], y=[25329, 1])\n"
     ]
    },
    {
     "name": "stderr",
     "output_type": "stream",
     "text": [
      "Processing result_dic:  52%|█████▏    | 235/449 [07:14<06:38,  1.86s/dataframe]"
     ]
    },
    {
     "name": "stdout",
     "output_type": "stream",
     "text": [
      "Data(edge_index=[2, 83116], num_nodes=25329, x=[25329, 15], edge_attr=[83116, 1], pos=[25329, 3, 2], y=[25329, 1])\n"
     ]
    },
    {
     "name": "stderr",
     "output_type": "stream",
     "text": [
      "Processing result_dic:  53%|█████▎    | 236/449 [07:16<06:30,  1.83s/dataframe]"
     ]
    },
    {
     "name": "stdout",
     "output_type": "stream",
     "text": [
      "Data(edge_index=[2, 83116], num_nodes=25329, x=[25329, 15], edge_attr=[83116, 1], pos=[25329, 3, 2], y=[25329, 1])\n"
     ]
    },
    {
     "name": "stderr",
     "output_type": "stream",
     "text": [
      "Processing result_dic:  53%|█████▎    | 237/449 [07:18<06:32,  1.85s/dataframe]"
     ]
    },
    {
     "name": "stdout",
     "output_type": "stream",
     "text": [
      "Data(edge_index=[2, 83116], num_nodes=25329, x=[25329, 15], edge_attr=[83116, 1], pos=[25329, 3, 2], y=[25329, 1])\n"
     ]
    },
    {
     "name": "stderr",
     "output_type": "stream",
     "text": [
      "Processing result_dic:  53%|█████▎    | 238/449 [07:20<06:24,  1.82s/dataframe]"
     ]
    },
    {
     "name": "stdout",
     "output_type": "stream",
     "text": [
      "Data(edge_index=[2, 83116], num_nodes=25329, x=[25329, 15], edge_attr=[83116, 1], pos=[25329, 3, 2], y=[25329, 1])\n"
     ]
    },
    {
     "name": "stderr",
     "output_type": "stream",
     "text": [
      "Processing result_dic:  53%|█████▎    | 239/449 [07:22<06:27,  1.85s/dataframe]"
     ]
    },
    {
     "name": "stdout",
     "output_type": "stream",
     "text": [
      "Data(edge_index=[2, 83116], num_nodes=25329, x=[25329, 15], edge_attr=[83116, 1], pos=[25329, 3, 2], y=[25329, 1])\n"
     ]
    },
    {
     "name": "stderr",
     "output_type": "stream",
     "text": [
      "Processing result_dic:  53%|█████▎    | 240/449 [07:23<06:26,  1.85s/dataframe]"
     ]
    },
    {
     "name": "stdout",
     "output_type": "stream",
     "text": [
      "Data(edge_index=[2, 83116], num_nodes=25329, x=[25329, 15], edge_attr=[83116, 1], pos=[25329, 3, 2], y=[25329, 1])\n"
     ]
    },
    {
     "name": "stderr",
     "output_type": "stream",
     "text": [
      "Processing result_dic:  54%|█████▎    | 241/449 [07:25<06:29,  1.87s/dataframe]"
     ]
    },
    {
     "name": "stdout",
     "output_type": "stream",
     "text": [
      "Data(edge_index=[2, 83116], num_nodes=25329, x=[25329, 15], edge_attr=[83116, 1], pos=[25329, 3, 2], y=[25329, 1])\n"
     ]
    },
    {
     "name": "stderr",
     "output_type": "stream",
     "text": [
      "Processing result_dic:  54%|█████▍    | 242/449 [07:27<06:20,  1.84s/dataframe]"
     ]
    },
    {
     "name": "stdout",
     "output_type": "stream",
     "text": [
      "Data(edge_index=[2, 83116], num_nodes=25329, x=[25329, 15], edge_attr=[83116, 1], pos=[25329, 3, 2], y=[25329, 1])\n"
     ]
    },
    {
     "name": "stderr",
     "output_type": "stream",
     "text": [
      "Processing result_dic:  54%|█████▍    | 243/449 [07:29<06:13,  1.81s/dataframe]"
     ]
    },
    {
     "name": "stdout",
     "output_type": "stream",
     "text": [
      "Data(edge_index=[2, 83116], num_nodes=25329, x=[25329, 15], edge_attr=[83116, 1], pos=[25329, 3, 2], y=[25329, 1])\n"
     ]
    },
    {
     "name": "stderr",
     "output_type": "stream",
     "text": [
      "Processing result_dic:  54%|█████▍    | 244/449 [07:31<06:16,  1.84s/dataframe]"
     ]
    },
    {
     "name": "stdout",
     "output_type": "stream",
     "text": [
      "Data(edge_index=[2, 83116], num_nodes=25329, x=[25329, 15], edge_attr=[83116, 1], pos=[25329, 3, 2], y=[25329, 1])\n"
     ]
    },
    {
     "name": "stderr",
     "output_type": "stream",
     "text": [
      "Processing result_dic:  55%|█████▍    | 245/449 [07:33<06:16,  1.84s/dataframe]"
     ]
    },
    {
     "name": "stdout",
     "output_type": "stream",
     "text": [
      "Data(edge_index=[2, 83116], num_nodes=25329, x=[25329, 15], edge_attr=[83116, 1], pos=[25329, 3, 2], y=[25329, 1])\n"
     ]
    },
    {
     "name": "stderr",
     "output_type": "stream",
     "text": [
      "Processing result_dic:  55%|█████▍    | 246/449 [07:35<06:17,  1.86s/dataframe]"
     ]
    },
    {
     "name": "stdout",
     "output_type": "stream",
     "text": [
      "Data(edge_index=[2, 83116], num_nodes=25329, x=[25329, 15], edge_attr=[83116, 1], pos=[25329, 3, 2], y=[25329, 1])\n"
     ]
    },
    {
     "name": "stderr",
     "output_type": "stream",
     "text": [
      "Processing result_dic:  55%|█████▌    | 247/449 [07:36<06:10,  1.83s/dataframe]"
     ]
    },
    {
     "name": "stdout",
     "output_type": "stream",
     "text": [
      "Data(edge_index=[2, 83116], num_nodes=25329, x=[25329, 15], edge_attr=[83116, 1], pos=[25329, 3, 2], y=[25329, 1])\n"
     ]
    },
    {
     "name": "stderr",
     "output_type": "stream",
     "text": [
      "Processing result_dic:  55%|█████▌    | 248/449 [07:38<06:11,  1.85s/dataframe]"
     ]
    },
    {
     "name": "stdout",
     "output_type": "stream",
     "text": [
      "Data(edge_index=[2, 83116], num_nodes=25329, x=[25329, 15], edge_attr=[83116, 1], pos=[25329, 3, 2], y=[25329, 1])\n"
     ]
    },
    {
     "name": "stderr",
     "output_type": "stream",
     "text": [
      "Processing result_dic:  55%|█████▌    | 249/449 [07:40<06:04,  1.82s/dataframe]"
     ]
    },
    {
     "name": "stdout",
     "output_type": "stream",
     "text": [
      "Data(edge_index=[2, 83116], num_nodes=25329, x=[25329, 15], edge_attr=[83116, 1], pos=[25329, 3, 2], y=[25329, 1])\n"
     ]
    },
    {
     "name": "stderr",
     "output_type": "stream",
     "text": [
      "Processing result_dic:  56%|█████▌    | 250/449 [07:42<06:13,  1.88s/dataframe]"
     ]
    },
    {
     "name": "stdout",
     "output_type": "stream",
     "text": [
      "Data(edge_index=[2, 83116], num_nodes=25329, x=[25329, 15], edge_attr=[83116, 1], pos=[25329, 3, 2], y=[25329, 1])\n"
     ]
    },
    {
     "name": "stderr",
     "output_type": "stream",
     "text": [
      "Processing result_dic:  56%|█████▌    | 251/449 [07:44<06:04,  1.84s/dataframe]"
     ]
    },
    {
     "name": "stdout",
     "output_type": "stream",
     "text": [
      "Data(edge_index=[2, 83116], num_nodes=25329, x=[25329, 15], edge_attr=[83116, 1], pos=[25329, 3, 2], y=[25329, 1])\n"
     ]
    },
    {
     "name": "stderr",
     "output_type": "stream",
     "text": [
      "Processing result_dic:  56%|█████▌    | 252/449 [07:45<05:57,  1.82s/dataframe]"
     ]
    },
    {
     "name": "stdout",
     "output_type": "stream",
     "text": [
      "Data(edge_index=[2, 83116], num_nodes=25329, x=[25329, 15], edge_attr=[83116, 1], pos=[25329, 3, 2], y=[25329, 1])\n"
     ]
    },
    {
     "name": "stderr",
     "output_type": "stream",
     "text": [
      "Processing result_dic:  56%|█████▋    | 253/449 [07:47<05:59,  1.84s/dataframe]"
     ]
    },
    {
     "name": "stdout",
     "output_type": "stream",
     "text": [
      "Data(edge_index=[2, 83116], num_nodes=25329, x=[25329, 15], edge_attr=[83116, 1], pos=[25329, 3, 2], y=[25329, 1])\n"
     ]
    },
    {
     "name": "stderr",
     "output_type": "stream",
     "text": [
      "Processing result_dic:  57%|█████▋    | 254/449 [07:49<05:52,  1.81s/dataframe]"
     ]
    },
    {
     "name": "stdout",
     "output_type": "stream",
     "text": [
      "Data(edge_index=[2, 83116], num_nodes=25329, x=[25329, 15], edge_attr=[83116, 1], pos=[25329, 3, 2], y=[25329, 1])\n"
     ]
    },
    {
     "name": "stderr",
     "output_type": "stream",
     "text": [
      "Processing result_dic:  57%|█████▋    | 255/449 [07:51<05:55,  1.83s/dataframe]"
     ]
    },
    {
     "name": "stdout",
     "output_type": "stream",
     "text": [
      "Data(edge_index=[2, 83116], num_nodes=25329, x=[25329, 15], edge_attr=[83116, 1], pos=[25329, 3, 2], y=[25329, 1])\n"
     ]
    },
    {
     "name": "stderr",
     "output_type": "stream",
     "text": [
      "Processing result_dic:  57%|█████▋    | 256/449 [07:53<05:48,  1.81s/dataframe]"
     ]
    },
    {
     "name": "stdout",
     "output_type": "stream",
     "text": [
      "Data(edge_index=[2, 83116], num_nodes=25329, x=[25329, 15], edge_attr=[83116, 1], pos=[25329, 3, 2], y=[25329, 1])\n"
     ]
    },
    {
     "name": "stderr",
     "output_type": "stream",
     "text": [
      "Processing result_dic:  57%|█████▋    | 257/449 [07:55<05:51,  1.83s/dataframe]"
     ]
    },
    {
     "name": "stdout",
     "output_type": "stream",
     "text": [
      "Data(edge_index=[2, 83116], num_nodes=25329, x=[25329, 15], edge_attr=[83116, 1], pos=[25329, 3, 2], y=[25329, 1])\n"
     ]
    },
    {
     "name": "stderr",
     "output_type": "stream",
     "text": [
      "Processing result_dic:  57%|█████▋    | 258/449 [07:56<05:44,  1.81s/dataframe]"
     ]
    },
    {
     "name": "stdout",
     "output_type": "stream",
     "text": [
      "Data(edge_index=[2, 83116], num_nodes=25329, x=[25329, 15], edge_attr=[83116, 1], pos=[25329, 3, 2], y=[25329, 1])\n"
     ]
    },
    {
     "name": "stderr",
     "output_type": "stream",
     "text": [
      "Processing result_dic:  58%|█████▊    | 259/449 [07:58<05:46,  1.83s/dataframe]"
     ]
    },
    {
     "name": "stdout",
     "output_type": "stream",
     "text": [
      "Data(edge_index=[2, 83116], num_nodes=25329, x=[25329, 15], edge_attr=[83116, 1], pos=[25329, 3, 2], y=[25329, 1])\n"
     ]
    },
    {
     "name": "stderr",
     "output_type": "stream",
     "text": [
      "Processing result_dic:  58%|█████▊    | 260/449 [08:00<05:45,  1.83s/dataframe]"
     ]
    },
    {
     "name": "stdout",
     "output_type": "stream",
     "text": [
      "Data(edge_index=[2, 83116], num_nodes=25329, x=[25329, 15], edge_attr=[83116, 1], pos=[25329, 3, 2], y=[25329, 1])\n"
     ]
    },
    {
     "name": "stderr",
     "output_type": "stream",
     "text": [
      "Processing result_dic:  58%|█████▊    | 261/449 [08:02<05:46,  1.84s/dataframe]"
     ]
    },
    {
     "name": "stdout",
     "output_type": "stream",
     "text": [
      "Data(edge_index=[2, 83116], num_nodes=25329, x=[25329, 15], edge_attr=[83116, 1], pos=[25329, 3, 2], y=[25329, 1])\n"
     ]
    },
    {
     "name": "stderr",
     "output_type": "stream",
     "text": [
      "Processing result_dic:  58%|█████▊    | 262/449 [08:04<05:39,  1.82s/dataframe]"
     ]
    },
    {
     "name": "stdout",
     "output_type": "stream",
     "text": [
      "Data(edge_index=[2, 83116], num_nodes=25329, x=[25329, 15], edge_attr=[83116, 1], pos=[25329, 3, 2], y=[25329, 1])\n"
     ]
    },
    {
     "name": "stderr",
     "output_type": "stream",
     "text": [
      "Processing result_dic:  59%|█████▊    | 263/449 [08:05<05:35,  1.80s/dataframe]"
     ]
    },
    {
     "name": "stdout",
     "output_type": "stream",
     "text": [
      "Data(edge_index=[2, 83116], num_nodes=25329, x=[25329, 15], edge_attr=[83116, 1], pos=[25329, 3, 2], y=[25329, 1])\n"
     ]
    },
    {
     "name": "stderr",
     "output_type": "stream",
     "text": [
      "Processing result_dic:  59%|█████▉    | 264/449 [08:07<05:37,  1.83s/dataframe]"
     ]
    },
    {
     "name": "stdout",
     "output_type": "stream",
     "text": [
      "Data(edge_index=[2, 83116], num_nodes=25329, x=[25329, 15], edge_attr=[83116, 1], pos=[25329, 3, 2], y=[25329, 1])\n"
     ]
    },
    {
     "name": "stderr",
     "output_type": "stream",
     "text": [
      "Processing result_dic:  59%|█████▉    | 265/449 [08:09<05:31,  1.80s/dataframe]"
     ]
    },
    {
     "name": "stdout",
     "output_type": "stream",
     "text": [
      "Data(edge_index=[2, 83116], num_nodes=25329, x=[25329, 15], edge_attr=[83116, 1], pos=[25329, 3, 2], y=[25329, 1])\n"
     ]
    },
    {
     "name": "stderr",
     "output_type": "stream",
     "text": [
      "Processing result_dic:  59%|█████▉    | 266/449 [08:11<05:34,  1.83s/dataframe]"
     ]
    },
    {
     "name": "stdout",
     "output_type": "stream",
     "text": [
      "Data(edge_index=[2, 83116], num_nodes=25329, x=[25329, 15], edge_attr=[83116, 1], pos=[25329, 3, 2], y=[25329, 1])\n"
     ]
    },
    {
     "name": "stderr",
     "output_type": "stream",
     "text": [
      "Processing result_dic:  59%|█████▉    | 267/449 [08:13<05:28,  1.80s/dataframe]"
     ]
    },
    {
     "name": "stdout",
     "output_type": "stream",
     "text": [
      "Data(edge_index=[2, 83116], num_nodes=25329, x=[25329, 15], edge_attr=[83116, 1], pos=[25329, 3, 2], y=[25329, 1])\n"
     ]
    },
    {
     "name": "stderr",
     "output_type": "stream",
     "text": [
      "Processing result_dic:  60%|█████▉    | 268/449 [08:15<05:30,  1.82s/dataframe]"
     ]
    },
    {
     "name": "stdout",
     "output_type": "stream",
     "text": [
      "Data(edge_index=[2, 83116], num_nodes=25329, x=[25329, 15], edge_attr=[83116, 1], pos=[25329, 3, 2], y=[25329, 1])\n"
     ]
    },
    {
     "name": "stderr",
     "output_type": "stream",
     "text": [
      "Processing result_dic:  60%|█████▉    | 269/449 [08:16<05:24,  1.80s/dataframe]"
     ]
    },
    {
     "name": "stdout",
     "output_type": "stream",
     "text": [
      "Data(edge_index=[2, 83116], num_nodes=25329, x=[25329, 15], edge_attr=[83116, 1], pos=[25329, 3, 2], y=[25329, 1])\n"
     ]
    },
    {
     "name": "stderr",
     "output_type": "stream",
     "text": [
      "Processing result_dic:  60%|██████    | 270/449 [08:18<05:25,  1.82s/dataframe]"
     ]
    },
    {
     "name": "stdout",
     "output_type": "stream",
     "text": [
      "Data(edge_index=[2, 83116], num_nodes=25329, x=[25329, 15], edge_attr=[83116, 1], pos=[25329, 3, 2], y=[25329, 1])\n"
     ]
    },
    {
     "name": "stderr",
     "output_type": "stream",
     "text": [
      "Processing result_dic:  60%|██████    | 271/449 [08:20<05:26,  1.84s/dataframe]"
     ]
    },
    {
     "name": "stdout",
     "output_type": "stream",
     "text": [
      "Data(edge_index=[2, 83116], num_nodes=25329, x=[25329, 15], edge_attr=[83116, 1], pos=[25329, 3, 2], y=[25329, 1])\n"
     ]
    },
    {
     "name": "stderr",
     "output_type": "stream",
     "text": [
      "Processing result_dic:  61%|██████    | 272/449 [08:22<05:20,  1.81s/dataframe]"
     ]
    },
    {
     "name": "stdout",
     "output_type": "stream",
     "text": [
      "Data(edge_index=[2, 83116], num_nodes=25329, x=[25329, 15], edge_attr=[83116, 1], pos=[25329, 3, 2], y=[25329, 1])\n"
     ]
    },
    {
     "name": "stderr",
     "output_type": "stream",
     "text": [
      "Processing result_dic:  61%|██████    | 273/449 [08:24<05:22,  1.83s/dataframe]"
     ]
    },
    {
     "name": "stdout",
     "output_type": "stream",
     "text": [
      "Data(edge_index=[2, 83116], num_nodes=25329, x=[25329, 15], edge_attr=[83116, 1], pos=[25329, 3, 2], y=[25329, 1])\n"
     ]
    },
    {
     "name": "stderr",
     "output_type": "stream",
     "text": [
      "Processing result_dic:  61%|██████    | 274/449 [08:25<05:17,  1.81s/dataframe]"
     ]
    },
    {
     "name": "stdout",
     "output_type": "stream",
     "text": [
      "Data(edge_index=[2, 83116], num_nodes=25329, x=[25329, 15], edge_attr=[83116, 1], pos=[25329, 3, 2], y=[25329, 1])\n"
     ]
    },
    {
     "name": "stderr",
     "output_type": "stream",
     "text": [
      "Processing result_dic:  61%|██████    | 275/449 [08:27<05:18,  1.83s/dataframe]"
     ]
    },
    {
     "name": "stdout",
     "output_type": "stream",
     "text": [
      "Data(edge_index=[2, 83116], num_nodes=25329, x=[25329, 15], edge_attr=[83116, 1], pos=[25329, 3, 2], y=[25329, 1])\n"
     ]
    },
    {
     "name": "stderr",
     "output_type": "stream",
     "text": [
      "Processing result_dic:  61%|██████▏   | 276/449 [08:29<05:12,  1.80s/dataframe]"
     ]
    },
    {
     "name": "stdout",
     "output_type": "stream",
     "text": [
      "Data(edge_index=[2, 83116], num_nodes=25329, x=[25329, 15], edge_attr=[83116, 1], pos=[25329, 3, 2], y=[25329, 1])\n"
     ]
    },
    {
     "name": "stderr",
     "output_type": "stream",
     "text": [
      "Processing result_dic:  62%|██████▏   | 277/449 [08:31<05:14,  1.83s/dataframe]"
     ]
    },
    {
     "name": "stdout",
     "output_type": "stream",
     "text": [
      "Data(edge_index=[2, 83116], num_nodes=25329, x=[25329, 15], edge_attr=[83116, 1], pos=[25329, 3, 2], y=[25329, 1])\n"
     ]
    },
    {
     "name": "stderr",
     "output_type": "stream",
     "text": [
      "Processing result_dic:  62%|██████▏   | 278/449 [08:33<05:07,  1.80s/dataframe]"
     ]
    },
    {
     "name": "stdout",
     "output_type": "stream",
     "text": [
      "Data(edge_index=[2, 83116], num_nodes=25329, x=[25329, 15], edge_attr=[83116, 1], pos=[25329, 3, 2], y=[25329, 1])\n"
     ]
    },
    {
     "name": "stderr",
     "output_type": "stream",
     "text": [
      "Processing result_dic:  62%|██████▏   | 279/449 [08:34<05:03,  1.78s/dataframe]"
     ]
    },
    {
     "name": "stdout",
     "output_type": "stream",
     "text": [
      "Data(edge_index=[2, 83116], num_nodes=25329, x=[25329, 15], edge_attr=[83116, 1], pos=[25329, 3, 2], y=[25329, 1])\n"
     ]
    },
    {
     "name": "stderr",
     "output_type": "stream",
     "text": [
      "Processing result_dic:  62%|██████▏   | 280/449 [08:36<05:06,  1.81s/dataframe]"
     ]
    },
    {
     "name": "stdout",
     "output_type": "stream",
     "text": [
      "Data(edge_index=[2, 83116], num_nodes=25329, x=[25329, 15], edge_attr=[83116, 1], pos=[25329, 3, 2], y=[25329, 1])\n"
     ]
    },
    {
     "name": "stderr",
     "output_type": "stream",
     "text": [
      "Processing result_dic:  63%|██████▎   | 281/449 [08:38<05:06,  1.82s/dataframe]"
     ]
    },
    {
     "name": "stdout",
     "output_type": "stream",
     "text": [
      "Data(edge_index=[2, 83116], num_nodes=25329, x=[25329, 15], edge_attr=[83116, 1], pos=[25329, 3, 2], y=[25329, 1])\n"
     ]
    },
    {
     "name": "stderr",
     "output_type": "stream",
     "text": [
      "Processing result_dic:  63%|██████▎   | 282/449 [08:40<05:07,  1.84s/dataframe]"
     ]
    },
    {
     "name": "stdout",
     "output_type": "stream",
     "text": [
      "Data(edge_index=[2, 83116], num_nodes=25329, x=[25329, 15], edge_attr=[83116, 1], pos=[25329, 3, 2], y=[25329, 1])\n"
     ]
    },
    {
     "name": "stderr",
     "output_type": "stream",
     "text": [
      "Processing result_dic:  63%|██████▎   | 283/449 [08:42<05:00,  1.81s/dataframe]"
     ]
    },
    {
     "name": "stdout",
     "output_type": "stream",
     "text": [
      "Data(edge_index=[2, 83116], num_nodes=25329, x=[25329, 15], edge_attr=[83116, 1], pos=[25329, 3, 2], y=[25329, 1])\n"
     ]
    },
    {
     "name": "stderr",
     "output_type": "stream",
     "text": [
      "Processing result_dic:  63%|██████▎   | 284/449 [08:44<05:01,  1.83s/dataframe]"
     ]
    },
    {
     "name": "stdout",
     "output_type": "stream",
     "text": [
      "Data(edge_index=[2, 83116], num_nodes=25329, x=[25329, 15], edge_attr=[83116, 1], pos=[25329, 3, 2], y=[25329, 1])\n"
     ]
    },
    {
     "name": "stderr",
     "output_type": "stream",
     "text": [
      "Processing result_dic:  63%|██████▎   | 285/449 [08:45<04:56,  1.81s/dataframe]"
     ]
    },
    {
     "name": "stdout",
     "output_type": "stream",
     "text": [
      "Data(edge_index=[2, 83116], num_nodes=25329, x=[25329, 15], edge_attr=[83116, 1], pos=[25329, 3, 2], y=[25329, 1])\n"
     ]
    },
    {
     "name": "stderr",
     "output_type": "stream",
     "text": [
      "Processing result_dic:  64%|██████▎   | 286/449 [08:47<04:57,  1.83s/dataframe]"
     ]
    },
    {
     "name": "stdout",
     "output_type": "stream",
     "text": [
      "Data(edge_index=[2, 83116], num_nodes=25329, x=[25329, 15], edge_attr=[83116, 1], pos=[25329, 3, 2], y=[25329, 1])\n"
     ]
    },
    {
     "name": "stderr",
     "output_type": "stream",
     "text": [
      "Processing result_dic:  64%|██████▍   | 287/449 [08:49<04:51,  1.80s/dataframe]"
     ]
    },
    {
     "name": "stdout",
     "output_type": "stream",
     "text": [
      "Data(edge_index=[2, 83116], num_nodes=25329, x=[25329, 15], edge_attr=[83116, 1], pos=[25329, 3, 2], y=[25329, 1])\n"
     ]
    },
    {
     "name": "stderr",
     "output_type": "stream",
     "text": [
      "Processing result_dic:  64%|██████▍   | 288/449 [08:51<04:53,  1.82s/dataframe]"
     ]
    },
    {
     "name": "stdout",
     "output_type": "stream",
     "text": [
      "Data(edge_index=[2, 83116], num_nodes=25329, x=[25329, 15], edge_attr=[83116, 1], pos=[25329, 3, 2], y=[25329, 1])\n"
     ]
    },
    {
     "name": "stderr",
     "output_type": "stream",
     "text": [
      "Processing result_dic:  64%|██████▍   | 289/449 [08:53<04:48,  1.80s/dataframe]"
     ]
    },
    {
     "name": "stdout",
     "output_type": "stream",
     "text": [
      "Data(edge_index=[2, 83116], num_nodes=25329, x=[25329, 15], edge_attr=[83116, 1], pos=[25329, 3, 2], y=[25329, 1])\n"
     ]
    },
    {
     "name": "stderr",
     "output_type": "stream",
     "text": [
      "Processing result_dic:  65%|██████▍   | 290/449 [08:54<04:43,  1.78s/dataframe]"
     ]
    },
    {
     "name": "stdout",
     "output_type": "stream",
     "text": [
      "Data(edge_index=[2, 83116], num_nodes=25329, x=[25329, 15], edge_attr=[83116, 1], pos=[25329, 3, 2], y=[25329, 1])\n"
     ]
    },
    {
     "name": "stderr",
     "output_type": "stream",
     "text": [
      "Processing result_dic:  65%|██████▍   | 291/449 [08:56<04:51,  1.85s/dataframe]"
     ]
    },
    {
     "name": "stdout",
     "output_type": "stream",
     "text": [
      "Data(edge_index=[2, 83116], num_nodes=25329, x=[25329, 15], edge_attr=[83116, 1], pos=[25329, 3, 2], y=[25329, 1])\n"
     ]
    },
    {
     "name": "stderr",
     "output_type": "stream",
     "text": [
      "Processing result_dic:  65%|██████▌   | 292/449 [08:58<04:45,  1.82s/dataframe]"
     ]
    },
    {
     "name": "stdout",
     "output_type": "stream",
     "text": [
      "Data(edge_index=[2, 83116], num_nodes=25329, x=[25329, 15], edge_attr=[83116, 1], pos=[25329, 3, 2], y=[25329, 1])\n"
     ]
    },
    {
     "name": "stderr",
     "output_type": "stream",
     "text": [
      "Processing result_dic:  65%|██████▌   | 293/449 [09:00<04:45,  1.83s/dataframe]"
     ]
    },
    {
     "name": "stdout",
     "output_type": "stream",
     "text": [
      "Data(edge_index=[2, 83116], num_nodes=25329, x=[25329, 15], edge_attr=[83116, 1], pos=[25329, 3, 2], y=[25329, 1])\n"
     ]
    },
    {
     "name": "stderr",
     "output_type": "stream",
     "text": [
      "Processing result_dic:  65%|██████▌   | 294/449 [09:02<04:40,  1.81s/dataframe]"
     ]
    },
    {
     "name": "stdout",
     "output_type": "stream",
     "text": [
      "Data(edge_index=[2, 83116], num_nodes=25329, x=[25329, 15], edge_attr=[83116, 1], pos=[25329, 3, 2], y=[25329, 1])\n"
     ]
    },
    {
     "name": "stderr",
     "output_type": "stream",
     "text": [
      "Processing result_dic:  66%|██████▌   | 295/449 [09:04<04:41,  1.82s/dataframe]"
     ]
    },
    {
     "name": "stdout",
     "output_type": "stream",
     "text": [
      "Data(edge_index=[2, 83116], num_nodes=25329, x=[25329, 15], edge_attr=[83116, 1], pos=[25329, 3, 2], y=[25329, 1])\n"
     ]
    },
    {
     "name": "stderr",
     "output_type": "stream",
     "text": [
      "Processing result_dic:  66%|██████▌   | 296/449 [09:05<04:36,  1.80s/dataframe]"
     ]
    },
    {
     "name": "stdout",
     "output_type": "stream",
     "text": [
      "Data(edge_index=[2, 83116], num_nodes=25329, x=[25329, 15], edge_attr=[83116, 1], pos=[25329, 3, 2], y=[25329, 1])\n"
     ]
    },
    {
     "name": "stderr",
     "output_type": "stream",
     "text": [
      "Processing result_dic:  66%|██████▌   | 297/449 [09:07<04:32,  1.79s/dataframe]"
     ]
    },
    {
     "name": "stdout",
     "output_type": "stream",
     "text": [
      "Data(edge_index=[2, 83116], num_nodes=25329, x=[25329, 15], edge_attr=[83116, 1], pos=[25329, 3, 2], y=[25329, 1])\n"
     ]
    },
    {
     "name": "stderr",
     "output_type": "stream",
     "text": [
      "Processing result_dic:  66%|██████▋   | 298/449 [09:09<04:34,  1.82s/dataframe]"
     ]
    },
    {
     "name": "stdout",
     "output_type": "stream",
     "text": [
      "Data(edge_index=[2, 83116], num_nodes=25329, x=[25329, 15], edge_attr=[83116, 1], pos=[25329, 3, 2], y=[25329, 1])\n"
     ]
    },
    {
     "name": "stderr",
     "output_type": "stream",
     "text": [
      "Processing result_dic:  67%|██████▋   | 299/449 [09:11<04:29,  1.79s/dataframe]"
     ]
    },
    {
     "name": "stdout",
     "output_type": "stream",
     "text": [
      "Data(edge_index=[2, 83116], num_nodes=25329, x=[25329, 15], edge_attr=[83116, 1], pos=[25329, 3, 2], y=[25329, 1])\n"
     ]
    },
    {
     "name": "stderr",
     "output_type": "stream",
     "text": [
      "Processing result_dic:  67%|██████▋   | 300/449 [09:13<04:30,  1.82s/dataframe]"
     ]
    },
    {
     "name": "stdout",
     "output_type": "stream",
     "text": [
      "Data(edge_index=[2, 83116], num_nodes=25329, x=[25329, 15], edge_attr=[83116, 1], pos=[25329, 3, 2], y=[25329, 1])\n"
     ]
    },
    {
     "name": "stderr",
     "output_type": "stream",
     "text": [
      "Processing result_dic:  67%|██████▋   | 301/449 [09:15<04:30,  1.83s/dataframe]"
     ]
    },
    {
     "name": "stdout",
     "output_type": "stream",
     "text": [
      "Data(edge_index=[2, 83116], num_nodes=25329, x=[25329, 15], edge_attr=[83116, 1], pos=[25329, 3, 2], y=[25329, 1])\n"
     ]
    },
    {
     "name": "stderr",
     "output_type": "stream",
     "text": [
      "Processing result_dic:  67%|██████▋   | 302/449 [09:16<04:30,  1.84s/dataframe]"
     ]
    },
    {
     "name": "stdout",
     "output_type": "stream",
     "text": [
      "Data(edge_index=[2, 83116], num_nodes=25329, x=[25329, 15], edge_attr=[83116, 1], pos=[25329, 3, 2], y=[25329, 1])\n"
     ]
    },
    {
     "name": "stderr",
     "output_type": "stream",
     "text": [
      "Processing result_dic:  67%|██████▋   | 303/449 [09:18<04:24,  1.81s/dataframe]"
     ]
    },
    {
     "name": "stdout",
     "output_type": "stream",
     "text": [
      "Data(edge_index=[2, 83116], num_nodes=25329, x=[25329, 15], edge_attr=[83116, 1], pos=[25329, 3, 2], y=[25329, 1])\n"
     ]
    },
    {
     "name": "stderr",
     "output_type": "stream",
     "text": [
      "Processing result_dic:  68%|██████▊   | 304/449 [09:20<04:25,  1.83s/dataframe]"
     ]
    },
    {
     "name": "stdout",
     "output_type": "stream",
     "text": [
      "Data(edge_index=[2, 83116], num_nodes=25329, x=[25329, 15], edge_attr=[83116, 1], pos=[25329, 3, 2], y=[25329, 1])\n"
     ]
    },
    {
     "name": "stderr",
     "output_type": "stream",
     "text": [
      "Processing result_dic:  68%|██████▊   | 305/449 [09:22<04:19,  1.80s/dataframe]"
     ]
    },
    {
     "name": "stdout",
     "output_type": "stream",
     "text": [
      "Data(edge_index=[2, 83116], num_nodes=25329, x=[25329, 15], edge_attr=[83116, 1], pos=[25329, 3, 2], y=[25329, 1])\n"
     ]
    },
    {
     "name": "stderr",
     "output_type": "stream",
     "text": [
      "Processing result_dic:  68%|██████▊   | 306/449 [09:23<04:15,  1.78s/dataframe]"
     ]
    },
    {
     "name": "stdout",
     "output_type": "stream",
     "text": [
      "Data(edge_index=[2, 83116], num_nodes=25329, x=[25329, 15], edge_attr=[83116, 1], pos=[25329, 3, 2], y=[25329, 1])\n"
     ]
    },
    {
     "name": "stderr",
     "output_type": "stream",
     "text": [
      "Processing result_dic:  68%|██████▊   | 307/449 [09:25<04:16,  1.81s/dataframe]"
     ]
    },
    {
     "name": "stdout",
     "output_type": "stream",
     "text": [
      "Data(edge_index=[2, 83116], num_nodes=25329, x=[25329, 15], edge_attr=[83116, 1], pos=[25329, 3, 2], y=[25329, 1])\n"
     ]
    },
    {
     "name": "stderr",
     "output_type": "stream",
     "text": [
      "Processing result_dic:  69%|██████▊   | 308/449 [09:27<04:11,  1.79s/dataframe]"
     ]
    },
    {
     "name": "stdout",
     "output_type": "stream",
     "text": [
      "Data(edge_index=[2, 83116], num_nodes=25329, x=[25329, 15], edge_attr=[83116, 1], pos=[25329, 3, 2], y=[25329, 1])\n"
     ]
    },
    {
     "name": "stderr",
     "output_type": "stream",
     "text": [
      "Processing result_dic:  69%|██████▉   | 309/449 [09:29<04:13,  1.81s/dataframe]"
     ]
    },
    {
     "name": "stdout",
     "output_type": "stream",
     "text": [
      "Data(edge_index=[2, 83116], num_nodes=25329, x=[25329, 15], edge_attr=[83116, 1], pos=[25329, 3, 2], y=[25329, 1])\n"
     ]
    },
    {
     "name": "stderr",
     "output_type": "stream",
     "text": [
      "Processing result_dic:  69%|██████▉   | 310/449 [09:31<04:09,  1.79s/dataframe]"
     ]
    },
    {
     "name": "stdout",
     "output_type": "stream",
     "text": [
      "Data(edge_index=[2, 83116], num_nodes=25329, x=[25329, 15], edge_attr=[83116, 1], pos=[25329, 3, 2], y=[25329, 1])\n"
     ]
    },
    {
     "name": "stderr",
     "output_type": "stream",
     "text": [
      "Processing result_dic:  69%|██████▉   | 311/449 [09:33<04:10,  1.82s/dataframe]"
     ]
    },
    {
     "name": "stdout",
     "output_type": "stream",
     "text": [
      "Data(edge_index=[2, 83116], num_nodes=25329, x=[25329, 15], edge_attr=[83116, 1], pos=[25329, 3, 2], y=[25329, 1])\n"
     ]
    },
    {
     "name": "stderr",
     "output_type": "stream",
     "text": [
      "Processing result_dic:  69%|██████▉   | 312/449 [09:34<04:09,  1.82s/dataframe]"
     ]
    },
    {
     "name": "stdout",
     "output_type": "stream",
     "text": [
      "Data(edge_index=[2, 83116], num_nodes=25329, x=[25329, 15], edge_attr=[83116, 1], pos=[25329, 3, 2], y=[25329, 1])\n"
     ]
    },
    {
     "name": "stderr",
     "output_type": "stream",
     "text": [
      "Processing result_dic:  70%|██████▉   | 313/449 [09:36<04:10,  1.84s/dataframe]"
     ]
    },
    {
     "name": "stdout",
     "output_type": "stream",
     "text": [
      "Data(edge_index=[2, 83116], num_nodes=25329, x=[25329, 15], edge_attr=[83116, 1], pos=[25329, 3, 2], y=[25329, 1])\n"
     ]
    },
    {
     "name": "stderr",
     "output_type": "stream",
     "text": [
      "Processing result_dic:  70%|██████▉   | 314/449 [09:38<04:04,  1.81s/dataframe]"
     ]
    },
    {
     "name": "stdout",
     "output_type": "stream",
     "text": [
      "Data(edge_index=[2, 83116], num_nodes=25329, x=[25329, 15], edge_attr=[83116, 1], pos=[25329, 3, 2], y=[25329, 1])\n"
     ]
    },
    {
     "name": "stderr",
     "output_type": "stream",
     "text": [
      "Processing result_dic:  70%|███████   | 315/449 [09:40<04:05,  1.83s/dataframe]"
     ]
    },
    {
     "name": "stdout",
     "output_type": "stream",
     "text": [
      "Data(edge_index=[2, 83116], num_nodes=25329, x=[25329, 15], edge_attr=[83116, 1], pos=[25329, 3, 2], y=[25329, 1])\n"
     ]
    },
    {
     "name": "stderr",
     "output_type": "stream",
     "text": [
      "Processing result_dic:  70%|███████   | 316/449 [09:42<04:00,  1.81s/dataframe]"
     ]
    },
    {
     "name": "stdout",
     "output_type": "stream",
     "text": [
      "Data(edge_index=[2, 83116], num_nodes=25329, x=[25329, 15], edge_attr=[83116, 1], pos=[25329, 3, 2], y=[25329, 1])\n"
     ]
    },
    {
     "name": "stderr",
     "output_type": "stream",
     "text": [
      "Processing result_dic:  71%|███████   | 317/449 [09:43<03:56,  1.79s/dataframe]"
     ]
    },
    {
     "name": "stdout",
     "output_type": "stream",
     "text": [
      "Data(edge_index=[2, 83116], num_nodes=25329, x=[25329, 15], edge_attr=[83116, 1], pos=[25329, 3, 2], y=[25329, 1])\n"
     ]
    },
    {
     "name": "stderr",
     "output_type": "stream",
     "text": [
      "Processing result_dic:  71%|███████   | 318/449 [09:45<03:57,  1.82s/dataframe]"
     ]
    },
    {
     "name": "stdout",
     "output_type": "stream",
     "text": [
      "Data(edge_index=[2, 83116], num_nodes=25329, x=[25329, 15], edge_attr=[83116, 1], pos=[25329, 3, 2], y=[25329, 1])\n"
     ]
    },
    {
     "name": "stderr",
     "output_type": "stream",
     "text": [
      "Processing result_dic:  71%|███████   | 319/449 [09:47<03:53,  1.80s/dataframe]"
     ]
    },
    {
     "name": "stdout",
     "output_type": "stream",
     "text": [
      "Data(edge_index=[2, 83116], num_nodes=25329, x=[25329, 15], edge_attr=[83116, 1], pos=[25329, 3, 2], y=[25329, 1])\n"
     ]
    },
    {
     "name": "stderr",
     "output_type": "stream",
     "text": [
      "Processing result_dic:  71%|███████▏  | 320/449 [09:49<03:55,  1.82s/dataframe]"
     ]
    },
    {
     "name": "stdout",
     "output_type": "stream",
     "text": [
      "Data(edge_index=[2, 83116], num_nodes=25329, x=[25329, 15], edge_attr=[83116, 1], pos=[25329, 3, 2], y=[25329, 1])\n"
     ]
    },
    {
     "name": "stderr",
     "output_type": "stream",
     "text": [
      "Processing result_dic:  71%|███████▏  | 321/449 [09:51<03:54,  1.83s/dataframe]"
     ]
    },
    {
     "name": "stdout",
     "output_type": "stream",
     "text": [
      "Data(edge_index=[2, 83116], num_nodes=25329, x=[25329, 15], edge_attr=[83116, 1], pos=[25329, 3, 2], y=[25329, 1])\n"
     ]
    },
    {
     "name": "stderr",
     "output_type": "stream",
     "text": [
      "Processing result_dic:  72%|███████▏  | 322/449 [09:53<03:54,  1.84s/dataframe]"
     ]
    },
    {
     "name": "stdout",
     "output_type": "stream",
     "text": [
      "Data(edge_index=[2, 83116], num_nodes=25329, x=[25329, 15], edge_attr=[83116, 1], pos=[25329, 3, 2], y=[25329, 1])\n"
     ]
    },
    {
     "name": "stderr",
     "output_type": "stream",
     "text": [
      "Processing result_dic:  72%|███████▏  | 323/449 [09:54<03:48,  1.81s/dataframe]"
     ]
    },
    {
     "name": "stdout",
     "output_type": "stream",
     "text": [
      "Data(edge_index=[2, 83116], num_nodes=25329, x=[25329, 15], edge_attr=[83116, 1], pos=[25329, 3, 2], y=[25329, 1])\n"
     ]
    },
    {
     "name": "stderr",
     "output_type": "stream",
     "text": [
      "Processing result_dic:  72%|███████▏  | 324/449 [09:56<03:44,  1.79s/dataframe]"
     ]
    },
    {
     "name": "stdout",
     "output_type": "stream",
     "text": [
      "Data(edge_index=[2, 83116], num_nodes=25329, x=[25329, 15], edge_attr=[83116, 1], pos=[25329, 3, 2], y=[25329, 1])\n"
     ]
    },
    {
     "name": "stderr",
     "output_type": "stream",
     "text": [
      "Processing result_dic:  72%|███████▏  | 325/449 [09:58<03:45,  1.82s/dataframe]"
     ]
    },
    {
     "name": "stdout",
     "output_type": "stream",
     "text": [
      "Data(edge_index=[2, 83116], num_nodes=25329, x=[25329, 15], edge_attr=[83116, 1], pos=[25329, 3, 2], y=[25329, 1])\n"
     ]
    },
    {
     "name": "stderr",
     "output_type": "stream",
     "text": [
      "Processing result_dic:  73%|███████▎  | 326/449 [10:00<03:40,  1.79s/dataframe]"
     ]
    },
    {
     "name": "stdout",
     "output_type": "stream",
     "text": [
      "Data(edge_index=[2, 83116], num_nodes=25329, x=[25329, 15], edge_attr=[83116, 1], pos=[25329, 3, 2], y=[25329, 1])\n"
     ]
    },
    {
     "name": "stderr",
     "output_type": "stream",
     "text": [
      "Processing result_dic:  73%|███████▎  | 327/449 [10:02<03:41,  1.82s/dataframe]"
     ]
    },
    {
     "name": "stdout",
     "output_type": "stream",
     "text": [
      "Data(edge_index=[2, 83116], num_nodes=25329, x=[25329, 15], edge_attr=[83116, 1], pos=[25329, 3, 2], y=[25329, 1])\n"
     ]
    },
    {
     "name": "stderr",
     "output_type": "stream",
     "text": [
      "Processing result_dic:  73%|███████▎  | 328/449 [10:03<03:37,  1.80s/dataframe]"
     ]
    },
    {
     "name": "stdout",
     "output_type": "stream",
     "text": [
      "Data(edge_index=[2, 83116], num_nodes=25329, x=[25329, 15], edge_attr=[83116, 1], pos=[25329, 3, 2], y=[25329, 1])\n"
     ]
    },
    {
     "name": "stderr",
     "output_type": "stream",
     "text": [
      "Processing result_dic:  73%|███████▎  | 329/449 [10:05<03:38,  1.82s/dataframe]"
     ]
    },
    {
     "name": "stdout",
     "output_type": "stream",
     "text": [
      "Data(edge_index=[2, 83116], num_nodes=25329, x=[25329, 15], edge_attr=[83116, 1], pos=[25329, 3, 2], y=[25329, 1])\n"
     ]
    },
    {
     "name": "stderr",
     "output_type": "stream",
     "text": [
      "Processing result_dic:  73%|███████▎  | 330/449 [10:07<03:33,  1.80s/dataframe]"
     ]
    },
    {
     "name": "stdout",
     "output_type": "stream",
     "text": [
      "Data(edge_index=[2, 83116], num_nodes=25329, x=[25329, 15], edge_attr=[83116, 1], pos=[25329, 3, 2], y=[25329, 1])\n"
     ]
    },
    {
     "name": "stderr",
     "output_type": "stream",
     "text": [
      "Processing result_dic:  74%|███████▎  | 331/449 [10:09<03:38,  1.85s/dataframe]"
     ]
    },
    {
     "name": "stdout",
     "output_type": "stream",
     "text": [
      "Data(edge_index=[2, 83116], num_nodes=25329, x=[25329, 15], edge_attr=[83116, 1], pos=[25329, 3, 2], y=[25329, 1])\n"
     ]
    },
    {
     "name": "stderr",
     "output_type": "stream",
     "text": [
      "Processing result_dic:  74%|███████▍  | 332/449 [10:11<03:32,  1.82s/dataframe]"
     ]
    },
    {
     "name": "stdout",
     "output_type": "stream",
     "text": [
      "Data(edge_index=[2, 83116], num_nodes=25329, x=[25329, 15], edge_attr=[83116, 1], pos=[25329, 3, 2], y=[25329, 1])\n"
     ]
    },
    {
     "name": "stderr",
     "output_type": "stream",
     "text": [
      "Processing result_dic:  74%|███████▍  | 333/449 [10:12<03:28,  1.80s/dataframe]"
     ]
    },
    {
     "name": "stdout",
     "output_type": "stream",
     "text": [
      "Data(edge_index=[2, 83116], num_nodes=25329, x=[25329, 15], edge_attr=[83116, 1], pos=[25329, 3, 2], y=[25329, 1])\n"
     ]
    },
    {
     "name": "stderr",
     "output_type": "stream",
     "text": [
      "Processing result_dic:  74%|███████▍  | 334/449 [10:14<03:29,  1.82s/dataframe]"
     ]
    },
    {
     "name": "stdout",
     "output_type": "stream",
     "text": [
      "Data(edge_index=[2, 83116], num_nodes=25329, x=[25329, 15], edge_attr=[83116, 1], pos=[25329, 3, 2], y=[25329, 1])\n"
     ]
    },
    {
     "name": "stderr",
     "output_type": "stream",
     "text": [
      "Processing result_dic:  75%|███████▍  | 335/449 [10:16<03:24,  1.80s/dataframe]"
     ]
    },
    {
     "name": "stdout",
     "output_type": "stream",
     "text": [
      "Data(edge_index=[2, 83116], num_nodes=25329, x=[25329, 15], edge_attr=[83116, 1], pos=[25329, 3, 2], y=[25329, 1])\n"
     ]
    },
    {
     "name": "stderr",
     "output_type": "stream",
     "text": [
      "Processing result_dic:  75%|███████▍  | 336/449 [10:18<03:25,  1.82s/dataframe]"
     ]
    },
    {
     "name": "stdout",
     "output_type": "stream",
     "text": [
      "Data(edge_index=[2, 83116], num_nodes=25329, x=[25329, 15], edge_attr=[83116, 1], pos=[25329, 3, 2], y=[25329, 1])\n"
     ]
    },
    {
     "name": "stderr",
     "output_type": "stream",
     "text": [
      "Processing result_dic:  75%|███████▌  | 337/449 [10:20<03:20,  1.79s/dataframe]"
     ]
    },
    {
     "name": "stdout",
     "output_type": "stream",
     "text": [
      "Data(edge_index=[2, 83116], num_nodes=25329, x=[25329, 15], edge_attr=[83116, 1], pos=[25329, 3, 2], y=[25329, 1])\n"
     ]
    },
    {
     "name": "stderr",
     "output_type": "stream",
     "text": [
      "Processing result_dic:  75%|███████▌  | 338/449 [10:22<03:22,  1.82s/dataframe]"
     ]
    },
    {
     "name": "stdout",
     "output_type": "stream",
     "text": [
      "Data(edge_index=[2, 83116], num_nodes=25329, x=[25329, 15], edge_attr=[83116, 1], pos=[25329, 3, 2], y=[25329, 1])\n"
     ]
    },
    {
     "name": "stderr",
     "output_type": "stream",
     "text": [
      "Processing result_dic:  76%|███████▌  | 339/449 [10:23<03:17,  1.80s/dataframe]"
     ]
    },
    {
     "name": "stdout",
     "output_type": "stream",
     "text": [
      "Data(edge_index=[2, 83116], num_nodes=25329, x=[25329, 15], edge_attr=[83116, 1], pos=[25329, 3, 2], y=[25329, 1])\n"
     ]
    },
    {
     "name": "stderr",
     "output_type": "stream",
     "text": [
      "Processing result_dic:  76%|███████▌  | 340/449 [10:25<03:18,  1.82s/dataframe]"
     ]
    },
    {
     "name": "stdout",
     "output_type": "stream",
     "text": [
      "Data(edge_index=[2, 83116], num_nodes=25329, x=[25329, 15], edge_attr=[83116, 1], pos=[25329, 3, 2], y=[25329, 1])\n"
     ]
    },
    {
     "name": "stderr",
     "output_type": "stream",
     "text": [
      "Processing result_dic:  76%|███████▌  | 341/449 [10:27<03:17,  1.83s/dataframe]"
     ]
    },
    {
     "name": "stdout",
     "output_type": "stream",
     "text": [
      "Data(edge_index=[2, 83116], num_nodes=25329, x=[25329, 15], edge_attr=[83116, 1], pos=[25329, 3, 2], y=[25329, 1])\n"
     ]
    },
    {
     "name": "stderr",
     "output_type": "stream",
     "text": [
      "Processing result_dic:  76%|███████▌  | 342/449 [10:29<03:17,  1.84s/dataframe]"
     ]
    },
    {
     "name": "stdout",
     "output_type": "stream",
     "text": [
      "Data(edge_index=[2, 83116], num_nodes=25329, x=[25329, 15], edge_attr=[83116, 1], pos=[25329, 3, 2], y=[25329, 1])\n"
     ]
    },
    {
     "name": "stderr",
     "output_type": "stream",
     "text": [
      "Processing result_dic:  76%|███████▋  | 343/449 [10:31<03:12,  1.81s/dataframe]"
     ]
    },
    {
     "name": "stdout",
     "output_type": "stream",
     "text": [
      "Data(edge_index=[2, 83116], num_nodes=25329, x=[25329, 15], edge_attr=[83116, 1], pos=[25329, 3, 2], y=[25329, 1])\n"
     ]
    },
    {
     "name": "stderr",
     "output_type": "stream",
     "text": [
      "Processing result_dic:  77%|███████▋  | 344/449 [10:32<03:08,  1.79s/dataframe]"
     ]
    },
    {
     "name": "stdout",
     "output_type": "stream",
     "text": [
      "Data(edge_index=[2, 83116], num_nodes=25329, x=[25329, 15], edge_attr=[83116, 1], pos=[25329, 3, 2], y=[25329, 1])\n"
     ]
    },
    {
     "name": "stderr",
     "output_type": "stream",
     "text": [
      "Processing result_dic:  77%|███████▋  | 345/449 [10:34<03:08,  1.82s/dataframe]"
     ]
    },
    {
     "name": "stdout",
     "output_type": "stream",
     "text": [
      "Data(edge_index=[2, 83116], num_nodes=25329, x=[25329, 15], edge_attr=[83116, 1], pos=[25329, 3, 2], y=[25329, 1])\n"
     ]
    },
    {
     "name": "stderr",
     "output_type": "stream",
     "text": [
      "Processing result_dic:  77%|███████▋  | 346/449 [10:36<03:05,  1.80s/dataframe]"
     ]
    },
    {
     "name": "stdout",
     "output_type": "stream",
     "text": [
      "Data(edge_index=[2, 83116], num_nodes=25329, x=[25329, 15], edge_attr=[83116, 1], pos=[25329, 3, 2], y=[25329, 1])\n"
     ]
    },
    {
     "name": "stderr",
     "output_type": "stream",
     "text": [
      "Processing result_dic:  77%|███████▋  | 347/449 [10:38<03:05,  1.82s/dataframe]"
     ]
    },
    {
     "name": "stdout",
     "output_type": "stream",
     "text": [
      "Data(edge_index=[2, 83116], num_nodes=25329, x=[25329, 15], edge_attr=[83116, 1], pos=[25329, 3, 2], y=[25329, 1])\n"
     ]
    },
    {
     "name": "stderr",
     "output_type": "stream",
     "text": [
      "Processing result_dic:  78%|███████▊  | 348/449 [10:40<03:01,  1.80s/dataframe]"
     ]
    },
    {
     "name": "stdout",
     "output_type": "stream",
     "text": [
      "Data(edge_index=[2, 83116], num_nodes=25329, x=[25329, 15], edge_attr=[83116, 1], pos=[25329, 3, 2], y=[25329, 1])\n"
     ]
    },
    {
     "name": "stderr",
     "output_type": "stream",
     "text": [
      "Processing result_dic:  78%|███████▊  | 349/449 [10:42<03:02,  1.82s/dataframe]"
     ]
    },
    {
     "name": "stdout",
     "output_type": "stream",
     "text": [
      "Data(edge_index=[2, 83116], num_nodes=25329, x=[25329, 15], edge_attr=[83116, 1], pos=[25329, 3, 2], y=[25329, 1])\n"
     ]
    },
    {
     "name": "stderr",
     "output_type": "stream",
     "text": [
      "Processing result_dic:  78%|███████▊  | 350/449 [10:43<03:01,  1.83s/dataframe]"
     ]
    },
    {
     "name": "stdout",
     "output_type": "stream",
     "text": [
      "Data(edge_index=[2, 83116], num_nodes=25329, x=[25329, 15], edge_attr=[83116, 1], pos=[25329, 3, 2], y=[25329, 1])\n"
     ]
    },
    {
     "name": "stderr",
     "output_type": "stream",
     "text": [
      "Processing result_dic:  78%|███████▊  | 351/449 [10:45<02:56,  1.80s/dataframe]"
     ]
    },
    {
     "name": "stdout",
     "output_type": "stream",
     "text": [
      "Data(edge_index=[2, 83116], num_nodes=25329, x=[25329, 15], edge_attr=[83116, 1], pos=[25329, 3, 2], y=[25329, 1])\n"
     ]
    },
    {
     "name": "stderr",
     "output_type": "stream",
     "text": [
      "Processing result_dic:  78%|███████▊  | 352/449 [10:47<02:57,  1.83s/dataframe]"
     ]
    },
    {
     "name": "stdout",
     "output_type": "stream",
     "text": [
      "Data(edge_index=[2, 83116], num_nodes=25329, x=[25329, 15], edge_attr=[83116, 1], pos=[25329, 3, 2], y=[25329, 1])\n"
     ]
    },
    {
     "name": "stderr",
     "output_type": "stream",
     "text": [
      "Processing result_dic:  79%|███████▊  | 353/449 [10:49<02:53,  1.80s/dataframe]"
     ]
    },
    {
     "name": "stdout",
     "output_type": "stream",
     "text": [
      "Data(edge_index=[2, 83116], num_nodes=25329, x=[25329, 15], edge_attr=[83116, 1], pos=[25329, 3, 2], y=[25329, 1])\n"
     ]
    },
    {
     "name": "stderr",
     "output_type": "stream",
     "text": [
      "Processing result_dic:  79%|███████▉  | 354/449 [10:51<02:53,  1.83s/dataframe]"
     ]
    },
    {
     "name": "stdout",
     "output_type": "stream",
     "text": [
      "Data(edge_index=[2, 83116], num_nodes=25329, x=[25329, 15], edge_attr=[83116, 1], pos=[25329, 3, 2], y=[25329, 1])\n"
     ]
    },
    {
     "name": "stderr",
     "output_type": "stream",
     "text": [
      "Processing result_dic:  79%|███████▉  | 355/449 [10:52<02:50,  1.81s/dataframe]"
     ]
    },
    {
     "name": "stdout",
     "output_type": "stream",
     "text": [
      "Data(edge_index=[2, 83116], num_nodes=25329, x=[25329, 15], edge_attr=[83116, 1], pos=[25329, 3, 2], y=[25329, 1])\n"
     ]
    },
    {
     "name": "stderr",
     "output_type": "stream",
     "text": [
      "Processing result_dic:  79%|███████▉  | 356/449 [10:54<02:50,  1.83s/dataframe]"
     ]
    },
    {
     "name": "stdout",
     "output_type": "stream",
     "text": [
      "Data(edge_index=[2, 83116], num_nodes=25329, x=[25329, 15], edge_attr=[83116, 1], pos=[25329, 3, 2], y=[25329, 1])\n"
     ]
    },
    {
     "name": "stderr",
     "output_type": "stream",
     "text": [
      "Processing result_dic:  80%|███████▉  | 357/449 [10:56<02:46,  1.81s/dataframe]"
     ]
    },
    {
     "name": "stdout",
     "output_type": "stream",
     "text": [
      "Data(edge_index=[2, 83116], num_nodes=25329, x=[25329, 15], edge_attr=[83116, 1], pos=[25329, 3, 2], y=[25329, 1])\n"
     ]
    },
    {
     "name": "stderr",
     "output_type": "stream",
     "text": [
      "Processing result_dic:  80%|███████▉  | 358/449 [10:58<02:46,  1.83s/dataframe]"
     ]
    },
    {
     "name": "stdout",
     "output_type": "stream",
     "text": [
      "Data(edge_index=[2, 83116], num_nodes=25329, x=[25329, 15], edge_attr=[83116, 1], pos=[25329, 3, 2], y=[25329, 1])\n"
     ]
    },
    {
     "name": "stderr",
     "output_type": "stream",
     "text": [
      "Processing result_dic:  80%|███████▉  | 359/449 [11:00<02:42,  1.80s/dataframe]"
     ]
    },
    {
     "name": "stdout",
     "output_type": "stream",
     "text": [
      "Data(edge_index=[2, 83116], num_nodes=25329, x=[25329, 15], edge_attr=[83116, 1], pos=[25329, 3, 2], y=[25329, 1])\n"
     ]
    },
    {
     "name": "stderr",
     "output_type": "stream",
     "text": [
      "Processing result_dic:  80%|████████  | 360/449 [11:02<02:41,  1.82s/dataframe]"
     ]
    },
    {
     "name": "stdout",
     "output_type": "stream",
     "text": [
      "Data(edge_index=[2, 83116], num_nodes=25329, x=[25329, 15], edge_attr=[83116, 1], pos=[25329, 3, 2], y=[25329, 1])\n"
     ]
    },
    {
     "name": "stderr",
     "output_type": "stream",
     "text": [
      "Processing result_dic:  80%|████████  | 361/449 [11:03<02:41,  1.84s/dataframe]"
     ]
    },
    {
     "name": "stdout",
     "output_type": "stream",
     "text": [
      "Data(edge_index=[2, 83116], num_nodes=25329, x=[25329, 15], edge_attr=[83116, 1], pos=[25329, 3, 2], y=[25329, 1])\n"
     ]
    },
    {
     "name": "stderr",
     "output_type": "stream",
     "text": [
      "Processing result_dic:  81%|████████  | 362/449 [11:05<02:37,  1.81s/dataframe]"
     ]
    },
    {
     "name": "stdout",
     "output_type": "stream",
     "text": [
      "Data(edge_index=[2, 83116], num_nodes=25329, x=[25329, 15], edge_attr=[83116, 1], pos=[25329, 3, 2], y=[25329, 1])\n"
     ]
    },
    {
     "name": "stderr",
     "output_type": "stream",
     "text": [
      "Processing result_dic:  81%|████████  | 363/449 [11:07<02:37,  1.83s/dataframe]"
     ]
    },
    {
     "name": "stdout",
     "output_type": "stream",
     "text": [
      "Data(edge_index=[2, 83116], num_nodes=25329, x=[25329, 15], edge_attr=[83116, 1], pos=[25329, 3, 2], y=[25329, 1])\n"
     ]
    },
    {
     "name": "stderr",
     "output_type": "stream",
     "text": [
      "Processing result_dic:  81%|████████  | 364/449 [11:09<02:33,  1.81s/dataframe]"
     ]
    },
    {
     "name": "stdout",
     "output_type": "stream",
     "text": [
      "Data(edge_index=[2, 83116], num_nodes=25329, x=[25329, 15], edge_attr=[83116, 1], pos=[25329, 3, 2], y=[25329, 1])\n"
     ]
    },
    {
     "name": "stderr",
     "output_type": "stream",
     "text": [
      "Processing result_dic:  81%|████████▏ | 365/449 [11:11<02:34,  1.83s/dataframe]"
     ]
    },
    {
     "name": "stdout",
     "output_type": "stream",
     "text": [
      "Data(edge_index=[2, 83116], num_nodes=25329, x=[25329, 15], edge_attr=[83116, 1], pos=[25329, 3, 2], y=[25329, 1])\n"
     ]
    },
    {
     "name": "stderr",
     "output_type": "stream",
     "text": [
      "Processing result_dic:  82%|████████▏ | 366/449 [11:12<02:30,  1.81s/dataframe]"
     ]
    },
    {
     "name": "stdout",
     "output_type": "stream",
     "text": [
      "Data(edge_index=[2, 83116], num_nodes=25329, x=[25329, 15], edge_attr=[83116, 1], pos=[25329, 3, 2], y=[25329, 1])\n"
     ]
    },
    {
     "name": "stderr",
     "output_type": "stream",
     "text": [
      "Processing result_dic:  82%|████████▏ | 367/449 [11:14<02:32,  1.86s/dataframe]"
     ]
    },
    {
     "name": "stdout",
     "output_type": "stream",
     "text": [
      "Data(edge_index=[2, 83116], num_nodes=25329, x=[25329, 15], edge_attr=[83116, 1], pos=[25329, 3, 2], y=[25329, 1])\n"
     ]
    },
    {
     "name": "stderr",
     "output_type": "stream",
     "text": [
      "Processing result_dic:  82%|████████▏ | 368/449 [11:16<02:28,  1.83s/dataframe]"
     ]
    },
    {
     "name": "stdout",
     "output_type": "stream",
     "text": [
      "Data(edge_index=[2, 83116], num_nodes=25329, x=[25329, 15], edge_attr=[83116, 1], pos=[25329, 3, 2], y=[25329, 1])\n"
     ]
    },
    {
     "name": "stderr",
     "output_type": "stream",
     "text": [
      "Processing result_dic:  82%|████████▏ | 369/449 [11:18<02:27,  1.85s/dataframe]"
     ]
    },
    {
     "name": "stdout",
     "output_type": "stream",
     "text": [
      "Data(edge_index=[2, 83116], num_nodes=25329, x=[25329, 15], edge_attr=[83116, 1], pos=[25329, 3, 2], y=[25329, 1])\n"
     ]
    },
    {
     "name": "stderr",
     "output_type": "stream",
     "text": [
      "Processing result_dic:  82%|████████▏ | 370/449 [11:20<02:23,  1.81s/dataframe]"
     ]
    },
    {
     "name": "stdout",
     "output_type": "stream",
     "text": [
      "Data(edge_index=[2, 83116], num_nodes=25329, x=[25329, 15], edge_attr=[83116, 1], pos=[25329, 3, 2], y=[25329, 1])\n"
     ]
    },
    {
     "name": "stderr",
     "output_type": "stream",
     "text": [
      "Processing result_dic:  83%|████████▎ | 371/449 [11:22<02:22,  1.82s/dataframe]"
     ]
    },
    {
     "name": "stdout",
     "output_type": "stream",
     "text": [
      "Data(edge_index=[2, 83116], num_nodes=25329, x=[25329, 15], edge_attr=[83116, 1], pos=[25329, 3, 2], y=[25329, 1])\n"
     ]
    },
    {
     "name": "stderr",
     "output_type": "stream",
     "text": [
      "Processing result_dic:  83%|████████▎ | 372/449 [11:23<02:21,  1.84s/dataframe]"
     ]
    },
    {
     "name": "stdout",
     "output_type": "stream",
     "text": [
      "Data(edge_index=[2, 83116], num_nodes=25329, x=[25329, 15], edge_attr=[83116, 1], pos=[25329, 3, 2], y=[25329, 1])\n"
     ]
    },
    {
     "name": "stderr",
     "output_type": "stream",
     "text": [
      "Processing result_dic:  83%|████████▎ | 373/449 [11:25<02:17,  1.80s/dataframe]"
     ]
    },
    {
     "name": "stdout",
     "output_type": "stream",
     "text": [
      "Data(edge_index=[2, 83116], num_nodes=25329, x=[25329, 15], edge_attr=[83116, 1], pos=[25329, 3, 2], y=[25329, 1])\n"
     ]
    },
    {
     "name": "stderr",
     "output_type": "stream",
     "text": [
      "Processing result_dic:  83%|████████▎ | 374/449 [11:27<02:16,  1.83s/dataframe]"
     ]
    },
    {
     "name": "stdout",
     "output_type": "stream",
     "text": [
      "Data(edge_index=[2, 83116], num_nodes=25329, x=[25329, 15], edge_attr=[83116, 1], pos=[25329, 3, 2], y=[25329, 1])\n"
     ]
    },
    {
     "name": "stderr",
     "output_type": "stream",
     "text": [
      "Processing result_dic:  84%|████████▎ | 375/449 [11:29<02:13,  1.80s/dataframe]"
     ]
    },
    {
     "name": "stdout",
     "output_type": "stream",
     "text": [
      "Data(edge_index=[2, 83116], num_nodes=25329, x=[25329, 15], edge_attr=[83116, 1], pos=[25329, 3, 2], y=[25329, 1])\n"
     ]
    },
    {
     "name": "stderr",
     "output_type": "stream",
     "text": [
      "Processing result_dic:  84%|████████▎ | 376/449 [11:31<02:12,  1.82s/dataframe]"
     ]
    },
    {
     "name": "stdout",
     "output_type": "stream",
     "text": [
      "Data(edge_index=[2, 83116], num_nodes=25329, x=[25329, 15], edge_attr=[83116, 1], pos=[25329, 3, 2], y=[25329, 1])\n"
     ]
    },
    {
     "name": "stderr",
     "output_type": "stream",
     "text": [
      "Processing result_dic:  84%|████████▍ | 377/449 [11:32<02:09,  1.80s/dataframe]"
     ]
    },
    {
     "name": "stdout",
     "output_type": "stream",
     "text": [
      "Data(edge_index=[2, 83116], num_nodes=25329, x=[25329, 15], edge_attr=[83116, 1], pos=[25329, 3, 2], y=[25329, 1])\n"
     ]
    },
    {
     "name": "stderr",
     "output_type": "stream",
     "text": [
      "Processing result_dic:  84%|████████▍ | 378/449 [11:34<02:09,  1.82s/dataframe]"
     ]
    },
    {
     "name": "stdout",
     "output_type": "stream",
     "text": [
      "Data(edge_index=[2, 83116], num_nodes=25329, x=[25329, 15], edge_attr=[83116, 1], pos=[25329, 3, 2], y=[25329, 1])\n"
     ]
    },
    {
     "name": "stderr",
     "output_type": "stream",
     "text": [
      "Processing result_dic:  84%|████████▍ | 379/449 [11:36<02:05,  1.80s/dataframe]"
     ]
    },
    {
     "name": "stdout",
     "output_type": "stream",
     "text": [
      "Data(edge_index=[2, 83116], num_nodes=25329, x=[25329, 15], edge_attr=[83116, 1], pos=[25329, 3, 2], y=[25329, 1])\n"
     ]
    },
    {
     "name": "stderr",
     "output_type": "stream",
     "text": [
      "Processing result_dic:  85%|████████▍ | 380/449 [11:38<02:04,  1.81s/dataframe]"
     ]
    },
    {
     "name": "stdout",
     "output_type": "stream",
     "text": [
      "Data(edge_index=[2, 83116], num_nodes=25329, x=[25329, 15], edge_attr=[83116, 1], pos=[25329, 3, 2], y=[25329, 1])\n"
     ]
    },
    {
     "name": "stderr",
     "output_type": "stream",
     "text": [
      "Processing result_dic:  85%|████████▍ | 381/449 [11:40<02:04,  1.83s/dataframe]"
     ]
    },
    {
     "name": "stdout",
     "output_type": "stream",
     "text": [
      "Data(edge_index=[2, 83116], num_nodes=25329, x=[25329, 15], edge_attr=[83116, 1], pos=[25329, 3, 2], y=[25329, 1])\n"
     ]
    },
    {
     "name": "stderr",
     "output_type": "stream",
     "text": [
      "Processing result_dic:  85%|████████▌ | 382/449 [11:42<02:00,  1.80s/dataframe]"
     ]
    },
    {
     "name": "stdout",
     "output_type": "stream",
     "text": [
      "Data(edge_index=[2, 83116], num_nodes=25329, x=[25329, 15], edge_attr=[83116, 1], pos=[25329, 3, 2], y=[25329, 1])\n"
     ]
    },
    {
     "name": "stderr",
     "output_type": "stream",
     "text": [
      "Processing result_dic:  85%|████████▌ | 383/449 [11:43<02:00,  1.82s/dataframe]"
     ]
    },
    {
     "name": "stdout",
     "output_type": "stream",
     "text": [
      "Data(edge_index=[2, 83116], num_nodes=25329, x=[25329, 15], edge_attr=[83116, 1], pos=[25329, 3, 2], y=[25329, 1])\n"
     ]
    },
    {
     "name": "stderr",
     "output_type": "stream",
     "text": [
      "Processing result_dic:  86%|████████▌ | 384/449 [11:45<01:57,  1.80s/dataframe]"
     ]
    },
    {
     "name": "stdout",
     "output_type": "stream",
     "text": [
      "Data(edge_index=[2, 83116], num_nodes=25329, x=[25329, 15], edge_attr=[83116, 1], pos=[25329, 3, 2], y=[25329, 1])\n"
     ]
    },
    {
     "name": "stderr",
     "output_type": "stream",
     "text": [
      "Processing result_dic:  86%|████████▌ | 385/449 [11:47<01:56,  1.82s/dataframe]"
     ]
    },
    {
     "name": "stdout",
     "output_type": "stream",
     "text": [
      "Data(edge_index=[2, 83116], num_nodes=25329, x=[25329, 15], edge_attr=[83116, 1], pos=[25329, 3, 2], y=[25329, 1])\n"
     ]
    },
    {
     "name": "stderr",
     "output_type": "stream",
     "text": [
      "Processing result_dic:  86%|████████▌ | 386/449 [11:49<01:53,  1.80s/dataframe]"
     ]
    },
    {
     "name": "stdout",
     "output_type": "stream",
     "text": [
      "Data(edge_index=[2, 83116], num_nodes=25329, x=[25329, 15], edge_attr=[83116, 1], pos=[25329, 3, 2], y=[25329, 1])\n"
     ]
    },
    {
     "name": "stderr",
     "output_type": "stream",
     "text": [
      "Processing result_dic:  86%|████████▌ | 387/449 [11:50<01:50,  1.78s/dataframe]"
     ]
    },
    {
     "name": "stdout",
     "output_type": "stream",
     "text": [
      "Data(edge_index=[2, 83116], num_nodes=25329, x=[25329, 15], edge_attr=[83116, 1], pos=[25329, 3, 2], y=[25329, 1])\n"
     ]
    },
    {
     "name": "stderr",
     "output_type": "stream",
     "text": [
      "Processing result_dic:  86%|████████▋ | 388/449 [11:52<01:50,  1.81s/dataframe]"
     ]
    },
    {
     "name": "stdout",
     "output_type": "stream",
     "text": [
      "Data(edge_index=[2, 83116], num_nodes=25329, x=[25329, 15], edge_attr=[83116, 1], pos=[25329, 3, 2], y=[25329, 1])\n"
     ]
    },
    {
     "name": "stderr",
     "output_type": "stream",
     "text": [
      "Processing result_dic:  87%|████████▋ | 389/449 [11:54<01:49,  1.82s/dataframe]"
     ]
    },
    {
     "name": "stdout",
     "output_type": "stream",
     "text": [
      "Data(edge_index=[2, 83116], num_nodes=25329, x=[25329, 15], edge_attr=[83116, 1], pos=[25329, 3, 2], y=[25329, 1])\n"
     ]
    },
    {
     "name": "stderr",
     "output_type": "stream",
     "text": [
      "Processing result_dic:  87%|████████▋ | 390/449 [11:56<01:48,  1.84s/dataframe]"
     ]
    },
    {
     "name": "stdout",
     "output_type": "stream",
     "text": [
      "Data(edge_index=[2, 83116], num_nodes=25329, x=[25329, 15], edge_attr=[83116, 1], pos=[25329, 3, 2], y=[25329, 1])\n"
     ]
    },
    {
     "name": "stderr",
     "output_type": "stream",
     "text": [
      "Processing result_dic:  87%|████████▋ | 391/449 [11:58<01:44,  1.81s/dataframe]"
     ]
    },
    {
     "name": "stdout",
     "output_type": "stream",
     "text": [
      "Data(edge_index=[2, 83116], num_nodes=25329, x=[25329, 15], edge_attr=[83116, 1], pos=[25329, 3, 2], y=[25329, 1])\n"
     ]
    },
    {
     "name": "stderr",
     "output_type": "stream",
     "text": [
      "Processing result_dic:  87%|████████▋ | 392/449 [12:00<01:43,  1.82s/dataframe]"
     ]
    },
    {
     "name": "stdout",
     "output_type": "stream",
     "text": [
      "Data(edge_index=[2, 83116], num_nodes=25329, x=[25329, 15], edge_attr=[83116, 1], pos=[25329, 3, 2], y=[25329, 1])\n"
     ]
    },
    {
     "name": "stderr",
     "output_type": "stream",
     "text": [
      "Processing result_dic:  88%|████████▊ | 393/449 [12:01<01:40,  1.80s/dataframe]"
     ]
    },
    {
     "name": "stdout",
     "output_type": "stream",
     "text": [
      "Data(edge_index=[2, 83116], num_nodes=25329, x=[25329, 15], edge_attr=[83116, 1], pos=[25329, 3, 2], y=[25329, 1])\n"
     ]
    },
    {
     "name": "stderr",
     "output_type": "stream",
     "text": [
      "Processing result_dic:  88%|████████▊ | 394/449 [12:03<01:40,  1.82s/dataframe]"
     ]
    },
    {
     "name": "stdout",
     "output_type": "stream",
     "text": [
      "Data(edge_index=[2, 83116], num_nodes=25329, x=[25329, 15], edge_attr=[83116, 1], pos=[25329, 3, 2], y=[25329, 1])\n"
     ]
    },
    {
     "name": "stderr",
     "output_type": "stream",
     "text": [
      "Processing result_dic:  88%|████████▊ | 395/449 [12:05<01:37,  1.80s/dataframe]"
     ]
    },
    {
     "name": "stdout",
     "output_type": "stream",
     "text": [
      "Data(edge_index=[2, 83116], num_nodes=25329, x=[25329, 15], edge_attr=[83116, 1], pos=[25329, 3, 2], y=[25329, 1])\n"
     ]
    },
    {
     "name": "stderr",
     "output_type": "stream",
     "text": [
      "Processing result_dic:  88%|████████▊ | 396/449 [12:07<01:36,  1.82s/dataframe]"
     ]
    },
    {
     "name": "stdout",
     "output_type": "stream",
     "text": [
      "Data(edge_index=[2, 83116], num_nodes=25329, x=[25329, 15], edge_attr=[83116, 1], pos=[25329, 3, 2], y=[25329, 1])\n"
     ]
    },
    {
     "name": "stderr",
     "output_type": "stream",
     "text": [
      "Processing result_dic:  88%|████████▊ | 397/449 [12:09<01:33,  1.80s/dataframe]"
     ]
    },
    {
     "name": "stdout",
     "output_type": "stream",
     "text": [
      "Data(edge_index=[2, 83116], num_nodes=25329, x=[25329, 15], edge_attr=[83116, 1], pos=[25329, 3, 2], y=[25329, 1])\n"
     ]
    },
    {
     "name": "stderr",
     "output_type": "stream",
     "text": [
      "Processing result_dic:  89%|████████▊ | 398/449 [12:11<01:32,  1.81s/dataframe]"
     ]
    },
    {
     "name": "stdout",
     "output_type": "stream",
     "text": [
      "Data(edge_index=[2, 83116], num_nodes=25329, x=[25329, 15], edge_attr=[83116, 1], pos=[25329, 3, 2], y=[25329, 1])\n"
     ]
    },
    {
     "name": "stderr",
     "output_type": "stream",
     "text": [
      "Processing result_dic:  89%|████████▉ | 399/449 [12:12<01:31,  1.83s/dataframe]"
     ]
    },
    {
     "name": "stdout",
     "output_type": "stream",
     "text": [
      "Data(edge_index=[2, 83116], num_nodes=25329, x=[25329, 15], edge_attr=[83116, 1], pos=[25329, 3, 2], y=[25329, 1])\n"
     ]
    },
    {
     "name": "stderr",
     "output_type": "stream",
     "text": [
      "Processing result_dic:  89%|████████▉ | 400/449 [12:14<01:28,  1.81s/dataframe]"
     ]
    },
    {
     "name": "stdout",
     "output_type": "stream",
     "text": [
      "Data(edge_index=[2, 83116], num_nodes=25329, x=[25329, 15], edge_attr=[83116, 1], pos=[25329, 3, 2], y=[25329, 1])\n"
     ]
    },
    {
     "name": "stderr",
     "output_type": "stream",
     "text": [
      "Processing result_dic:  89%|████████▉ | 401/449 [12:16<01:27,  1.83s/dataframe]"
     ]
    },
    {
     "name": "stdout",
     "output_type": "stream",
     "text": [
      "Data(edge_index=[2, 83116], num_nodes=25329, x=[25329, 15], edge_attr=[83116, 1], pos=[25329, 3, 2], y=[25329, 1])\n"
     ]
    },
    {
     "name": "stderr",
     "output_type": "stream",
     "text": [
      "Processing result_dic:  90%|████████▉ | 402/449 [12:18<01:24,  1.80s/dataframe]"
     ]
    },
    {
     "name": "stdout",
     "output_type": "stream",
     "text": [
      "Data(edge_index=[2, 83116], num_nodes=25329, x=[25329, 15], edge_attr=[83116, 1], pos=[25329, 3, 2], y=[25329, 1])\n"
     ]
    },
    {
     "name": "stderr",
     "output_type": "stream",
     "text": [
      "Processing result_dic:  90%|████████▉ | 403/449 [12:20<01:23,  1.82s/dataframe]"
     ]
    },
    {
     "name": "stdout",
     "output_type": "stream",
     "text": [
      "Data(edge_index=[2, 83116], num_nodes=25329, x=[25329, 15], edge_attr=[83116, 1], pos=[25329, 3, 2], y=[25329, 1])\n"
     ]
    },
    {
     "name": "stderr",
     "output_type": "stream",
     "text": [
      "Processing result_dic:  90%|████████▉ | 404/449 [12:21<01:20,  1.80s/dataframe]"
     ]
    },
    {
     "name": "stdout",
     "output_type": "stream",
     "text": [
      "Data(edge_index=[2, 83116], num_nodes=25329, x=[25329, 15], edge_attr=[83116, 1], pos=[25329, 3, 2], y=[25329, 1])\n"
     ]
    },
    {
     "name": "stderr",
     "output_type": "stream",
     "text": [
      "Processing result_dic:  90%|█████████ | 405/449 [12:23<01:19,  1.82s/dataframe]"
     ]
    },
    {
     "name": "stdout",
     "output_type": "stream",
     "text": [
      "Data(edge_index=[2, 83116], num_nodes=25329, x=[25329, 15], edge_attr=[83116, 1], pos=[25329, 3, 2], y=[25329, 1])\n"
     ]
    },
    {
     "name": "stderr",
     "output_type": "stream",
     "text": [
      "Processing result_dic:  90%|█████████ | 406/449 [12:25<01:17,  1.80s/dataframe]"
     ]
    },
    {
     "name": "stdout",
     "output_type": "stream",
     "text": [
      "Data(edge_index=[2, 83116], num_nodes=25329, x=[25329, 15], edge_attr=[83116, 1], pos=[25329, 3, 2], y=[25329, 1])\n"
     ]
    },
    {
     "name": "stderr",
     "output_type": "stream",
     "text": [
      "Processing result_dic:  91%|█████████ | 407/449 [12:27<01:16,  1.81s/dataframe]"
     ]
    },
    {
     "name": "stdout",
     "output_type": "stream",
     "text": [
      "Data(edge_index=[2, 83116], num_nodes=25329, x=[25329, 15], edge_attr=[83116, 1], pos=[25329, 3, 2], y=[25329, 1])\n"
     ]
    },
    {
     "name": "stderr",
     "output_type": "stream",
     "text": [
      "Processing result_dic:  91%|█████████ | 408/449 [12:29<01:16,  1.86s/dataframe]"
     ]
    },
    {
     "name": "stdout",
     "output_type": "stream",
     "text": [
      "Data(edge_index=[2, 83116], num_nodes=25329, x=[25329, 15], edge_attr=[83116, 1], pos=[25329, 3, 2], y=[25329, 1])\n"
     ]
    },
    {
     "name": "stderr",
     "output_type": "stream",
     "text": [
      "Processing result_dic:  91%|█████████ | 409/449 [12:31<01:13,  1.83s/dataframe]"
     ]
    },
    {
     "name": "stdout",
     "output_type": "stream",
     "text": [
      "Data(edge_index=[2, 83116], num_nodes=25329, x=[25329, 15], edge_attr=[83116, 1], pos=[25329, 3, 2], y=[25329, 1])\n"
     ]
    },
    {
     "name": "stderr",
     "output_type": "stream",
     "text": [
      "Processing result_dic:  91%|█████████▏| 410/449 [12:32<01:12,  1.85s/dataframe]"
     ]
    },
    {
     "name": "stdout",
     "output_type": "stream",
     "text": [
      "Data(edge_index=[2, 83116], num_nodes=25329, x=[25329, 15], edge_attr=[83116, 1], pos=[25329, 3, 2], y=[25329, 1])\n"
     ]
    },
    {
     "name": "stderr",
     "output_type": "stream",
     "text": [
      "Processing result_dic:  92%|█████████▏| 411/449 [12:34<01:10,  1.86s/dataframe]"
     ]
    },
    {
     "name": "stdout",
     "output_type": "stream",
     "text": [
      "Data(edge_index=[2, 83116], num_nodes=25329, x=[25329, 15], edge_attr=[83116, 1], pos=[25329, 3, 2], y=[25329, 1])\n"
     ]
    },
    {
     "name": "stderr",
     "output_type": "stream",
     "text": [
      "Processing result_dic:  92%|█████████▏| 412/449 [12:36<01:09,  1.87s/dataframe]"
     ]
    },
    {
     "name": "stdout",
     "output_type": "stream",
     "text": [
      "Data(edge_index=[2, 83116], num_nodes=25329, x=[25329, 15], edge_attr=[83116, 1], pos=[25329, 3, 2], y=[25329, 1])\n"
     ]
    },
    {
     "name": "stderr",
     "output_type": "stream",
     "text": [
      "Processing result_dic:  92%|█████████▏| 413/449 [12:38<01:06,  1.84s/dataframe]"
     ]
    },
    {
     "name": "stdout",
     "output_type": "stream",
     "text": [
      "Data(edge_index=[2, 83116], num_nodes=25329, x=[25329, 15], edge_attr=[83116, 1], pos=[25329, 3, 2], y=[25329, 1])\n"
     ]
    },
    {
     "name": "stderr",
     "output_type": "stream",
     "text": [
      "Processing result_dic:  92%|█████████▏| 414/449 [12:40<01:03,  1.81s/dataframe]"
     ]
    },
    {
     "name": "stdout",
     "output_type": "stream",
     "text": [
      "Data(edge_index=[2, 83116], num_nodes=25329, x=[25329, 15], edge_attr=[83116, 1], pos=[25329, 3, 2], y=[25329, 1])\n"
     ]
    },
    {
     "name": "stderr",
     "output_type": "stream",
     "text": [
      "Processing result_dic:  92%|█████████▏| 415/449 [12:42<01:02,  1.83s/dataframe]"
     ]
    },
    {
     "name": "stdout",
     "output_type": "stream",
     "text": [
      "Data(edge_index=[2, 83116], num_nodes=25329, x=[25329, 15], edge_attr=[83116, 1], pos=[25329, 3, 2], y=[25329, 1])\n"
     ]
    },
    {
     "name": "stderr",
     "output_type": "stream",
     "text": [
      "Processing result_dic:  93%|█████████▎| 416/449 [12:43<00:59,  1.80s/dataframe]"
     ]
    },
    {
     "name": "stdout",
     "output_type": "stream",
     "text": [
      "Data(edge_index=[2, 83116], num_nodes=25329, x=[25329, 15], edge_attr=[83116, 1], pos=[25329, 3, 2], y=[25329, 1])\n"
     ]
    },
    {
     "name": "stderr",
     "output_type": "stream",
     "text": [
      "Processing result_dic:  93%|█████████▎| 417/449 [12:45<00:58,  1.83s/dataframe]"
     ]
    },
    {
     "name": "stdout",
     "output_type": "stream",
     "text": [
      "Data(edge_index=[2, 83116], num_nodes=25329, x=[25329, 15], edge_attr=[83116, 1], pos=[25329, 3, 2], y=[25329, 1])\n"
     ]
    },
    {
     "name": "stderr",
     "output_type": "stream",
     "text": [
      "Processing result_dic:  93%|█████████▎| 418/449 [12:47<00:55,  1.81s/dataframe]"
     ]
    },
    {
     "name": "stdout",
     "output_type": "stream",
     "text": [
      "Data(edge_index=[2, 83116], num_nodes=25329, x=[25329, 15], edge_attr=[83116, 1], pos=[25329, 3, 2], y=[25329, 1])\n"
     ]
    },
    {
     "name": "stderr",
     "output_type": "stream",
     "text": [
      "Processing result_dic:  93%|█████████▎| 419/449 [12:49<00:54,  1.83s/dataframe]"
     ]
    },
    {
     "name": "stdout",
     "output_type": "stream",
     "text": [
      "Data(edge_index=[2, 83116], num_nodes=25329, x=[25329, 15], edge_attr=[83116, 1], pos=[25329, 3, 2], y=[25329, 1])\n"
     ]
    },
    {
     "name": "stderr",
     "output_type": "stream",
     "text": [
      "Processing result_dic:  94%|█████████▎| 420/449 [12:51<00:53,  1.83s/dataframe]"
     ]
    },
    {
     "name": "stdout",
     "output_type": "stream",
     "text": [
      "Data(edge_index=[2, 83116], num_nodes=25329, x=[25329, 15], edge_attr=[83116, 1], pos=[25329, 3, 2], y=[25329, 1])\n"
     ]
    },
    {
     "name": "stderr",
     "output_type": "stream",
     "text": [
      "Processing result_dic:  94%|█████████▍| 421/449 [12:52<00:50,  1.81s/dataframe]"
     ]
    },
    {
     "name": "stdout",
     "output_type": "stream",
     "text": [
      "Data(edge_index=[2, 83116], num_nodes=25329, x=[25329, 15], edge_attr=[83116, 1], pos=[25329, 3, 2], y=[25329, 1])\n"
     ]
    },
    {
     "name": "stderr",
     "output_type": "stream",
     "text": [
      "Processing result_dic:  94%|█████████▍| 422/449 [12:54<00:49,  1.83s/dataframe]"
     ]
    },
    {
     "name": "stdout",
     "output_type": "stream",
     "text": [
      "Data(edge_index=[2, 83116], num_nodes=25329, x=[25329, 15], edge_attr=[83116, 1], pos=[25329, 3, 2], y=[25329, 1])\n"
     ]
    },
    {
     "name": "stderr",
     "output_type": "stream",
     "text": [
      "Processing result_dic:  94%|█████████▍| 423/449 [12:56<00:46,  1.80s/dataframe]"
     ]
    },
    {
     "name": "stdout",
     "output_type": "stream",
     "text": [
      "Data(edge_index=[2, 83116], num_nodes=25329, x=[25329, 15], edge_attr=[83116, 1], pos=[25329, 3, 2], y=[25329, 1])\n"
     ]
    },
    {
     "name": "stderr",
     "output_type": "stream",
     "text": [
      "Processing result_dic:  94%|█████████▍| 424/449 [12:58<00:45,  1.83s/dataframe]"
     ]
    },
    {
     "name": "stdout",
     "output_type": "stream",
     "text": [
      "Data(edge_index=[2, 83116], num_nodes=25329, x=[25329, 15], edge_attr=[83116, 1], pos=[25329, 3, 2], y=[25329, 1])\n"
     ]
    },
    {
     "name": "stderr",
     "output_type": "stream",
     "text": [
      "Processing result_dic:  95%|█████████▍| 425/449 [13:00<00:43,  1.81s/dataframe]"
     ]
    },
    {
     "name": "stdout",
     "output_type": "stream",
     "text": [
      "Data(edge_index=[2, 83116], num_nodes=25329, x=[25329, 15], edge_attr=[83116, 1], pos=[25329, 3, 2], y=[25329, 1])\n"
     ]
    },
    {
     "name": "stderr",
     "output_type": "stream",
     "text": [
      "Processing result_dic:  95%|█████████▍| 426/449 [13:02<00:42,  1.83s/dataframe]"
     ]
    },
    {
     "name": "stdout",
     "output_type": "stream",
     "text": [
      "Data(edge_index=[2, 83116], num_nodes=25329, x=[25329, 15], edge_attr=[83116, 1], pos=[25329, 3, 2], y=[25329, 1])\n"
     ]
    },
    {
     "name": "stderr",
     "output_type": "stream",
     "text": [
      "Processing result_dic:  95%|█████████▌| 427/449 [13:03<00:39,  1.80s/dataframe]"
     ]
    },
    {
     "name": "stdout",
     "output_type": "stream",
     "text": [
      "Data(edge_index=[2, 83116], num_nodes=25329, x=[25329, 15], edge_attr=[83116, 1], pos=[25329, 3, 2], y=[25329, 1])\n"
     ]
    },
    {
     "name": "stderr",
     "output_type": "stream",
     "text": [
      "Processing result_dic:  95%|█████████▌| 428/449 [13:05<00:38,  1.85s/dataframe]"
     ]
    },
    {
     "name": "stdout",
     "output_type": "stream",
     "text": [
      "Data(edge_index=[2, 83116], num_nodes=25329, x=[25329, 15], edge_attr=[83116, 1], pos=[25329, 3, 2], y=[25329, 1])\n"
     ]
    },
    {
     "name": "stderr",
     "output_type": "stream",
     "text": [
      "Processing result_dic:  96%|█████████▌| 429/449 [13:07<00:36,  1.82s/dataframe]"
     ]
    },
    {
     "name": "stdout",
     "output_type": "stream",
     "text": [
      "Data(edge_index=[2, 83116], num_nodes=25329, x=[25329, 15], edge_attr=[83116, 1], pos=[25329, 3, 2], y=[25329, 1])\n"
     ]
    },
    {
     "name": "stderr",
     "output_type": "stream",
     "text": [
      "Processing result_dic:  96%|█████████▌| 430/449 [13:09<00:34,  1.80s/dataframe]"
     ]
    },
    {
     "name": "stdout",
     "output_type": "stream",
     "text": [
      "Data(edge_index=[2, 83116], num_nodes=25329, x=[25329, 15], edge_attr=[83116, 1], pos=[25329, 3, 2], y=[25329, 1])\n"
     ]
    },
    {
     "name": "stderr",
     "output_type": "stream",
     "text": [
      "Processing result_dic:  96%|█████████▌| 431/449 [13:11<00:32,  1.83s/dataframe]"
     ]
    },
    {
     "name": "stdout",
     "output_type": "stream",
     "text": [
      "Data(edge_index=[2, 83116], num_nodes=25329, x=[25329, 15], edge_attr=[83116, 1], pos=[25329, 3, 2], y=[25329, 1])\n"
     ]
    },
    {
     "name": "stderr",
     "output_type": "stream",
     "text": [
      "Processing result_dic:  96%|█████████▌| 432/449 [13:12<00:30,  1.80s/dataframe]"
     ]
    },
    {
     "name": "stdout",
     "output_type": "stream",
     "text": [
      "Data(edge_index=[2, 83116], num_nodes=25329, x=[25329, 15], edge_attr=[83116, 1], pos=[25329, 3, 2], y=[25329, 1])\n"
     ]
    },
    {
     "name": "stderr",
     "output_type": "stream",
     "text": [
      "Processing result_dic:  96%|█████████▋| 433/449 [13:14<00:29,  1.82s/dataframe]"
     ]
    },
    {
     "name": "stdout",
     "output_type": "stream",
     "text": [
      "Data(edge_index=[2, 83116], num_nodes=25329, x=[25329, 15], edge_attr=[83116, 1], pos=[25329, 3, 2], y=[25329, 1])\n"
     ]
    },
    {
     "name": "stderr",
     "output_type": "stream",
     "text": [
      "Processing result_dic:  97%|█████████▋| 434/449 [13:16<00:26,  1.80s/dataframe]"
     ]
    },
    {
     "name": "stdout",
     "output_type": "stream",
     "text": [
      "Data(edge_index=[2, 83116], num_nodes=25329, x=[25329, 15], edge_attr=[83116, 1], pos=[25329, 3, 2], y=[25329, 1])\n"
     ]
    },
    {
     "name": "stderr",
     "output_type": "stream",
     "text": [
      "Processing result_dic:  97%|█████████▋| 435/449 [13:18<00:25,  1.82s/dataframe]"
     ]
    },
    {
     "name": "stdout",
     "output_type": "stream",
     "text": [
      "Data(edge_index=[2, 83116], num_nodes=25329, x=[25329, 15], edge_attr=[83116, 1], pos=[25329, 3, 2], y=[25329, 1])\n"
     ]
    },
    {
     "name": "stderr",
     "output_type": "stream",
     "text": [
      "Processing result_dic:  97%|█████████▋| 436/449 [13:20<00:23,  1.80s/dataframe]"
     ]
    },
    {
     "name": "stdout",
     "output_type": "stream",
     "text": [
      "Data(edge_index=[2, 83116], num_nodes=25329, x=[25329, 15], edge_attr=[83116, 1], pos=[25329, 3, 2], y=[25329, 1])\n"
     ]
    },
    {
     "name": "stderr",
     "output_type": "stream",
     "text": [
      "Processing result_dic:  97%|█████████▋| 437/449 [13:22<00:22,  1.86s/dataframe]"
     ]
    },
    {
     "name": "stdout",
     "output_type": "stream",
     "text": [
      "Data(edge_index=[2, 83116], num_nodes=25329, x=[25329, 15], edge_attr=[83116, 1], pos=[25329, 3, 2], y=[25329, 1])\n"
     ]
    },
    {
     "name": "stderr",
     "output_type": "stream",
     "text": [
      "Processing result_dic:  98%|█████████▊| 438/449 [13:23<00:20,  1.82s/dataframe]"
     ]
    },
    {
     "name": "stdout",
     "output_type": "stream",
     "text": [
      "Data(edge_index=[2, 83116], num_nodes=25329, x=[25329, 15], edge_attr=[83116, 1], pos=[25329, 3, 2], y=[25329, 1])\n"
     ]
    },
    {
     "name": "stderr",
     "output_type": "stream",
     "text": [
      "Processing result_dic:  98%|█████████▊| 439/449 [13:25<00:18,  1.84s/dataframe]"
     ]
    },
    {
     "name": "stdout",
     "output_type": "stream",
     "text": [
      "Data(edge_index=[2, 83116], num_nodes=25329, x=[25329, 15], edge_attr=[83116, 1], pos=[25329, 3, 2], y=[25329, 1])\n"
     ]
    },
    {
     "name": "stderr",
     "output_type": "stream",
     "text": [
      "Processing result_dic:  98%|█████████▊| 440/449 [13:27<00:16,  1.82s/dataframe]"
     ]
    },
    {
     "name": "stdout",
     "output_type": "stream",
     "text": [
      "Data(edge_index=[2, 83116], num_nodes=25329, x=[25329, 15], edge_attr=[83116, 1], pos=[25329, 3, 2], y=[25329, 1])\n"
     ]
    },
    {
     "name": "stderr",
     "output_type": "stream",
     "text": [
      "Processing result_dic:  98%|█████████▊| 441/449 [13:29<00:14,  1.80s/dataframe]"
     ]
    },
    {
     "name": "stdout",
     "output_type": "stream",
     "text": [
      "Data(edge_index=[2, 83116], num_nodes=25329, x=[25329, 15], edge_attr=[83116, 1], pos=[25329, 3, 2], y=[25329, 1])\n"
     ]
    },
    {
     "name": "stderr",
     "output_type": "stream",
     "text": [
      "Processing result_dic:  98%|█████████▊| 442/449 [13:31<00:12,  1.83s/dataframe]"
     ]
    },
    {
     "name": "stdout",
     "output_type": "stream",
     "text": [
      "Data(edge_index=[2, 83116], num_nodes=25329, x=[25329, 15], edge_attr=[83116, 1], pos=[25329, 3, 2], y=[25329, 1])\n"
     ]
    },
    {
     "name": "stderr",
     "output_type": "stream",
     "text": [
      "Processing result_dic:  99%|█████████▊| 443/449 [13:32<00:10,  1.81s/dataframe]"
     ]
    },
    {
     "name": "stdout",
     "output_type": "stream",
     "text": [
      "Data(edge_index=[2, 83116], num_nodes=25329, x=[25329, 15], edge_attr=[83116, 1], pos=[25329, 3, 2], y=[25329, 1])\n"
     ]
    },
    {
     "name": "stderr",
     "output_type": "stream",
     "text": [
      "Processing result_dic:  99%|█████████▉| 444/449 [13:34<00:09,  1.83s/dataframe]"
     ]
    },
    {
     "name": "stdout",
     "output_type": "stream",
     "text": [
      "Data(edge_index=[2, 83116], num_nodes=25329, x=[25329, 15], edge_attr=[83116, 1], pos=[25329, 3, 2], y=[25329, 1])\n"
     ]
    },
    {
     "name": "stderr",
     "output_type": "stream",
     "text": [
      "Processing result_dic:  99%|█████████▉| 445/449 [13:36<00:07,  1.84s/dataframe]"
     ]
    },
    {
     "name": "stdout",
     "output_type": "stream",
     "text": [
      "Data(edge_index=[2, 83116], num_nodes=25329, x=[25329, 15], edge_attr=[83116, 1], pos=[25329, 3, 2], y=[25329, 1])\n"
     ]
    },
    {
     "name": "stderr",
     "output_type": "stream",
     "text": [
      "Processing result_dic:  99%|█████████▉| 446/449 [13:38<00:05,  1.85s/dataframe]"
     ]
    },
    {
     "name": "stdout",
     "output_type": "stream",
     "text": [
      "Data(edge_index=[2, 83116], num_nodes=25329, x=[25329, 15], edge_attr=[83116, 1], pos=[25329, 3, 2], y=[25329, 1])\n"
     ]
    },
    {
     "name": "stderr",
     "output_type": "stream",
     "text": [
      "Processing result_dic: 100%|█████████▉| 447/449 [13:40<00:03,  1.82s/dataframe]"
     ]
    },
    {
     "name": "stdout",
     "output_type": "stream",
     "text": [
      "Data(edge_index=[2, 83116], num_nodes=25329, x=[25329, 15], edge_attr=[83116, 1], pos=[25329, 3, 2], y=[25329, 1])\n"
     ]
    },
    {
     "name": "stderr",
     "output_type": "stream",
     "text": [
      "Processing result_dic: 100%|█████████▉| 448/449 [13:42<00:01,  1.80s/dataframe]"
     ]
    },
    {
     "name": "stdout",
     "output_type": "stream",
     "text": [
      "Data(edge_index=[2, 83116], num_nodes=25329, x=[25329, 15], edge_attr=[83116, 1], pos=[25329, 3, 2], y=[25329, 1])\n"
     ]
    },
    {
     "name": "stderr",
     "output_type": "stream",
     "text": [
      "Processing result_dic: 100%|██████████| 449/449 [13:43<00:00,  1.84s/dataframe]"
     ]
    },
    {
     "name": "stdout",
     "output_type": "stream",
     "text": [
      "Data(edge_index=[2, 83116], num_nodes=25329, x=[25329, 15], edge_attr=[83116, 1], pos=[25329, 3, 2], y=[25329, 1])\n"
     ]
    },
    {
     "name": "stderr",
     "output_type": "stream",
     "text": [
      "\n"
     ]
    }
   ],
   "source": [
    "def process_result_dic(result_dic, result_dic_mode_stats):\n",
    "    datalist = []\n",
    "    linegraph_transformation = LineGraph()\n",
    "    \n",
    "    vol_base_case = links_gdf_final['vol_car'].values\n",
    "    capacity_base_case = np.where(links_gdf_final['modes'].str.contains('car'), links_gdf_final['capacity'], 0)\n",
    "    length = links_gdf_final['length'].values\n",
    "    freespeed_base_case = links_gdf_final['freespeed'].values\n",
    "    allowed_modes = encode_modes(links_gdf_final)\n",
    "    # close_homes = close_homes_tensor.to_dense()\n",
    "    edge_index = torch.tensor(edges_base, dtype=torch.long).t().contiguous()\n",
    "    x = torch.zeros((len(nodes), 1), dtype=torch.float)\n",
    "    data = Data(edge_index=edge_index, x=x)\n",
    "    \n",
    "    for key, df in tqdm(result_dic.items(), desc=\"Processing result_dic\", unit=\"dataframe\"):   \n",
    "        if isinstance(df, pd.DataFrame) and key != \"base_network_no_policies\":\n",
    "            gdf = prepare_gdf(df)\n",
    "            len_edges = len(gdf)\n",
    "            \n",
    "            capacities_new, capacity_reduction, highway, freespeed = get_basic_edge_attributes(capacity_base_case, gdf)\n",
    "            district_info, combined_tensor = compute_combined_tensor(vol_base_case, capacity_base_case, length, freespeed_base_case, allowed_modes, gdf, capacities_new, capacity_reduction, highway, freespeed)\n",
    "            \n",
    "            linegraph_data = linegraph_transformation(data)\n",
    "            linegraph_data.x = combined_tensor\n",
    "            linegraph_data.num_nodes = combined_tensor.shape[0]\n",
    "        \n",
    "            # add edge attributes: 1 if edge to district, 0 if edge to edge\n",
    "            edge_to_district_index, edge_to_district_attr = compute_edge_attributes(district_info, linegraph_data, len_edges)\n",
    "            if linegraph_data.edge_attr is None:\n",
    "                linegraph_data.edge_attr = torch.zeros((linegraph_data.edge_index.shape[1] - edge_to_district_index.shape[1], 1), dtype=torch.long)\n",
    "            linegraph_data.edge_attr = torch.cat([linegraph_data.edge_attr, edge_to_district_attr], dim=0)\n",
    "\n",
    "            # add node attributes: 1 if district, 0 if edge\n",
    "            num_edge_nodes, num_district_nodes, existing_feature_dim1, node_type_feature = compute_node_attributes(district_info, linegraph_data, len_edges)\n",
    "            if linegraph_data.x is None:\n",
    "                linegraph_data.x = torch.zeros((num_edge_nodes + num_district_nodes, existing_feature_dim1), dtype=torch.float)\n",
    "            # TODO check it\n",
    "\n",
    "            linegraph_data.x = torch.cat([linegraph_data.x, node_type_feature], dim=1)\n",
    "            \n",
    "            linegraph_data.pos = torch.cat([stacked_edge_geometries_tensor, district_centroids_tensor_padded], dim=0)\n",
    "            linegraph_data.y = compute_target_tensor(vol_base_case, gdf, district_info)\n",
    "                        \n",
    "            print(linegraph_data)\n",
    "            df_mode_stats = result_dic_mode_stats.get(key)\n",
    "            if df_mode_stats is not None:\n",
    "                numeric_cols = df_mode_stats.select_dtypes(include=[np.number]).columns\n",
    "                mode_stats_numeric = df_mode_stats[numeric_cols].astype(float)\n",
    "                mode_stats_tensor = torch.tensor(mode_stats_numeric.values, dtype=torch.float)\n",
    "                linegraph_data.mode_stats = mode_stats_tensor\n",
    "            \n",
    "            if linegraph_data.validate(raise_on_error=True):\n",
    "                datalist.append(linegraph_data)\n",
    "            else:\n",
    "                print(\"Invalid line graph data\")\n",
    "    return datalist\n",
    "\n",
    "# Call the function\n",
    "data_processed = process_result_dic(result_dic=result_dic_output_links, result_dic_mode_stats=result_dic_eqasim_trips)"
   ]
  },
  {
   "cell_type": "code",
   "execution_count": 26,
   "metadata": {},
   "outputs": [
    {
     "data": {
      "text/plain": [
       "tensor([[0.0000e+00, 0.0000e+00, 0.0000e+00,  ..., 1.0000e+00, 0.0000e+00,\n",
       "         0.0000e+00],\n",
       "        [0.0000e+00, 0.0000e+00, 0.0000e+00,  ..., 1.0000e+00, 0.0000e+00,\n",
       "         0.0000e+00],\n",
       "        [0.0000e+00, 0.0000e+00, 0.0000e+00,  ..., 1.0000e+00, 0.0000e+00,\n",
       "         0.0000e+00],\n",
       "        ...,\n",
       "        [0.0000e+00, 1.3720e+06, 1.3516e+06,  ..., 1.6200e+02, 7.2000e+01,\n",
       "         1.0000e+00],\n",
       "        [0.0000e+00, 1.7045e+06, 1.1653e+06,  ..., 4.9000e+01, 6.8000e+01,\n",
       "         1.0000e+00],\n",
       "        [0.0000e+00, 1.4299e+06, 1.4063e+06,  ..., 0.0000e+00, 4.6000e+01,\n",
       "         1.0000e+00]], dtype=torch.float64)"
      ]
     },
     "execution_count": 26,
     "metadata": {},
     "output_type": "execute_result"
    }
   ],
   "source": [
    "data_processed[0]['x']"
   ]
  },
  {
   "attachments": {},
   "cell_type": "markdown",
   "metadata": {},
   "source": [
    "## Save for further processing with GNN"
   ]
  },
  {
   "cell_type": "code",
   "execution_count": 27,
   "metadata": {},
   "outputs": [
    {
     "data": {
      "text/plain": [
       "448"
      ]
     },
     "execution_count": 27,
     "metadata": {},
     "output_type": "execute_result"
    }
   ],
   "source": [
    "len(data_processed)"
   ]
  },
  {
   "cell_type": "code",
   "execution_count": 24,
   "metadata": {},
   "outputs": [],
   "source": [
    "torch.save(data_processed, result_path)"
   ]
  },
  {
   "cell_type": "code",
   "execution_count": 25,
   "metadata": {},
   "outputs": [],
   "source": [
    "# plt.figure(figsize=(10, 6))\n",
    "# plt.scatter(persons_with_homes.geometry.x, persons_with_homes.geometry.y, s=1, color='blue', alpha=0.5)\n",
    "# plt.scatter(persons_with_home_within_linear_ring.geometry.x, persons_with_home_within_linear_ring.geometry.y, s=1, color='red', alpha=0.5)\n",
    "# plt.title('Locations of Persons with Homes')\n",
    "# plt.xlabel('Longitude')\n",
    "# plt.ylabel('Latitude')\n",
    "# plt.show()\n",
    "\n",
    "# from shapely.geometry import LineString\n",
    "# from shapely.geometry import MultiPolygon\n",
    "# import matplotlib.pyplot as plt\n",
    "\n",
    "# # Create a LineString\n",
    "# line = LineString([(10, 10), (20, 10)])\n",
    "\n",
    "# # Create a buffer around the line\n",
    "# buffered_line = line.buffer(2, cap_style=\"round\")\n",
    "\n",
    "# # Plot the original line and the buffered area\n",
    "# plt.figure(figsize=(8, 6))\n",
    "# x, y = line.xy\n",
    "# plt.plot(x, y, color='blue', label='Original Line')\n",
    "# if isinstance(buffered_line, MultiPolygon):\n",
    "#     for polygon in buffered_line:\n",
    "#         x, y = polygon.exterior.xy\n",
    "#         plt.fill(x, y, alpha=0.5, color='lightblue', label='Buffered Area')\n",
    "# else:\n",
    "#     x, y = buffered_line.exterior.xy\n",
    "#     plt.fill(x, y, alpha=0.5, color='lightblue', label='Buffered Area')\n",
    "\n",
    "# plt.title('Line with Buffered Area')\n",
    "# plt.xlabel('X-axis')\n",
    "# plt.ylabel('Y-axis')\n",
    "# plt.legend()\n",
    "# plt.grid()\n",
    "# plt.axis('equal')\n",
    "# plt.show()\n",
    "\n",
    "\n",
    "# def check_trips_equivalence(close_trips_start, close_trips_end):\n",
    "#     \"\"\"\n",
    "#     Check if close_trips_start and close_trips_end are equivalent.\n",
    "    \n",
    "#     Args:\n",
    "#     close_trips_start (list): List of tuples for start trips\n",
    "#     close_trips_end (list): List of tuples for end trips\n",
    "    \n",
    "#     Returns:\n",
    "#     bool: True if equivalent, False otherwise\n",
    "#     \"\"\"\n",
    "#     if len(close_trips_start) != len(close_trips_end):\n",
    "#         print(\"Lists have different lengths.\")\n",
    "#         return False\n",
    "    \n",
    "#     differences = []\n",
    "#     for i, (start, end) in enumerate(zip(close_trips_start, close_trips_end)):\n",
    "#         if start != end:\n",
    "#             differences.append((i, start, end))\n",
    "    \n",
    "#     if not differences:\n",
    "#         print(\"The lists are identical.\")\n",
    "#         return True\n",
    "#     else:\n",
    "#         print(f\"Found {len(differences)} differences:\")\n",
    "#         for diff in differences[:10]:  # Print first 10 differences\n",
    "#             print(f\"Index {diff[0]}: Start {diff[1]}, End {diff[2]}\")\n",
    "#         if len(differences) > 10:\n",
    "#             print(f\"... and {len(differences) - 10} more differences.\")\n",
    "#         return False\n",
    "\n",
    "# # Usage\n",
    "# are_equivalent = check_trips_equivalence(close_trips_start, close_trips_end)\n",
    "# print(f\"Are the trip lists equivalent? {are_equivalent}\")"
   ]
  }
 ],
 "metadata": {
  "kernelspec": {
   "display_name": "Paris_Analysis",
   "language": "python",
   "name": "python3"
  },
  "language_info": {
   "codemirror_mode": {
    "name": "ipython",
    "version": 3
   },
   "file_extension": ".py",
   "mimetype": "text/x-python",
   "name": "python",
   "nbconvert_exporter": "python",
   "pygments_lexer": "ipython3",
   "version": "3.10.11"
  },
  "orig_nbformat": 4
 },
 "nbformat": 4,
 "nbformat_minor": 2
}
