{
 "cells": [
  {
   "cell_type": "code",
   "execution_count": 1,
   "metadata": {},
   "outputs": [],
   "source": [
    "import os\n",
    "import glob\n",
    "import math\n",
    "import pickle\n",
    "\n",
    "import numpy as np\n",
    "import pandas as pd\n",
    "import geopandas as gpd\n",
    "import torch\n",
    "\n",
    "# import network_io as nio\n",
    "import processing_io as pio\n",
    "\n",
    "# Parameters to define\n",
    "is_for_1pm = True\n",
    "result_path = \"results/dataset_1pm_0-1400_more_features\"\n",
    "\n",
    "if is_for_1pm:\n",
    "    base_dir = '../../../../data/pop_1pm_with_policies/'\n",
    "    subdirs_pattern = os.path.join(base_dir, 'output_networks_*')\n",
    "    subdirs = list(set(glob.glob(subdirs_pattern)))\n",
    "    subdirs.sort()\n",
    "    base_output_links_no_policies = '../../../data/pop_1pm/output_1pm/'\n",
    "else:\n",
    "    base_path = '../../../../data/pop_1pct_with_policies/output_networks_100/'\n",
    "    network_folders = glob.glob(os.path.join(base_path, 'network_d_*'))\n",
    "    base_output_links_no_policies = '../../../../data/pop_1pct/output_1pct/'\n",
    "    \n",
    "gdf_basecase_mean = gpd.read_file('results/gdf_basecase_mean_pop_1pm.geojson')"
   ]
  },
  {
   "attachments": {},
   "cell_type": "markdown",
   "metadata": {},
   "source": [
    "## Process results\n",
    "\n",
    "Process the outputs of the simulations for further usage by GNN."
   ]
  },
  {
   "cell_type": "code",
   "execution_count": 2,
   "metadata": {},
   "outputs": [
    {
     "name": "stdout",
     "output_type": "stream",
     "text": [
      "Accessing folder: ../../../../data/pop_1pm_with_policies/output_networks_100\n",
      "101\n",
      "Accessing folder: ../../../../data/pop_1pm_with_policies/output_networks_1000\n",
      "100\n",
      "Accessing folder: ../../../../data/pop_1pm_with_policies/output_networks_1100\n",
      "100\n",
      "Accessing folder: ../../../../data/pop_1pm_with_policies/output_networks_1200\n",
      "100\n",
      "Accessing folder: ../../../../data/pop_1pm_with_policies/output_networks_1300\n",
      "100\n",
      "Accessing folder: ../../../../data/pop_1pm_with_policies/output_networks_1400\n",
      "100\n",
      "Accessing folder: ../../../../data/pop_1pm_with_policies/output_networks_200\n",
      "101\n",
      "Accessing folder: ../../../../data/pop_1pm_with_policies/output_networks_300\n",
      "100\n",
      "Accessing folder: ../../../../data/pop_1pm_with_policies/output_networks_400\n",
      "100\n",
      "Accessing folder: ../../../../data/pop_1pm_with_policies/output_networks_500\n",
      "100\n",
      "Accessing folder: ../../../../data/pop_1pm_with_policies/output_networks_600\n",
      "100\n",
      "Accessing folder: ../../../../data/pop_1pm_with_policies/output_networks_700\n",
      "100\n",
      "Accessing folder: ../../../../data/pop_1pm_with_policies/output_networks_800\n",
      "100\n",
      "Accessing folder: ../../../../data/pop_1pm_with_policies/output_networks_900\n",
      "100\n"
     ]
    }
   ],
   "source": [
    "# Read all network data into a dictionary of GeoDataFrames\n",
    "result_dic = {}\n",
    "result_dic_single_districts = {}\n",
    "base_network_no_policies = None\n",
    "\n",
    "if is_for_1pm:\n",
    "    # Loop through each subdirectory\n",
    "    for subdir in subdirs:\n",
    "        print(f'Accessing folder: {subdir}')\n",
    "        print(len(os.listdir(subdir)))\n",
    "        for network in os.listdir(subdir):\n",
    "            folder = os.path.join(subdir, network)\n",
    "            file_path = os.path.join(subdir, network)\n",
    "            if file_path.endswith(\".DS_Store\"):\n",
    "                continue\n",
    "            policy_key = pio.create_policy_key_1pm(network)\n",
    "            gdf = pio.read_output_links(file_path)\n",
    "            if (gdf is not None):\n",
    "                gdf_extended = pio.extend_geodataframe(gdf_base=gdf_basecase_mean, gdf_to_extend=gdf, column_to_extend='highway', new_column_name='highway')\n",
    "                gdf_extended = pio.extend_geodataframe(gdf_base=gdf_basecase_mean, gdf_to_extend=gdf_extended, column_to_extend='vol_car', new_column_name='vol_car_base_case')\n",
    "                result_dic[policy_key] = gdf_extended\n",
    "    base_network_no_policies = gdf_basecase_mean\n",
    "else:\n",
    "    for folder in network_folders:\n",
    "        policy_key = pio.create_policy_key_1pct(os.path.basename(folder))\n",
    "        try:\n",
    "            gdf = pio.read_output_links(folder)\n",
    "        except Exception:\n",
    "            print(f\"Error reading folder: {folder}\")\n",
    "        \n",
    "        if gdf is not None:\n",
    "            result_dic[policy_key] = gdf\n",
    "        is_single  = pio.is_single_district(os.path.basename(folder))\n",
    "        if is_single:\n",
    "            result_dic_single_districts[policy_key] = gdf\n",
    "        break\n",
    "        \n",
    "result_dic[\"base_network_no_policies\"] = base_network_no_policies"
   ]
  },
  {
   "attachments": {},
   "cell_type": "markdown",
   "metadata": {},
   "source": [
    "## Analyze results and plot"
   ]
  },
  {
   "cell_type": "code",
   "execution_count": 3,
   "metadata": {},
   "outputs": [],
   "source": [
    "# pio.analyze_geodataframes(result_dic=result_dic, consider_only_highway_edges=True)"
   ]
  },
  {
   "cell_type": "code",
   "execution_count": 4,
   "metadata": {},
   "outputs": [],
   "source": [
    "# pio.analyze_geodataframes(result_dic=result_dic, consider_only_highway_edges=False)"
   ]
  },
  {
   "cell_type": "code",
   "execution_count": 5,
   "metadata": {},
   "outputs": [],
   "source": [
    "# for policy_key, gdf in result_dic.items():\n",
    "#     if policy_key != \"base_network_no_policies\":\n",
    "#         gdf_extended = pio.extend_geodataframe(gdf_base=gdf_basecase_mean, gdf_to_extend=gdf, column_to_extend='vol_car', new_column_name='vol_car_base_case')\n",
    "#         result_dic[policy_key] = gdf_extended"
   ]
  },
  {
   "attachments": {},
   "cell_type": "markdown",
   "metadata": {},
   "source": [
    "## Save for further processing with GNN"
   ]
  },
  {
   "cell_type": "code",
   "execution_count": 6,
   "metadata": {},
   "outputs": [],
   "source": [
    "data_processed = pio.process_result_dic(result_dic)\n",
    "# data_processed_single_districts = pio.process_result_dic(result_dic_single_districts)\n",
    "\n",
    "torch.save(data_processed, result_path + '.pt')\n",
    "# torch.save(data_processed_single_districts, result_path + '_single_districts.pt')"
   ]
  },
  {
   "cell_type": "code",
   "execution_count": null,
   "metadata": {},
   "outputs": [],
   "source": [
    "# torch.set_printoptions(precision=4, sci_mode=False)"
   ]
  }
 ],
 "metadata": {
  "kernelspec": {
   "display_name": "Paris_Analysis",
   "language": "python",
   "name": "python3"
  },
  "language_info": {
   "codemirror_mode": {
    "name": "ipython",
    "version": 3
   },
   "file_extension": ".py",
   "mimetype": "text/x-python",
   "name": "python",
   "nbconvert_exporter": "python",
   "pygments_lexer": "ipython3",
   "version": "3.10.11"
  },
  "orig_nbformat": 4
 },
 "nbformat": 4,
 "nbformat_minor": 2
}
