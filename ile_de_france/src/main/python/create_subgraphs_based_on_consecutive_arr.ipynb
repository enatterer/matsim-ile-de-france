{
 "cells": [
  {
   "attachments": {},
   "cell_type": "markdown",
   "metadata": {},
   "source": [
    "# Abstract\n",
    "\n",
    "The goal of this notebook is to create 57 networks, in which policies have been introduced in Arrondissement 1, (1,2), (1,2,3), 2, (2,3), etc. \n",
    "The policies we are testing is a reduction capacity and a reduction in free flow speed. \n",
    "\n",
    "Clearer: The policies include:\n",
    "a. If the free flow speed is > 30, reduce it to 30. -> speed limit\n",
    "b. Capacity reduction: Reduce the capacity of the streets by half. \n",
    "\n",
    "\n",
    "Steps:\n",
    "1. Load the network and the districts to a gdf.\n",
    "2. Create 57 networks, in which each "
   ]
  },
  {
   "attachments": {},
   "cell_type": "markdown",
   "metadata": {},
   "source": [
    "## 1. Load the original network.xml.gz file"
   ]
  },
  {
   "cell_type": "code",
   "execution_count": 2,
   "metadata": {},
   "outputs": [],
   "source": [
    "import geopandas as gpd\n",
    "import network_io as nio\n",
    "import geopandas as gpd\n",
    "from shapely.geometry import LineString\n",
    "import pandas as pd\n",
    "import os"
   ]
  },
  {
   "cell_type": "code",
   "execution_count": 3,
   "metadata": {},
   "outputs": [],
   "source": [
    "# Load the XML.gz file and convert to GeoDataFrame\n",
    "file_path = '../../../data/pop_1pm/paris_1pm_network.xml.gz'\n",
    "df = nio.parse_network_xml_gz(file_path)\n",
    "gdf = gpd.GeoDataFrame(df, geometry=gpd.points_from_xy(df.x, df.y))\n",
    "gdf_4326 = gdf.set_crs(epsg=2154).to_crs(epsg=4326)\n",
    "\n",
    "# Display the GeoDataFrame to the user by printing the first few rows\n",
    "gdf.head()\n",
    "districts = gpd.read_file(\"../../../data/visualisation/districts_paris.geojson\")"
   ]
  },
  {
   "cell_type": "code",
   "execution_count": 4,
   "metadata": {},
   "outputs": [
    {
     "name": "stderr",
     "output_type": "stream",
     "text": [
      "/Users/elenanatterer/anaconda3/envs/Paris_Analysis/lib/python3.10/site-packages/IPython/core/interactiveshell.py:3448: FutureWarning: The `op` parameter is deprecated and will be removed in a future release. Please use the `predicate` parameter instead.\n",
      "  if await self.run_code(code, result, async_=asy):\n",
      "/Users/elenanatterer/anaconda3/envs/Paris_Analysis/lib/python3.10/site-packages/pandas/core/reshape/merge.py:1203: RuntimeWarning: invalid value encountered in cast\n",
      "  if not (lk == lk.astype(rk.dtype))[~np.isnan(lk)].all():\n"
     ]
    },
    {
     "data": {
      "text/html": [
       "<div>\n",
       "<style scoped>\n",
       "    .dataframe tbody tr th:only-of-type {\n",
       "        vertical-align: middle;\n",
       "    }\n",
       "\n",
       "    .dataframe tbody tr th {\n",
       "        vertical-align: top;\n",
       "    }\n",
       "\n",
       "    .dataframe thead th {\n",
       "        text-align: right;\n",
       "    }\n",
       "</style>\n",
       "<table border=\"1\" class=\"dataframe\">\n",
       "  <thead>\n",
       "    <tr style=\"text-align: right;\">\n",
       "      <th></th>\n",
       "      <th>id</th>\n",
       "      <th>from</th>\n",
       "      <th>to</th>\n",
       "      <th>length</th>\n",
       "      <th>freespeed</th>\n",
       "      <th>capacity</th>\n",
       "      <th>permlanes</th>\n",
       "      <th>oneway</th>\n",
       "      <th>modes</th>\n",
       "      <th>geometry</th>\n",
       "      <th>district</th>\n",
       "    </tr>\n",
       "  </thead>\n",
       "  <tbody>\n",
       "    <tr>\n",
       "      <th>0</th>\n",
       "      <td>100315</td>\n",
       "      <td>24972409</td>\n",
       "      <td>24972408</td>\n",
       "      <td>16.18125678991161</td>\n",
       "      <td>8.333333333333334</td>\n",
       "      <td>480.0</td>\n",
       "      <td>1.0</td>\n",
       "      <td>1</td>\n",
       "      <td>bus,car,car_passenger</td>\n",
       "      <td>LINESTRING (2.33869 48.85181, 2.33847 48.85181)</td>\n",
       "      <td>[6.0]</td>\n",
       "    </tr>\n",
       "    <tr>\n",
       "      <th>1</th>\n",
       "      <td>100316</td>\n",
       "      <td>5904976363</td>\n",
       "      <td>24983651</td>\n",
       "      <td>14.860209130036054</td>\n",
       "      <td>8.333333333333334</td>\n",
       "      <td>480.0</td>\n",
       "      <td>1.0</td>\n",
       "      <td>1</td>\n",
       "      <td>bus,car,car_passenger,pt</td>\n",
       "      <td>LINESTRING (2.33874 48.85242, 2.33872 48.85229)</td>\n",
       "      <td>[6.0]</td>\n",
       "    </tr>\n",
       "    <tr>\n",
       "      <th>2</th>\n",
       "      <td>100317</td>\n",
       "      <td>24983651</td>\n",
       "      <td>5904976363</td>\n",
       "      <td>14.860209130036054</td>\n",
       "      <td>8.333333333333334</td>\n",
       "      <td>960.0</td>\n",
       "      <td>2.0</td>\n",
       "      <td>1</td>\n",
       "      <td>bus,car,car_passenger,pt</td>\n",
       "      <td>LINESTRING (2.33872 48.85229, 2.33874 48.85242)</td>\n",
       "      <td>[6.0]</td>\n",
       "    </tr>\n",
       "    <tr>\n",
       "      <th>3</th>\n",
       "      <td>100321</td>\n",
       "      <td>664205947</td>\n",
       "      <td>24972376</td>\n",
       "      <td>22.264539971200314</td>\n",
       "      <td>8.333333333333334</td>\n",
       "      <td>960.0</td>\n",
       "      <td>2.0</td>\n",
       "      <td>1</td>\n",
       "      <td>car,car_passenger</td>\n",
       "      <td>LINESTRING (2.33994 48.85200, 2.33986 48.85181)</td>\n",
       "      <td>[6.0]</td>\n",
       "    </tr>\n",
       "    <tr>\n",
       "      <th>4</th>\n",
       "      <td>100324</td>\n",
       "      <td>24972376</td>\n",
       "      <td>24972375</td>\n",
       "      <td>64.85327605625626</td>\n",
       "      <td>8.333333333333334</td>\n",
       "      <td>480.0</td>\n",
       "      <td>1.0</td>\n",
       "      <td>1</td>\n",
       "      <td>bus,car,car_passenger</td>\n",
       "      <td>LINESTRING (2.33986 48.85181, 2.33909 48.85152)</td>\n",
       "      <td>[6.0]</td>\n",
       "    </tr>\n",
       "  </tbody>\n",
       "</table>\n",
       "</div>"
      ],
      "text/plain": [
       "       id        from          to              length          freespeed  \\\n",
       "0  100315    24972409    24972408   16.18125678991161  8.333333333333334   \n",
       "1  100316  5904976363    24983651  14.860209130036054  8.333333333333334   \n",
       "2  100317    24983651  5904976363  14.860209130036054  8.333333333333334   \n",
       "3  100321   664205947    24972376  22.264539971200314  8.333333333333334   \n",
       "4  100324    24972376    24972375   64.85327605625626  8.333333333333334   \n",
       "\n",
       "  capacity permlanes oneway                     modes  \\\n",
       "0    480.0       1.0      1     bus,car,car_passenger   \n",
       "1    480.0       1.0      1  bus,car,car_passenger,pt   \n",
       "2    960.0       2.0      1  bus,car,car_passenger,pt   \n",
       "3    960.0       2.0      1         car,car_passenger   \n",
       "4    480.0       1.0      1     bus,car,car_passenger   \n",
       "\n",
       "                                          geometry district  \n",
       "0  LINESTRING (2.33869 48.85181, 2.33847 48.85181)    [6.0]  \n",
       "1  LINESTRING (2.33874 48.85242, 2.33872 48.85229)    [6.0]  \n",
       "2  LINESTRING (2.33872 48.85229, 2.33874 48.85242)    [6.0]  \n",
       "3  LINESTRING (2.33994 48.85200, 2.33986 48.85181)    [6.0]  \n",
       "4  LINESTRING (2.33986 48.85181, 2.33909 48.85152)    [6.0]  "
      ]
     },
     "execution_count": 4,
     "metadata": {},
     "output_type": "execute_result"
    }
   ],
   "source": [
    "# Parse nodes and edges\n",
    "nodes_dict = nio.parse_nodes(file_path)\n",
    "df_edges = nio.parse_edges(file_path, nodes_dict)\n",
    "\n",
    "# Convert to GeoDataFrame and reproject\n",
    "gdf_edges = gpd.GeoDataFrame(df_edges, geometry='geometry', crs='EPSG:2154')\n",
    "gdf_edges_4326 = gdf_edges.to_crs(epsg=4326)\n",
    "\n",
    "# Spatial join to find districts overlapping with each edge\n",
    "gdf_edges_with_districts = gpd.sjoin(gdf_edges_4326, districts, how='left', op='intersects')\n",
    "\n",
    "# Group by edge and aggregate the district names\n",
    "gdf_edges_with_districts = gdf_edges_with_districts.groupby('id').agg({\n",
    "    'from': 'first',\n",
    "    'to': 'first',\n",
    "    'length': 'first',\n",
    "    'freespeed': 'first',\n",
    "    'capacity': 'first',\n",
    "    'permlanes': 'first',\n",
    "    'oneway': 'first',\n",
    "    'modes': 'first',\n",
    "    'geometry': 'first',\n",
    "    'c_ar': lambda x: list(x.dropna())\n",
    "}).reset_index()\n",
    "\n",
    "# Rename the aggregated column to 'district'\n",
    "gdf_edges_with_districts.rename(columns={'c_ar': 'district'}, inplace=True)\n",
    "\n",
    "# Display the resulting GeoDataFrame\n",
    "gdf_edges_with_districts.head()"
   ]
  },
  {
   "cell_type": "code",
   "execution_count": 5,
   "metadata": {},
   "outputs": [],
   "source": [
    "# # Filter for edges overlapping with at least two districts\n",
    "# filtered_edges_with_multiple_districts = gdf_edges_with_districts[gdf_edges_with_districts['district'].apply(len) ==0]\n",
    "\n",
    "# # Convert the filtered DataFrame to a GeoDataFrame\n",
    "# filtered_gdf_edges_with_multiple_districts = gpd.GeoDataFrame(filtered_edges_with_multiple_districts, geometry='geometry', crs='EPSG:4326')"
   ]
  },
  {
   "attachments": {},
   "cell_type": "markdown",
   "metadata": {},
   "source": [
    "## 2. Create networks"
   ]
  },
  {
   "cell_type": "code",
   "execution_count": 6,
   "metadata": {},
   "outputs": [],
   "source": [
    "# Convert freespeed and capacity to numeric values\n",
    "gdf_edges_with_districts['freespeed'] = pd.to_numeric(gdf_edges_with_districts['freespeed'], errors='coerce')\n",
    "gdf_edges_with_districts['capacity'] = pd.to_numeric(gdf_edges_with_districts['capacity'], errors='coerce')"
   ]
  },
  {
   "cell_type": "code",
   "execution_count": 7,
   "metadata": {},
   "outputs": [],
   "source": [
    "# Create 57 dataframes for districts 1, (1,2), (1,2,3), etc.\n",
    "# Create a list of district combinations\n",
    "district_combinations = []\n",
    "\n",
    "# Generate combinations of the form 1, (1,2), (1,2,3), ..., 2, (2,3), (2,3,4), ..., up to 20\n",
    "for i in range(1, 21):\n",
    "    district_combinations.append([i])\n",
    "    if i < 20:\n",
    "        district_combinations.append([i, i + 1])\n",
    "    if i < 19:\n",
    "        district_combinations.append([i, i + 1, i + 2])\n",
    "    if i < 18:\n",
    "        district_combinations.append([i, i + 1, i + 2, i + 3])\n",
    "    if i < 17:\n",
    "        district_combinations.append([i, i + 1, i + 2, i + 3, i + 4])\n",
    "    if i < 16:\n",
    "        district_combinations.append([i, i + 1, i + 2, i + 3, i + 4, i + 5])"
   ]
  },
  {
   "cell_type": "code",
   "execution_count": 8,
   "metadata": {},
   "outputs": [
    {
     "data": {
      "text/plain": [
       "105"
      ]
     },
     "execution_count": 8,
     "metadata": {},
     "output_type": "execute_result"
    }
   ],
   "source": [
    "len(district_combinations)"
   ]
  },
  {
   "attachments": {},
   "cell_type": "markdown",
   "metadata": {},
   "source": [
    "## 3. Here we integrate policies in the new dataframes"
   ]
  },
  {
   "cell_type": "code",
   "execution_count": 9,
   "metadata": {},
   "outputs": [],
   "source": [
    "dataframes = []\n",
    "for combination in district_combinations:\n",
    "    df_copy = gdf_edges_with_districts.copy()\n",
    "    df_copy['policy_introduced'] = df_copy.apply(\n",
    "        lambda row: 'car' in row['modes'] and any(d in row['district'] for d in combination),\n",
    "        axis=1\n",
    "    )    \n",
    "    # Modify freespeed and capacity based on the policy_introduced condition\n",
    "    df_copy.loc[df_copy['policy_introduced'], 'freespeed'] = df_copy.loc[df_copy['policy_introduced'], 'freespeed'].apply(lambda x: min(x, 8.3333333333))\n",
    "    df_copy.loc[df_copy['policy_introduced'], 'capacity'] = df_copy.loc[df_copy['policy_introduced'], 'capacity'] / 20\n",
    "    dataframes.append(df_copy)"
   ]
  },
  {
   "cell_type": "code",
   "execution_count": 10,
   "metadata": {},
   "outputs": [],
   "source": [
    "# Directory to save the files\n",
    "output_dir = '../../../data/pop_1pm_policies_new/networks/'\n",
    "os.makedirs(output_dir, exist_ok=True)\n",
    "\n",
    "# Create and save the networks\n",
    "for i, df in enumerate(dataframes):\n",
    "    # Determine the filename based on the combination\n",
    "    combination = district_combinations[i]\n",
    "    if len(combination) == 1:\n",
    "        filename = f\"network_d_{combination[0]}.xml.gz\"\n",
    "    else:\n",
    "        filename = f\"network_d_{'_'.join(map(str, combination))}.xml.gz\"\n",
    "    \n",
    "    # Convert the DataFrame back to XML\n",
    "    xml_tree = nio.dataframe_to_xml(df, nodes_dict)\n",
    "    \n",
    "    # Write the XML to a compressed .gz file\n",
    "    file_path = os.path.join(output_dir, filename)\n",
    "    nio.write_xml_to_gz(xml_tree, file_path)\n",
    "\n",
    "# Example: Display the file paths of the saved files\n",
    "output_files = [os.path.join(output_dir, f) for f in os.listdir(output_dir)]\n",
    "# output_files"
   ]
  }
 ],
 "metadata": {
  "kernelspec": {
   "display_name": "Paris_Analysis",
   "language": "python",
   "name": "python3"
  },
  "language_info": {
   "codemirror_mode": {
    "name": "ipython",
    "version": 3
   },
   "file_extension": ".py",
   "mimetype": "text/x-python",
   "name": "python",
   "nbconvert_exporter": "python",
   "pygments_lexer": "ipython3",
   "version": "3.10.11"
  },
  "orig_nbformat": 4
 },
 "nbformat": 4,
 "nbformat_minor": 2
}
